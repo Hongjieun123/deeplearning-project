{
  "nbformat": 4,
  "nbformat_minor": 0,
  "metadata": {
    "colab": {
      "name": "CNN_example_3_1(first_conv_layer_3x3,_second_conv_layer_3x3, third conv layer 3x3_filter_num_=_32,32,32)",
      "provenance": [],
      "authorship_tag": "ABX9TyPOs1w/VLrTExfRS9g8ZJfx",
      "include_colab_link": true
    },
    "kernelspec": {
      "name": "python3",
      "display_name": "Python 3"
    }
  },
  "cells": [
    {
      "cell_type": "markdown",
      "metadata": {
        "id": "view-in-github",
        "colab_type": "text"
      },
      "source": [
        "<a href=\"https://colab.research.google.com/github/Hongjieun123/deeplearning-project/blob/master/CNN_example_3_1(first_conv_layer_3x3%2C_second_conv_layer_3x3%2C_third_conv_layer_3x3_filter_num_%3D_32%2C32%2C32).ipynb\" target=\"_parent\"><img src=\"https://colab.research.google.com/assets/colab-badge.svg\" alt=\"Open In Colab\"/></a>"
      ]
    },
    {
      "cell_type": "code",
      "metadata": {
        "id": "9TLAp8-yg6xn",
        "colab_type": "code",
        "colab": {
          "base_uri": "https://localhost:8080/",
          "height": 36
        },
        "outputId": "12299a79-ab56-4558-860b-192e3056fe55"
      },
      "source": [
        "# Colab에서 tensorflow 1.x 실행\n",
        "%tensorflow_version 1.x"
      ],
      "execution_count": 1,
      "outputs": [
        {
          "output_type": "stream",
          "text": [
            "TensorFlow 1.x selected.\n"
          ],
          "name": "stdout"
        }
      ]
    },
    {
      "cell_type": "code",
      "metadata": {
        "id": "4fb19Ozcfr7e",
        "colab_type": "code",
        "colab": {
          "base_uri": "https://localhost:8080/",
          "height": 709
        },
        "outputId": "eae3625e-2f0e-40fd-f3dd-b27babad2067"
      },
      "source": [
        "import tensorflow as tf\n",
        "from tensorflow.examples.tutorials.mnist import input_data\n",
        "import numpy as np\n",
        "from datetime import datetime\n",
        "\n",
        "mnist = input_data.read_data_sets('MNIST_data/', one_hot=True)\n",
        "\n",
        "print('\\n', mnist.train.num_examples, mnist.test.num_examples, mnist.validation.num_examples)\n",
        "\n",
        "print('\\ntrain image shape = ', np.shape(mnist.train.images))\n",
        "print('train label shape = ', np.shape(mnist.train.labels))\n",
        "print('test image shape = ', np.shape(mnist.test.images))\n",
        "print('test label shape = ', np.shape(mnist.test.labels))"
      ],
      "execution_count": 2,
      "outputs": [
        {
          "output_type": "stream",
          "text": [
            "WARNING:tensorflow:From <ipython-input-2-b4762e5f4068>:6: read_data_sets (from tensorflow.contrib.learn.python.learn.datasets.mnist) is deprecated and will be removed in a future version.\n",
            "Instructions for updating:\n",
            "Please use alternatives such as official/mnist/dataset.py from tensorflow/models.\n",
            "WARNING:tensorflow:From /tensorflow-1.15.2/python3.6/tensorflow_core/contrib/learn/python/learn/datasets/mnist.py:260: maybe_download (from tensorflow.contrib.learn.python.learn.datasets.base) is deprecated and will be removed in a future version.\n",
            "Instructions for updating:\n",
            "Please write your own downloading logic.\n",
            "WARNING:tensorflow:From /tensorflow-1.15.2/python3.6/tensorflow_core/contrib/learn/python/learn/datasets/base.py:252: _internal_retry.<locals>.wrap.<locals>.wrapped_fn (from tensorflow.contrib.learn.python.learn.datasets.base) is deprecated and will be removed in a future version.\n",
            "Instructions for updating:\n",
            "Please use urllib or similar directly.\n",
            "Successfully downloaded train-images-idx3-ubyte.gz 9912422 bytes.\n",
            "WARNING:tensorflow:From /tensorflow-1.15.2/python3.6/tensorflow_core/contrib/learn/python/learn/datasets/mnist.py:262: extract_images (from tensorflow.contrib.learn.python.learn.datasets.mnist) is deprecated and will be removed in a future version.\n",
            "Instructions for updating:\n",
            "Please use tf.data to implement this functionality.\n",
            "Extracting MNIST_data/train-images-idx3-ubyte.gz\n",
            "Successfully downloaded train-labels-idx1-ubyte.gz 28881 bytes.\n",
            "WARNING:tensorflow:From /tensorflow-1.15.2/python3.6/tensorflow_core/contrib/learn/python/learn/datasets/mnist.py:267: extract_labels (from tensorflow.contrib.learn.python.learn.datasets.mnist) is deprecated and will be removed in a future version.\n",
            "Instructions for updating:\n",
            "Please use tf.data to implement this functionality.\n",
            "Extracting MNIST_data/train-labels-idx1-ubyte.gz\n",
            "WARNING:tensorflow:From /tensorflow-1.15.2/python3.6/tensorflow_core/contrib/learn/python/learn/datasets/mnist.py:110: dense_to_one_hot (from tensorflow.contrib.learn.python.learn.datasets.mnist) is deprecated and will be removed in a future version.\n",
            "Instructions for updating:\n",
            "Please use tf.one_hot on tensors.\n",
            "Successfully downloaded t10k-images-idx3-ubyte.gz 1648877 bytes.\n",
            "Extracting MNIST_data/t10k-images-idx3-ubyte.gz\n",
            "Successfully downloaded t10k-labels-idx1-ubyte.gz 4542 bytes.\n",
            "Extracting MNIST_data/t10k-labels-idx1-ubyte.gz\n",
            "WARNING:tensorflow:From /tensorflow-1.15.2/python3.6/tensorflow_core/contrib/learn/python/learn/datasets/mnist.py:290: DataSet.__init__ (from tensorflow.contrib.learn.python.learn.datasets.mnist) is deprecated and will be removed in a future version.\n",
            "Instructions for updating:\n",
            "Please use alternatives such as official/mnist/dataset.py from tensorflow/models.\n",
            "\n",
            " 55000 10000 5000\n",
            "\n",
            "train image shape =  (55000, 784)\n",
            "train label shape =  (55000, 10)\n",
            "test image shape =  (10000, 784)\n",
            "test label shape =  (10000, 10)\n"
          ],
          "name": "stdout"
        }
      ]
    },
    {
      "cell_type": "code",
      "metadata": {
        "id": "kucoYqrhg62s",
        "colab_type": "code",
        "colab": {}
      },
      "source": [
        "learning_rate = 0.001\n",
        "epochs = 30\n",
        "batch_size = 100"
      ],
      "execution_count": 0,
      "outputs": []
    },
    {
      "cell_type": "code",
      "metadata": {
        "id": "ZJCDz_-5hIRE",
        "colab_type": "code",
        "colab": {}
      },
      "source": [
        "X = tf.placeholder(tf.float32, [None, 784])\n",
        "\n",
        "A1 = X_img = tf.reshape(X,[-1, 28, 28, 1])\n",
        "\n",
        "T = tf.placeholder(tf.float32, [None, 10])  # image 28 X 28 X 1 (black/white)"
      ],
      "execution_count": 0,
      "outputs": []
    },
    {
      "cell_type": "code",
      "metadata": {
        "id": "z8LTazY_hIhD",
        "colab_type": "code",
        "colab": {}
      },
      "source": [
        "# 1번째 컨볼루션 층\n",
        "# 3X3 크기를 가지는 32개의 필터를 적용\n",
        "\n",
        "F2 = tf.Variable(tf.random_normal([3, 3, 1, 32], stddev=0.01))  \n",
        "b2 = tf.Variable(tf.constant(0.1, shape=[32]))   \n",
        "\n",
        "# 1번째 컨볼루션 연산을 통해 28 X 28 X1  => 28 X 28 X 32\n",
        "C2 = tf.nn.conv2d(A1, F2, strides=[1, 1, 1, 1], padding='SAME')\n",
        "\n",
        "# relu\n",
        "Z2 = tf.nn.relu(C2+b2)\n",
        "\n",
        "# 1번째 max pooling을 통해 28 X 28 X 32  => 14 X 14 X 32 \n",
        "A2 = P2 = tf.nn.max_pool(Z2, ksize=[1, 2, 2, 1], strides=[1, 2, 2, 1], padding='SAME')"
      ],
      "execution_count": 0,
      "outputs": []
    },
    {
      "cell_type": "code",
      "metadata": {
        "id": "CxdlCPXHhIkl",
        "colab_type": "code",
        "colab": {}
      },
      "source": [
        "# 2번째 컨볼루션 층\n",
        "# 3X3 크기를 가지는 32개의 필터를 적용\n",
        "\n",
        "F3 = tf.Variable(tf.random_normal([3, 3, 32, 32], stddev=0.01))  \n",
        "b3 = tf.Variable(tf.constant(0.1, shape=[32]))   \n",
        "\n",
        "# 2번째 컨볼루션 연산을 통해 14 X 14 X32  => 14 X 14 X 32\n",
        "C3 = tf.nn.conv2d(A2, F3, strides=[1, 1, 1, 1], padding='SAME')\n",
        "\n",
        "# relu\n",
        "Z3= tf.nn.relu(C3+b3)\n",
        "\n",
        "# 2번째 max pooling을 통해 14 X 14 X 32  => 7 X 7 X 32\n",
        "A3= P3 = tf.nn.max_pool(Z3, ksize=[1, 2, 2, 1], strides=[1, 2, 2, 1], padding='SAME')"
      ],
      "execution_count": 0,
      "outputs": []
    },
    {
      "cell_type": "code",
      "metadata": {
        "id": "u-ZC2JZWhZ4a",
        "colab_type": "code",
        "colab": {}
      },
      "source": [
        "# 3번째 컨볼루션 층\n",
        "# 3X3 크기를 가지는 32개의 필터를 적용\n",
        "\n",
        "F4 = tf.Variable(tf.random_normal([3, 3, 32, 32], stddev=0.01))  \n",
        "b4 = tf.Variable(tf.constant(0.1, shape=[32]))   \n",
        "\n",
        "# 3번째 컨볼루션 연산을 통해 7 X 7 X32  => 7 X 7 X 32\n",
        "C4 = tf.nn.conv2d(A3, F4, strides=[1, 1, 1, 1], padding='SAME')\n",
        "\n",
        "# relu\n",
        "Z4= tf.nn.relu(C4+b4)\n",
        "\n",
        "# 3번째 max pooling을 통해 7 X 7 X 32  => 4 X 4 X 32\n",
        "A4= P4 = tf.nn.max_pool(Z4, ksize=[1, 2, 2, 1], strides=[1, 2, 2, 1], padding='SAME')"
      ],
      "execution_count": 0,
      "outputs": []
    },
    {
      "cell_type": "code",
      "metadata": {
        "id": "DjowEnvMhIeM",
        "colab_type": "code",
        "colab": {}
      },
      "source": [
        "# 4X4 크기를 가진 32개의 activation map을 flatten 시킴\n",
        "A4_flat = P4_flat = tf.reshape(A4, [-1, 32*4*4])"
      ],
      "execution_count": 0,
      "outputs": []
    },
    {
      "cell_type": "code",
      "metadata": {
        "id": "knDdM85whIbt",
        "colab_type": "code",
        "colab": {}
      },
      "source": [
        "# 출력층\n",
        "W5 = tf.Variable(tf.random_normal([32*4*4, 10], stddev=0.01))\n",
        "b5 = tf.Variable(tf.random_normal([10]))\n",
        "\n",
        "# 출력층 선형회귀  값 Z5, 즉 softmax 에 들어가는 입력 값\n",
        "Z5 = logits = tf.matmul(A4_flat, W5) + b5    # 선형회귀 값 Z5\n",
        "\n",
        "y = A5 = tf.nn.softmax(Z5)"
      ],
      "execution_count": 0,
      "outputs": []
    },
    {
      "cell_type": "code",
      "metadata": {
        "id": "JZ7GujmahIYG",
        "colab_type": "code",
        "colab": {}
      },
      "source": [
        "loss = tf.reduce_mean( tf.nn.softmax_cross_entropy_with_logits_v2(logits=Z5, labels=T) )\n",
        "\n",
        "optimizer = tf.train.AdamOptimizer(learning_rate)\n",
        "\n",
        "train = optimizer.minimize(loss)"
      ],
      "execution_count": 0,
      "outputs": []
    },
    {
      "cell_type": "code",
      "metadata": {
        "id": "8FruHz2rhIMs",
        "colab_type": "code",
        "colab": {}
      },
      "source": [
        "# batch_size X 10 데이터에 대해 argmax를 통해 행단위로 비교함\n",
        "predicted_val = tf.equal( tf.argmax(A5, 1), tf.argmax(T, 1) )\n",
        "\n",
        "# batch_size X 10 의 True, False 를 1 또는 0 으로 변환\n",
        "accuracy = tf.reduce_mean(tf.cast(predicted_val, dtype=tf.float32))\n",
        "\n",
        "# index list 출력\n",
        "accuracy_index = tf.cast(predicted_val, dtype=tf.float32)\n",
        "\n",
        "# 예측값 처리\n",
        "predicted_list = tf.argmax(A5, 1)"
      ],
      "execution_count": 0,
      "outputs": []
    },
    {
      "cell_type": "code",
      "metadata": {
        "id": "O4qxYaQUhIKo",
        "colab_type": "code",
        "colab": {
          "base_uri": "https://localhost:8080/",
          "height": 1000
        },
        "outputId": "4ce36465-28bb-4e22-f3f6-f6828817cf28"
      },
      "source": [
        "index_label_prediction_list = []\n",
        "with  tf.Session()  as sess:\n",
        "    \n",
        "    sess.run(tf.global_variables_initializer())  # 변수 노드(tf.Variable) 초기화\n",
        "    \n",
        "    start_time = datetime.now()\n",
        "    \n",
        "    for i in range(epochs):    # 30 번 반복수행\n",
        "        \n",
        "        total_batch = int(mnist.train.num_examples / batch_size)  # 55,000 / 100\n",
        "\n",
        "        for step in range(total_batch):\n",
        "            \n",
        "            batch_x_data, batch_t_data = mnist.train.next_batch(batch_size)\n",
        "      \n",
        "            loss_val, _ = sess.run([loss, train], feed_dict={X: batch_x_data, T: batch_t_data})    \n",
        "        \n",
        "            if step % 100 == 0:\n",
        "                print(\"epochs = \", i, \", step = \", step, \", loss_val = \", loss_val)             \n",
        "    \n",
        "    end_time = datetime.now() \n",
        "    \n",
        "    print(\"\\nelapsed time = \", end_time - start_time) \n",
        "    \n",
        "    # Accuracy 확인\n",
        "    test_x_data = mnist.test.images    # 10000 X 784\n",
        "    test_t_data = mnist.test.labels    # 10000 X 10\n",
        "    \n",
        "    accuracy_val, predicted_list_val, index_label = sess.run([accuracy, predicted_list, accuracy_index], feed_dict={X: test_x_data, T: test_t_data})\n",
        "    \n",
        "    print(\"\\nAccuracy = \", accuracy_val)\n",
        "    print(\"type(accuracy_val) = \", type(accuracy_val), ', type(predicted_list_val) = ', type(predicted_list_val), ', type(index_label) = ', type(index_label))\n",
        "    print(\"index_label.shape = \", index_label.shape)\n",
        "    \n",
        "    index_label_list = list(index_label)\n",
        "    print(\"length of index_label_list = \", len(index_label_list))\n",
        "    print(\"false label count = \", index_label_list.count([0]))\n",
        "        \n",
        "    \n",
        "    temp_list = [] \n",
        "    \n",
        "    for index in range(len(index_label)):\n",
        "        \n",
        "        if index_label[index] == 0:\n",
        "            \n",
        "            temp_list.append(index)\n",
        "            temp_list.append(np.argmax(test_t_data[index]))  # one-hot encoding 이므로 argmax 로 정답 추출\n",
        "            temp_list.append(predicted_list_val[index])\n",
        "            \n",
        "            index_label_prediction_list.append(temp_list)\n",
        "            \n",
        "            temp_list = []\n",
        "            \n",
        "    print(\"\\nlength of index_label_false_list\", len(index_label_prediction_list))"
      ],
      "execution_count": 13,
      "outputs": [
        {
          "output_type": "stream",
          "text": [
            "epochs =  0 , step =  0 , loss_val =  2.4462867\n",
            "epochs =  0 , step =  100 , loss_val =  2.2950146\n",
            "epochs =  0 , step =  200 , loss_val =  0.79248124\n",
            "epochs =  0 , step =  300 , loss_val =  0.4354565\n",
            "epochs =  0 , step =  400 , loss_val =  0.21798652\n",
            "epochs =  0 , step =  500 , loss_val =  0.17517745\n",
            "epochs =  1 , step =  0 , loss_val =  0.22645399\n",
            "epochs =  1 , step =  100 , loss_val =  0.15249543\n",
            "epochs =  1 , step =  200 , loss_val =  0.12861153\n",
            "epochs =  1 , step =  300 , loss_val =  0.069764875\n",
            "epochs =  1 , step =  400 , loss_val =  0.06997957\n",
            "epochs =  1 , step =  500 , loss_val =  0.052887306\n",
            "epochs =  2 , step =  0 , loss_val =  0.1437308\n",
            "epochs =  2 , step =  100 , loss_val =  0.077118576\n",
            "epochs =  2 , step =  200 , loss_val =  0.17401057\n",
            "epochs =  2 , step =  300 , loss_val =  0.04233205\n",
            "epochs =  2 , step =  400 , loss_val =  0.034931283\n",
            "epochs =  2 , step =  500 , loss_val =  0.020927968\n",
            "epochs =  3 , step =  0 , loss_val =  0.11026447\n",
            "epochs =  3 , step =  100 , loss_val =  0.040613703\n",
            "epochs =  3 , step =  200 , loss_val =  0.05058198\n",
            "epochs =  3 , step =  300 , loss_val =  0.11834234\n",
            "epochs =  3 , step =  400 , loss_val =  0.044388805\n",
            "epochs =  3 , step =  500 , loss_val =  0.051775683\n",
            "epochs =  4 , step =  0 , loss_val =  0.050308075\n",
            "epochs =  4 , step =  100 , loss_val =  0.08708304\n",
            "epochs =  4 , step =  200 , loss_val =  0.049635377\n",
            "epochs =  4 , step =  300 , loss_val =  0.022790127\n",
            "epochs =  4 , step =  400 , loss_val =  0.015586183\n",
            "epochs =  4 , step =  500 , loss_val =  0.05756661\n",
            "epochs =  5 , step =  0 , loss_val =  0.05409341\n",
            "epochs =  5 , step =  100 , loss_val =  0.041719537\n",
            "epochs =  5 , step =  200 , loss_val =  0.058184553\n",
            "epochs =  5 , step =  300 , loss_val =  0.008924296\n",
            "epochs =  5 , step =  400 , loss_val =  0.016376711\n",
            "epochs =  5 , step =  500 , loss_val =  0.043406583\n",
            "epochs =  6 , step =  0 , loss_val =  0.011392087\n",
            "epochs =  6 , step =  100 , loss_val =  0.047198176\n",
            "epochs =  6 , step =  200 , loss_val =  0.061081484\n",
            "epochs =  6 , step =  300 , loss_val =  0.06960426\n",
            "epochs =  6 , step =  400 , loss_val =  0.008277735\n",
            "epochs =  6 , step =  500 , loss_val =  0.007575567\n",
            "epochs =  7 , step =  0 , loss_val =  0.017532209\n",
            "epochs =  7 , step =  100 , loss_val =  0.053457085\n",
            "epochs =  7 , step =  200 , loss_val =  0.0067469566\n",
            "epochs =  7 , step =  300 , loss_val =  0.01726015\n",
            "epochs =  7 , step =  400 , loss_val =  0.013808663\n",
            "epochs =  7 , step =  500 , loss_val =  0.0135643305\n",
            "epochs =  8 , step =  0 , loss_val =  0.06906044\n",
            "epochs =  8 , step =  100 , loss_val =  0.047963858\n",
            "epochs =  8 , step =  200 , loss_val =  0.02012708\n",
            "epochs =  8 , step =  300 , loss_val =  0.02436953\n",
            "epochs =  8 , step =  400 , loss_val =  0.024318624\n",
            "epochs =  8 , step =  500 , loss_val =  0.06164793\n",
            "epochs =  9 , step =  0 , loss_val =  0.00779463\n",
            "epochs =  9 , step =  100 , loss_val =  0.025847469\n",
            "epochs =  9 , step =  200 , loss_val =  0.01451004\n",
            "epochs =  9 , step =  300 , loss_val =  0.010493641\n",
            "epochs =  9 , step =  400 , loss_val =  0.006479701\n",
            "epochs =  9 , step =  500 , loss_val =  0.011483041\n",
            "epochs =  10 , step =  0 , loss_val =  0.0014927086\n",
            "epochs =  10 , step =  100 , loss_val =  0.0076931347\n",
            "epochs =  10 , step =  200 , loss_val =  0.10988777\n",
            "epochs =  10 , step =  300 , loss_val =  0.0070360936\n",
            "epochs =  10 , step =  400 , loss_val =  0.06269578\n",
            "epochs =  10 , step =  500 , loss_val =  0.049764752\n",
            "epochs =  11 , step =  0 , loss_val =  0.0022588193\n",
            "epochs =  11 , step =  100 , loss_val =  0.021689236\n",
            "epochs =  11 , step =  200 , loss_val =  0.027905414\n",
            "epochs =  11 , step =  300 , loss_val =  0.004147617\n",
            "epochs =  11 , step =  400 , loss_val =  0.012674954\n",
            "epochs =  11 , step =  500 , loss_val =  0.023692764\n",
            "epochs =  12 , step =  0 , loss_val =  0.00576161\n",
            "epochs =  12 , step =  100 , loss_val =  0.0149153415\n",
            "epochs =  12 , step =  200 , loss_val =  0.034870595\n",
            "epochs =  12 , step =  300 , loss_val =  0.016773663\n",
            "epochs =  12 , step =  400 , loss_val =  0.041670844\n",
            "epochs =  12 , step =  500 , loss_val =  0.013674598\n",
            "epochs =  13 , step =  0 , loss_val =  0.006351857\n",
            "epochs =  13 , step =  100 , loss_val =  0.023231294\n",
            "epochs =  13 , step =  200 , loss_val =  0.035034504\n",
            "epochs =  13 , step =  300 , loss_val =  0.016141137\n",
            "epochs =  13 , step =  400 , loss_val =  0.013085803\n",
            "epochs =  13 , step =  500 , loss_val =  0.027780967\n",
            "epochs =  14 , step =  0 , loss_val =  0.0024072707\n",
            "epochs =  14 , step =  100 , loss_val =  0.019639129\n",
            "epochs =  14 , step =  200 , loss_val =  0.0009982584\n",
            "epochs =  14 , step =  300 , loss_val =  0.0144120185\n",
            "epochs =  14 , step =  400 , loss_val =  0.00026489134\n",
            "epochs =  14 , step =  500 , loss_val =  0.0017325975\n",
            "epochs =  15 , step =  0 , loss_val =  0.006471545\n",
            "epochs =  15 , step =  100 , loss_val =  0.035637394\n",
            "epochs =  15 , step =  200 , loss_val =  0.0009968283\n",
            "epochs =  15 , step =  300 , loss_val =  0.0012150832\n",
            "epochs =  15 , step =  400 , loss_val =  0.00843833\n",
            "epochs =  15 , step =  500 , loss_val =  0.0027041123\n",
            "epochs =  16 , step =  0 , loss_val =  0.009449053\n",
            "epochs =  16 , step =  100 , loss_val =  0.0049947896\n",
            "epochs =  16 , step =  200 , loss_val =  0.019095674\n",
            "epochs =  16 , step =  300 , loss_val =  0.014940572\n",
            "epochs =  16 , step =  400 , loss_val =  0.0038912862\n",
            "epochs =  16 , step =  500 , loss_val =  0.022088539\n",
            "epochs =  17 , step =  0 , loss_val =  0.009951758\n",
            "epochs =  17 , step =  100 , loss_val =  0.0032509775\n",
            "epochs =  17 , step =  200 , loss_val =  0.0042981333\n",
            "epochs =  17 , step =  300 , loss_val =  0.002539956\n",
            "epochs =  17 , step =  400 , loss_val =  0.0009509074\n",
            "epochs =  17 , step =  500 , loss_val =  0.0032896562\n",
            "epochs =  18 , step =  0 , loss_val =  0.007559761\n",
            "epochs =  18 , step =  100 , loss_val =  0.0033549275\n",
            "epochs =  18 , step =  200 , loss_val =  0.018002039\n",
            "epochs =  18 , step =  300 , loss_val =  0.0013520609\n",
            "epochs =  18 , step =  400 , loss_val =  0.032068297\n",
            "epochs =  18 , step =  500 , loss_val =  0.0040644053\n",
            "epochs =  19 , step =  0 , loss_val =  0.015662445\n",
            "epochs =  19 , step =  100 , loss_val =  0.049725637\n",
            "epochs =  19 , step =  200 , loss_val =  0.010037061\n",
            "epochs =  19 , step =  300 , loss_val =  0.01141397\n",
            "epochs =  19 , step =  400 , loss_val =  0.12427528\n",
            "epochs =  19 , step =  500 , loss_val =  0.002278325\n",
            "epochs =  20 , step =  0 , loss_val =  0.0031521223\n",
            "epochs =  20 , step =  100 , loss_val =  0.0010174577\n",
            "epochs =  20 , step =  200 , loss_val =  0.0005846924\n",
            "epochs =  20 , step =  300 , loss_val =  0.010662173\n",
            "epochs =  20 , step =  400 , loss_val =  0.0030453205\n",
            "epochs =  20 , step =  500 , loss_val =  0.01436094\n",
            "epochs =  21 , step =  0 , loss_val =  0.0038800875\n",
            "epochs =  21 , step =  100 , loss_val =  0.00042442448\n",
            "epochs =  21 , step =  200 , loss_val =  0.04419363\n",
            "epochs =  21 , step =  300 , loss_val =  0.012834732\n",
            "epochs =  21 , step =  400 , loss_val =  0.0017097247\n",
            "epochs =  21 , step =  500 , loss_val =  0.002710844\n",
            "epochs =  22 , step =  0 , loss_val =  0.00018283048\n",
            "epochs =  22 , step =  100 , loss_val =  0.034661748\n",
            "epochs =  22 , step =  200 , loss_val =  0.0018367361\n",
            "epochs =  22 , step =  300 , loss_val =  0.0027434295\n",
            "epochs =  22 , step =  400 , loss_val =  0.024833566\n",
            "epochs =  22 , step =  500 , loss_val =  0.0030359614\n",
            "epochs =  23 , step =  0 , loss_val =  0.00026713952\n",
            "epochs =  23 , step =  100 , loss_val =  0.00072468066\n",
            "epochs =  23 , step =  200 , loss_val =  0.0122590605\n",
            "epochs =  23 , step =  300 , loss_val =  0.012540121\n",
            "epochs =  23 , step =  400 , loss_val =  0.0007256393\n",
            "epochs =  23 , step =  500 , loss_val =  0.0016895034\n",
            "epochs =  24 , step =  0 , loss_val =  0.0005640093\n",
            "epochs =  24 , step =  100 , loss_val =  0.00046982602\n",
            "epochs =  24 , step =  200 , loss_val =  0.0008671779\n",
            "epochs =  24 , step =  300 , loss_val =  0.0035651\n",
            "epochs =  24 , step =  400 , loss_val =  0.0008557865\n",
            "epochs =  24 , step =  500 , loss_val =  0.008071233\n",
            "epochs =  25 , step =  0 , loss_val =  0.00054556486\n",
            "epochs =  25 , step =  100 , loss_val =  0.00043434824\n",
            "epochs =  25 , step =  200 , loss_val =  7.741621e-05\n",
            "epochs =  25 , step =  300 , loss_val =  0.00030054266\n",
            "epochs =  25 , step =  400 , loss_val =  0.0007411657\n",
            "epochs =  25 , step =  500 , loss_val =  0.009642786\n",
            "epochs =  26 , step =  0 , loss_val =  0.0022023472\n",
            "epochs =  26 , step =  100 , loss_val =  0.0009578793\n",
            "epochs =  26 , step =  200 , loss_val =  0.0046975594\n",
            "epochs =  26 , step =  300 , loss_val =  0.003817276\n",
            "epochs =  26 , step =  400 , loss_val =  0.027293308\n",
            "epochs =  26 , step =  500 , loss_val =  0.00093467353\n",
            "epochs =  27 , step =  0 , loss_val =  0.057311274\n",
            "epochs =  27 , step =  100 , loss_val =  0.019229649\n",
            "epochs =  27 , step =  200 , loss_val =  0.03991358\n",
            "epochs =  27 , step =  300 , loss_val =  0.0003325662\n",
            "epochs =  27 , step =  400 , loss_val =  0.00020706037\n",
            "epochs =  27 , step =  500 , loss_val =  0.0015134838\n",
            "epochs =  28 , step =  0 , loss_val =  0.0034813154\n",
            "epochs =  28 , step =  100 , loss_val =  0.00016696398\n",
            "epochs =  28 , step =  200 , loss_val =  0.00033432175\n",
            "epochs =  28 , step =  300 , loss_val =  3.1702206e-05\n",
            "epochs =  28 , step =  400 , loss_val =  0.0011601426\n",
            "epochs =  28 , step =  500 , loss_val =  0.020596137\n",
            "epochs =  29 , step =  0 , loss_val =  0.0014318712\n",
            "epochs =  29 , step =  100 , loss_val =  0.0012091466\n",
            "epochs =  29 , step =  200 , loss_val =  0.018519182\n",
            "epochs =  29 , step =  300 , loss_val =  0.0004509996\n",
            "epochs =  29 , step =  400 , loss_val =  0.008735351\n",
            "epochs =  29 , step =  500 , loss_val =  0.00065377424\n",
            "\n",
            "elapsed time =  0:23:30.690601\n",
            "\n",
            "Accuracy =  0.9904\n",
            "type(accuracy_val) =  <class 'numpy.float32'> , type(predicted_list_val) =  <class 'numpy.ndarray'> , type(index_label) =  <class 'numpy.ndarray'>\n",
            "index_label.shape =  (10000,)\n",
            "length of index_label_list =  10000\n",
            "false label count =  96\n",
            "\n",
            "length of index_label_false_list 96\n"
          ],
          "name": "stdout"
        }
      ]
    },
    {
      "cell_type": "code",
      "metadata": {
        "id": "f9yxEQoQhIJN",
        "colab_type": "code",
        "colab": {}
      },
      "source": [
        ""
      ],
      "execution_count": 0,
      "outputs": []
    },
    {
      "cell_type": "code",
      "metadata": {
        "id": "H5amMwqBhIHc",
        "colab_type": "code",
        "colab": {}
      },
      "source": [
        ""
      ],
      "execution_count": 0,
      "outputs": []
    },
    {
      "cell_type": "code",
      "metadata": {
        "id": "rUK6K7_GhIDw",
        "colab_type": "code",
        "colab": {}
      },
      "source": [
        ""
      ],
      "execution_count": 0,
      "outputs": []
    },
    {
      "cell_type": "code",
      "metadata": {
        "id": "X2bcuzkBhIB3",
        "colab_type": "code",
        "colab": {}
      },
      "source": [
        ""
      ],
      "execution_count": 0,
      "outputs": []
    },
    {
      "cell_type": "code",
      "metadata": {
        "id": "BhpiyrXRhIAS",
        "colab_type": "code",
        "colab": {}
      },
      "source": [
        ""
      ],
      "execution_count": 0,
      "outputs": []
    },
    {
      "cell_type": "code",
      "metadata": {
        "id": "rkysBnI6hH-U",
        "colab_type": "code",
        "colab": {}
      },
      "source": [
        ""
      ],
      "execution_count": 0,
      "outputs": []
    },
    {
      "cell_type": "code",
      "metadata": {
        "id": "8KhtxNYvhH8P",
        "colab_type": "code",
        "colab": {}
      },
      "source": [
        ""
      ],
      "execution_count": 0,
      "outputs": []
    },
    {
      "cell_type": "code",
      "metadata": {
        "id": "M_sDvQzBhH6f",
        "colab_type": "code",
        "colab": {}
      },
      "source": [
        ""
      ],
      "execution_count": 0,
      "outputs": []
    },
    {
      "cell_type": "code",
      "metadata": {
        "id": "XvfmuYzUhH4S",
        "colab_type": "code",
        "colab": {}
      },
      "source": [
        ""
      ],
      "execution_count": 0,
      "outputs": []
    },
    {
      "cell_type": "code",
      "metadata": {
        "id": "-z5pLjethH0F",
        "colab_type": "code",
        "colab": {}
      },
      "source": [
        ""
      ],
      "execution_count": 0,
      "outputs": []
    },
    {
      "cell_type": "code",
      "metadata": {
        "id": "35VCqGzBg6vl",
        "colab_type": "code",
        "colab": {}
      },
      "source": [
        ""
      ],
      "execution_count": 0,
      "outputs": []
    },
    {
      "cell_type": "code",
      "metadata": {
        "id": "T1d3LVwng6sl",
        "colab_type": "code",
        "colab": {}
      },
      "source": [
        ""
      ],
      "execution_count": 0,
      "outputs": []
    }
  ]
}