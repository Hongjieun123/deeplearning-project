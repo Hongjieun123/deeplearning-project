{
 "cells": [
  {
   "cell_type": "code",
   "execution_count": 1,
   "metadata": {},
   "outputs": [],
   "source": [
    "import numpy as np\n",
    "from datetime import datetime\n",
    "import matplotlib.pyplot as plt\n",
    "\n",
    "np.random.seed(0)"
   ]
  },
  {
   "cell_type": "code",
   "execution_count": 2,
   "metadata": {},
   "outputs": [],
   "source": [
    "def numerical_derivative(f, x):\n",
    "    delta_x = 1e-4 # 0.0001\n",
    "    grad = np.zeros_like(x)\n",
    "    \n",
    "    it = np.nditer(x, flags=['multi_index'], op_flags=['readwrite'])\n",
    "    \n",
    "    while not it.finished:\n",
    "        idx = it.multi_index        \n",
    "        tmp_val = x[idx]\n",
    "        x[idx] = float(tmp_val) + delta_x\n",
    "        fx1 = f(x) # f(x+delta_x)\n",
    "        \n",
    "        x[idx] = tmp_val - delta_x \n",
    "        fx2 = f(x) # f(x-delta_x)\n",
    "        grad[idx] = (fx1 - fx2) / (2*delta_x)\n",
    "        \n",
    "        x[idx] = tmp_val \n",
    "        it.iternext()   \n",
    "        \n",
    "    return grad"
   ]
  },
  {
   "cell_type": "code",
   "execution_count": 6,
   "metadata": {},
   "outputs": [],
   "source": [
    "def sigmoid(x):\n",
    "    return 1/(1+np.exp(-x))\n",
    "\n",
    "\n",
    "input_nodes = 2\n",
    "hidden_nodes = 3\n",
    "output_nodes = 1\n",
    "\n",
    "W2 = np.random.rand(input_nodes,hidden_nodes)\n",
    "W3 = np.random.rand(hidden_nodes,output_nodes)\n",
    "b2 = np.random.rand(hidden_nodes)\n",
    "b3 = np.random.rand(output_nodes)\n",
    "\n"
   ]
  },
  {
   "cell_type": "code",
   "execution_count": 7,
   "metadata": {},
   "outputs": [],
   "source": [
    "xdata = np.array([[0,0],[0,1],[1,0],[1,1]])\n",
    "and_tdata = np.array([0,0,0,1]).reshape(4,1)\n",
    "or_tdata = np.array([0,1,1,1]).reshape(4,1)\n",
    "nand_tdata = np.array([1,1,1,0]).reshape(4,1)\n",
    "xor_tdata = np.array([0,1,1,0]).reshape(4,1)\n"
   ]
  },
  {
   "cell_type": "code",
   "execution_count": 11,
   "metadata": {},
   "outputs": [
    {
     "name": "stdout",
     "output_type": "stream",
     "text": [
      "loss value =  0.0842065450460789\n",
      "loss value =  0.07844353261067268\n",
      "loss value =  0.07335734689819556\n",
      "loss value =  0.06884034563068209\n",
      "loss value =  0.0648058993966993\n",
      "loss value =  0.061183621040236696\n",
      "loss value =  0.05791581260346167\n",
      "loss value =  0.05495478857387615\n",
      "loss value =  0.05226083743563089\n",
      "loss value =  0.04980065349240727\n",
      "loss value =  0.04754611892390391\n",
      "loss value =  0.045473349353908385\n",
      "loss value =  0.0435619396021146\n",
      "loss value =  0.041794362901740906\n",
      "loss value =  0.04015548878346324\n",
      "loss value =  0.038632193465166415\n",
      "loss value =  0.03721304290986496\n",
      "loss value =  0.035888033383895485\n",
      "loss value =  0.034648377827211495\n",
      "loss value =  0.03348632896173371\n",
      "loss value =  0.03239503204338291\n",
      "loss value =  0.031368401673932324\n",
      "loss value =  0.03040101824962492\n",
      "loss value =  0.029488040521571657\n",
      "loss value =  0.028625131442571096\n",
      "loss value =  0.027808395023131427\n"
     ]
    }
   ],
   "source": [
    "#and data 학습\n",
    "def feed_forward(xdata,tdata):\n",
    "    Z2 = np.dot(xdata,W2)+b2\n",
    "    A2 = sigmoid(Z2)\n",
    "    Z3 = np.dot(A2,W3)+b3\n",
    "    y = A3 = sigmoid(Z3)\n",
    "    delta = 1e-7\n",
    "    return -np.sum(tdata*np.log(y+delta)+(1-tdata)*np.log((1-y)+delta))\n",
    "\n",
    "def loss_val(xdata,tdata):\n",
    "    Z2 = np.dot(xdata,W2)+b2\n",
    "    A2 = sigmoid(Z2)\n",
    "    Z3 = np.dot(A2,W3)+b3\n",
    "    y = A3 = sigmoid(Z3)\n",
    "    delta = 1e-7\n",
    "    return -np.sum(tdata*np.log(y+delta)+(1-tdata)*np.log((1-y)+delta))\n",
    "\n",
    "\n",
    "learning_rate = 1e-2\n",
    "f = lambda x : feed_forward(xdata,and_tdata)\n",
    "for step in range(10001):\n",
    "    W2 -= learning_rate * numerical_derivative(f, W2)\n",
    "    W3 -= learning_rate * numerical_derivative(f, W3)\n",
    "    b2 -= learning_rate * numerical_derivative(f, b2)\n",
    "    b3 -= learning_rate * numerical_derivative(f, b3)\n",
    "    if step % 400 == 0:\n",
    "        print('loss value = ', loss_val(xdata,and_tdata))\n",
    "        \n",
    "\n",
    "        \n",
    "    "
   ]
  },
  {
   "cell_type": "code",
   "execution_count": 24,
   "metadata": {},
   "outputs": [],
   "source": [
    "def predict(x):\n",
    "    Z2 = np.dot(x,W2)+b2\n",
    "    A2 = sigmoid(Z2)\n",
    "    Z3 = np.dot(A2,W3)+b3\n",
    "    y = A3 = sigmoid(Z3)\n",
    "    \n",
    "    if y >= 0.5:\n",
    "        result = 1\n",
    "    else:\n",
    "        result = 0\n",
    "    \n",
    "    return y , result\n",
    "\n"
   ]
  },
  {
   "cell_type": "code",
   "execution_count": 15,
   "metadata": {},
   "outputs": [
    {
     "name": "stdout",
     "output_type": "stream",
     "text": [
      "real_val =  [0.00097759] logical_val =  0\n",
      "real_val =  [0.0073058] logical_val =  0\n",
      "real_val =  [0.00783369] logical_val =  0\n",
      "real_val =  [0.98843383] logical_val =  1\n"
     ]
    }
   ],
   "source": [
    "test_data = np.array([[0,0],[0,1],[1,0],[1,1]])\n",
    "for data in test_data:\n",
    "    (real_val, logical_val) = predict(data)\n",
    "    print('real_val = ',real_val,'logical_val = ',logical_val)\n",
    "\n",
    "\n",
    "    \n"
   ]
  },
  {
   "cell_type": "code",
   "execution_count": 16,
   "metadata": {},
   "outputs": [
    {
     "name": "stdout",
     "output_type": "stream",
     "text": [
      "loss value =  9.608610743454637\n",
      "loss value =  0.033563828632962096\n",
      "loss value =  0.021665456242673183\n",
      "loss value =  0.01808623783932114\n",
      "loss value =  0.016343213548186828\n",
      "loss value =  0.015277608318133285\n",
      "loss value =  0.014528753375226126\n",
      "loss value =  0.013951280413443554\n",
      "loss value =  0.013476783912055841\n",
      "loss value =  0.013069483617449956\n",
      "loss value =  0.01270912335980516\n",
      "loss value =  0.012383482930596174\n",
      "loss value =  0.012084781014339432\n",
      "loss value =  0.011807820486818414\n",
      "loss value =  0.011548976871316924\n",
      "loss value =  0.011305620684791162\n",
      "loss value =  0.011075774508033107\n",
      "loss value =  0.010857902425788983\n",
      "loss value =  0.010650776798626957\n",
      "loss value =  0.010453391617621101\n",
      "loss value =  0.010264904689951448\n",
      "loss value =  0.010084598109887506\n",
      "loss value =  0.009911850590539246\n",
      "loss value =  0.009746117652486853\n",
      "loss value =  0.009586917122186877\n",
      "loss value =  0.009433818288542952\n"
     ]
    }
   ],
   "source": [
    "#or data 학습\n",
    "def feed_forward(xdata,tdata):\n",
    "    Z2 = np.dot(xdata,W2)+b2\n",
    "    A2 = sigmoid(Z2)\n",
    "    Z3 = np.dot(A2,W3)+b3\n",
    "    y = A3 = sigmoid(Z3)\n",
    "    delta = 1e-7\n",
    "    return -np.sum(tdata*np.log(y+delta)+(1-tdata)*np.log((1-y)+delta))\n",
    "\n",
    "def loss_val(xdata,tdata):\n",
    "    Z2 = np.dot(xdata,W2)+b2\n",
    "    A2 = sigmoid(Z2)\n",
    "    Z3 = np.dot(A2,W3)+b3\n",
    "    y = A3 = sigmoid(Z3)\n",
    "    delta = 1e-7\n",
    "    return -np.sum(tdata*np.log(y+delta)+(1-tdata)*np.log((1-y)+delta))\n",
    "\n",
    "\n",
    "learning_rate = 1e-2\n",
    "f = lambda x : feed_forward(xdata,or_tdata)\n",
    "for step in range(10001):\n",
    "    W2 -= learning_rate * numerical_derivative(f, W2)\n",
    "    W3 -= learning_rate * numerical_derivative(f, W3)\n",
    "    b2 -= learning_rate * numerical_derivative(f, b2)\n",
    "    b3 -= learning_rate * numerical_derivative(f, b3)\n",
    "    if step % 400 == 0:\n",
    "        print('loss value = ', loss_val(xdata,or_tdata))"
   ]
  },
  {
   "cell_type": "code",
   "execution_count": 17,
   "metadata": {},
   "outputs": [
    {
     "name": "stdout",
     "output_type": "stream",
     "text": [
      "real_val =  [0.00644374] logical_val =  0\n",
      "real_val =  [0.99852361] logical_val =  1\n",
      "real_val =  [0.99860458] logical_val =  1\n",
      "real_val =  [0.99990425] logical_val =  1\n"
     ]
    }
   ],
   "source": [
    "test_data = np.array([[0,0],[0,1],[1,0],[1,1]])\n",
    "for data in test_data:\n",
    "    (real_val, logical_val) = predict(data)\n",
    "    print('real_val = ',real_val,'logical_val = ',logical_val)\n",
    "    "
   ]
  },
  {
   "cell_type": "code",
   "execution_count": 18,
   "metadata": {},
   "outputs": [
    {
     "name": "stdout",
     "output_type": "stream",
     "text": [
      "loss value =  14.280156077425705\n",
      "loss value =  6.354259943061143\n",
      "loss value =  2.4135845652367616\n",
      "loss value =  1.9175702038507239\n",
      "loss value =  1.539333172683355\n",
      "loss value =  1.186460853483244\n",
      "loss value =  0.8951393178346165\n",
      "loss value =  0.680342891240993\n",
      "loss value =  0.5284369170390975\n",
      "loss value =  0.4213292140561925\n",
      "loss value =  0.3445899812609856\n",
      "loss value =  0.28828360908920175\n",
      "loss value =  0.24590533127734165\n",
      "loss value =  0.21322818768357837\n",
      "loss value =  0.18747228274898692\n",
      "loss value =  0.16677243535651426\n",
      "loss value =  0.14984859793672858\n",
      "loss value =  0.13580218406196992\n",
      "loss value =  0.12398865741782958\n",
      "loss value =  0.11393636707657082\n",
      "loss value =  0.10529378319127292\n",
      "loss value =  0.09779448237506977\n",
      "loss value =  0.09123344329596247\n",
      "loss value =  0.08545069231751501\n",
      "loss value =  0.08031981809542627\n",
      "loss value =  0.07573977115178504\n"
     ]
    }
   ],
   "source": [
    "#nand data 학습\n",
    "def feed_forward(xdata,tdata):\n",
    "    Z2 = np.dot(xdata,W2)+b2\n",
    "    A2 = sigmoid(Z2)\n",
    "    Z3 = np.dot(A2,W3)+b3\n",
    "    y = A3 = sigmoid(Z3)\n",
    "    delta = 1e-7\n",
    "    return -np.sum(tdata*np.log(y+delta)+(1-tdata)*np.log((1-y)+delta))\n",
    "\n",
    "def loss_val(xdata,tdata):\n",
    "    Z2 = np.dot(xdata,W2)+b2\n",
    "    A2 = sigmoid(Z2)\n",
    "    Z3 = np.dot(A2,W3)+b3\n",
    "    y = A3 = sigmoid(Z3)\n",
    "    delta = 1e-7\n",
    "    return -np.sum(tdata*np.log(y+delta)+(1-tdata)*np.log((1-y)+delta))\n",
    "\n",
    "\n",
    "learning_rate = 1e-2\n",
    "f = lambda x : feed_forward(xdata,nand_tdata)\n",
    "for step in range(10001):\n",
    "    W2 -= learning_rate * numerical_derivative(f, W2)\n",
    "    W3 -= learning_rate * numerical_derivative(f, W3)\n",
    "    b2 -= learning_rate * numerical_derivative(f, b2)\n",
    "    b3 -= learning_rate * numerical_derivative(f, b3)\n",
    "    if step % 400 == 0:\n",
    "        print('loss value = ', loss_val(xdata,nand_tdata))"
   ]
  },
  {
   "cell_type": "code",
   "execution_count": 19,
   "metadata": {},
   "outputs": [
    {
     "name": "stdout",
     "output_type": "stream",
     "text": [
      "real_val =  [0.99390147] logical_val =  1\n",
      "real_val =  [0.98323066] logical_val =  1\n",
      "real_val =  [0.9832374] logical_val =  1\n",
      "real_val =  [0.03517329] logical_val =  0\n"
     ]
    }
   ],
   "source": [
    "test_data = np.array([[0,0],[0,1],[1,0],[1,1]])\n",
    "for data in test_data:\n",
    "    (real_val, logical_val) = predict(data)\n",
    "    print('real_val = ',real_val,'logical_val = ',logical_val)"
   ]
  },
  {
   "cell_type": "code",
   "execution_count": 22,
   "metadata": {},
   "outputs": [
    {
     "name": "stdout",
     "output_type": "stream",
     "text": [
      "loss value =  5.9403938570792825\n",
      "loss value =  1.780958016457457\n",
      "loss value =  1.1998298008974382\n",
      "loss value =  0.5199019505298379\n",
      "loss value =  0.303008302670573\n",
      "loss value =  0.22072906436468637\n",
      "loss value =  0.17696301085192126\n",
      "loss value =  0.14900601115683765\n",
      "loss value =  0.12922093483526864\n",
      "loss value =  0.11433517367792574\n",
      "loss value =  0.10268873127153708\n",
      "loss value =  0.0933287555884538\n",
      "loss value =  0.0856558414526046\n",
      "loss value =  0.07926684350126434\n",
      "loss value =  0.07387723971250403\n",
      "loss value =  0.06927913796012818\n",
      "loss value =  0.06531671559387232\n",
      "loss value =  0.061870891228569196\n",
      "loss value =  0.058849250365601874\n",
      "loss value =  0.05617915409781096\n",
      "loss value =  0.053802879215445944\n",
      "loss value =  0.05167410960797157\n",
      "loss value =  0.0497553560986807\n",
      "loss value =  0.04801603042183604\n",
      "loss value =  0.04643098931406834\n",
      "loss value =  0.044979421920711166\n"
     ]
    }
   ],
   "source": [
    "#xor data 학습\n",
    "def feed_forward(xdata,tdata):\n",
    "    Z2 = np.dot(xdata,W2)+b2\n",
    "    A2 = sigmoid(Z2)\n",
    "    Z3 = np.dot(A2,W3)+b3\n",
    "    y = A3 = sigmoid(Z3)\n",
    "    delta = 1e-7\n",
    "    return -np.sum(tdata*np.log(y+delta)+(1-tdata)*np.log((1-y)+delta))\n",
    "\n",
    "def loss_val(xdata,tdata):\n",
    "    Z2 = np.dot(xdata,W2)+b2\n",
    "    A2 = sigmoid(Z2)\n",
    "    Z3 = np.dot(A2,W3)+b3\n",
    "    y = A3 = sigmoid(Z3)\n",
    "    delta = 1e-7\n",
    "    return -np.sum(tdata*np.log(y+delta)+(1-tdata)*np.log((1-y)+delta))\n",
    "\n",
    "\n",
    "learning_rate = 1e-2\n",
    "f = lambda x : feed_forward(xdata,xor_tdata)\n",
    "for step in range(10001):\n",
    "    W2 -= learning_rate * numerical_derivative(f, W2)\n",
    "    W3 -= learning_rate * numerical_derivative(f, W3)\n",
    "    b2 -= learning_rate * numerical_derivative(f, b2)\n",
    "    b3 -= learning_rate * numerical_derivative(f, b3)\n",
    "    if step % 400 == 0:\n",
    "        print('loss value = ', loss_val(xdata,xor_tdata))"
   ]
  },
  {
   "cell_type": "code",
   "execution_count": 23,
   "metadata": {},
   "outputs": [
    {
     "name": "stdout",
     "output_type": "stream",
     "text": [
      "real_val =  [0.01644396] logical_val =  0\n",
      "real_val =  [0.98989558] logical_val =  1\n",
      "real_val =  [0.98988677] logical_val =  1\n",
      "real_val =  [0.0080461] logical_val =  0\n"
     ]
    }
   ],
   "source": [
    "test_data = np.array([[0,0],[0,1],[1,0],[1,1]])\n",
    "for data in test_data:\n",
    "    (real_val, logical_val) = predict(data)\n",
    "    print('real_val = ',real_val,'logical_val = ',logical_val)"
   ]
  },
  {
   "cell_type": "code",
   "execution_count": null,
   "metadata": {},
   "outputs": [],
   "source": []
  },
  {
   "cell_type": "code",
   "execution_count": null,
   "metadata": {},
   "outputs": [],
   "source": []
  },
  {
   "cell_type": "code",
   "execution_count": null,
   "metadata": {},
   "outputs": [],
   "source": []
  },
  {
   "cell_type": "code",
   "execution_count": null,
   "metadata": {},
   "outputs": [],
   "source": []
  },
  {
   "cell_type": "code",
   "execution_count": null,
   "metadata": {},
   "outputs": [],
   "source": []
  }
 ],
 "metadata": {
  "kernelspec": {
   "display_name": "Python 3",
   "language": "python",
   "name": "python3"
  },
  "language_info": {
   "codemirror_mode": {
    "name": "ipython",
    "version": 3
   },
   "file_extension": ".py",
   "mimetype": "text/x-python",
   "name": "python",
   "nbconvert_exporter": "python",
   "pygments_lexer": "ipython3",
   "version": "3.7.4"
  }
 },
 "nbformat": 4,
 "nbformat_minor": 2
}
