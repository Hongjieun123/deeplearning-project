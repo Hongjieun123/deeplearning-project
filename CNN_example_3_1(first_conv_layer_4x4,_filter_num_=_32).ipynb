{
  "nbformat": 4,
  "nbformat_minor": 0,
  "metadata": {
    "colab": {
      "name": "CNN_example_3_1(first_conv_layer_4x4, filter_num_=_32)",
      "provenance": [],
      "authorship_tag": "ABX9TyPluixF+g6nkxZt1llQvJQd",
      "include_colab_link": true
    },
    "kernelspec": {
      "name": "python3",
      "display_name": "Python 3"
    }
  },
  "cells": [
    {
      "cell_type": "markdown",
      "metadata": {
        "id": "view-in-github",
        "colab_type": "text"
      },
      "source": [
        "<a href=\"https://colab.research.google.com/github/Hongjieun123/deeplearning-project/blob/master/CNN_example_3_1(first_conv_layer_4x4%2C_filter_num_%3D_32).ipynb\" target=\"_parent\"><img src=\"https://colab.research.google.com/assets/colab-badge.svg\" alt=\"Open In Colab\"/></a>"
      ]
    },
    {
      "cell_type": "code",
      "metadata": {
        "id": "9TLAp8-yg6xn",
        "colab_type": "code",
        "outputId": "f1fcb8cd-4a7a-4a5c-fdfc-66e142fa70e3",
        "colab": {
          "base_uri": "https://localhost:8080/",
          "height": 36
        }
      },
      "source": [
        "# Colab에서 tensorflow 1.x 실행\n",
        "%tensorflow_version 1.x"
      ],
      "execution_count": 0,
      "outputs": [
        {
          "output_type": "stream",
          "text": [
            "TensorFlow 1.x selected.\n"
          ],
          "name": "stdout"
        }
      ]
    },
    {
      "cell_type": "code",
      "metadata": {
        "id": "4fb19Ozcfr7e",
        "colab_type": "code",
        "outputId": "4cf13c27-1d9e-4487-9a53-a52147dd22b5",
        "colab": {
          "base_uri": "https://localhost:8080/",
          "height": 709
        }
      },
      "source": [
        "import tensorflow as tf\n",
        "from tensorflow.examples.tutorials.mnist import input_data\n",
        "import numpy as np\n",
        "from datetime import datetime\n",
        "\n",
        "mnist = input_data.read_data_sets('MNIST_data/', one_hot=True)\n",
        "\n",
        "print('\\n', mnist.train.num_examples, mnist.test.num_examples, mnist.validation.num_examples)\n",
        "\n",
        "print('\\ntrain image shape = ', np.shape(mnist.train.images))\n",
        "print('train label shape = ', np.shape(mnist.train.labels))\n",
        "print('test image shape = ', np.shape(mnist.test.images))\n",
        "print('test label shape = ', np.shape(mnist.test.labels))"
      ],
      "execution_count": 0,
      "outputs": [
        {
          "output_type": "stream",
          "text": [
            "WARNING:tensorflow:From <ipython-input-2-b4762e5f4068>:6: read_data_sets (from tensorflow.contrib.learn.python.learn.datasets.mnist) is deprecated and will be removed in a future version.\n",
            "Instructions for updating:\n",
            "Please use alternatives such as official/mnist/dataset.py from tensorflow/models.\n",
            "WARNING:tensorflow:From /tensorflow-1.15.2/python3.6/tensorflow_core/contrib/learn/python/learn/datasets/mnist.py:260: maybe_download (from tensorflow.contrib.learn.python.learn.datasets.base) is deprecated and will be removed in a future version.\n",
            "Instructions for updating:\n",
            "Please write your own downloading logic.\n",
            "WARNING:tensorflow:From /tensorflow-1.15.2/python3.6/tensorflow_core/contrib/learn/python/learn/datasets/base.py:252: _internal_retry.<locals>.wrap.<locals>.wrapped_fn (from tensorflow.contrib.learn.python.learn.datasets.base) is deprecated and will be removed in a future version.\n",
            "Instructions for updating:\n",
            "Please use urllib or similar directly.\n",
            "Successfully downloaded train-images-idx3-ubyte.gz 9912422 bytes.\n",
            "WARNING:tensorflow:From /tensorflow-1.15.2/python3.6/tensorflow_core/contrib/learn/python/learn/datasets/mnist.py:262: extract_images (from tensorflow.contrib.learn.python.learn.datasets.mnist) is deprecated and will be removed in a future version.\n",
            "Instructions for updating:\n",
            "Please use tf.data to implement this functionality.\n",
            "Extracting MNIST_data/train-images-idx3-ubyte.gz\n",
            "Successfully downloaded train-labels-idx1-ubyte.gz 28881 bytes.\n",
            "WARNING:tensorflow:From /tensorflow-1.15.2/python3.6/tensorflow_core/contrib/learn/python/learn/datasets/mnist.py:267: extract_labels (from tensorflow.contrib.learn.python.learn.datasets.mnist) is deprecated and will be removed in a future version.\n",
            "Instructions for updating:\n",
            "Please use tf.data to implement this functionality.\n",
            "Extracting MNIST_data/train-labels-idx1-ubyte.gz\n",
            "WARNING:tensorflow:From /tensorflow-1.15.2/python3.6/tensorflow_core/contrib/learn/python/learn/datasets/mnist.py:110: dense_to_one_hot (from tensorflow.contrib.learn.python.learn.datasets.mnist) is deprecated and will be removed in a future version.\n",
            "Instructions for updating:\n",
            "Please use tf.one_hot on tensors.\n",
            "Successfully downloaded t10k-images-idx3-ubyte.gz 1648877 bytes.\n",
            "Extracting MNIST_data/t10k-images-idx3-ubyte.gz\n",
            "Successfully downloaded t10k-labels-idx1-ubyte.gz 4542 bytes.\n",
            "Extracting MNIST_data/t10k-labels-idx1-ubyte.gz\n",
            "WARNING:tensorflow:From /tensorflow-1.15.2/python3.6/tensorflow_core/contrib/learn/python/learn/datasets/mnist.py:290: DataSet.__init__ (from tensorflow.contrib.learn.python.learn.datasets.mnist) is deprecated and will be removed in a future version.\n",
            "Instructions for updating:\n",
            "Please use alternatives such as official/mnist/dataset.py from tensorflow/models.\n",
            "\n",
            " 55000 10000 5000\n",
            "\n",
            "train image shape =  (55000, 784)\n",
            "train label shape =  (55000, 10)\n",
            "test image shape =  (10000, 784)\n",
            "test label shape =  (10000, 10)\n"
          ],
          "name": "stdout"
        }
      ]
    },
    {
      "cell_type": "code",
      "metadata": {
        "id": "kucoYqrhg62s",
        "colab_type": "code",
        "colab": {}
      },
      "source": [
        "learning_rate = 0.001\n",
        "epochs = 30\n",
        "batch_size = 100"
      ],
      "execution_count": 0,
      "outputs": []
    },
    {
      "cell_type": "code",
      "metadata": {
        "id": "ZJCDz_-5hIRE",
        "colab_type": "code",
        "colab": {}
      },
      "source": [
        "X = tf.placeholder(tf.float32, [None, 784])\n",
        "\n",
        "A1 = X_img = tf.reshape(X,[-1, 28, 28, 1])\n",
        "\n",
        "T = tf.placeholder(tf.float32, [None, 10])  # image 28 X 28 X 1 (black/white)"
      ],
      "execution_count": 0,
      "outputs": []
    },
    {
      "cell_type": "code",
      "metadata": {
        "id": "z8LTazY_hIhD",
        "colab_type": "code",
        "colab": {}
      },
      "source": [
        "# 1번째 컨볼루션 층\n",
        "# 4X4 크기를 가지는 32개의 필터를 적용\n",
        "\n",
        "F2 = tf.Variable(tf.random_normal([4, 4, 1, 32], stddev=0.01))  \n",
        "b2 = tf.Variable(tf.constant(0.1, shape=[32]))   \n",
        "\n",
        "# 1번째 컨볼루션 연산을 통해 28 X 28 X1  => 28 X 28 X 32\n",
        "C2 = tf.nn.conv2d(A1, F2, strides=[1, 1, 1, 1], padding='SAME')\n",
        "\n",
        "# relu\n",
        "Z2 = tf.nn.relu(C2+b2)\n",
        "\n",
        "# 1번째 max pooling을 통해 28 X 28 X 32  => 14 X 14 X 32 \n",
        "A2 = P2 = tf.nn.max_pool(Z2, ksize=[1, 2, 2, 1], strides=[1, 2, 2, 1], padding='SAME')"
      ],
      "execution_count": 0,
      "outputs": []
    },
    {
      "cell_type": "code",
      "metadata": {
        "id": "DjowEnvMhIeM",
        "colab_type": "code",
        "colab": {}
      },
      "source": [
        "# 14X14 크기를 가진 32개의 activation map을 flatten 시킴\n",
        "A2_flat = P2_flat = tf.reshape(A2, [-1, 32*14*14])"
      ],
      "execution_count": 0,
      "outputs": []
    },
    {
      "cell_type": "code",
      "metadata": {
        "id": "knDdM85whIbt",
        "colab_type": "code",
        "colab": {}
      },
      "source": [
        "# 출력층\n",
        "W3 = tf.Variable(tf.random_normal([32*14*14, 10], stddev=0.01))\n",
        "b3 = tf.Variable(tf.random_normal([10]))\n",
        "\n",
        "# 출력층 선형회귀  값 Z3, 즉 softmax 에 들어가는 입력 값\n",
        "Z3 = logits = tf.matmul(A2_flat, W3) + b3    # 선형회귀 값 Z3\n",
        "\n",
        "y = A3 = tf.nn.softmax(Z3)"
      ],
      "execution_count": 0,
      "outputs": []
    },
    {
      "cell_type": "code",
      "metadata": {
        "id": "JZ7GujmahIYG",
        "colab_type": "code",
        "colab": {}
      },
      "source": [
        "loss = tf.reduce_mean( tf.nn.softmax_cross_entropy_with_logits_v2(logits=Z3, labels=T) )\n",
        "\n",
        "optimizer = tf.train.AdamOptimizer(learning_rate)\n",
        "\n",
        "train = optimizer.minimize(loss)"
      ],
      "execution_count": 0,
      "outputs": []
    },
    {
      "cell_type": "code",
      "metadata": {
        "id": "8FruHz2rhIMs",
        "colab_type": "code",
        "colab": {}
      },
      "source": [
        "# batch_size X 10 데이터에 대해 argmax를 통해 행단위로 비교함\n",
        "predicted_val = tf.equal( tf.argmax(A3, 1), tf.argmax(T, 1) )\n",
        "\n",
        "# batch_size X 10 의 True, False 를 1 또는 0 으로 변환\n",
        "accuracy = tf.reduce_mean(tf.cast(predicted_val, dtype=tf.float32))\n",
        "\n",
        "# index list 출력\n",
        "accuracy_index = tf.cast(predicted_val, dtype=tf.float32)\n",
        "\n",
        "# 예측값 처리\n",
        "predicted_list = tf.argmax(A3, 1)"
      ],
      "execution_count": 0,
      "outputs": []
    },
    {
      "cell_type": "code",
      "metadata": {
        "id": "O4qxYaQUhIKo",
        "colab_type": "code",
        "outputId": "5eb98c38-ed86-4696-e4c0-43d64a824fb4",
        "colab": {
          "base_uri": "https://localhost:8080/",
          "height": 1000
        }
      },
      "source": [
        "index_label_prediction_list = []\n",
        "with  tf.Session()  as sess:\n",
        "    \n",
        "    sess.run(tf.global_variables_initializer())  # 변수 노드(tf.Variable) 초기화\n",
        "    \n",
        "    start_time = datetime.now()\n",
        "    \n",
        "    for i in range(epochs):    # 30 번 반복수행\n",
        "        \n",
        "        total_batch = int(mnist.train.num_examples / batch_size)  # 55,000 / 100\n",
        "\n",
        "        for step in range(total_batch):\n",
        "            \n",
        "            batch_x_data, batch_t_data = mnist.train.next_batch(batch_size)\n",
        "      \n",
        "            loss_val, _ = sess.run([loss, train], feed_dict={X: batch_x_data, T: batch_t_data})    \n",
        "        \n",
        "            if step % 100 == 0:\n",
        "                print(\"epochs = \", i, \", step = \", step, \", loss_val = \", loss_val)             \n",
        "    \n",
        "    end_time = datetime.now() \n",
        "    \n",
        "    print(\"\\nelapsed time = \", end_time - start_time) \n",
        "    \n",
        "    # Accuracy 확인\n",
        "    test_x_data = mnist.test.images    # 10000 X 784\n",
        "    test_t_data = mnist.test.labels    # 10000 X 10\n",
        "    \n",
        "    accuracy_val, predicted_list_val, index_label = sess.run([accuracy, predicted_list, accuracy_index], feed_dict={X: test_x_data, T: test_t_data})\n",
        "    \n",
        "    print(\"\\nAccuracy = \", accuracy_val)\n",
        "    print(\"type(accuracy_val) = \", type(accuracy_val), ', type(predicted_list_val) = ', type(predicted_list_val), ', type(index_label) = ', type(index_label))\n",
        "    print(\"index_label.shape = \", index_label.shape)\n",
        "    \n",
        "    index_label_list = list(index_label)\n",
        "    print(\"length of index_label_list = \", len(index_label_list))\n",
        "    print(\"false label count = \", index_label_list.count([0]))\n",
        "        \n",
        "    \n",
        "    temp_list = [] \n",
        "    \n",
        "    for index in range(len(index_label)):\n",
        "        \n",
        "        if index_label[index] == 0:\n",
        "            \n",
        "            temp_list.append(index)\n",
        "            temp_list.append(np.argmax(test_t_data[index]))  # one-hot encoding 이므로 argmax 로 정답 추출\n",
        "            temp_list.append(predicted_list_val[index])\n",
        "            \n",
        "            index_label_prediction_list.append(temp_list)\n",
        "            \n",
        "            temp_list = []\n",
        "            \n",
        "    print(\"\\nlength of index_label_false_list\", len(index_label_prediction_list))"
      ],
      "execution_count": 0,
      "outputs": [
        {
          "output_type": "stream",
          "text": [
            "epochs =  0 , step =  0 , loss_val =  2.7249093\n",
            "epochs =  0 , step =  100 , loss_val =  0.5112474\n",
            "epochs =  0 , step =  200 , loss_val =  0.3608762\n",
            "epochs =  0 , step =  300 , loss_val =  0.33484924\n",
            "epochs =  0 , step =  400 , loss_val =  0.2733024\n",
            "epochs =  0 , step =  500 , loss_val =  0.20489354\n",
            "epochs =  1 , step =  0 , loss_val =  0.09135719\n",
            "epochs =  1 , step =  100 , loss_val =  0.18333088\n",
            "epochs =  1 , step =  200 , loss_val =  0.25019512\n",
            "epochs =  1 , step =  300 , loss_val =  0.06623464\n",
            "epochs =  1 , step =  400 , loss_val =  0.072195075\n",
            "epochs =  1 , step =  500 , loss_val =  0.06555006\n",
            "epochs =  2 , step =  0 , loss_val =  0.10512707\n",
            "epochs =  2 , step =  100 , loss_val =  0.044443227\n",
            "epochs =  2 , step =  200 , loss_val =  0.023952367\n",
            "epochs =  2 , step =  300 , loss_val =  0.20945227\n",
            "epochs =  2 , step =  400 , loss_val =  0.026195055\n",
            "epochs =  2 , step =  500 , loss_val =  0.023537003\n",
            "epochs =  3 , step =  0 , loss_val =  0.070897356\n",
            "epochs =  3 , step =  100 , loss_val =  0.059172463\n",
            "epochs =  3 , step =  200 , loss_val =  0.02624767\n",
            "epochs =  3 , step =  300 , loss_val =  0.015763618\n",
            "epochs =  3 , step =  400 , loss_val =  0.018564168\n",
            "epochs =  3 , step =  500 , loss_val =  0.07301842\n",
            "epochs =  4 , step =  0 , loss_val =  0.02665653\n",
            "epochs =  4 , step =  100 , loss_val =  0.02692092\n",
            "epochs =  4 , step =  200 , loss_val =  0.01714347\n",
            "epochs =  4 , step =  300 , loss_val =  0.031326335\n",
            "epochs =  4 , step =  400 , loss_val =  0.012637924\n",
            "epochs =  4 , step =  500 , loss_val =  0.03792965\n",
            "epochs =  5 , step =  0 , loss_val =  0.03311099\n",
            "epochs =  5 , step =  100 , loss_val =  0.025699537\n",
            "epochs =  5 , step =  200 , loss_val =  0.040553942\n",
            "epochs =  5 , step =  300 , loss_val =  0.032553364\n",
            "epochs =  5 , step =  400 , loss_val =  0.02897886\n",
            "epochs =  5 , step =  500 , loss_val =  0.08497946\n",
            "epochs =  6 , step =  0 , loss_val =  0.03885368\n",
            "epochs =  6 , step =  100 , loss_val =  0.05554101\n",
            "epochs =  6 , step =  200 , loss_val =  0.04073454\n",
            "epochs =  6 , step =  300 , loss_val =  0.061244722\n",
            "epochs =  6 , step =  400 , loss_val =  0.051792435\n",
            "epochs =  6 , step =  500 , loss_val =  0.04997967\n",
            "epochs =  7 , step =  0 , loss_val =  0.026018824\n",
            "epochs =  7 , step =  100 , loss_val =  0.04741226\n",
            "epochs =  7 , step =  200 , loss_val =  0.07574135\n",
            "epochs =  7 , step =  300 , loss_val =  0.006111768\n",
            "epochs =  7 , step =  400 , loss_val =  0.040449433\n",
            "epochs =  7 , step =  500 , loss_val =  0.020068564\n",
            "epochs =  8 , step =  0 , loss_val =  0.046106435\n",
            "epochs =  8 , step =  100 , loss_val =  0.04927693\n",
            "epochs =  8 , step =  200 , loss_val =  0.015650015\n",
            "epochs =  8 , step =  300 , loss_val =  0.019657027\n",
            "epochs =  8 , step =  400 , loss_val =  0.017100139\n",
            "epochs =  8 , step =  500 , loss_val =  0.06849219\n",
            "epochs =  9 , step =  0 , loss_val =  0.024236817\n",
            "epochs =  9 , step =  100 , loss_val =  0.046306442\n",
            "epochs =  9 , step =  200 , loss_val =  0.0039017885\n",
            "epochs =  9 , step =  300 , loss_val =  0.12317434\n",
            "epochs =  9 , step =  400 , loss_val =  0.011251994\n",
            "epochs =  9 , step =  500 , loss_val =  0.034332853\n",
            "epochs =  10 , step =  0 , loss_val =  0.032041956\n",
            "epochs =  10 , step =  100 , loss_val =  0.120948\n",
            "epochs =  10 , step =  200 , loss_val =  0.04872149\n",
            "epochs =  10 , step =  300 , loss_val =  0.014150742\n",
            "epochs =  10 , step =  400 , loss_val =  0.007641343\n",
            "epochs =  10 , step =  500 , loss_val =  0.077763036\n",
            "epochs =  11 , step =  0 , loss_val =  0.024362734\n",
            "epochs =  11 , step =  100 , loss_val =  0.017807707\n",
            "epochs =  11 , step =  200 , loss_val =  0.0027519017\n",
            "epochs =  11 , step =  300 , loss_val =  0.012442954\n",
            "epochs =  11 , step =  400 , loss_val =  0.00583318\n",
            "epochs =  11 , step =  500 , loss_val =  0.011016532\n",
            "epochs =  12 , step =  0 , loss_val =  0.042265244\n",
            "epochs =  12 , step =  100 , loss_val =  0.004225958\n",
            "epochs =  12 , step =  200 , loss_val =  0.034314975\n",
            "epochs =  12 , step =  300 , loss_val =  0.014014301\n",
            "epochs =  12 , step =  400 , loss_val =  0.02033752\n",
            "epochs =  12 , step =  500 , loss_val =  0.013083492\n",
            "epochs =  13 , step =  0 , loss_val =  0.025983315\n",
            "epochs =  13 , step =  100 , loss_val =  0.0062097157\n",
            "epochs =  13 , step =  200 , loss_val =  0.0012362746\n",
            "epochs =  13 , step =  300 , loss_val =  0.02487054\n",
            "epochs =  13 , step =  400 , loss_val =  0.04073656\n",
            "epochs =  13 , step =  500 , loss_val =  0.016411157\n",
            "epochs =  14 , step =  0 , loss_val =  0.016334893\n",
            "epochs =  14 , step =  100 , loss_val =  0.005197305\n",
            "epochs =  14 , step =  200 , loss_val =  0.014449682\n",
            "epochs =  14 , step =  300 , loss_val =  0.030729907\n",
            "epochs =  14 , step =  400 , loss_val =  0.044958267\n",
            "epochs =  14 , step =  500 , loss_val =  0.0035018006\n",
            "epochs =  15 , step =  0 , loss_val =  0.03249894\n",
            "epochs =  15 , step =  100 , loss_val =  0.054582495\n",
            "epochs =  15 , step =  200 , loss_val =  0.017826375\n",
            "epochs =  15 , step =  300 , loss_val =  0.004549399\n",
            "epochs =  15 , step =  400 , loss_val =  0.021074567\n",
            "epochs =  15 , step =  500 , loss_val =  0.039033104\n",
            "epochs =  16 , step =  0 , loss_val =  0.003380637\n",
            "epochs =  16 , step =  100 , loss_val =  0.020673677\n",
            "epochs =  16 , step =  200 , loss_val =  0.026106289\n",
            "epochs =  16 , step =  300 , loss_val =  0.036096152\n",
            "epochs =  16 , step =  400 , loss_val =  0.0022553192\n",
            "epochs =  16 , step =  500 , loss_val =  0.011407832\n",
            "epochs =  17 , step =  0 , loss_val =  0.001644418\n",
            "epochs =  17 , step =  100 , loss_val =  0.013196107\n",
            "epochs =  17 , step =  200 , loss_val =  0.010512267\n",
            "epochs =  17 , step =  300 , loss_val =  0.008374477\n",
            "epochs =  17 , step =  400 , loss_val =  0.0020127038\n",
            "epochs =  17 , step =  500 , loss_val =  0.010369007\n",
            "epochs =  18 , step =  0 , loss_val =  0.0059019364\n",
            "epochs =  18 , step =  100 , loss_val =  0.0070681144\n",
            "epochs =  18 , step =  200 , loss_val =  0.0021383085\n",
            "epochs =  18 , step =  300 , loss_val =  0.002166898\n",
            "epochs =  18 , step =  400 , loss_val =  0.0025913\n",
            "epochs =  18 , step =  500 , loss_val =  0.014729818\n",
            "epochs =  19 , step =  0 , loss_val =  0.009417746\n",
            "epochs =  19 , step =  100 , loss_val =  0.00573358\n",
            "epochs =  19 , step =  200 , loss_val =  0.0010680011\n",
            "epochs =  19 , step =  300 , loss_val =  0.004886182\n",
            "epochs =  19 , step =  400 , loss_val =  0.005438654\n",
            "epochs =  19 , step =  500 , loss_val =  0.012023709\n",
            "epochs =  20 , step =  0 , loss_val =  0.007914533\n",
            "epochs =  20 , step =  100 , loss_val =  0.007184323\n",
            "epochs =  20 , step =  200 , loss_val =  0.016099587\n",
            "epochs =  20 , step =  300 , loss_val =  0.004160808\n",
            "epochs =  20 , step =  400 , loss_val =  0.017905092\n",
            "epochs =  20 , step =  500 , loss_val =  0.005434121\n",
            "epochs =  21 , step =  0 , loss_val =  0.008197896\n",
            "epochs =  21 , step =  100 , loss_val =  0.0031062975\n",
            "epochs =  21 , step =  200 , loss_val =  0.0349511\n",
            "epochs =  21 , step =  300 , loss_val =  0.0041167936\n",
            "epochs =  21 , step =  400 , loss_val =  0.0155597795\n",
            "epochs =  21 , step =  500 , loss_val =  0.012720586\n",
            "epochs =  22 , step =  0 , loss_val =  0.0071552866\n",
            "epochs =  22 , step =  100 , loss_val =  0.006472954\n",
            "epochs =  22 , step =  200 , loss_val =  0.000987699\n",
            "epochs =  22 , step =  300 , loss_val =  0.0057345117\n",
            "epochs =  22 , step =  400 , loss_val =  0.031351674\n",
            "epochs =  22 , step =  500 , loss_val =  0.0024165432\n",
            "epochs =  23 , step =  0 , loss_val =  0.0059395325\n",
            "epochs =  23 , step =  100 , loss_val =  0.012487836\n",
            "epochs =  23 , step =  200 , loss_val =  0.010114657\n",
            "epochs =  23 , step =  300 , loss_val =  0.001126877\n",
            "epochs =  23 , step =  400 , loss_val =  0.039725106\n",
            "epochs =  23 , step =  500 , loss_val =  0.029439798\n",
            "epochs =  24 , step =  0 , loss_val =  0.0012937523\n",
            "epochs =  24 , step =  100 , loss_val =  0.010335966\n",
            "epochs =  24 , step =  200 , loss_val =  0.0012483055\n",
            "epochs =  24 , step =  300 , loss_val =  0.0043846536\n",
            "epochs =  24 , step =  400 , loss_val =  0.0006388275\n",
            "epochs =  24 , step =  500 , loss_val =  0.00090136344\n",
            "epochs =  25 , step =  0 , loss_val =  0.0040233117\n",
            "epochs =  25 , step =  100 , loss_val =  0.0018017256\n",
            "epochs =  25 , step =  200 , loss_val =  0.008051888\n",
            "epochs =  25 , step =  300 , loss_val =  0.002883324\n",
            "epochs =  25 , step =  400 , loss_val =  0.006475958\n",
            "epochs =  25 , step =  500 , loss_val =  0.011888091\n",
            "epochs =  26 , step =  0 , loss_val =  0.0065273764\n",
            "epochs =  26 , step =  100 , loss_val =  0.0008541942\n",
            "epochs =  26 , step =  200 , loss_val =  0.00837676\n",
            "epochs =  26 , step =  300 , loss_val =  0.00038078186\n",
            "epochs =  26 , step =  400 , loss_val =  0.0011507623\n",
            "epochs =  26 , step =  500 , loss_val =  0.012511884\n",
            "epochs =  27 , step =  0 , loss_val =  0.014536005\n",
            "epochs =  27 , step =  100 , loss_val =  0.0025248078\n",
            "epochs =  27 , step =  200 , loss_val =  0.012135062\n",
            "epochs =  27 , step =  300 , loss_val =  0.00037257397\n",
            "epochs =  27 , step =  400 , loss_val =  0.0034838093\n",
            "epochs =  27 , step =  500 , loss_val =  0.001944047\n",
            "epochs =  28 , step =  0 , loss_val =  0.00944881\n",
            "epochs =  28 , step =  100 , loss_val =  0.0005648641\n",
            "epochs =  28 , step =  200 , loss_val =  0.0007363975\n",
            "epochs =  28 , step =  300 , loss_val =  0.0019778681\n",
            "epochs =  28 , step =  400 , loss_val =  0.0004760248\n",
            "epochs =  28 , step =  500 , loss_val =  0.00047644947\n",
            "epochs =  29 , step =  0 , loss_val =  0.00041292259\n",
            "epochs =  29 , step =  100 , loss_val =  0.0027781338\n",
            "epochs =  29 , step =  200 , loss_val =  0.0023224847\n",
            "epochs =  29 , step =  300 , loss_val =  0.012095406\n",
            "epochs =  29 , step =  400 , loss_val =  0.00015864734\n",
            "epochs =  29 , step =  500 , loss_val =  0.0029203051\n",
            "\n",
            "elapsed time =  0:11:36.167247\n",
            "\n",
            "Accuracy =  0.9855\n",
            "type(accuracy_val) =  <class 'numpy.float32'> , type(predicted_list_val) =  <class 'numpy.ndarray'> , type(index_label) =  <class 'numpy.ndarray'>\n",
            "index_label.shape =  (10000,)\n",
            "length of index_label_list =  10000\n",
            "false label count =  145\n",
            "\n",
            "length of index_label_false_list 145\n"
          ],
          "name": "stdout"
        }
      ]
    },
    {
      "cell_type": "code",
      "metadata": {
        "id": "f9yxEQoQhIJN",
        "colab_type": "code",
        "colab": {}
      },
      "source": [
        ""
      ],
      "execution_count": 0,
      "outputs": []
    },
    {
      "cell_type": "code",
      "metadata": {
        "id": "H5amMwqBhIHc",
        "colab_type": "code",
        "colab": {}
      },
      "source": [
        ""
      ],
      "execution_count": 0,
      "outputs": []
    },
    {
      "cell_type": "code",
      "metadata": {
        "id": "rUK6K7_GhIDw",
        "colab_type": "code",
        "colab": {}
      },
      "source": [
        ""
      ],
      "execution_count": 0,
      "outputs": []
    },
    {
      "cell_type": "code",
      "metadata": {
        "id": "X2bcuzkBhIB3",
        "colab_type": "code",
        "colab": {}
      },
      "source": [
        ""
      ],
      "execution_count": 0,
      "outputs": []
    },
    {
      "cell_type": "code",
      "metadata": {
        "id": "BhpiyrXRhIAS",
        "colab_type": "code",
        "colab": {}
      },
      "source": [
        ""
      ],
      "execution_count": 0,
      "outputs": []
    },
    {
      "cell_type": "code",
      "metadata": {
        "id": "rkysBnI6hH-U",
        "colab_type": "code",
        "colab": {}
      },
      "source": [
        ""
      ],
      "execution_count": 0,
      "outputs": []
    },
    {
      "cell_type": "code",
      "metadata": {
        "id": "8KhtxNYvhH8P",
        "colab_type": "code",
        "colab": {}
      },
      "source": [
        ""
      ],
      "execution_count": 0,
      "outputs": []
    },
    {
      "cell_type": "code",
      "metadata": {
        "id": "M_sDvQzBhH6f",
        "colab_type": "code",
        "colab": {}
      },
      "source": [
        ""
      ],
      "execution_count": 0,
      "outputs": []
    },
    {
      "cell_type": "code",
      "metadata": {
        "id": "XvfmuYzUhH4S",
        "colab_type": "code",
        "colab": {}
      },
      "source": [
        ""
      ],
      "execution_count": 0,
      "outputs": []
    },
    {
      "cell_type": "code",
      "metadata": {
        "id": "-z5pLjethH0F",
        "colab_type": "code",
        "colab": {}
      },
      "source": [
        ""
      ],
      "execution_count": 0,
      "outputs": []
    },
    {
      "cell_type": "code",
      "metadata": {
        "id": "35VCqGzBg6vl",
        "colab_type": "code",
        "colab": {}
      },
      "source": [
        ""
      ],
      "execution_count": 0,
      "outputs": []
    },
    {
      "cell_type": "code",
      "metadata": {
        "id": "T1d3LVwng6sl",
        "colab_type": "code",
        "colab": {}
      },
      "source": [
        ""
      ],
      "execution_count": 0,
      "outputs": []
    }
  ]
}