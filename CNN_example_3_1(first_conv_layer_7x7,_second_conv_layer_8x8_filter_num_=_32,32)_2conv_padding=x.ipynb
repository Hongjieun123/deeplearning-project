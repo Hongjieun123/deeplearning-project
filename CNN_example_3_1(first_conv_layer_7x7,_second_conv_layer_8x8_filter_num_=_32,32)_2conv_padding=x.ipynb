{
  "nbformat": 4,
  "nbformat_minor": 0,
  "metadata": {
    "kernelspec": {
      "display_name": "Python 3",
      "language": "python",
      "name": "python3"
    },
    "language_info": {
      "codemirror_mode": {
        "name": "ipython",
        "version": 3
      },
      "file_extension": ".py",
      "mimetype": "text/x-python",
      "name": "python",
      "nbconvert_exporter": "python",
      "pygments_lexer": "ipython3",
      "version": "3.7.4"
    },
    "colab": {
      "name": "CNN_example_3_1(first conv layer 7x7, second conv layer 8x8 filter num = 32,32) 2conv padding=x",
      "provenance": [],
      "include_colab_link": true
    }
  },
  "cells": [
    {
      "cell_type": "markdown",
      "metadata": {
        "id": "view-in-github",
        "colab_type": "text"
      },
      "source": [
        "<a href=\"https://colab.research.google.com/github/Hongjieun123/deeplearning-project/blob/master/CNN_example_3_1(first_conv_layer_7x7%2C_second_conv_layer_8x8_filter_num_%3D_32%2C32)_2conv_padding%3Dx.ipynb\" target=\"_parent\"><img src=\"https://colab.research.google.com/assets/colab-badge.svg\" alt=\"Open In Colab\"/></a>"
      ]
    },
    {
      "cell_type": "code",
      "metadata": {
        "id": "zm7Br1h6uu1X",
        "colab_type": "code",
        "outputId": "8b3dc58b-6c36-4dc1-e150-3a23ef752f42",
        "colab": {
          "base_uri": "https://localhost:8080/",
          "height": 36
        }
      },
      "source": [
        "# Colab에서 tensorflow 1.x 실행\n",
        "%tensorflow_version 1.x"
      ],
      "execution_count": 1,
      "outputs": [
        {
          "output_type": "stream",
          "text": [
            "TensorFlow 1.x selected.\n"
          ],
          "name": "stdout"
        }
      ]
    },
    {
      "cell_type": "code",
      "metadata": {
        "id": "xTN7ue5lucbw",
        "colab_type": "code",
        "outputId": "886e2ea6-4059-481d-e5d1-9e6af89e6b4f",
        "colab": {
          "base_uri": "https://localhost:8080/",
          "height": 709
        }
      },
      "source": [
        "import tensorflow as tf\n",
        "from tensorflow.examples.tutorials.mnist import input_data\n",
        "import numpy as np\n",
        "from datetime import datetime\n",
        "\n",
        "mnist = input_data.read_data_sets('MNIST_data/', one_hot=True)\n",
        "\n",
        "print('\\n', mnist.train.num_examples, mnist.test.num_examples, mnist.validation.num_examples)\n",
        "\n",
        "print('\\ntrain image shape = ', np.shape(mnist.train.images))\n",
        "print('train label shape = ', np.shape(mnist.train.labels))\n",
        "print('test image shape = ', np.shape(mnist.test.images))\n",
        "print('test label shape = ', np.shape(mnist.test.labels))"
      ],
      "execution_count": 2,
      "outputs": [
        {
          "output_type": "stream",
          "text": [
            "WARNING:tensorflow:From <ipython-input-2-b4762e5f4068>:6: read_data_sets (from tensorflow.contrib.learn.python.learn.datasets.mnist) is deprecated and will be removed in a future version.\n",
            "Instructions for updating:\n",
            "Please use alternatives such as official/mnist/dataset.py from tensorflow/models.\n",
            "WARNING:tensorflow:From /tensorflow-1.15.2/python3.6/tensorflow_core/contrib/learn/python/learn/datasets/mnist.py:260: maybe_download (from tensorflow.contrib.learn.python.learn.datasets.base) is deprecated and will be removed in a future version.\n",
            "Instructions for updating:\n",
            "Please write your own downloading logic.\n",
            "WARNING:tensorflow:From /tensorflow-1.15.2/python3.6/tensorflow_core/contrib/learn/python/learn/datasets/base.py:252: _internal_retry.<locals>.wrap.<locals>.wrapped_fn (from tensorflow.contrib.learn.python.learn.datasets.base) is deprecated and will be removed in a future version.\n",
            "Instructions for updating:\n",
            "Please use urllib or similar directly.\n",
            "Successfully downloaded train-images-idx3-ubyte.gz 9912422 bytes.\n",
            "WARNING:tensorflow:From /tensorflow-1.15.2/python3.6/tensorflow_core/contrib/learn/python/learn/datasets/mnist.py:262: extract_images (from tensorflow.contrib.learn.python.learn.datasets.mnist) is deprecated and will be removed in a future version.\n",
            "Instructions for updating:\n",
            "Please use tf.data to implement this functionality.\n",
            "Extracting MNIST_data/train-images-idx3-ubyte.gz\n",
            "Successfully downloaded train-labels-idx1-ubyte.gz 28881 bytes.\n",
            "WARNING:tensorflow:From /tensorflow-1.15.2/python3.6/tensorflow_core/contrib/learn/python/learn/datasets/mnist.py:267: extract_labels (from tensorflow.contrib.learn.python.learn.datasets.mnist) is deprecated and will be removed in a future version.\n",
            "Instructions for updating:\n",
            "Please use tf.data to implement this functionality.\n",
            "Extracting MNIST_data/train-labels-idx1-ubyte.gz\n",
            "WARNING:tensorflow:From /tensorflow-1.15.2/python3.6/tensorflow_core/contrib/learn/python/learn/datasets/mnist.py:110: dense_to_one_hot (from tensorflow.contrib.learn.python.learn.datasets.mnist) is deprecated and will be removed in a future version.\n",
            "Instructions for updating:\n",
            "Please use tf.one_hot on tensors.\n",
            "Successfully downloaded t10k-images-idx3-ubyte.gz 1648877 bytes.\n",
            "Extracting MNIST_data/t10k-images-idx3-ubyte.gz\n",
            "Successfully downloaded t10k-labels-idx1-ubyte.gz 4542 bytes.\n",
            "Extracting MNIST_data/t10k-labels-idx1-ubyte.gz\n",
            "WARNING:tensorflow:From /tensorflow-1.15.2/python3.6/tensorflow_core/contrib/learn/python/learn/datasets/mnist.py:290: DataSet.__init__ (from tensorflow.contrib.learn.python.learn.datasets.mnist) is deprecated and will be removed in a future version.\n",
            "Instructions for updating:\n",
            "Please use alternatives such as official/mnist/dataset.py from tensorflow/models.\n",
            "\n",
            " 55000 10000 5000\n",
            "\n",
            "train image shape =  (55000, 784)\n",
            "train label shape =  (55000, 10)\n",
            "test image shape =  (10000, 784)\n",
            "test label shape =  (10000, 10)\n"
          ],
          "name": "stdout"
        }
      ]
    },
    {
      "cell_type": "code",
      "metadata": {
        "id": "gSW7hSsWuccP",
        "colab_type": "code",
        "colab": {}
      },
      "source": [
        "learning_rate = 0.001\n",
        "epochs = 30\n",
        "batch_size = 100"
      ],
      "execution_count": 0,
      "outputs": []
    },
    {
      "cell_type": "code",
      "metadata": {
        "id": "XWUQ3TD7ucca",
        "colab_type": "code",
        "colab": {}
      },
      "source": [
        "X = tf.placeholder(tf.float32, [None, 784])\n",
        "\n",
        "A1 = X_img = tf.reshape(X,[-1, 28, 28, 1])\n",
        "\n",
        "T = tf.placeholder(tf.float32, [None, 10])  # image 28 X 28 X 1 (black/white)"
      ],
      "execution_count": 0,
      "outputs": []
    },
    {
      "cell_type": "code",
      "metadata": {
        "id": "e81mstOCucch",
        "colab_type": "code",
        "colab": {}
      },
      "source": [
        "# 1번째 컨볼루션 층\n",
        "# 7X7 크기를 가지는 32개의 필터를 적용\n",
        "\n",
        "F2 = tf.Variable(tf.random_normal([7, 7, 1, 32], stddev=0.01))  \n",
        "b2 = tf.Variable(tf.constant(0.1, shape=[32]))   \n",
        "\n",
        "# 1번째 컨볼루션 연산을 통해 28 X 28 X1  => 28 X 28 X 32\n",
        "C2 = tf.nn.conv2d(A1, F2, strides=[1, 1, 1, 1], padding='SAME')\n",
        "\n",
        "# relu\n",
        "Z2 = tf.nn.relu(C2+b2)\n",
        "\n",
        "# 1번째 max pooling을 통해 28 X 28 X 32  => 14 X 14 X 32\n",
        "A2 = P2 = tf.nn.max_pool(Z2, ksize=[1, 2, 2, 1], strides=[1, 2, 2, 1], padding='SAME')"
      ],
      "execution_count": 0,
      "outputs": []
    },
    {
      "cell_type": "code",
      "metadata": {
        "id": "2fRNliDcucco",
        "colab_type": "code",
        "colab": {}
      },
      "source": [
        "# 2번째 컨볼루션 층\n",
        "# 8X8 크기를 가지는 32개의 필터를 적용\n",
        "\n",
        "F3 = tf.Variable(tf.random_normal([8, 8, 32, 32], stddev=0.01))  \n",
        "b3 = tf.Variable(tf.constant(0.1, shape=[32]))   \n",
        "\n",
        "# 2번째 컨볼루션 연산을 통해 14 X 14 X32  => 7 X 7 X 32\n",
        "C3 = tf.nn.conv2d(A2, F3, strides=[1, 1, 1, 1], padding='VALID')\n",
        "\n",
        "# relu\n",
        "Z3= tf.nn.relu(C3+b3)\n",
        "\n",
        "# 2번째 max pooling을 통해 7 X 7 X 32  => 3 X 3 X 32\n",
        "A3= P3 = tf.nn.max_pool(Z3, ksize=[1, 2, 2, 1], strides=[1, 2, 2, 1], padding='VALID')"
      ],
      "execution_count": 0,
      "outputs": []
    },
    {
      "cell_type": "code",
      "metadata": {
        "id": "uc-OxRiduccy",
        "colab_type": "code",
        "colab": {}
      },
      "source": [
        "# 3X3 크기를 가진 32개의 activation map을 flatten 시킴\n",
        "A3_flat = P3_flat = tf.reshape(A3, [-1, 32*3*3])"
      ],
      "execution_count": 0,
      "outputs": []
    },
    {
      "cell_type": "code",
      "metadata": {
        "id": "cfvy6ZXYucc8",
        "colab_type": "code",
        "colab": {}
      },
      "source": [
        "# 출력층\n",
        "W4 = tf.Variable(tf.random_normal([32*3*3, 10], stddev=0.01))\n",
        "b4 = tf.Variable(tf.random_normal([10]))\n",
        "\n",
        "# 출력층 선형회귀  값 Z4, 즉 softmax 에 들어가는 입력 값\n",
        "Z4 = logits = tf.matmul(A3_flat, W4) + b4    # 선형회귀 값 Z4\n",
        "\n",
        "y = A4 = tf.nn.softmax(Z4)"
      ],
      "execution_count": 0,
      "outputs": []
    },
    {
      "cell_type": "code",
      "metadata": {
        "id": "vbPC_r_QucdP",
        "colab_type": "code",
        "colab": {}
      },
      "source": [
        "loss = tf.reduce_mean( tf.nn.softmax_cross_entropy_with_logits_v2(logits=Z4, labels=T) )\n",
        "\n",
        "optimizer = tf.train.AdamOptimizer(learning_rate)\n",
        "\n",
        "train = optimizer.minimize(loss)"
      ],
      "execution_count": 0,
      "outputs": []
    },
    {
      "cell_type": "code",
      "metadata": {
        "id": "Ly_6cqGrucdU",
        "colab_type": "code",
        "colab": {}
      },
      "source": [
        "# batch_size X 10 데이터에 대해 argmax를 통해 행단위로 비교함\n",
        "predicted_val = tf.equal( tf.argmax(A4, 1), tf.argmax(T, 1) )\n",
        "\n",
        "# batch_size X 10 의 True, False 를 1 또는 0 으로 변환\n",
        "accuracy = tf.reduce_mean(tf.cast(predicted_val, dtype=tf.float32))\n",
        "\n",
        "# index list 출력\n",
        "accuracy_index = tf.cast(predicted_val, dtype=tf.float32)\n",
        "\n",
        "# 예측값 처리\n",
        "predicted_list = tf.argmax(A4, 1)"
      ],
      "execution_count": 0,
      "outputs": []
    },
    {
      "cell_type": "code",
      "metadata": {
        "id": "vgxuwi4Fucdb",
        "colab_type": "code",
        "outputId": "ea151ede-9dbf-441d-e235-81663f66ab4e",
        "colab": {
          "base_uri": "https://localhost:8080/",
          "height": 1000
        }
      },
      "source": [
        "index_label_prediction_list = []\n",
        "\n",
        "with  tf.Session()  as sess:\n",
        "    \n",
        "    sess.run(tf.global_variables_initializer())  # 변수 노드(tf.Variable) 초기화\n",
        "    \n",
        "    start_time = datetime.now()\n",
        "    \n",
        "    for i in range(epochs):    # 30 번 반복수행\n",
        "        \n",
        "        total_batch = int(mnist.train.num_examples / batch_size)  # 55,000 / 100\n",
        "\n",
        "        for step in range(total_batch):\n",
        "            \n",
        "            batch_x_data, batch_t_data = mnist.train.next_batch(batch_size)\n",
        "      \n",
        "            loss_val, _ = sess.run([loss, train], feed_dict={X: batch_x_data, T: batch_t_data})    \n",
        "        \n",
        "            if step % 100 == 0:\n",
        "                print(\"epochs = \", i, \", step = \", step, \", loss_val = \", loss_val)             \n",
        "    \n",
        "    end_time = datetime.now() \n",
        "    \n",
        "    print(\"\\nelapsed time = \", end_time - start_time) \n",
        "    \n",
        "    # Accuracy 확인\n",
        "    test_x_data = mnist.test.images    # 10000 X 784\n",
        "    test_t_data = mnist.test.labels    # 10000 X 10\n",
        "    \n",
        "    accuracy_val, predicted_list_val, index_label = sess.run([accuracy, predicted_list, accuracy_index], feed_dict={X: test_x_data, T: test_t_data})\n",
        "    \n",
        "    print(\"\\nAccuracy = \", accuracy_val)\n",
        "    print(\"type(accuracy_val) = \", type(accuracy_val), ', type(predicted_list_val) = ', type(predicted_list_val), ', type(index_label) = ', type(index_label))\n",
        "    print(\"index_label.shape = \", index_label.shape)\n",
        "    \n",
        "    index_label_list = list(index_label)\n",
        "    print(\"length of index_label_list = \", len(index_label_list))\n",
        "    print(\"false label count = \", index_label_list.count([0]))\n",
        "        \n",
        "    \n",
        "    temp_list = [] \n",
        "    \n",
        "    for index in range(len(index_label)):\n",
        "        \n",
        "        if index_label[index] == 0:\n",
        "            \n",
        "            temp_list.append(index)\n",
        "            temp_list.append(np.argmax(test_t_data[index]))  # one-hot encoding 이므로 argmax 로 정답 추출\n",
        "            temp_list.append(predicted_list_val[index])\n",
        "            \n",
        "            index_label_prediction_list.append(temp_list)\n",
        "            \n",
        "            temp_list = []\n",
        "            \n",
        "    print(\"\\nlength of index_label_false_list\", len(index_label_prediction_list))"
      ],
      "execution_count": 43,
      "outputs": [
        {
          "output_type": "stream",
          "text": [
            "epochs =  0 , step =  0 , loss_val =  2.66099\n",
            "epochs =  0 , step =  100 , loss_val =  0.57314706\n",
            "epochs =  0 , step =  200 , loss_val =  0.34962043\n",
            "epochs =  0 , step =  300 , loss_val =  0.17224525\n",
            "epochs =  0 , step =  400 , loss_val =  0.19935678\n",
            "epochs =  0 , step =  500 , loss_val =  0.112434864\n",
            "epochs =  1 , step =  0 , loss_val =  0.13626073\n",
            "epochs =  1 , step =  100 , loss_val =  0.11658209\n",
            "epochs =  1 , step =  200 , loss_val =  0.02760033\n",
            "epochs =  1 , step =  300 , loss_val =  0.09843647\n",
            "epochs =  1 , step =  400 , loss_val =  0.054081302\n",
            "epochs =  1 , step =  500 , loss_val =  0.11545688\n",
            "epochs =  2 , step =  0 , loss_val =  0.05515156\n",
            "epochs =  2 , step =  100 , loss_val =  0.038976986\n",
            "epochs =  2 , step =  200 , loss_val =  0.1272958\n",
            "epochs =  2 , step =  300 , loss_val =  0.021559501\n",
            "epochs =  2 , step =  400 , loss_val =  0.026228065\n",
            "epochs =  2 , step =  500 , loss_val =  0.043555126\n",
            "epochs =  3 , step =  0 , loss_val =  0.0286465\n",
            "epochs =  3 , step =  100 , loss_val =  0.034963347\n",
            "epochs =  3 , step =  200 , loss_val =  0.0387957\n",
            "epochs =  3 , step =  300 , loss_val =  0.059585407\n",
            "epochs =  3 , step =  400 , loss_val =  0.031188736\n",
            "epochs =  3 , step =  500 , loss_val =  0.056137018\n",
            "epochs =  4 , step =  0 , loss_val =  0.023497434\n",
            "epochs =  4 , step =  100 , loss_val =  0.018201597\n",
            "epochs =  4 , step =  200 , loss_val =  0.10226881\n",
            "epochs =  4 , step =  300 , loss_val =  0.048279986\n",
            "epochs =  4 , step =  400 , loss_val =  0.009688202\n",
            "epochs =  4 , step =  500 , loss_val =  0.029671978\n",
            "epochs =  5 , step =  0 , loss_val =  0.022311883\n",
            "epochs =  5 , step =  100 , loss_val =  0.020643968\n",
            "epochs =  5 , step =  200 , loss_val =  0.030521095\n",
            "epochs =  5 , step =  300 , loss_val =  0.06061549\n",
            "epochs =  5 , step =  400 , loss_val =  0.030954402\n",
            "epochs =  5 , step =  500 , loss_val =  0.044926696\n",
            "epochs =  6 , step =  0 , loss_val =  0.0066265636\n",
            "epochs =  6 , step =  100 , loss_val =  0.005652273\n",
            "epochs =  6 , step =  200 , loss_val =  0.045614246\n",
            "epochs =  6 , step =  300 , loss_val =  0.0070523177\n",
            "epochs =  6 , step =  400 , loss_val =  0.012875314\n",
            "epochs =  6 , step =  500 , loss_val =  0.013738375\n",
            "epochs =  7 , step =  0 , loss_val =  0.0076321983\n",
            "epochs =  7 , step =  100 , loss_val =  0.033583533\n",
            "epochs =  7 , step =  200 , loss_val =  0.028405823\n",
            "epochs =  7 , step =  300 , loss_val =  0.05118609\n",
            "epochs =  7 , step =  400 , loss_val =  0.012227809\n",
            "epochs =  7 , step =  500 , loss_val =  0.027603008\n",
            "epochs =  8 , step =  0 , loss_val =  0.035276342\n",
            "epochs =  8 , step =  100 , loss_val =  0.0030586103\n",
            "epochs =  8 , step =  200 , loss_val =  0.0177879\n",
            "epochs =  8 , step =  300 , loss_val =  0.013847662\n",
            "epochs =  8 , step =  400 , loss_val =  0.020865932\n",
            "epochs =  8 , step =  500 , loss_val =  0.051929507\n",
            "epochs =  9 , step =  0 , loss_val =  0.0014866042\n",
            "epochs =  9 , step =  100 , loss_val =  0.017768018\n",
            "epochs =  9 , step =  200 , loss_val =  0.0098429145\n",
            "epochs =  9 , step =  300 , loss_val =  0.021302814\n",
            "epochs =  9 , step =  400 , loss_val =  0.017451027\n",
            "epochs =  9 , step =  500 , loss_val =  0.0010994631\n",
            "epochs =  10 , step =  0 , loss_val =  0.0039431793\n",
            "epochs =  10 , step =  100 , loss_val =  0.013162607\n",
            "epochs =  10 , step =  200 , loss_val =  0.031895768\n",
            "epochs =  10 , step =  300 , loss_val =  0.055903565\n",
            "epochs =  10 , step =  400 , loss_val =  0.016531052\n",
            "epochs =  10 , step =  500 , loss_val =  0.0062552304\n",
            "epochs =  11 , step =  0 , loss_val =  0.008531655\n",
            "epochs =  11 , step =  100 , loss_val =  0.0006578438\n",
            "epochs =  11 , step =  200 , loss_val =  0.009863304\n",
            "epochs =  11 , step =  300 , loss_val =  0.012832464\n",
            "epochs =  11 , step =  400 , loss_val =  0.013840741\n",
            "epochs =  11 , step =  500 , loss_val =  0.034038816\n",
            "epochs =  12 , step =  0 , loss_val =  0.005603216\n",
            "epochs =  12 , step =  100 , loss_val =  0.0043796124\n",
            "epochs =  12 , step =  200 , loss_val =  0.026230596\n",
            "epochs =  12 , step =  300 , loss_val =  0.00024501435\n",
            "epochs =  12 , step =  400 , loss_val =  0.0018370929\n",
            "epochs =  12 , step =  500 , loss_val =  0.0066507906\n",
            "epochs =  13 , step =  0 , loss_val =  0.00731008\n",
            "epochs =  13 , step =  100 , loss_val =  0.010769755\n",
            "epochs =  13 , step =  200 , loss_val =  0.0077402033\n",
            "epochs =  13 , step =  300 , loss_val =  0.008278826\n",
            "epochs =  13 , step =  400 , loss_val =  0.009941625\n",
            "epochs =  13 , step =  500 , loss_val =  0.007207242\n",
            "epochs =  14 , step =  0 , loss_val =  0.0010075085\n",
            "epochs =  14 , step =  100 , loss_val =  0.0010735075\n",
            "epochs =  14 , step =  200 , loss_val =  0.0013988108\n",
            "epochs =  14 , step =  300 , loss_val =  0.001568829\n",
            "epochs =  14 , step =  400 , loss_val =  0.0029339702\n",
            "epochs =  14 , step =  500 , loss_val =  0.0055601583\n",
            "epochs =  15 , step =  0 , loss_val =  0.02623221\n",
            "epochs =  15 , step =  100 , loss_val =  0.0010050433\n",
            "epochs =  15 , step =  200 , loss_val =  0.00048085672\n",
            "epochs =  15 , step =  300 , loss_val =  0.07306507\n",
            "epochs =  15 , step =  400 , loss_val =  0.040791098\n",
            "epochs =  15 , step =  500 , loss_val =  0.0022041448\n",
            "epochs =  16 , step =  0 , loss_val =  0.00055670744\n",
            "epochs =  16 , step =  100 , loss_val =  0.0008051438\n",
            "epochs =  16 , step =  200 , loss_val =  0.0035544026\n",
            "epochs =  16 , step =  300 , loss_val =  0.0012489371\n",
            "epochs =  16 , step =  400 , loss_val =  0.021500152\n",
            "epochs =  16 , step =  500 , loss_val =  0.0006917387\n",
            "epochs =  17 , step =  0 , loss_val =  0.002253387\n",
            "epochs =  17 , step =  100 , loss_val =  0.0014355805\n",
            "epochs =  17 , step =  200 , loss_val =  0.033352975\n",
            "epochs =  17 , step =  300 , loss_val =  0.017056096\n",
            "epochs =  17 , step =  400 , loss_val =  0.0013705274\n",
            "epochs =  17 , step =  500 , loss_val =  0.0010645268\n",
            "epochs =  18 , step =  0 , loss_val =  0.002105397\n",
            "epochs =  18 , step =  100 , loss_val =  0.0007817816\n",
            "epochs =  18 , step =  200 , loss_val =  0.0044004275\n",
            "epochs =  18 , step =  300 , loss_val =  0.0033988536\n",
            "epochs =  18 , step =  400 , loss_val =  0.0006204546\n",
            "epochs =  18 , step =  500 , loss_val =  0.0013723209\n",
            "epochs =  19 , step =  0 , loss_val =  0.00052788045\n",
            "epochs =  19 , step =  100 , loss_val =  0.0031562122\n",
            "epochs =  19 , step =  200 , loss_val =  0.0043482943\n",
            "epochs =  19 , step =  300 , loss_val =  0.0027176982\n",
            "epochs =  19 , step =  400 , loss_val =  0.007444062\n",
            "epochs =  19 , step =  500 , loss_val =  0.0030112332\n",
            "epochs =  20 , step =  0 , loss_val =  0.009705919\n",
            "epochs =  20 , step =  100 , loss_val =  0.005567051\n",
            "epochs =  20 , step =  200 , loss_val =  0.002734446\n",
            "epochs =  20 , step =  300 , loss_val =  0.00029660406\n",
            "epochs =  20 , step =  400 , loss_val =  0.0002886519\n",
            "epochs =  20 , step =  500 , loss_val =  0.0022915367\n",
            "epochs =  21 , step =  0 , loss_val =  0.00038560675\n",
            "epochs =  21 , step =  100 , loss_val =  0.0033579015\n",
            "epochs =  21 , step =  200 , loss_val =  0.0040142895\n",
            "epochs =  21 , step =  300 , loss_val =  0.008398042\n",
            "epochs =  21 , step =  400 , loss_val =  0.0042121476\n",
            "epochs =  21 , step =  500 , loss_val =  0.061208468\n",
            "epochs =  22 , step =  0 , loss_val =  0.0002726297\n",
            "epochs =  22 , step =  100 , loss_val =  0.00068541855\n",
            "epochs =  22 , step =  200 , loss_val =  0.0002493175\n",
            "epochs =  22 , step =  300 , loss_val =  0.00880479\n",
            "epochs =  22 , step =  400 , loss_val =  0.00041535194\n",
            "epochs =  22 , step =  500 , loss_val =  0.00026836953\n",
            "epochs =  23 , step =  0 , loss_val =  0.001820648\n",
            "epochs =  23 , step =  100 , loss_val =  0.0008159544\n",
            "epochs =  23 , step =  200 , loss_val =  0.0005177496\n",
            "epochs =  23 , step =  300 , loss_val =  0.0001291573\n",
            "epochs =  23 , step =  400 , loss_val =  0.0005052777\n",
            "epochs =  23 , step =  500 , loss_val =  0.0038185238\n",
            "epochs =  24 , step =  0 , loss_val =  0.0028729453\n",
            "epochs =  24 , step =  100 , loss_val =  0.00019004218\n",
            "epochs =  24 , step =  200 , loss_val =  0.0014414877\n",
            "epochs =  24 , step =  300 , loss_val =  0.00801202\n",
            "epochs =  24 , step =  400 , loss_val =  0.0005273132\n",
            "epochs =  24 , step =  500 , loss_val =  0.021717258\n",
            "epochs =  25 , step =  0 , loss_val =  0.0002398793\n",
            "epochs =  25 , step =  100 , loss_val =  0.011465852\n",
            "epochs =  25 , step =  200 , loss_val =  0.0001176556\n",
            "epochs =  25 , step =  300 , loss_val =  8.176847e-05\n",
            "epochs =  25 , step =  400 , loss_val =  0.0037664273\n",
            "epochs =  25 , step =  500 , loss_val =  0.00027283374\n",
            "epochs =  26 , step =  0 , loss_val =  0.000649751\n",
            "epochs =  26 , step =  100 , loss_val =  0.0018017192\n",
            "epochs =  26 , step =  200 , loss_val =  0.00012031037\n",
            "epochs =  26 , step =  300 , loss_val =  0.0028804406\n",
            "epochs =  26 , step =  400 , loss_val =  0.00069158105\n",
            "epochs =  26 , step =  500 , loss_val =  0.048934206\n",
            "epochs =  27 , step =  0 , loss_val =  0.0018646851\n",
            "epochs =  27 , step =  100 , loss_val =  5.8887625e-05\n",
            "epochs =  27 , step =  200 , loss_val =  3.4331708e-05\n",
            "epochs =  27 , step =  300 , loss_val =  0.0005775339\n",
            "epochs =  27 , step =  400 , loss_val =  0.0011486561\n",
            "epochs =  27 , step =  500 , loss_val =  4.1595224e-05\n",
            "epochs =  28 , step =  0 , loss_val =  0.00014734008\n",
            "epochs =  28 , step =  100 , loss_val =  0.001201394\n",
            "epochs =  28 , step =  200 , loss_val =  0.00022871351\n",
            "epochs =  28 , step =  300 , loss_val =  0.0004152233\n",
            "epochs =  28 , step =  400 , loss_val =  0.0006143118\n",
            "epochs =  28 , step =  500 , loss_val =  0.023667036\n",
            "epochs =  29 , step =  0 , loss_val =  3.29178e-05\n",
            "epochs =  29 , step =  100 , loss_val =  0.0015272832\n",
            "epochs =  29 , step =  200 , loss_val =  0.0013692406\n",
            "epochs =  29 , step =  300 , loss_val =  0.0007663419\n",
            "epochs =  29 , step =  400 , loss_val =  0.00026432547\n",
            "epochs =  29 , step =  500 , loss_val =  0.00029204012\n",
            "\n",
            "elapsed time =  0:45:54.641016\n",
            "\n",
            "Accuracy =  0.9883\n",
            "type(accuracy_val) =  <class 'numpy.float32'> , type(predicted_list_val) =  <class 'numpy.ndarray'> , type(index_label) =  <class 'numpy.ndarray'>\n",
            "index_label.shape =  (10000,)\n",
            "length of index_label_list =  10000\n",
            "false label count =  117\n",
            "\n",
            "length of index_label_false_list 117\n"
          ],
          "name": "stdout"
        }
      ]
    },
    {
      "cell_type": "code",
      "metadata": {
        "id": "-czriG10ucdp",
        "colab_type": "code",
        "colab": {}
      },
      "source": [
        ""
      ],
      "execution_count": 0,
      "outputs": []
    }
  ]
}