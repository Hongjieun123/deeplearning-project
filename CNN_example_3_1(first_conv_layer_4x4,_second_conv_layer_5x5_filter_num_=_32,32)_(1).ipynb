{
  "nbformat": 4,
  "nbformat_minor": 0,
  "metadata": {
    "kernelspec": {
      "display_name": "Python 3",
      "language": "python",
      "name": "python3"
    },
    "language_info": {
      "codemirror_mode": {
        "name": "ipython",
        "version": 3
      },
      "file_extension": ".py",
      "mimetype": "text/x-python",
      "name": "python",
      "nbconvert_exporter": "python",
      "pygments_lexer": "ipython3",
      "version": "3.7.4"
    },
    "colab": {
      "name": "CNN_example_3_1(first conv layer 4x4, second conv layer 5x5 filter num = 32,32) (1)",
      "provenance": [],
      "include_colab_link": true
    }
  },
  "cells": [
    {
      "cell_type": "markdown",
      "metadata": {
        "id": "view-in-github",
        "colab_type": "text"
      },
      "source": [
        "<a href=\"https://colab.research.google.com/github/Hongjieun123/deeplearning-project/blob/master/CNN_example_3_1(first_conv_layer_4x4%2C_second_conv_layer_5x5_filter_num_%3D_32%2C32)_(1).ipynb\" target=\"_parent\"><img src=\"https://colab.research.google.com/assets/colab-badge.svg\" alt=\"Open In Colab\"/></a>"
      ]
    },
    {
      "cell_type": "code",
      "metadata": {
        "id": "zm7Br1h6uu1X",
        "colab_type": "code",
        "outputId": "19827e3c-a3de-451f-ef18-a5ba9f30c3c3",
        "colab": {
          "base_uri": "https://localhost:8080/",
          "height": 36
        }
      },
      "source": [
        "# Colab에서 tensorflow 1.x 실행\n",
        "%tensorflow_version 1.x"
      ],
      "execution_count": 1,
      "outputs": [
        {
          "output_type": "stream",
          "text": [
            "TensorFlow 1.x selected.\n"
          ],
          "name": "stdout"
        }
      ]
    },
    {
      "cell_type": "code",
      "metadata": {
        "id": "xTN7ue5lucbw",
        "colab_type": "code",
        "outputId": "f77449ab-7987-4c4a-d505-94278a86e6ee",
        "colab": {
          "base_uri": "https://localhost:8080/",
          "height": 709
        }
      },
      "source": [
        "import tensorflow as tf\n",
        "from tensorflow.examples.tutorials.mnist import input_data\n",
        "import numpy as np\n",
        "from datetime import datetime\n",
        "\n",
        "mnist = input_data.read_data_sets('MNIST_data/', one_hot=True)\n",
        "\n",
        "print('\\n', mnist.train.num_examples, mnist.test.num_examples, mnist.validation.num_examples)\n",
        "\n",
        "print('\\ntrain image shape = ', np.shape(mnist.train.images))\n",
        "print('train label shape = ', np.shape(mnist.train.labels))\n",
        "print('test image shape = ', np.shape(mnist.test.images))\n",
        "print('test label shape = ', np.shape(mnist.test.labels))"
      ],
      "execution_count": 2,
      "outputs": [
        {
          "output_type": "stream",
          "text": [
            "WARNING:tensorflow:From <ipython-input-2-b4762e5f4068>:6: read_data_sets (from tensorflow.contrib.learn.python.learn.datasets.mnist) is deprecated and will be removed in a future version.\n",
            "Instructions for updating:\n",
            "Please use alternatives such as official/mnist/dataset.py from tensorflow/models.\n",
            "WARNING:tensorflow:From /tensorflow-1.15.2/python3.6/tensorflow_core/contrib/learn/python/learn/datasets/mnist.py:260: maybe_download (from tensorflow.contrib.learn.python.learn.datasets.base) is deprecated and will be removed in a future version.\n",
            "Instructions for updating:\n",
            "Please write your own downloading logic.\n",
            "WARNING:tensorflow:From /tensorflow-1.15.2/python3.6/tensorflow_core/contrib/learn/python/learn/datasets/base.py:252: _internal_retry.<locals>.wrap.<locals>.wrapped_fn (from tensorflow.contrib.learn.python.learn.datasets.base) is deprecated and will be removed in a future version.\n",
            "Instructions for updating:\n",
            "Please use urllib or similar directly.\n",
            "Successfully downloaded train-images-idx3-ubyte.gz 9912422 bytes.\n",
            "WARNING:tensorflow:From /tensorflow-1.15.2/python3.6/tensorflow_core/contrib/learn/python/learn/datasets/mnist.py:262: extract_images (from tensorflow.contrib.learn.python.learn.datasets.mnist) is deprecated and will be removed in a future version.\n",
            "Instructions for updating:\n",
            "Please use tf.data to implement this functionality.\n",
            "Extracting MNIST_data/train-images-idx3-ubyte.gz\n",
            "Successfully downloaded train-labels-idx1-ubyte.gz 28881 bytes.\n",
            "WARNING:tensorflow:From /tensorflow-1.15.2/python3.6/tensorflow_core/contrib/learn/python/learn/datasets/mnist.py:267: extract_labels (from tensorflow.contrib.learn.python.learn.datasets.mnist) is deprecated and will be removed in a future version.\n",
            "Instructions for updating:\n",
            "Please use tf.data to implement this functionality.\n",
            "Extracting MNIST_data/train-labels-idx1-ubyte.gz\n",
            "WARNING:tensorflow:From /tensorflow-1.15.2/python3.6/tensorflow_core/contrib/learn/python/learn/datasets/mnist.py:110: dense_to_one_hot (from tensorflow.contrib.learn.python.learn.datasets.mnist) is deprecated and will be removed in a future version.\n",
            "Instructions for updating:\n",
            "Please use tf.one_hot on tensors.\n",
            "Successfully downloaded t10k-images-idx3-ubyte.gz 1648877 bytes.\n",
            "Extracting MNIST_data/t10k-images-idx3-ubyte.gz\n",
            "Successfully downloaded t10k-labels-idx1-ubyte.gz 4542 bytes.\n",
            "Extracting MNIST_data/t10k-labels-idx1-ubyte.gz\n",
            "WARNING:tensorflow:From /tensorflow-1.15.2/python3.6/tensorflow_core/contrib/learn/python/learn/datasets/mnist.py:290: DataSet.__init__ (from tensorflow.contrib.learn.python.learn.datasets.mnist) is deprecated and will be removed in a future version.\n",
            "Instructions for updating:\n",
            "Please use alternatives such as official/mnist/dataset.py from tensorflow/models.\n",
            "\n",
            " 55000 10000 5000\n",
            "\n",
            "train image shape =  (55000, 784)\n",
            "train label shape =  (55000, 10)\n",
            "test image shape =  (10000, 784)\n",
            "test label shape =  (10000, 10)\n"
          ],
          "name": "stdout"
        }
      ]
    },
    {
      "cell_type": "code",
      "metadata": {
        "id": "gSW7hSsWuccP",
        "colab_type": "code",
        "colab": {}
      },
      "source": [
        "learning_rate = 0.001\n",
        "epochs = 30\n",
        "batch_size = 100"
      ],
      "execution_count": 0,
      "outputs": []
    },
    {
      "cell_type": "code",
      "metadata": {
        "id": "XWUQ3TD7ucca",
        "colab_type": "code",
        "colab": {}
      },
      "source": [
        "X = tf.placeholder(tf.float32, [None, 784])\n",
        "\n",
        "A1 = X_img = tf.reshape(X,[-1, 28, 28, 1])\n",
        "\n",
        "T = tf.placeholder(tf.float32, [None, 10])  # image 28 X 28 X 1 (black/white)"
      ],
      "execution_count": 0,
      "outputs": []
    },
    {
      "cell_type": "code",
      "metadata": {
        "id": "e81mstOCucch",
        "colab_type": "code",
        "colab": {}
      },
      "source": [
        "# 1번째 컨볼루션 층\n",
        "# 4X4 크기를 가지는 32개의 필터를 적용\n",
        "\n",
        "F2 = tf.Variable(tf.random_normal([4, 4, 1, 32], stddev=0.01))  \n",
        "b2 = tf.Variable(tf.constant(0.1, shape=[32]))   \n",
        "\n",
        "# 1번째 컨볼루션 연산을 통해 28 X 28 X1  => 28 X 28 X 32\n",
        "C2 = tf.nn.conv2d(A1, F2, strides=[1, 1, 1, 1], padding='SAME')\n",
        "\n",
        "# relu\n",
        "Z2 = tf.nn.relu(C2+b2)\n",
        "\n",
        "# 1번째 max pooling을 통해 28 X 28 X 32  => 14 X 14 X 32\n",
        "A2 = P2 = tf.nn.max_pool(Z2, ksize=[1, 2, 2, 1], strides=[1, 2, 2, 1], padding='SAME')"
      ],
      "execution_count": 0,
      "outputs": []
    },
    {
      "cell_type": "code",
      "metadata": {
        "id": "2fRNliDcucco",
        "colab_type": "code",
        "colab": {}
      },
      "source": [
        "# 2번째 컨볼루션 층\n",
        "# 5X5 크기를 가지는 32개의 필터를 적용\n",
        "\n",
        "F3 = tf.Variable(tf.random_normal([5, 5, 32, 32], stddev=0.01))  \n",
        "b3 = tf.Variable(tf.constant(0.1, shape=[32]))   \n",
        "\n",
        "# 2번째 컨볼루션 연산을 통해 14 X 14 X32  => 14 X 14 X 32\n",
        "C3 = tf.nn.conv2d(A2, F3, strides=[1, 1, 1, 1], padding='SAME')\n",
        "\n",
        "# relu\n",
        "Z3= tf.nn.relu(C3+b3)\n",
        "\n",
        "# 2번째 max pooling을 통해 14 X 14 X 32  => 7 X 7 X 32\n",
        "A3= P3 = tf.nn.max_pool(Z3, ksize=[1, 2, 2, 1], strides=[1, 2, 2, 1], padding='SAME')"
      ],
      "execution_count": 0,
      "outputs": []
    },
    {
      "cell_type": "code",
      "metadata": {
        "id": "uc-OxRiduccy",
        "colab_type": "code",
        "colab": {}
      },
      "source": [
        "# 7X7 크기를 가진 32개의 activation map을 flatten 시킴\n",
        "A3_flat = P3_flat = tf.reshape(A3, [-1, 32*7*7])"
      ],
      "execution_count": 0,
      "outputs": []
    },
    {
      "cell_type": "code",
      "metadata": {
        "id": "cfvy6ZXYucc8",
        "colab_type": "code",
        "colab": {}
      },
      "source": [
        "# 출력층\n",
        "W4 = tf.Variable(tf.random_normal([32*7*7, 10], stddev=0.01))\n",
        "b4 = tf.Variable(tf.random_normal([10]))\n",
        "\n",
        "# 출력층 선형회귀  값 Z4, 즉 softmax 에 들어가는 입력 값\n",
        "Z4 = logits = tf.matmul(A3_flat, W4) + b4    # 선형회귀 값 Z4\n",
        "\n",
        "y = A4 = tf.nn.softmax(Z4)"
      ],
      "execution_count": 0,
      "outputs": []
    },
    {
      "cell_type": "code",
      "metadata": {
        "id": "vbPC_r_QucdP",
        "colab_type": "code",
        "colab": {}
      },
      "source": [
        "loss = tf.reduce_mean( tf.nn.softmax_cross_entropy_with_logits_v2(logits=Z4, labels=T) )\n",
        "\n",
        "optimizer = tf.train.AdamOptimizer(learning_rate)\n",
        "\n",
        "train = optimizer.minimize(loss)"
      ],
      "execution_count": 0,
      "outputs": []
    },
    {
      "cell_type": "code",
      "metadata": {
        "id": "Ly_6cqGrucdU",
        "colab_type": "code",
        "colab": {}
      },
      "source": [
        "# batch_size X 10 데이터에 대해 argmax를 통해 행단위로 비교함\n",
        "predicted_val = tf.equal( tf.argmax(A4, 1), tf.argmax(T, 1) )\n",
        "\n",
        "# batch_size X 10 의 True, False 를 1 또는 0 으로 변환\n",
        "accuracy = tf.reduce_mean(tf.cast(predicted_val, dtype=tf.float32))\n",
        "\n",
        "# index list 출력\n",
        "accuracy_index = tf.cast(predicted_val, dtype=tf.float32)\n",
        "\n",
        "# 예측값 처리\n",
        "predicted_list = tf.argmax(A4, 1)"
      ],
      "execution_count": 0,
      "outputs": []
    },
    {
      "cell_type": "code",
      "metadata": {
        "id": "vgxuwi4Fucdb",
        "colab_type": "code",
        "outputId": "cb1e8d6b-dbe9-4681-f4d4-4adfddd6200e",
        "colab": {
          "base_uri": "https://localhost:8080/",
          "height": 1000
        }
      },
      "source": [
        "index_label_prediction_list = []\n",
        "\n",
        "with  tf.Session()  as sess:\n",
        "    \n",
        "    sess.run(tf.global_variables_initializer())  # 변수 노드(tf.Variable) 초기화\n",
        "    \n",
        "    start_time = datetime.now()\n",
        "    \n",
        "    for i in range(epochs):    # 30 번 반복수행\n",
        "        \n",
        "        total_batch = int(mnist.train.num_examples / batch_size)  # 55,000 / 100\n",
        "\n",
        "        for step in range(total_batch):\n",
        "            \n",
        "            batch_x_data, batch_t_data = mnist.train.next_batch(batch_size)\n",
        "      \n",
        "            loss_val, _ = sess.run([loss, train], feed_dict={X: batch_x_data, T: batch_t_data})    \n",
        "        \n",
        "            if step % 100 == 0:\n",
        "                print(\"epochs = \", i, \", step = \", step, \", loss_val = \", loss_val)             \n",
        "    \n",
        "    end_time = datetime.now() \n",
        "    \n",
        "    print(\"\\nelapsed time = \", end_time - start_time) \n",
        "    \n",
        "    # Accuracy 확인\n",
        "    test_x_data = mnist.test.images    # 10000 X 784\n",
        "    test_t_data = mnist.test.labels    # 10000 X 10\n",
        "    \n",
        "    accuracy_val, predicted_list_val, index_label = sess.run([accuracy, predicted_list, accuracy_index], feed_dict={X: test_x_data, T: test_t_data})\n",
        "    \n",
        "    print(\"\\nAccuracy = \", accuracy_val)\n",
        "    print(\"type(accuracy_val) = \", type(accuracy_val), ', type(predicted_list_val) = ', type(predicted_list_val), ', type(index_label) = ', type(index_label))\n",
        "    print(\"index_label.shape = \", index_label.shape)\n",
        "    \n",
        "    index_label_list = list(index_label)\n",
        "    print(\"length of index_label_list = \", len(index_label_list))\n",
        "    print(\"false label count = \", index_label_list.count([0]))\n",
        "        \n",
        "    \n",
        "    temp_list = [] \n",
        "    \n",
        "    for index in range(len(index_label)):\n",
        "        \n",
        "        if index_label[index] == 0:\n",
        "            \n",
        "            temp_list.append(index)\n",
        "            temp_list.append(np.argmax(test_t_data[index]))  # one-hot encoding 이므로 argmax 로 정답 추출\n",
        "            temp_list.append(predicted_list_val[index])\n",
        "            \n",
        "            index_label_prediction_list.append(temp_list)\n",
        "            \n",
        "            temp_list = []\n",
        "            \n",
        "    print(\"\\nlength of index_label_false_list\", len(index_label_prediction_list))"
      ],
      "execution_count": 11,
      "outputs": [
        {
          "output_type": "stream",
          "text": [
            "epochs =  0 , step =  0 , loss_val =  2.5462537\n",
            "epochs =  0 , step =  100 , loss_val =  0.70509493\n",
            "epochs =  0 , step =  200 , loss_val =  0.26935145\n",
            "epochs =  0 , step =  300 , loss_val =  0.15026203\n",
            "epochs =  0 , step =  400 , loss_val =  0.18580014\n",
            "epochs =  0 , step =  500 , loss_val =  0.2961224\n",
            "epochs =  1 , step =  0 , loss_val =  0.081417456\n",
            "epochs =  1 , step =  100 , loss_val =  0.10114195\n",
            "epochs =  1 , step =  200 , loss_val =  0.10965617\n",
            "epochs =  1 , step =  300 , loss_val =  0.13416962\n",
            "epochs =  1 , step =  400 , loss_val =  0.330863\n",
            "epochs =  1 , step =  500 , loss_val =  0.21716824\n",
            "epochs =  2 , step =  0 , loss_val =  0.10523867\n",
            "epochs =  2 , step =  100 , loss_val =  0.20663685\n",
            "epochs =  2 , step =  200 , loss_val =  0.065839164\n",
            "epochs =  2 , step =  300 , loss_val =  0.039722156\n",
            "epochs =  2 , step =  400 , loss_val =  0.020096881\n",
            "epochs =  2 , step =  500 , loss_val =  0.06761499\n",
            "epochs =  3 , step =  0 , loss_val =  0.04773007\n",
            "epochs =  3 , step =  100 , loss_val =  0.06842265\n",
            "epochs =  3 , step =  200 , loss_val =  0.06709991\n",
            "epochs =  3 , step =  300 , loss_val =  0.08379847\n",
            "epochs =  3 , step =  400 , loss_val =  0.033959836\n",
            "epochs =  3 , step =  500 , loss_val =  0.029054713\n",
            "epochs =  4 , step =  0 , loss_val =  0.044944216\n",
            "epochs =  4 , step =  100 , loss_val =  0.06643286\n",
            "epochs =  4 , step =  200 , loss_val =  0.023500768\n",
            "epochs =  4 , step =  300 , loss_val =  0.025791634\n",
            "epochs =  4 , step =  400 , loss_val =  0.008094343\n",
            "epochs =  4 , step =  500 , loss_val =  0.05350206\n",
            "epochs =  5 , step =  0 , loss_val =  0.012956785\n",
            "epochs =  5 , step =  100 , loss_val =  0.021146458\n",
            "epochs =  5 , step =  200 , loss_val =  0.17821477\n",
            "epochs =  5 , step =  300 , loss_val =  0.0034122283\n",
            "epochs =  5 , step =  400 , loss_val =  0.05557458\n",
            "epochs =  5 , step =  500 , loss_val =  0.02853601\n",
            "epochs =  6 , step =  0 , loss_val =  0.077127635\n",
            "epochs =  6 , step =  100 , loss_val =  0.0052315025\n",
            "epochs =  6 , step =  200 , loss_val =  0.042081427\n",
            "epochs =  6 , step =  300 , loss_val =  0.011706195\n",
            "epochs =  6 , step =  400 , loss_val =  0.033035956\n",
            "epochs =  6 , step =  500 , loss_val =  0.0164074\n",
            "epochs =  7 , step =  0 , loss_val =  0.0104617905\n",
            "epochs =  7 , step =  100 , loss_val =  0.01569821\n",
            "epochs =  7 , step =  200 , loss_val =  0.018448487\n",
            "epochs =  7 , step =  300 , loss_val =  0.020440632\n",
            "epochs =  7 , step =  400 , loss_val =  0.009683699\n",
            "epochs =  7 , step =  500 , loss_val =  0.054666013\n",
            "epochs =  8 , step =  0 , loss_val =  0.010381631\n",
            "epochs =  8 , step =  100 , loss_val =  0.011799437\n",
            "epochs =  8 , step =  200 , loss_val =  0.010903442\n",
            "epochs =  8 , step =  300 , loss_val =  0.013653407\n",
            "epochs =  8 , step =  400 , loss_val =  0.03610279\n",
            "epochs =  8 , step =  500 , loss_val =  0.048104033\n",
            "epochs =  9 , step =  0 , loss_val =  0.09333897\n",
            "epochs =  9 , step =  100 , loss_val =  0.031225743\n",
            "epochs =  9 , step =  200 , loss_val =  0.013331857\n",
            "epochs =  9 , step =  300 , loss_val =  0.005505057\n",
            "epochs =  9 , step =  400 , loss_val =  0.080295935\n",
            "epochs =  9 , step =  500 , loss_val =  0.031822853\n",
            "epochs =  10 , step =  0 , loss_val =  0.0032458128\n",
            "epochs =  10 , step =  100 , loss_val =  0.045081474\n",
            "epochs =  10 , step =  200 , loss_val =  0.010701847\n",
            "epochs =  10 , step =  300 , loss_val =  0.019322563\n",
            "epochs =  10 , step =  400 , loss_val =  0.007424497\n",
            "epochs =  10 , step =  500 , loss_val =  0.009252181\n",
            "epochs =  11 , step =  0 , loss_val =  0.029383415\n",
            "epochs =  11 , step =  100 , loss_val =  0.0062249033\n",
            "epochs =  11 , step =  200 , loss_val =  0.02354377\n",
            "epochs =  11 , step =  300 , loss_val =  0.015526706\n",
            "epochs =  11 , step =  400 , loss_val =  0.007326256\n",
            "epochs =  11 , step =  500 , loss_val =  0.0044180155\n",
            "epochs =  12 , step =  0 , loss_val =  0.00069586775\n",
            "epochs =  12 , step =  100 , loss_val =  0.02189656\n",
            "epochs =  12 , step =  200 , loss_val =  0.013315445\n",
            "epochs =  12 , step =  300 , loss_val =  0.01906567\n",
            "epochs =  12 , step =  400 , loss_val =  0.013706091\n",
            "epochs =  12 , step =  500 , loss_val =  0.008320604\n",
            "epochs =  13 , step =  0 , loss_val =  0.0027768966\n",
            "epochs =  13 , step =  100 , loss_val =  0.007588167\n",
            "epochs =  13 , step =  200 , loss_val =  0.015135234\n",
            "epochs =  13 , step =  300 , loss_val =  0.024679715\n",
            "epochs =  13 , step =  400 , loss_val =  0.0036802369\n",
            "epochs =  13 , step =  500 , loss_val =  0.0021983841\n",
            "epochs =  14 , step =  0 , loss_val =  0.005496653\n",
            "epochs =  14 , step =  100 , loss_val =  0.0029677677\n",
            "epochs =  14 , step =  200 , loss_val =  0.0033068282\n",
            "epochs =  14 , step =  300 , loss_val =  0.00028169065\n",
            "epochs =  14 , step =  400 , loss_val =  0.0045045502\n",
            "epochs =  14 , step =  500 , loss_val =  0.015218142\n",
            "epochs =  15 , step =  0 , loss_val =  0.0021715877\n",
            "epochs =  15 , step =  100 , loss_val =  0.017981267\n",
            "epochs =  15 , step =  200 , loss_val =  0.0010633555\n",
            "epochs =  15 , step =  300 , loss_val =  0.0013065438\n",
            "epochs =  15 , step =  400 , loss_val =  0.0040216492\n",
            "epochs =  15 , step =  500 , loss_val =  0.0021379653\n",
            "epochs =  16 , step =  0 , loss_val =  0.0017341566\n",
            "epochs =  16 , step =  100 , loss_val =  0.0014083498\n",
            "epochs =  16 , step =  200 , loss_val =  0.0056434004\n",
            "epochs =  16 , step =  300 , loss_val =  0.0027825325\n",
            "epochs =  16 , step =  400 , loss_val =  0.0036905652\n",
            "epochs =  16 , step =  500 , loss_val =  0.000942111\n",
            "epochs =  17 , step =  0 , loss_val =  0.014356654\n",
            "epochs =  17 , step =  100 , loss_val =  0.0051410957\n",
            "epochs =  17 , step =  200 , loss_val =  0.0006994405\n",
            "epochs =  17 , step =  300 , loss_val =  0.000690726\n",
            "epochs =  17 , step =  400 , loss_val =  0.00011976991\n",
            "epochs =  17 , step =  500 , loss_val =  0.0014045754\n",
            "epochs =  18 , step =  0 , loss_val =  0.0009818227\n",
            "epochs =  18 , step =  100 , loss_val =  0.0024582825\n",
            "epochs =  18 , step =  200 , loss_val =  0.00044150947\n",
            "epochs =  18 , step =  300 , loss_val =  0.00021922449\n",
            "epochs =  18 , step =  400 , loss_val =  0.00032073783\n",
            "epochs =  18 , step =  500 , loss_val =  0.0060782456\n",
            "epochs =  19 , step =  0 , loss_val =  0.0041502384\n",
            "epochs =  19 , step =  100 , loss_val =  0.000109454406\n",
            "epochs =  19 , step =  200 , loss_val =  0.030447418\n",
            "epochs =  19 , step =  300 , loss_val =  0.0013102683\n",
            "epochs =  19 , step =  400 , loss_val =  8.402611e-05\n",
            "epochs =  19 , step =  500 , loss_val =  0.00044602563\n",
            "epochs =  20 , step =  0 , loss_val =  0.0022955977\n",
            "epochs =  20 , step =  100 , loss_val =  0.00015719075\n",
            "epochs =  20 , step =  200 , loss_val =  0.00025188294\n",
            "epochs =  20 , step =  300 , loss_val =  0.0061636437\n",
            "epochs =  20 , step =  400 , loss_val =  0.020587975\n",
            "epochs =  20 , step =  500 , loss_val =  0.0065628313\n",
            "epochs =  21 , step =  0 , loss_val =  0.0016473006\n",
            "epochs =  21 , step =  100 , loss_val =  0.00064071914\n",
            "epochs =  21 , step =  200 , loss_val =  0.0030389128\n",
            "epochs =  21 , step =  300 , loss_val =  0.00048661616\n",
            "epochs =  21 , step =  400 , loss_val =  0.0027119983\n",
            "epochs =  21 , step =  500 , loss_val =  0.0023139187\n",
            "epochs =  22 , step =  0 , loss_val =  0.0011120791\n",
            "epochs =  22 , step =  100 , loss_val =  0.0005750897\n",
            "epochs =  22 , step =  200 , loss_val =  0.0012042568\n",
            "epochs =  22 , step =  300 , loss_val =  0.000593825\n",
            "epochs =  22 , step =  400 , loss_val =  0.004615604\n",
            "epochs =  22 , step =  500 , loss_val =  0.0008501511\n",
            "epochs =  23 , step =  0 , loss_val =  0.0070411838\n",
            "epochs =  23 , step =  100 , loss_val =  0.0019282603\n",
            "epochs =  23 , step =  200 , loss_val =  0.00038022344\n",
            "epochs =  23 , step =  300 , loss_val =  6.276648e-05\n",
            "epochs =  23 , step =  400 , loss_val =  4.883599e-05\n",
            "epochs =  23 , step =  500 , loss_val =  0.0012440233\n",
            "epochs =  24 , step =  0 , loss_val =  0.00014815963\n",
            "epochs =  24 , step =  100 , loss_val =  0.0016477075\n",
            "epochs =  24 , step =  200 , loss_val =  0.006063762\n",
            "epochs =  24 , step =  300 , loss_val =  0.011245858\n",
            "epochs =  24 , step =  400 , loss_val =  0.0065245847\n",
            "epochs =  24 , step =  500 , loss_val =  0.0024266944\n",
            "epochs =  25 , step =  0 , loss_val =  0.0066843056\n",
            "epochs =  25 , step =  100 , loss_val =  0.00023381665\n",
            "epochs =  25 , step =  200 , loss_val =  2.029563e-05\n",
            "epochs =  25 , step =  300 , loss_val =  5.1416428e-05\n",
            "epochs =  25 , step =  400 , loss_val =  0.002049914\n",
            "epochs =  25 , step =  500 , loss_val =  0.0044832965\n",
            "epochs =  26 , step =  0 , loss_val =  0.025119187\n",
            "epochs =  26 , step =  100 , loss_val =  0.0012842761\n",
            "epochs =  26 , step =  200 , loss_val =  0.004482709\n",
            "epochs =  26 , step =  300 , loss_val =  8.234677e-05\n",
            "epochs =  26 , step =  400 , loss_val =  0.0019429448\n",
            "epochs =  26 , step =  500 , loss_val =  0.0010442255\n",
            "epochs =  27 , step =  0 , loss_val =  0.00027802694\n",
            "epochs =  27 , step =  100 , loss_val =  0.00043981447\n",
            "epochs =  27 , step =  200 , loss_val =  0.00026943805\n",
            "epochs =  27 , step =  300 , loss_val =  0.00039137193\n",
            "epochs =  27 , step =  400 , loss_val =  0.0005428944\n",
            "epochs =  27 , step =  500 , loss_val =  0.003323536\n",
            "epochs =  28 , step =  0 , loss_val =  3.5995847e-05\n",
            "epochs =  28 , step =  100 , loss_val =  0.00014268706\n",
            "epochs =  28 , step =  200 , loss_val =  0.0010547455\n",
            "epochs =  28 , step =  300 , loss_val =  0.0012209262\n",
            "epochs =  28 , step =  400 , loss_val =  0.00038357952\n",
            "epochs =  28 , step =  500 , loss_val =  0.0038848007\n",
            "epochs =  29 , step =  0 , loss_val =  0.013349539\n",
            "epochs =  29 , step =  100 , loss_val =  4.2850363e-05\n",
            "epochs =  29 , step =  200 , loss_val =  0.00022050444\n",
            "epochs =  29 , step =  300 , loss_val =  0.00044514873\n",
            "epochs =  29 , step =  400 , loss_val =  1.8834254e-06\n",
            "epochs =  29 , step =  500 , loss_val =  8.752793e-05\n",
            "\n",
            "elapsed time =  0:40:36.278179\n",
            "\n",
            "Accuracy =  0.9905\n",
            "type(accuracy_val) =  <class 'numpy.float32'> , type(predicted_list_val) =  <class 'numpy.ndarray'> , type(index_label) =  <class 'numpy.ndarray'>\n",
            "index_label.shape =  (10000,)\n",
            "length of index_label_list =  10000\n",
            "false label count =  95\n",
            "\n",
            "length of index_label_false_list 95\n"
          ],
          "name": "stdout"
        }
      ]
    },
    {
      "cell_type": "code",
      "metadata": {
        "id": "-czriG10ucdp",
        "colab_type": "code",
        "colab": {}
      },
      "source": [
        ""
      ],
      "execution_count": 0,
      "outputs": []
    }
  ]
}