{
  "nbformat": 4,
  "nbformat_minor": 0,
  "metadata": {
    "kernelspec": {
      "display_name": "Python 3",
      "language": "python",
      "name": "python3"
    },
    "language_info": {
      "codemirror_mode": {
        "name": "ipython",
        "version": 3
      },
      "file_extension": ".py",
      "mimetype": "text/x-python",
      "name": "python",
      "nbconvert_exporter": "python",
      "pygments_lexer": "ipython3",
      "version": "3.7.4"
    },
    "colab": {
      "name": "CNN_example_3_1(first conv layer 4x4, second conv layer 6x6 filter num = 32,32)",
      "provenance": [],
      "include_colab_link": true
    }
  },
  "cells": [
    {
      "cell_type": "markdown",
      "metadata": {
        "id": "view-in-github",
        "colab_type": "text"
      },
      "source": [
        "<a href=\"https://colab.research.google.com/github/Hongjieun123/deeplearning-project/blob/master/CNN_example_3_1(first_conv_layer_4x4%2C_second_conv_layer_6x6_filter_num_%3D_32%2C32).ipynb\" target=\"_parent\"><img src=\"https://colab.research.google.com/assets/colab-badge.svg\" alt=\"Open In Colab\"/></a>"
      ]
    },
    {
      "cell_type": "code",
      "metadata": {
        "id": "zm7Br1h6uu1X",
        "colab_type": "code",
        "outputId": "a1209801-fa05-4919-feca-0515f93279d8",
        "colab": {
          "base_uri": "https://localhost:8080/",
          "height": 36
        }
      },
      "source": [
        "# Colab에서 tensorflow 1.x 실행\n",
        "%tensorflow_version 1.x"
      ],
      "execution_count": 1,
      "outputs": [
        {
          "output_type": "stream",
          "text": [
            "TensorFlow 1.x selected.\n"
          ],
          "name": "stdout"
        }
      ]
    },
    {
      "cell_type": "code",
      "metadata": {
        "id": "xTN7ue5lucbw",
        "colab_type": "code",
        "outputId": "9f549010-acc2-43af-ebc9-490f5ad671f1",
        "colab": {
          "base_uri": "https://localhost:8080/",
          "height": 709
        }
      },
      "source": [
        "import tensorflow as tf\n",
        "from tensorflow.examples.tutorials.mnist import input_data\n",
        "import numpy as np\n",
        "from datetime import datetime\n",
        "\n",
        "mnist = input_data.read_data_sets('MNIST_data/', one_hot=True)\n",
        "\n",
        "print('\\n', mnist.train.num_examples, mnist.test.num_examples, mnist.validation.num_examples)\n",
        "\n",
        "print('\\ntrain image shape = ', np.shape(mnist.train.images))\n",
        "print('train label shape = ', np.shape(mnist.train.labels))\n",
        "print('test image shape = ', np.shape(mnist.test.images))\n",
        "print('test label shape = ', np.shape(mnist.test.labels))"
      ],
      "execution_count": 2,
      "outputs": [
        {
          "output_type": "stream",
          "text": [
            "WARNING:tensorflow:From <ipython-input-2-b4762e5f4068>:6: read_data_sets (from tensorflow.contrib.learn.python.learn.datasets.mnist) is deprecated and will be removed in a future version.\n",
            "Instructions for updating:\n",
            "Please use alternatives such as official/mnist/dataset.py from tensorflow/models.\n",
            "WARNING:tensorflow:From /tensorflow-1.15.2/python3.6/tensorflow_core/contrib/learn/python/learn/datasets/mnist.py:260: maybe_download (from tensorflow.contrib.learn.python.learn.datasets.base) is deprecated and will be removed in a future version.\n",
            "Instructions for updating:\n",
            "Please write your own downloading logic.\n",
            "WARNING:tensorflow:From /tensorflow-1.15.2/python3.6/tensorflow_core/contrib/learn/python/learn/datasets/base.py:252: _internal_retry.<locals>.wrap.<locals>.wrapped_fn (from tensorflow.contrib.learn.python.learn.datasets.base) is deprecated and will be removed in a future version.\n",
            "Instructions for updating:\n",
            "Please use urllib or similar directly.\n",
            "Successfully downloaded train-images-idx3-ubyte.gz 9912422 bytes.\n",
            "WARNING:tensorflow:From /tensorflow-1.15.2/python3.6/tensorflow_core/contrib/learn/python/learn/datasets/mnist.py:262: extract_images (from tensorflow.contrib.learn.python.learn.datasets.mnist) is deprecated and will be removed in a future version.\n",
            "Instructions for updating:\n",
            "Please use tf.data to implement this functionality.\n",
            "Extracting MNIST_data/train-images-idx3-ubyte.gz\n",
            "Successfully downloaded train-labels-idx1-ubyte.gz 28881 bytes.\n",
            "WARNING:tensorflow:From /tensorflow-1.15.2/python3.6/tensorflow_core/contrib/learn/python/learn/datasets/mnist.py:267: extract_labels (from tensorflow.contrib.learn.python.learn.datasets.mnist) is deprecated and will be removed in a future version.\n",
            "Instructions for updating:\n",
            "Please use tf.data to implement this functionality.\n",
            "Extracting MNIST_data/train-labels-idx1-ubyte.gz\n",
            "WARNING:tensorflow:From /tensorflow-1.15.2/python3.6/tensorflow_core/contrib/learn/python/learn/datasets/mnist.py:110: dense_to_one_hot (from tensorflow.contrib.learn.python.learn.datasets.mnist) is deprecated and will be removed in a future version.\n",
            "Instructions for updating:\n",
            "Please use tf.one_hot on tensors.\n",
            "Successfully downloaded t10k-images-idx3-ubyte.gz 1648877 bytes.\n",
            "Extracting MNIST_data/t10k-images-idx3-ubyte.gz\n",
            "Successfully downloaded t10k-labels-idx1-ubyte.gz 4542 bytes.\n",
            "Extracting MNIST_data/t10k-labels-idx1-ubyte.gz\n",
            "WARNING:tensorflow:From /tensorflow-1.15.2/python3.6/tensorflow_core/contrib/learn/python/learn/datasets/mnist.py:290: DataSet.__init__ (from tensorflow.contrib.learn.python.learn.datasets.mnist) is deprecated and will be removed in a future version.\n",
            "Instructions for updating:\n",
            "Please use alternatives such as official/mnist/dataset.py from tensorflow/models.\n",
            "\n",
            " 55000 10000 5000\n",
            "\n",
            "train image shape =  (55000, 784)\n",
            "train label shape =  (55000, 10)\n",
            "test image shape =  (10000, 784)\n",
            "test label shape =  (10000, 10)\n"
          ],
          "name": "stdout"
        }
      ]
    },
    {
      "cell_type": "code",
      "metadata": {
        "id": "gSW7hSsWuccP",
        "colab_type": "code",
        "colab": {}
      },
      "source": [
        "learning_rate = 0.001\n",
        "epochs = 30\n",
        "batch_size = 100"
      ],
      "execution_count": 0,
      "outputs": []
    },
    {
      "cell_type": "code",
      "metadata": {
        "id": "XWUQ3TD7ucca",
        "colab_type": "code",
        "colab": {}
      },
      "source": [
        "X = tf.placeholder(tf.float32, [None, 784])\n",
        "\n",
        "A1 = X_img = tf.reshape(X,[-1, 28, 28, 1])\n",
        "\n",
        "T = tf.placeholder(tf.float32, [None, 10])  # image 28 X 28 X 1 (black/white)"
      ],
      "execution_count": 0,
      "outputs": []
    },
    {
      "cell_type": "code",
      "metadata": {
        "id": "e81mstOCucch",
        "colab_type": "code",
        "colab": {}
      },
      "source": [
        "# 1번째 컨볼루션 층\n",
        "# 4X4 크기를 가지는 32개의 필터를 적용\n",
        "\n",
        "F2 = tf.Variable(tf.random_normal([4, 4, 1, 32], stddev=0.01))  \n",
        "b2 = tf.Variable(tf.constant(0.1, shape=[32]))   \n",
        "\n",
        "# 1번째 컨볼루션 연산을 통해 28 X 28 X1  => 28 X 28 X 32\n",
        "C2 = tf.nn.conv2d(A1, F2, strides=[1, 1, 1, 1], padding='SAME')\n",
        "\n",
        "# relu\n",
        "Z2 = tf.nn.relu(C2+b2)\n",
        "\n",
        "# 1번째 max pooling을 통해 28 X 28 X 32  => 14 X 14 X 32\n",
        "A2 = P2 = tf.nn.max_pool(Z2, ksize=[1, 2, 2, 1], strides=[1, 2, 2, 1], padding='SAME')"
      ],
      "execution_count": 0,
      "outputs": []
    },
    {
      "cell_type": "code",
      "metadata": {
        "id": "2fRNliDcucco",
        "colab_type": "code",
        "colab": {}
      },
      "source": [
        "# 2번째 컨볼루션 층\n",
        "# 6X6 크기를 가지는 32개의 필터를 적용\n",
        "\n",
        "F3 = tf.Variable(tf.random_normal([6, 6, 32, 32], stddev=0.01))  \n",
        "b3 = tf.Variable(tf.constant(0.1, shape=[32]))   \n",
        "\n",
        "# 2번째 컨볼루션 연산을 통해 14 X 14 X32  => 14 X 14 X 32\n",
        "C3 = tf.nn.conv2d(A2, F3, strides=[1, 1, 1, 1], padding='SAME')\n",
        "\n",
        "# relu\n",
        "Z3= tf.nn.relu(C3+b3)\n",
        "\n",
        "# 2번째 max pooling을 통해 14 X 14 X 32  => 7 X 7 X 32\n",
        "A3= P3 = tf.nn.max_pool(Z3, ksize=[1, 2, 2, 1], strides=[1, 2, 2, 1], padding='SAME')"
      ],
      "execution_count": 0,
      "outputs": []
    },
    {
      "cell_type": "code",
      "metadata": {
        "id": "uc-OxRiduccy",
        "colab_type": "code",
        "colab": {}
      },
      "source": [
        "# 7X7 크기를 가진 32개의 activation map을 flatten 시킴\n",
        "A3_flat = P3_flat = tf.reshape(A3, [-1, 32*7*7])"
      ],
      "execution_count": 0,
      "outputs": []
    },
    {
      "cell_type": "code",
      "metadata": {
        "id": "cfvy6ZXYucc8",
        "colab_type": "code",
        "colab": {}
      },
      "source": [
        "# 출력층\n",
        "W4 = tf.Variable(tf.random_normal([32*7*7, 10], stddev=0.01))\n",
        "b4 = tf.Variable(tf.random_normal([10]))\n",
        "\n",
        "# 출력층 선형회귀  값 Z4, 즉 softmax 에 들어가는 입력 값\n",
        "Z4 = logits = tf.matmul(A3_flat, W4) + b4    # 선형회귀 값 Z4\n",
        "\n",
        "y = A4 = tf.nn.softmax(Z4)"
      ],
      "execution_count": 0,
      "outputs": []
    },
    {
      "cell_type": "code",
      "metadata": {
        "id": "vbPC_r_QucdP",
        "colab_type": "code",
        "colab": {}
      },
      "source": [
        "loss = tf.reduce_mean( tf.nn.softmax_cross_entropy_with_logits_v2(logits=Z4, labels=T) )\n",
        "\n",
        "optimizer = tf.train.AdamOptimizer(learning_rate)\n",
        "\n",
        "train = optimizer.minimize(loss)"
      ],
      "execution_count": 0,
      "outputs": []
    },
    {
      "cell_type": "code",
      "metadata": {
        "id": "Ly_6cqGrucdU",
        "colab_type": "code",
        "colab": {}
      },
      "source": [
        "# batch_size X 10 데이터에 대해 argmax를 통해 행단위로 비교함\n",
        "predicted_val = tf.equal( tf.argmax(A4, 1), tf.argmax(T, 1) )\n",
        "\n",
        "# batch_size X 10 의 True, False 를 1 또는 0 으로 변환\n",
        "accuracy = tf.reduce_mean(tf.cast(predicted_val, dtype=tf.float32))\n",
        "\n",
        "# index list 출력\n",
        "accuracy_index = tf.cast(predicted_val, dtype=tf.float32)\n",
        "\n",
        "# 예측값 처리\n",
        "predicted_list = tf.argmax(A4, 1)"
      ],
      "execution_count": 0,
      "outputs": []
    },
    {
      "cell_type": "code",
      "metadata": {
        "id": "vgxuwi4Fucdb",
        "colab_type": "code",
        "outputId": "34673c44-ae3b-4d43-8ed9-71dbac84aba9",
        "colab": {
          "base_uri": "https://localhost:8080/",
          "height": 1000
        }
      },
      "source": [
        "index_label_prediction_list = []\n",
        "\n",
        "with  tf.Session()  as sess:\n",
        "    \n",
        "    sess.run(tf.global_variables_initializer())  # 변수 노드(tf.Variable) 초기화\n",
        "    \n",
        "    start_time = datetime.now()\n",
        "    \n",
        "    for i in range(epochs):    # 30 번 반복수행\n",
        "        \n",
        "        total_batch = int(mnist.train.num_examples / batch_size)  # 55,000 / 100\n",
        "\n",
        "        for step in range(total_batch):\n",
        "            \n",
        "            batch_x_data, batch_t_data = mnist.train.next_batch(batch_size)\n",
        "      \n",
        "            loss_val, _ = sess.run([loss, train], feed_dict={X: batch_x_data, T: batch_t_data})    \n",
        "        \n",
        "            if step % 100 == 0:\n",
        "                print(\"epochs = \", i, \", step = \", step, \", loss_val = \", loss_val)             \n",
        "    \n",
        "    end_time = datetime.now() \n",
        "    \n",
        "    print(\"\\nelapsed time = \", end_time - start_time) \n",
        "    \n",
        "    # Accuracy 확인\n",
        "    test_x_data = mnist.test.images    # 10000 X 784\n",
        "    test_t_data = mnist.test.labels    # 10000 X 10\n",
        "    \n",
        "    accuracy_val, predicted_list_val, index_label = sess.run([accuracy, predicted_list, accuracy_index], feed_dict={X: test_x_data, T: test_t_data})\n",
        "    \n",
        "    print(\"\\nAccuracy = \", accuracy_val)\n",
        "    print(\"type(accuracy_val) = \", type(accuracy_val), ', type(predicted_list_val) = ', type(predicted_list_val), ', type(index_label) = ', type(index_label))\n",
        "    print(\"index_label.shape = \", index_label.shape)\n",
        "    \n",
        "    index_label_list = list(index_label)\n",
        "    print(\"length of index_label_list = \", len(index_label_list))\n",
        "    print(\"false label count = \", index_label_list.count([0]))\n",
        "        \n",
        "    \n",
        "    temp_list = [] \n",
        "    \n",
        "    for index in range(len(index_label)):\n",
        "        \n",
        "        if index_label[index] == 0:\n",
        "            \n",
        "            temp_list.append(index)\n",
        "            temp_list.append(np.argmax(test_t_data[index]))  # one-hot encoding 이므로 argmax 로 정답 추출\n",
        "            temp_list.append(predicted_list_val[index])\n",
        "            \n",
        "            index_label_prediction_list.append(temp_list)\n",
        "            \n",
        "            temp_list = []\n",
        "            \n",
        "    print(\"\\nlength of index_label_false_list\", len(index_label_prediction_list))"
      ],
      "execution_count": 11,
      "outputs": [
        {
          "output_type": "stream",
          "text": [
            "epochs =  0 , step =  0 , loss_val =  2.6321197\n",
            "epochs =  0 , step =  100 , loss_val =  0.87038505\n",
            "epochs =  0 , step =  200 , loss_val =  0.36740074\n",
            "epochs =  0 , step =  300 , loss_val =  0.27909118\n",
            "epochs =  0 , step =  400 , loss_val =  0.09218483\n",
            "epochs =  0 , step =  500 , loss_val =  0.10978471\n",
            "epochs =  1 , step =  0 , loss_val =  0.06947664\n",
            "epochs =  1 , step =  100 , loss_val =  0.10470724\n",
            "epochs =  1 , step =  200 , loss_val =  0.09423581\n",
            "epochs =  1 , step =  300 , loss_val =  0.1627098\n",
            "epochs =  1 , step =  400 , loss_val =  0.13952474\n",
            "epochs =  1 , step =  500 , loss_val =  0.038297653\n",
            "epochs =  2 , step =  0 , loss_val =  0.13693044\n",
            "epochs =  2 , step =  100 , loss_val =  0.015680984\n",
            "epochs =  2 , step =  200 , loss_val =  0.030587036\n",
            "epochs =  2 , step =  300 , loss_val =  0.09186049\n",
            "epochs =  2 , step =  400 , loss_val =  0.023590136\n",
            "epochs =  2 , step =  500 , loss_val =  0.035830542\n",
            "epochs =  3 , step =  0 , loss_val =  0.024594074\n",
            "epochs =  3 , step =  100 , loss_val =  0.06663025\n",
            "epochs =  3 , step =  200 , loss_val =  0.032806724\n",
            "epochs =  3 , step =  300 , loss_val =  0.08361153\n",
            "epochs =  3 , step =  400 , loss_val =  0.033129286\n",
            "epochs =  3 , step =  500 , loss_val =  0.03216642\n",
            "epochs =  4 , step =  0 , loss_val =  0.024344945\n",
            "epochs =  4 , step =  100 , loss_val =  0.08473311\n",
            "epochs =  4 , step =  200 , loss_val =  0.07794994\n",
            "epochs =  4 , step =  300 , loss_val =  0.039313022\n",
            "epochs =  4 , step =  400 , loss_val =  0.017718635\n",
            "epochs =  4 , step =  500 , loss_val =  0.015158526\n",
            "epochs =  5 , step =  0 , loss_val =  0.104674704\n",
            "epochs =  5 , step =  100 , loss_val =  0.009238256\n",
            "epochs =  5 , step =  200 , loss_val =  0.016906988\n",
            "epochs =  5 , step =  300 , loss_val =  0.015406704\n",
            "epochs =  5 , step =  400 , loss_val =  0.0069386\n",
            "epochs =  5 , step =  500 , loss_val =  0.06563492\n",
            "epochs =  6 , step =  0 , loss_val =  0.03940081\n",
            "epochs =  6 , step =  100 , loss_val =  0.022410523\n",
            "epochs =  6 , step =  200 , loss_val =  0.050493363\n",
            "epochs =  6 , step =  300 , loss_val =  0.006939048\n",
            "epochs =  6 , step =  400 , loss_val =  0.008923005\n",
            "epochs =  6 , step =  500 , loss_val =  0.21957883\n",
            "epochs =  7 , step =  0 , loss_val =  0.07181008\n",
            "epochs =  7 , step =  100 , loss_val =  0.005004236\n",
            "epochs =  7 , step =  200 , loss_val =  0.023136623\n",
            "epochs =  7 , step =  300 , loss_val =  0.0031474307\n",
            "epochs =  7 , step =  400 , loss_val =  0.023197358\n",
            "epochs =  7 , step =  500 , loss_val =  0.0016237401\n",
            "epochs =  8 , step =  0 , loss_val =  0.033798397\n",
            "epochs =  8 , step =  100 , loss_val =  0.0060407696\n",
            "epochs =  8 , step =  200 , loss_val =  0.008912819\n",
            "epochs =  8 , step =  300 , loss_val =  0.0036020386\n",
            "epochs =  8 , step =  400 , loss_val =  0.028280057\n",
            "epochs =  8 , step =  500 , loss_val =  0.0060987147\n",
            "epochs =  9 , step =  0 , loss_val =  0.0016158121\n",
            "epochs =  9 , step =  100 , loss_val =  0.002755629\n",
            "epochs =  9 , step =  200 , loss_val =  0.03350954\n",
            "epochs =  9 , step =  300 , loss_val =  0.0005657463\n",
            "epochs =  9 , step =  400 , loss_val =  0.0027090576\n",
            "epochs =  9 , step =  500 , loss_val =  0.0029256858\n",
            "epochs =  10 , step =  0 , loss_val =  0.016188066\n",
            "epochs =  10 , step =  100 , loss_val =  0.00831997\n",
            "epochs =  10 , step =  200 , loss_val =  0.0018265349\n",
            "epochs =  10 , step =  300 , loss_val =  0.0042479993\n",
            "epochs =  10 , step =  400 , loss_val =  0.028273504\n",
            "epochs =  10 , step =  500 , loss_val =  0.008055939\n",
            "epochs =  11 , step =  0 , loss_val =  0.0017115521\n",
            "epochs =  11 , step =  100 , loss_val =  0.003344105\n",
            "epochs =  11 , step =  200 , loss_val =  0.0018648298\n",
            "epochs =  11 , step =  300 , loss_val =  0.0034870326\n",
            "epochs =  11 , step =  400 , loss_val =  0.011665377\n",
            "epochs =  11 , step =  500 , loss_val =  0.0017125809\n",
            "epochs =  12 , step =  0 , loss_val =  0.003352966\n",
            "epochs =  12 , step =  100 , loss_val =  0.013898088\n",
            "epochs =  12 , step =  200 , loss_val =  0.004179041\n",
            "epochs =  12 , step =  300 , loss_val =  0.0028904101\n",
            "epochs =  12 , step =  400 , loss_val =  0.011760303\n",
            "epochs =  12 , step =  500 , loss_val =  0.03865589\n",
            "epochs =  13 , step =  0 , loss_val =  0.0011979077\n",
            "epochs =  13 , step =  100 , loss_val =  0.0001888407\n",
            "epochs =  13 , step =  200 , loss_val =  0.013541299\n",
            "epochs =  13 , step =  300 , loss_val =  0.0013849586\n",
            "epochs =  13 , step =  400 , loss_val =  0.0011058208\n",
            "epochs =  13 , step =  500 , loss_val =  0.003473819\n",
            "epochs =  14 , step =  0 , loss_val =  0.00032048873\n",
            "epochs =  14 , step =  100 , loss_val =  0.004459841\n",
            "epochs =  14 , step =  200 , loss_val =  0.009744743\n",
            "epochs =  14 , step =  300 , loss_val =  0.018479485\n",
            "epochs =  14 , step =  400 , loss_val =  0.009915681\n",
            "epochs =  14 , step =  500 , loss_val =  0.00048058172\n",
            "epochs =  15 , step =  0 , loss_val =  0.0022478192\n",
            "epochs =  15 , step =  100 , loss_val =  0.022864077\n",
            "epochs =  15 , step =  200 , loss_val =  0.0013272144\n",
            "epochs =  15 , step =  300 , loss_val =  0.00014584954\n",
            "epochs =  15 , step =  400 , loss_val =  0.0037045209\n",
            "epochs =  15 , step =  500 , loss_val =  0.0071234913\n",
            "epochs =  16 , step =  0 , loss_val =  0.0016557323\n",
            "epochs =  16 , step =  100 , loss_val =  0.010143789\n",
            "epochs =  16 , step =  200 , loss_val =  0.0037472176\n",
            "epochs =  16 , step =  300 , loss_val =  0.028066866\n",
            "epochs =  16 , step =  400 , loss_val =  0.00018230033\n",
            "epochs =  16 , step =  500 , loss_val =  0.009510466\n",
            "epochs =  17 , step =  0 , loss_val =  0.00087792164\n",
            "epochs =  17 , step =  100 , loss_val =  0.001910775\n",
            "epochs =  17 , step =  200 , loss_val =  0.0007365127\n",
            "epochs =  17 , step =  300 , loss_val =  0.0039393245\n",
            "epochs =  17 , step =  400 , loss_val =  0.004519838\n",
            "epochs =  17 , step =  500 , loss_val =  0.009788954\n",
            "epochs =  18 , step =  0 , loss_val =  0.0007933944\n",
            "epochs =  18 , step =  100 , loss_val =  0.002316692\n",
            "epochs =  18 , step =  200 , loss_val =  0.001037192\n",
            "epochs =  18 , step =  300 , loss_val =  0.014371876\n",
            "epochs =  18 , step =  400 , loss_val =  0.03292543\n",
            "epochs =  18 , step =  500 , loss_val =  0.00024126463\n",
            "epochs =  19 , step =  0 , loss_val =  0.0147735635\n",
            "epochs =  19 , step =  100 , loss_val =  3.6153473e-05\n",
            "epochs =  19 , step =  200 , loss_val =  0.001317309\n",
            "epochs =  19 , step =  300 , loss_val =  0.000437649\n",
            "epochs =  19 , step =  400 , loss_val =  3.0364525e-05\n",
            "epochs =  19 , step =  500 , loss_val =  0.0006373527\n",
            "epochs =  20 , step =  0 , loss_val =  0.00045265534\n",
            "epochs =  20 , step =  100 , loss_val =  0.01112261\n",
            "epochs =  20 , step =  200 , loss_val =  0.0167112\n",
            "epochs =  20 , step =  300 , loss_val =  0.00019416978\n",
            "epochs =  20 , step =  400 , loss_val =  6.649659e-05\n",
            "epochs =  20 , step =  500 , loss_val =  0.00031066698\n",
            "epochs =  21 , step =  0 , loss_val =  0.0036092103\n",
            "epochs =  21 , step =  100 , loss_val =  0.00083693856\n",
            "epochs =  21 , step =  200 , loss_val =  0.0002691348\n",
            "epochs =  21 , step =  300 , loss_val =  0.014741226\n",
            "epochs =  21 , step =  400 , loss_val =  0.0020377205\n",
            "epochs =  21 , step =  500 , loss_val =  0.0003301426\n",
            "epochs =  22 , step =  0 , loss_val =  0.003064273\n",
            "epochs =  22 , step =  100 , loss_val =  0.0001534589\n",
            "epochs =  22 , step =  200 , loss_val =  0.00033704835\n",
            "epochs =  22 , step =  300 , loss_val =  2.6872067e-05\n",
            "epochs =  22 , step =  400 , loss_val =  0.0020150158\n",
            "epochs =  22 , step =  500 , loss_val =  6.119016e-05\n",
            "epochs =  23 , step =  0 , loss_val =  0.0023526712\n",
            "epochs =  23 , step =  100 , loss_val =  0.0002731148\n",
            "epochs =  23 , step =  200 , loss_val =  8.516327e-05\n",
            "epochs =  23 , step =  300 , loss_val =  0.0001558378\n",
            "epochs =  23 , step =  400 , loss_val =  3.9829607e-05\n",
            "epochs =  23 , step =  500 , loss_val =  0.0009727285\n",
            "epochs =  24 , step =  0 , loss_val =  0.00037754636\n",
            "epochs =  24 , step =  100 , loss_val =  0.00015989982\n",
            "epochs =  24 , step =  200 , loss_val =  0.00015877273\n",
            "epochs =  24 , step =  300 , loss_val =  0.0003620486\n",
            "epochs =  24 , step =  400 , loss_val =  0.0028540452\n",
            "epochs =  24 , step =  500 , loss_val =  0.017923512\n",
            "epochs =  25 , step =  0 , loss_val =  0.02289604\n",
            "epochs =  25 , step =  100 , loss_val =  0.0023266373\n",
            "epochs =  25 , step =  200 , loss_val =  0.0008272681\n",
            "epochs =  25 , step =  300 , loss_val =  0.0002444812\n",
            "epochs =  25 , step =  400 , loss_val =  0.0009062478\n",
            "epochs =  25 , step =  500 , loss_val =  0.0024167302\n",
            "epochs =  26 , step =  0 , loss_val =  4.0349736e-05\n",
            "epochs =  26 , step =  100 , loss_val =  0.00012989859\n",
            "epochs =  26 , step =  200 , loss_val =  0.0009164752\n",
            "epochs =  26 , step =  300 , loss_val =  6.234593e-05\n",
            "epochs =  26 , step =  400 , loss_val =  0.0032800836\n",
            "epochs =  26 , step =  500 , loss_val =  0.00054925313\n",
            "epochs =  27 , step =  0 , loss_val =  0.000122963\n",
            "epochs =  27 , step =  100 , loss_val =  0.0032164238\n",
            "epochs =  27 , step =  200 , loss_val =  2.0189837e-05\n",
            "epochs =  27 , step =  300 , loss_val =  7.94928e-05\n",
            "epochs =  27 , step =  400 , loss_val =  6.2289684e-05\n",
            "epochs =  27 , step =  500 , loss_val =  3.665488e-05\n",
            "epochs =  28 , step =  0 , loss_val =  6.0413004e-05\n",
            "epochs =  28 , step =  100 , loss_val =  0.0005278282\n",
            "epochs =  28 , step =  200 , loss_val =  0.0011450369\n",
            "epochs =  28 , step =  300 , loss_val =  0.0019593742\n",
            "epochs =  28 , step =  400 , loss_val =  0.0006148829\n",
            "epochs =  28 , step =  500 , loss_val =  0.009064432\n",
            "epochs =  29 , step =  0 , loss_val =  1.8624954e-05\n",
            "epochs =  29 , step =  100 , loss_val =  0.00021586374\n",
            "epochs =  29 , step =  200 , loss_val =  0.00012490884\n",
            "epochs =  29 , step =  300 , loss_val =  2.2661307e-06\n",
            "epochs =  29 , step =  400 , loss_val =  0.0027666925\n",
            "epochs =  29 , step =  500 , loss_val =  0.00025765176\n",
            "\n",
            "elapsed time =  0:51:33.608049\n",
            "\n",
            "Accuracy =  0.9901\n",
            "type(accuracy_val) =  <class 'numpy.float32'> , type(predicted_list_val) =  <class 'numpy.ndarray'> , type(index_label) =  <class 'numpy.ndarray'>\n",
            "index_label.shape =  (10000,)\n",
            "length of index_label_list =  10000\n",
            "false label count =  99\n",
            "\n",
            "length of index_label_false_list 99\n"
          ],
          "name": "stdout"
        }
      ]
    },
    {
      "cell_type": "code",
      "metadata": {
        "id": "-czriG10ucdp",
        "colab_type": "code",
        "colab": {}
      },
      "source": [
        ""
      ],
      "execution_count": 0,
      "outputs": []
    }
  ]
}