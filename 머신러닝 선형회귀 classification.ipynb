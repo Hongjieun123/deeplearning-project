{
 "cells": [
  {
   "cell_type": "code",
   "execution_count": 1,
   "metadata": {},
   "outputs": [],
   "source": [
    "import numpy as np\n",
    "np.random.seed(0)\n",
    "# 수치미분함수\n",
    "\n",
    "def numerical_derivative(f, x):\n",
    "    delta_x = 1e-4 # 0.0001\n",
    "    grad = np.zeros_like(x)\n",
    "    \n",
    "    it = np.nditer(x, flags=['multi_index'], op_flags=['readwrite'])\n",
    "    \n",
    "    while not it.finished:\n",
    "        idx = it.multi_index        \n",
    "        tmp_val = x[idx]\n",
    "        x[idx] = float(tmp_val) + delta_x\n",
    "        fx1 = f(x) # f(x+delta_x)\n",
    "        \n",
    "        x[idx] = tmp_val - delta_x \n",
    "        fx2 = f(x) # f(x-delta_x)\n",
    "        grad[idx] = (fx1 - fx2) / (2*delta_x)\n",
    "        \n",
    "        x[idx] = tmp_val \n",
    "        it.iternext()   \n",
    "        \n",
    "    return grad"
   ]
  },
  {
   "cell_type": "code",
   "execution_count": 2,
   "metadata": {},
   "outputs": [
    {
     "name": "stdout",
     "output_type": "stream",
     "text": [
      "(1, 1)\n"
     ]
    }
   ],
   "source": [
    "x_data=np.array([2.0,4.0,6.0,8.0,10.0,12.0,14.0,16.0,18.0,20.0]).reshape(10,1)\n",
    "t_data=np.array([0,0,0,0,0,0,1,1,1,1]).reshape(10,1)\n",
    "\n",
    "\n",
    "W=np.random.rand(1,1)\n",
    "b=np.random.rand(1)\n",
    "print(W.shape)"
   ]
  },
  {
   "cell_type": "code",
   "execution_count": 3,
   "metadata": {},
   "outputs": [],
   "source": [
    "def sigmoid(x):\n",
    "    return 1/(1+np.exp(-x))\n",
    "\n",
    "def loss_func(x,t):\n",
    "    delta=1e-7\n",
    "    z=np.dot(x,W)+b\n",
    "    y=sigmoid(z)\n",
    "    \n",
    "    return -np.sum(t*np.log(y+delta)+(1-t)*np.log(1-y+delta))\n",
    "\n",
    "def loss_val(x,t):\n",
    "    delta=1e-7\n",
    "    z=np.dot(x,W)+b\n",
    "    y=sigmoid(z)\n",
    "    t=t_data\n",
    "    return -np.sum(t*np.log(y+delta)+(1-t)*np.log(1-y+delta))\n",
    "\n",
    "def predict(x):\n",
    "    z=np.dot(x,W)+b\n",
    "    y=sigmoid(z)\n",
    "    \n",
    "    if y>0.5:\n",
    "        result= 1\n",
    "    elif y<0.5:\n",
    "        result= 0\n",
    "        \n",
    "    return y,result"
   ]
  },
  {
   "cell_type": "code",
   "execution_count": 4,
   "metadata": {},
   "outputs": [
    {
     "name": "stdout",
     "output_type": "stream",
     "text": [
      "initial loss value =  27.572348887805205 initial W =  [[0.5488135]] \n",
      " initial b =  [0.71518937]\n",
      "step =  0  ,loss value =  11.083107627560512  ,W =  [[0.13559473]]  ,b =  [0.66725113]\n",
      "step =  400  ,loss value =  3.156419728524534  ,W =  [[0.43479497]]  ,b =  [-4.12796043]\n",
      "step =  800  ,loss value =  1.7816202733459738  ,W =  [[0.45388971]]  ,b =  [-5.64809014]\n",
      "step =  1200  ,loss value =  1.5167150641238354  ,W =  [[0.53110549]]  ,b =  [-6.67624962]\n",
      "step =  1600  ,loss value =  1.3516127254393084  ,W =  [[0.59229273]]  ,b =  [-7.48875812]\n",
      "step =  2000  ,loss value =  1.2353579739776552  ,W =  [[0.64376342]]  ,b =  [-8.17074766]\n",
      "step =  2400  ,loss value =  1.147331406234794  ,W =  [[0.68863344]]  ,b =  [-8.76422344]\n",
      "step =  2800  ,loss value =  1.0773907388791537  ,W =  [[0.72868691]]  ,b =  [-9.29321595]\n",
      "step =  3200  ,loss value =  1.0198850244146924  ,W =  [[0.76504839]]  ,b =  [-9.77285578]\n",
      "step =  3600  ,loss value =  0.9713796242969209  ,W =  [[0.79847621]]  ,b =  [-10.21333468]\n",
      "step =  4000  ,loss value =  0.9296482744590486  ,W =  [[0.82950806]]  ,b =  [-10.62187089]\n",
      "step =  4400  ,loss value =  0.8931746198612044  ,W =  [[0.85854027]]  ,b =  [-11.00377897]\n",
      "step =  4800  ,loss value =  0.8608843309798274  ,W =  [[0.8858741]]  ,b =  [-11.36309477]\n",
      "step =  5200  ,loss value =  0.8319914316748277  ,W =  [[0.91174441]]  ,b =  [-11.70296144]\n",
      "step =  5600  ,loss value =  0.8059053777154562  ,W =  [[0.93633819]]  ,b =  [-12.02587888]\n",
      "step =  6000  ,loss value =  0.7821723746677494  ,W =  [[0.95980693]]  ,b =  [-12.33387091]\n",
      "step =  6400  ,loss value =  0.7604369418320909  ,W =  [[0.98227526]]  ,b =  [-12.62860106]\n",
      "step =  6800  ,loss value =  0.7404159423189959  ,W =  [[1.00384708]]  ,b =  [-12.91145482]\n",
      "step =  7200  ,loss value =  0.7218805593012694  ,W =  [[1.02460995]]  ,b =  [-13.18359943]\n",
      "step =  7600  ,loss value =  0.7046434913867375  ,W =  [[1.04463848]]  ,b =  [-13.44602835]\n",
      "step =  8000  ,loss value =  0.6885496669462214  ,W =  [[1.06399676]]  ,b =  [-13.69959476]\n",
      "step =  8400  ,loss value =  0.673469386530243  ,W =  [[1.08274033]]  ,b =  [-13.94503729]\n",
      "step =  8800  ,loss value =  0.6592931754320599  ,W =  [[1.10091765]]  ,b =  [-14.18300011]\n",
      "step =  9200  ,loss value =  0.64592786307137  ,W =  [[1.11857128]]  ,b =  [-14.41404867]\n",
      "step =  9600  ,loss value =  0.6332935571468217  ,W =  [[1.13573881]]  ,b =  [-14.63868234]\n",
      "step =  10000  ,loss value =  0.6213212802190308  ,W =  [[1.15245366]]  ,b =  [-14.85734451]\n"
     ]
    }
   ],
   "source": [
    "learning_rate=1e-2\n",
    "f=lambda x:loss_func(x_data,t_data)\n",
    "print('initial loss value = ',loss_val(x_data,t_data),'initial W = ',W,'\\n', 'initial b = ',b)\n",
    "for step in range(10001):\n",
    "    W-=learning_rate*numerical_derivative(f, W)\n",
    "    b-=learning_rate*numerical_derivative(f, b)\n",
    "    if (step %400==0):\n",
    "        print('step = ',step,' ,loss value = ',loss_val(x_data,t_data),' ,W = ',W,' ,b = ',b )\n"
   ]
  },
  {
   "cell_type": "code",
   "execution_count": 5,
   "metadata": {},
   "outputs": [
    {
     "name": "stdout",
     "output_type": "stream",
     "text": [
      "[[1.1195544e-05]] 0\n"
     ]
    }
   ],
   "source": [
    "(real_val,logical_val) = predict(3)\n",
    "print(real_val,logical_val)"
   ]
  },
  {
   "cell_type": "code",
   "execution_count": 6,
   "metadata": {},
   "outputs": [
    {
     "name": "stdout",
     "output_type": "stream",
     "text": [
      "[[0.99128855]] 1\n"
     ]
    }
   ],
   "source": [
    "(real_val,logical_val) = predict(17)\n",
    "print(real_val,logical_val)"
   ]
  },
  {
   "cell_type": "code",
   "execution_count": null,
   "metadata": {},
   "outputs": [],
   "source": []
  },
  {
   "cell_type": "code",
   "execution_count": null,
   "metadata": {},
   "outputs": [],
   "source": []
  },
  {
   "cell_type": "code",
   "execution_count": null,
   "metadata": {},
   "outputs": [],
   "source": []
  }
 ],
 "metadata": {
  "kernelspec": {
   "display_name": "Python 3",
   "language": "python",
   "name": "python3"
  },
  "language_info": {
   "codemirror_mode": {
    "name": "ipython",
    "version": 3
   },
   "file_extension": ".py",
   "mimetype": "text/x-python",
   "name": "python",
   "nbconvert_exporter": "python",
   "pygments_lexer": "ipython3",
   "version": "3.7.4"
  }
 },
 "nbformat": 4,
 "nbformat_minor": 2
}
