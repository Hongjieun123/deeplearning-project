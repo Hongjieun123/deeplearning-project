{
  "nbformat": 4,
  "nbformat_minor": 0,
  "metadata": {
    "colab": {
      "name": "케라스(영화리뷰분류).ipynb",
      "provenance": [],
      "collapsed_sections": [],
      "authorship_tag": "ABX9TyMCTyz8xezPrKN7yGNw6tZs",
      "include_colab_link": true
    },
    "kernelspec": {
      "name": "python3",
      "display_name": "Python 3"
    }
  },
  "cells": [
    {
      "cell_type": "markdown",
      "metadata": {
        "id": "view-in-github",
        "colab_type": "text"
      },
      "source": [
        "<a href=\"https://colab.research.google.com/github/Hongjieun123/deeplearning-project/blob/master/%EC%BC%80%EB%9D%BC%EC%8A%A4(%EC%98%81%ED%99%94%EB%A6%AC%EB%B7%B0%EB%B6%84%EB%A5%98).ipynb\" target=\"_parent\"><img src=\"https://colab.research.google.com/assets/colab-badge.svg\" alt=\"Open In Colab\"/></a>"
      ]
    },
    {
      "cell_type": "markdown",
      "metadata": {
        "id": "ja6i4u7rhv1k",
        "colab_type": "text"
      },
      "source": [
        "영화 리뷰 분류: 이진 분류 예제"
      ]
    },
    {
      "cell_type": "code",
      "metadata": {
        "id": "rssMEkPAtmDj",
        "colab_type": "code",
        "colab": {}
      },
      "source": [
        "#데이터 가져오기\n",
        "from keras.datasets import imdb\n",
        "\n",
        "(train_data, train_labels), (test_data, test_labels) = imdb.load_data(num_words =10000)\n",
        "# num_words = 10000은 훈련데이터에서 가장 자주 나타나는 단어 1만개만 사용하겠다는 소리\n",
        "# 각 labels 은 긍정은 1, 부정은 0으로 나타내었다. \n"
      ],
      "execution_count": 0,
      "outputs": []
    },
    {
      "cell_type": "code",
      "metadata": {
        "id": "fxMwEYn33aYw",
        "colab_type": "code",
        "colab": {
          "base_uri": "https://localhost:8080/",
          "height": 36
        },
        "outputId": "d292bd23-26ab-4ff5-c0c2-a3c2082785ef"
      },
      "source": [
        "train_data.shape"
      ],
      "execution_count": 17,
      "outputs": [
        {
          "output_type": "execute_result",
          "data": {
            "text/plain": [
              "(25000,)"
            ]
          },
          "metadata": {
            "tags": []
          },
          "execution_count": 17
        }
      ]
    },
    {
      "cell_type": "markdown",
      "metadata": {
        "id": "LhJHE5eJi5Sx",
        "colab_type": "text"
      },
      "source": [
        "리스트를 one-hot encoding 하여 0과 1 벡터로 변환한다. \n",
        "10000개와 같은 크기의 벡터를 0으로 채우고, 있는 단어 인덱스에만 1을 넣는 방식입니다. 리뷰가 10000 단어 이하라면 2번의 경우가 더 메모리를 많이 사용하는 것 입니다."
      ]
    },
    {
      "cell_type": "code",
      "metadata": {
        "id": "nzcvOeystl5M",
        "colab_type": "code",
        "colab": {}
      },
      "source": [
        "import numpy as np\n",
        "\n",
        "def vectorize_sequences(sequences, dimension=10000):\n",
        "  results = np.zeros((len(sequences), dimension))\n",
        "  for i, sequences in enumerate(sequences):\n",
        "    results[i, sequences] = 1.\n",
        "  return results\n",
        "\n",
        "x_train = vectorize_sequences(train_data)\n",
        "x_test = vectorize_sequences(test_data)\n",
        "\n",
        "#레이블 벡터 변환\n",
        "y_train = np.asarray(train_labels).astype('float32')\n",
        "y_test = np.asarray(test_labels).astype('float32')"
      ],
      "execution_count": 0,
      "outputs": []
    },
    {
      "cell_type": "code",
      "metadata": {
        "id": "oo1tRnvptlt9",
        "colab_type": "code",
        "colab": {
          "base_uri": "https://localhost:8080/",
          "height": 36
        },
        "outputId": "4ea797db-b3c1-4cbf-adfb-58a86df51d65"
      },
      "source": [
        "print(x_train.shape)"
      ],
      "execution_count": 19,
      "outputs": [
        {
          "output_type": "stream",
          "text": [
            "(25000, 10000)\n"
          ],
          "name": "stdout"
        }
      ]
    },
    {
      "cell_type": "markdown",
      "metadata": {
        "id": "GZrUp9Ko4ElB",
        "colab_type": "text"
      },
      "source": [
        "신경망 모델 만들기\n",
        "\n",
        "입력 데이터가 벡터고, 레이블은 스칼라이다.\n",
        "이런 문제에서는 relu 함수 사용한 완전연결층"
      ]
    },
    {
      "cell_type": "code",
      "metadata": {
        "id": "h7HVXbuttldR",
        "colab_type": "code",
        "colab": {}
      },
      "source": [
        "#16개의 은닉 유닛을 가진 2개의 층\n",
        "#현재 리뷰의 감정을 스칼라 값의 예측으로 출력하는 세번째 층\n",
        "\n",
        "from keras import models\n",
        "from keras import layers\n",
        "\n",
        "model = models.Sequential()\n",
        "model.add(layers.Dense(16, activation='relu', input_shape=(10000,)))\n",
        "model.add(layers.Dense(16, activation='relu'))\n",
        "model.add(layers.Dense(1, activation='sigmoid'))"
      ],
      "execution_count": 0,
      "outputs": []
    },
    {
      "cell_type": "code",
      "metadata": {
        "id": "JqUfuW9i5QQD",
        "colab_type": "code",
        "colab": {}
      },
      "source": [
        "#손실함수와 옵티마이저 선택(기본값)\n",
        "#이진 분류 문제 + 확률 출력 : binary_crossentropy 사용\n",
        "#rmsprop 옵티마이저 사용\n",
        "#측정지표 accuracy\n",
        "\n",
        "model.compile(optimizer='rmsprop', loss='binary_crossentropy', metrics=['accuracy'])"
      ],
      "execution_count": 0,
      "outputs": []
    },
    {
      "cell_type": "code",
      "metadata": {
        "id": "Hc4K0HLE5k9g",
        "colab_type": "code",
        "colab": {}
      },
      "source": [
        "#옵티마이저 custom 가능\n",
        "from keras import optimizers\n",
        "\n",
        "model.compile(optimizer=optimizers.RMSprop(lr=0.001), loss='binary_crossentropy', metrics=['accuracy'])"
      ],
      "execution_count": 0,
      "outputs": []
    },
    {
      "cell_type": "code",
      "metadata": {
        "id": "F_uaqxQy59W-",
        "colab_type": "code",
        "colab": {}
      },
      "source": [
        "#손실과 측정을 함수 객체로 지정하기\n",
        "from keras import losses\n",
        "from keras import metrics\n",
        "\n",
        "model.compile(optimizer=optimizers.RMSprop(lr=0.001), loss=losses.binary_crossentropy, metrics=[metrics.binary_accuracy])"
      ],
      "execution_count": 0,
      "outputs": []
    },
    {
      "cell_type": "code",
      "metadata": {
        "id": "i36koD1u6j1l",
        "colab_type": "code",
        "colab": {}
      },
      "source": [
        "#처음본 데이터에 대한 모델의 정확도를 측정하기 위해서\n",
        "#원본 훈련 데이터에서 10000개의 샘플을 떼어 검증 세트를 만들어야 한다.\n",
        "\n",
        "x_val = x_train[:10000]\n",
        "partial_x_train = x_train[10000:]\n",
        "\n",
        "y_val = y_train[:10000]\n",
        "partial_y_train = y_train[10000:]"
      ],
      "execution_count": 0,
      "outputs": []
    },
    {
      "cell_type": "code",
      "metadata": {
        "id": "LyDjxoZZ7VhI",
        "colab_type": "code",
        "colab": {
          "base_uri": "https://localhost:8080/",
          "height": 803
        },
        "outputId": "8093b593-4a6d-4b1b-de55-1b017f136f89"
      },
      "source": [
        "history = model.fit(partial_x_train, partial_y_train, epochs=20, batch_size=512, validation_data=(x_val, y_val))"
      ],
      "execution_count": 30,
      "outputs": [
        {
          "output_type": "stream",
          "text": [
            "Train on 15000 samples, validate on 10000 samples\n",
            "Epoch 1/20\n",
            "15000/15000 [==============================] - 2s 123us/step - loss: 0.5492 - accuracy: 0.7797 - val_loss: 0.4325 - val_accuracy: 0.8552\n",
            "Epoch 2/20\n",
            "15000/15000 [==============================] - 1s 97us/step - loss: 0.3417 - accuracy: 0.8943 - val_loss: 0.3264 - val_accuracy: 0.8820\n",
            "Epoch 3/20\n",
            "15000/15000 [==============================] - 1s 96us/step - loss: 0.2495 - accuracy: 0.9221 - val_loss: 0.2874 - val_accuracy: 0.8903\n",
            "Epoch 4/20\n",
            "15000/15000 [==============================] - 1s 97us/step - loss: 0.1961 - accuracy: 0.9373 - val_loss: 0.2800 - val_accuracy: 0.8881\n",
            "Epoch 5/20\n",
            "15000/15000 [==============================] - 1s 98us/step - loss: 0.1595 - accuracy: 0.9497 - val_loss: 0.3087 - val_accuracy: 0.8775\n",
            "Epoch 6/20\n",
            "15000/15000 [==============================] - 1s 97us/step - loss: 0.1327 - accuracy: 0.9579 - val_loss: 0.2872 - val_accuracy: 0.8877\n",
            "Epoch 7/20\n",
            "15000/15000 [==============================] - 1s 96us/step - loss: 0.1069 - accuracy: 0.9687 - val_loss: 0.3027 - val_accuracy: 0.8840\n",
            "Epoch 8/20\n",
            "15000/15000 [==============================] - 1s 97us/step - loss: 0.0900 - accuracy: 0.9742 - val_loss: 0.3163 - val_accuracy: 0.8829\n",
            "Epoch 9/20\n",
            "15000/15000 [==============================] - 1s 95us/step - loss: 0.0728 - accuracy: 0.9811 - val_loss: 0.3451 - val_accuracy: 0.8822\n",
            "Epoch 10/20\n",
            "15000/15000 [==============================] - 1s 96us/step - loss: 0.0610 - accuracy: 0.9854 - val_loss: 0.3598 - val_accuracy: 0.8783\n",
            "Epoch 11/20\n",
            "15000/15000 [==============================] - 1s 96us/step - loss: 0.0508 - accuracy: 0.9878 - val_loss: 0.4045 - val_accuracy: 0.8765\n",
            "Epoch 12/20\n",
            "15000/15000 [==============================] - 1s 96us/step - loss: 0.0413 - accuracy: 0.9913 - val_loss: 0.4095 - val_accuracy: 0.8731\n",
            "Epoch 13/20\n",
            "15000/15000 [==============================] - 1s 97us/step - loss: 0.0311 - accuracy: 0.9945 - val_loss: 0.4607 - val_accuracy: 0.8637\n",
            "Epoch 14/20\n",
            "15000/15000 [==============================] - 1s 96us/step - loss: 0.0264 - accuracy: 0.9953 - val_loss: 0.4664 - val_accuracy: 0.8728\n",
            "Epoch 15/20\n",
            "15000/15000 [==============================] - 1s 97us/step - loss: 0.0204 - accuracy: 0.9969 - val_loss: 0.5443 - val_accuracy: 0.8585\n",
            "Epoch 16/20\n",
            "15000/15000 [==============================] - 1s 96us/step - loss: 0.0149 - accuracy: 0.9984 - val_loss: 0.5268 - val_accuracy: 0.8724\n",
            "Epoch 17/20\n",
            "15000/15000 [==============================] - 1s 95us/step - loss: 0.0116 - accuracy: 0.9989 - val_loss: 0.6022 - val_accuracy: 0.8599\n",
            "Epoch 18/20\n",
            "15000/15000 [==============================] - 1s 95us/step - loss: 0.0081 - accuracy: 0.9995 - val_loss: 0.6199 - val_accuracy: 0.8673\n",
            "Epoch 19/20\n",
            "15000/15000 [==============================] - 1s 95us/step - loss: 0.0065 - accuracy: 0.9997 - val_loss: 0.6427 - val_accuracy: 0.8665\n",
            "Epoch 20/20\n",
            "15000/15000 [==============================] - 1s 98us/step - loss: 0.0061 - accuracy: 0.9995 - val_loss: 0.6756 - val_accuracy: 0.8677\n"
          ],
          "name": "stdout"
        }
      ]
    },
    {
      "cell_type": "code",
      "metadata": {
        "id": "R0Br-0b57VeA",
        "colab_type": "code",
        "colab": {
          "base_uri": "https://localhost:8080/",
          "height": 295
        },
        "outputId": "98b95ed1-e802-403f-d31a-b3d0e8f5c1dc"
      },
      "source": [
        "#matplotliab으로 그래프 그려 결과 확인하기\n",
        "\n",
        "import matplotlib.pyplot as plt\n",
        "\n",
        "acc = history.history['accuracy']\n",
        "val_acc = history.history['val_accuracy']\n",
        "loss = history.history['loss']\n",
        "val_loss = history.history['val_loss']\n",
        "\n",
        "epochs = range(1, len(acc)+1) \n",
        "\n",
        "plt.plot(epochs, loss, 'b', label='loss')\n",
        "plt.plot(epochs, val_loss, 'bo', label='Validation loss')\n",
        "\n",
        "plt.title('Training and Validation loss')\n",
        "plt.xlabel('Epochs')\n",
        "plt.ylabel('Loss')\n",
        "plt.legend()\n",
        "\n",
        "plt.show()"
      ],
      "execution_count": 37,
      "outputs": [
        {
          "output_type": "display_data",
          "data": {
            "image/png": "[encoded data removed]",
            "text/plain": [
              "<Figure size 432x288 with 1 Axes>"
            ]
          },
          "metadata": {
            "tags": [],
            "needs_background": "light"
          }
        }
      ]
    },
    {
      "cell_type": "code",
      "metadata": {
        "id": "vUGyFwZ_7VbX",
        "colab_type": "code",
        "colab": {
          "base_uri": "https://localhost:8080/",
          "height": 314
        },
        "outputId": "b752a5f0-be62-4952-9d4a-37b98fc69843"
      },
      "source": [
        "#훈련과 검증 손실\n",
        "\n",
        "plt.clf()  #그래프를 초기화\n",
        "acc = history.history['accuracy']\n",
        "val_acc = history.history['val_accuracy']\n",
        "\n",
        "plt.plot(epochs, acc, 'bo', label='Training_acc')\n",
        "plt.plot(epochs, val_acc, 'b', label='Validation_acc')\n",
        "plt.title('Training and Validation accuracy')\n",
        "plt.xlabel('Epochs')\n",
        "plt.ylabel('Accuracy')\n",
        "\n",
        "plt.legend()\n",
        "\n"
      ],
      "execution_count": 39,
      "outputs": [
        {
          "output_type": "execute_result",
          "data": {
            "text/plain": [
              "<matplotlib.legend.Legend at 0x7f77c30265f8>"
            ]
          },
          "metadata": {
            "tags": []
          },
          "execution_count": 39
        },
        {
          "output_type": "display_data",
          "data": {
            "image/png": "[encoded data removed]",
            "text/plain": [
              "<Figure size 432x288 with 1 Axes>"
            ]
          },
          "metadata": {
            "tags": [],
            "needs_background": "light"
          }
        }
      ]
    },
    {
      "cell_type": "markdown",
      "metadata": {
        "id": "JPPeR8Fe-waG",
        "colab_type": "text"
      },
      "source": [
        "overfitting 발생"
      ]
    },
    {
      "cell_type": "code",
      "metadata": {
        "id": "kC25IovC7VZk",
        "colab_type": "code",
        "colab": {
          "base_uri": "https://localhost:8080/",
          "height": 168
        },
        "outputId": "c6dfc471-72e1-425d-85e0-dde145d61942"
      },
      "source": [
        "#모델 다시 훈련\n",
        "model = models.Sequential()\n",
        "model.add(layers.Dense(16, activation='relu', input_shape=(10000,)))\n",
        "model.add(layers.Dense(16, activation='relu'))\n",
        "model.add(layers.Dense(1, activation='sigmoid'))\n",
        "\n",
        "model.compile(optimizer='rmsprop', loss='binary_crossentropy', metrics=['accuracy'])\n",
        "\n",
        "model.fit(x_train, y_train, epochs=2, batch_size=512, validation_data=(x_val, y_val))\n",
        "results = model.evaluate(x_test, y_test)\n",
        "print(results)"
      ],
      "execution_count": 48,
      "outputs": [
        {
          "output_type": "stream",
          "text": [
            "Train on 25000 samples, validate on 10000 samples\n",
            "Epoch 1/2\n",
            "25000/25000 [==============================] - 2s 87us/step - loss: 0.4668 - accuracy: 0.8183 - val_loss: 0.2996 - val_accuracy: 0.9033\n",
            "Epoch 2/2\n",
            "25000/25000 [==============================] - 2s 84us/step - loss: 0.2672 - accuracy: 0.9072 - val_loss: 0.2006 - val_accuracy: 0.9397\n",
            "25000/25000 [==============================] - 2s 61us/step\n",
            "[0.2882976700401306, 0.889240026473999]\n"
          ],
          "name": "stdout"
        }
      ]
    },
    {
      "cell_type": "code",
      "metadata": {
        "id": "IPUvcdpe7VXC",
        "colab_type": "code",
        "colab": {}
      },
      "source": [
        ""
      ],
      "execution_count": 0,
      "outputs": []
    },
    {
      "cell_type": "code",
      "metadata": {
        "id": "oCAKAUzY7VUu",
        "colab_type": "code",
        "colab": {
          "base_uri": "https://localhost:8080/",
          "height": 314
        },
        "outputId": "dec60490-0791-4106-dcd2-6c4cd173513a"
      },
      "source": [
        ""
      ],
      "execution_count": 45,
      "outputs": [
        {
          "output_type": "execute_result",
          "data": {
            "text/plain": [
              "<matplotlib.legend.Legend at 0x7f77db495ac8>"
            ]
          },
          "metadata": {
            "tags": []
          },
          "execution_count": 45
        },
        {
          "output_type": "display_data",
          "data": {
            "image/png": "[encoded data removed]",
            "text/plain": [
              "<Figure size 432x288 with 1 Axes>"
            ]
          },
          "metadata": {
            "tags": [],
            "needs_background": "light"
          }
        }
      ]
    },
    {
      "cell_type": "code",
      "metadata": {
        "id": "NBOH_FWB7VSO",
        "colab_type": "code",
        "colab": {}
      },
      "source": [
        ""
      ],
      "execution_count": 0,
      "outputs": []
    }
  ]
}