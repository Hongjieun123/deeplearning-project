{
  "nbformat": 4,
  "nbformat_minor": 0,
  "metadata": {
    "colab": {
      "name": "pandas(mean값으로 데이터 채워줬을 때)",
      "provenance": [],
      "authorship_tag": "ABX9TyNWlnFM8AOsZbojQD+YMBDZ",
      "include_colab_link": true
    },
    "kernelspec": {
      "name": "python3",
      "display_name": "Python 3"
    }
  },
  "cells": [
    {
      "cell_type": "markdown",
      "metadata": {
        "id": "view-in-github",
        "colab_type": "text"
      },
      "source": [
        "<a href=\"https://colab.research.google.com/github/Hongjieun123/deeplearning-project/blob/master/pandas(mean%EA%B0%92%EC%9C%BC%EB%A1%9C_%EB%8D%B0%EC%9D%B4%ED%84%B0_%EC%B1%84%EC%9B%8C%EC%A4%AC%EC%9D%84_%EB%95%8C).ipynb\" target=\"_parent\"><img src=\"https://colab.research.google.com/assets/colab-badge.svg\" alt=\"Open In Colab\"/></a>"
      ]
    },
    {
      "cell_type": "code",
      "metadata": {
        "id": "1fkmNtEfXniZ",
        "colab_type": "code",
        "outputId": "ddbba86a-a2a5-49e5-cbbf-d7833680d913",
        "colab": {
          "resources": {
            "http://localhost:8080/nbextensions/google.colab/files.js": {
              "data": "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",
              "ok": true,
              "headers": [
                [
                  "content-type",
                  "application/javascript"
                ]
              ],
              "status": 200,
              "status_text": ""
            }
          },
          "base_uri": "https://localhost:8080/",
          "height": 169
        }
      },
      "source": [
        "from google.colab import files\n",
        "uploaded = files.upload()"
      ],
      "execution_count": 0,
      "outputs": [
        {
          "output_type": "display_data",
          "data": {
            "text/html": [
              "\n",
              "     <input type=\"file\" id=\"files-30f8c712-a006-48d2-80b7-56265fd414e8\" name=\"files[]\" multiple disabled />\n",
              "     <output id=\"result-30f8c712-a006-48d2-80b7-56265fd414e8\">\n",
              "      Upload widget is only available when the cell has been executed in the\n",
              "      current browser session. Please rerun this cell to enable.\n",
              "      </output>\n",
              "      <script src=\"/nbextensions/google.colab/files.js\"></script> "
            ],
            "text/plain": [
              "<IPython.core.display.HTML object>"
            ]
          },
          "metadata": {
            "tags": []
          }
        },
        {
          "output_type": "stream",
          "text": [
            "Saving train.csv to train.csv\n",
            "Saving test.csv to test.csv\n",
            "Saving gender_submission.csv to gender_submission.csv\n"
          ],
          "name": "stdout"
        }
      ]
    },
    {
      "cell_type": "code",
      "metadata": {
        "id": "lpzLzOYnYyBg",
        "colab_type": "code",
        "colab": {}
      },
      "source": [
        "import numpy as np\n",
        "import pandas as pd\n",
        "import matplotlib.pyplot as plt\n",
        "\n",
        "%matplotlib inline"
      ],
      "execution_count": 0,
      "outputs": []
    },
    {
      "cell_type": "code",
      "metadata": {
        "id": "HXNC-i6GYx_b",
        "colab_type": "code",
        "colab": {}
      },
      "source": [
        "\n",
        "train_df = pd.read_csv('./train.csv')\n",
        "test_df = pd.read_csv('./test.csv')\n",
        "test_sub_df = pd.read_csv('./gender_submission.csv')"
      ],
      "execution_count": 0,
      "outputs": []
    },
    {
      "cell_type": "markdown",
      "metadata": {
        "id": "8468n8a6aMLT",
        "colab_type": "text"
      },
      "source": [
        "DataFrame 확인"
      ]
    },
    {
      "cell_type": "code",
      "metadata": {
        "id": "YnDwq9VzYx9T",
        "colab_type": "code",
        "outputId": "9e54b33f-304e-49fa-eb02-0077317f4bab",
        "colab": {
          "base_uri": "https://localhost:8080/",
          "height": 499
        }
      },
      "source": [
        "train_df.head()"
      ],
      "execution_count": 0,
      "outputs": [
        {
          "output_type": "execute_result",
          "data": {
            "text/html": [
              "<div>\n",
              "<style scoped>\n",
              "    .dataframe tbody tr th:only-of-type {\n",
              "        vertical-align: middle;\n",
              "    }\n",
              "\n",
              "    .dataframe tbody tr th {\n",
              "        vertical-align: top;\n",
              "    }\n",
              "\n",
              "    .dataframe thead th {\n",
              "        text-align: right;\n",
              "    }\n",
              "</style>\n",
              "<table border=\"1\" class=\"dataframe\">\n",
              "  <thead>\n",
              "    <tr style=\"text-align: right;\">\n",
              "      <th></th>\n",
              "      <th>PassengerId</th>\n",
              "      <th>Survived</th>\n",
              "      <th>Pclass</th>\n",
              "      <th>Name</th>\n",
              "      <th>Sex</th>\n",
              "      <th>Age</th>\n",
              "      <th>SibSp</th>\n",
              "      <th>Parch</th>\n",
              "      <th>Ticket</th>\n",
              "      <th>Fare</th>\n",
              "      <th>Cabin</th>\n",
              "      <th>Embarked</th>\n",
              "    </tr>\n",
              "  </thead>\n",
              "  <tbody>\n",
              "    <tr>\n",
              "      <th>0</th>\n",
              "      <td>1</td>\n",
              "      <td>0</td>\n",
              "      <td>3</td>\n",
              "      <td>Braund, Mr. Owen Harris</td>\n",
              "      <td>male</td>\n",
              "      <td>22.0</td>\n",
              "      <td>1</td>\n",
              "      <td>0</td>\n",
              "      <td>A/5 21171</td>\n",
              "      <td>7.2500</td>\n",
              "      <td>NaN</td>\n",
              "      <td>S</td>\n",
              "    </tr>\n",
              "    <tr>\n",
              "      <th>1</th>\n",
              "      <td>2</td>\n",
              "      <td>1</td>\n",
              "      <td>1</td>\n",
              "      <td>Cumings, Mrs. John Bradley (Florence Briggs Th...</td>\n",
              "      <td>female</td>\n",
              "      <td>38.0</td>\n",
              "      <td>1</td>\n",
              "      <td>0</td>\n",
              "      <td>PC 17599</td>\n",
              "      <td>71.2833</td>\n",
              "      <td>C85</td>\n",
              "      <td>C</td>\n",
              "    </tr>\n",
              "    <tr>\n",
              "      <th>2</th>\n",
              "      <td>3</td>\n",
              "      <td>1</td>\n",
              "      <td>3</td>\n",
              "      <td>Heikkinen, Miss. Laina</td>\n",
              "      <td>female</td>\n",
              "      <td>26.0</td>\n",
              "      <td>0</td>\n",
              "      <td>0</td>\n",
              "      <td>STON/O2. 3101282</td>\n",
              "      <td>7.9250</td>\n",
              "      <td>NaN</td>\n",
              "      <td>S</td>\n",
              "    </tr>\n",
              "    <tr>\n",
              "      <th>3</th>\n",
              "      <td>4</td>\n",
              "      <td>1</td>\n",
              "      <td>1</td>\n",
              "      <td>Futrelle, Mrs. Jacques Heath (Lily May Peel)</td>\n",
              "      <td>female</td>\n",
              "      <td>35.0</td>\n",
              "      <td>1</td>\n",
              "      <td>0</td>\n",
              "      <td>113803</td>\n",
              "      <td>53.1000</td>\n",
              "      <td>C123</td>\n",
              "      <td>S</td>\n",
              "    </tr>\n",
              "    <tr>\n",
              "      <th>4</th>\n",
              "      <td>5</td>\n",
              "      <td>0</td>\n",
              "      <td>3</td>\n",
              "      <td>Allen, Mr. William Henry</td>\n",
              "      <td>male</td>\n",
              "      <td>35.0</td>\n",
              "      <td>0</td>\n",
              "      <td>0</td>\n",
              "      <td>373450</td>\n",
              "      <td>8.0500</td>\n",
              "      <td>NaN</td>\n",
              "      <td>S</td>\n",
              "    </tr>\n",
              "  </tbody>\n",
              "</table>\n",
              "</div>"
            ],
            "text/plain": [
              "   PassengerId  Survived  Pclass  ...     Fare Cabin  Embarked\n",
              "0            1         0       3  ...   7.2500   NaN         S\n",
              "1            2         1       1  ...  71.2833   C85         C\n",
              "2            3         1       3  ...   7.9250   NaN         S\n",
              "3            4         1       1  ...  53.1000  C123         S\n",
              "4            5         0       3  ...   8.0500   NaN         S\n",
              "\n",
              "[5 rows x 12 columns]"
            ]
          },
          "metadata": {
            "tags": []
          },
          "execution_count": 6
        }
      ]
    },
    {
      "cell_type": "code",
      "metadata": {
        "id": "siduUvtvYx7l",
        "colab_type": "code",
        "outputId": "5fe753b1-597c-4a2d-b20e-9047b72635e3",
        "colab": {
          "base_uri": "https://localhost:8080/",
          "height": 447
        }
      },
      "source": [
        "test_df.head()"
      ],
      "execution_count": 0,
      "outputs": [
        {
          "output_type": "execute_result",
          "data": {
            "text/html": [
              "<div>\n",
              "<style scoped>\n",
              "    .dataframe tbody tr th:only-of-type {\n",
              "        vertical-align: middle;\n",
              "    }\n",
              "\n",
              "    .dataframe tbody tr th {\n",
              "        vertical-align: top;\n",
              "    }\n",
              "\n",
              "    .dataframe thead th {\n",
              "        text-align: right;\n",
              "    }\n",
              "</style>\n",
              "<table border=\"1\" class=\"dataframe\">\n",
              "  <thead>\n",
              "    <tr style=\"text-align: right;\">\n",
              "      <th></th>\n",
              "      <th>PassengerId</th>\n",
              "      <th>Pclass</th>\n",
              "      <th>Name</th>\n",
              "      <th>Sex</th>\n",
              "      <th>Age</th>\n",
              "      <th>SibSp</th>\n",
              "      <th>Parch</th>\n",
              "      <th>Ticket</th>\n",
              "      <th>Fare</th>\n",
              "      <th>Cabin</th>\n",
              "      <th>Embarked</th>\n",
              "    </tr>\n",
              "  </thead>\n",
              "  <tbody>\n",
              "    <tr>\n",
              "      <th>0</th>\n",
              "      <td>892</td>\n",
              "      <td>3</td>\n",
              "      <td>Kelly, Mr. James</td>\n",
              "      <td>male</td>\n",
              "      <td>34.5</td>\n",
              "      <td>0</td>\n",
              "      <td>0</td>\n",
              "      <td>330911</td>\n",
              "      <td>7.8292</td>\n",
              "      <td>NaN</td>\n",
              "      <td>Q</td>\n",
              "    </tr>\n",
              "    <tr>\n",
              "      <th>1</th>\n",
              "      <td>893</td>\n",
              "      <td>3</td>\n",
              "      <td>Wilkes, Mrs. James (Ellen Needs)</td>\n",
              "      <td>female</td>\n",
              "      <td>47.0</td>\n",
              "      <td>1</td>\n",
              "      <td>0</td>\n",
              "      <td>363272</td>\n",
              "      <td>7.0000</td>\n",
              "      <td>NaN</td>\n",
              "      <td>S</td>\n",
              "    </tr>\n",
              "    <tr>\n",
              "      <th>2</th>\n",
              "      <td>894</td>\n",
              "      <td>2</td>\n",
              "      <td>Myles, Mr. Thomas Francis</td>\n",
              "      <td>male</td>\n",
              "      <td>62.0</td>\n",
              "      <td>0</td>\n",
              "      <td>0</td>\n",
              "      <td>240276</td>\n",
              "      <td>9.6875</td>\n",
              "      <td>NaN</td>\n",
              "      <td>Q</td>\n",
              "    </tr>\n",
              "    <tr>\n",
              "      <th>3</th>\n",
              "      <td>895</td>\n",
              "      <td>3</td>\n",
              "      <td>Wirz, Mr. Albert</td>\n",
              "      <td>male</td>\n",
              "      <td>27.0</td>\n",
              "      <td>0</td>\n",
              "      <td>0</td>\n",
              "      <td>315154</td>\n",
              "      <td>8.6625</td>\n",
              "      <td>NaN</td>\n",
              "      <td>S</td>\n",
              "    </tr>\n",
              "    <tr>\n",
              "      <th>4</th>\n",
              "      <td>896</td>\n",
              "      <td>3</td>\n",
              "      <td>Hirvonen, Mrs. Alexander (Helga E Lindqvist)</td>\n",
              "      <td>female</td>\n",
              "      <td>22.0</td>\n",
              "      <td>1</td>\n",
              "      <td>1</td>\n",
              "      <td>3101298</td>\n",
              "      <td>12.2875</td>\n",
              "      <td>NaN</td>\n",
              "      <td>S</td>\n",
              "    </tr>\n",
              "  </tbody>\n",
              "</table>\n",
              "</div>"
            ],
            "text/plain": [
              "   PassengerId  Pclass  ... Cabin Embarked\n",
              "0          892       3  ...   NaN        Q\n",
              "1          893       3  ...   NaN        S\n",
              "2          894       2  ...   NaN        Q\n",
              "3          895       3  ...   NaN        S\n",
              "4          896       3  ...   NaN        S\n",
              "\n",
              "[5 rows x 11 columns]"
            ]
          },
          "metadata": {
            "tags": []
          },
          "execution_count": 7
        }
      ]
    },
    {
      "cell_type": "code",
      "metadata": {
        "id": "i_83vG34Yx5l",
        "colab_type": "code",
        "outputId": "043ea6e0-2cc7-4743-b4a6-44719fe9c34c",
        "colab": {
          "base_uri": "https://localhost:8080/",
          "height": 202
        }
      },
      "source": [
        "test_sub_df.head()"
      ],
      "execution_count": 0,
      "outputs": [
        {
          "output_type": "execute_result",
          "data": {
            "text/html": [
              "<div>\n",
              "<style scoped>\n",
              "    .dataframe tbody tr th:only-of-type {\n",
              "        vertical-align: middle;\n",
              "    }\n",
              "\n",
              "    .dataframe tbody tr th {\n",
              "        vertical-align: top;\n",
              "    }\n",
              "\n",
              "    .dataframe thead th {\n",
              "        text-align: right;\n",
              "    }\n",
              "</style>\n",
              "<table border=\"1\" class=\"dataframe\">\n",
              "  <thead>\n",
              "    <tr style=\"text-align: right;\">\n",
              "      <th></th>\n",
              "      <th>PassengerId</th>\n",
              "      <th>Survived</th>\n",
              "    </tr>\n",
              "  </thead>\n",
              "  <tbody>\n",
              "    <tr>\n",
              "      <th>0</th>\n",
              "      <td>892</td>\n",
              "      <td>0</td>\n",
              "    </tr>\n",
              "    <tr>\n",
              "      <th>1</th>\n",
              "      <td>893</td>\n",
              "      <td>1</td>\n",
              "    </tr>\n",
              "    <tr>\n",
              "      <th>2</th>\n",
              "      <td>894</td>\n",
              "      <td>0</td>\n",
              "    </tr>\n",
              "    <tr>\n",
              "      <th>3</th>\n",
              "      <td>895</td>\n",
              "      <td>0</td>\n",
              "    </tr>\n",
              "    <tr>\n",
              "      <th>4</th>\n",
              "      <td>896</td>\n",
              "      <td>1</td>\n",
              "    </tr>\n",
              "  </tbody>\n",
              "</table>\n",
              "</div>"
            ],
            "text/plain": [
              "   PassengerId  Survived\n",
              "0          892         0\n",
              "1          893         1\n",
              "2          894         0\n",
              "3          895         0\n",
              "4          896         1"
            ]
          },
          "metadata": {
            "tags": []
          },
          "execution_count": 8
        }
      ]
    },
    {
      "cell_type": "markdown",
      "metadata": {
        "id": "fBN5d6vLagR4",
        "colab_type": "text"
      },
      "source": [
        "test_sub_df['survived']열 데이터를 test_df['survived'] 열로 추가"
      ]
    },
    {
      "cell_type": "code",
      "metadata": {
        "id": "MmF8ePdqYx4G",
        "colab_type": "code",
        "outputId": "edfe695f-76b0-4cff-e0d9-d18409dc6ee5",
        "colab": {
          "base_uri": "https://localhost:8080/",
          "height": 447
        }
      },
      "source": [
        "#새로 추가할 열 = 원래 있었던 열 데이터\n",
        "test_df['Survived'] = test_sub_df['Survived']\n",
        "test_df.head()"
      ],
      "execution_count": 0,
      "outputs": [
        {
          "output_type": "execute_result",
          "data": {
            "text/html": [
              "<div>\n",
              "<style scoped>\n",
              "    .dataframe tbody tr th:only-of-type {\n",
              "        vertical-align: middle;\n",
              "    }\n",
              "\n",
              "    .dataframe tbody tr th {\n",
              "        vertical-align: top;\n",
              "    }\n",
              "\n",
              "    .dataframe thead th {\n",
              "        text-align: right;\n",
              "    }\n",
              "</style>\n",
              "<table border=\"1\" class=\"dataframe\">\n",
              "  <thead>\n",
              "    <tr style=\"text-align: right;\">\n",
              "      <th></th>\n",
              "      <th>PassengerId</th>\n",
              "      <th>Pclass</th>\n",
              "      <th>Name</th>\n",
              "      <th>Sex</th>\n",
              "      <th>Age</th>\n",
              "      <th>SibSp</th>\n",
              "      <th>Parch</th>\n",
              "      <th>Ticket</th>\n",
              "      <th>Fare</th>\n",
              "      <th>Cabin</th>\n",
              "      <th>Embarked</th>\n",
              "      <th>Survived</th>\n",
              "    </tr>\n",
              "  </thead>\n",
              "  <tbody>\n",
              "    <tr>\n",
              "      <th>0</th>\n",
              "      <td>892</td>\n",
              "      <td>3</td>\n",
              "      <td>Kelly, Mr. James</td>\n",
              "      <td>male</td>\n",
              "      <td>34.5</td>\n",
              "      <td>0</td>\n",
              "      <td>0</td>\n",
              "      <td>330911</td>\n",
              "      <td>7.8292</td>\n",
              "      <td>NaN</td>\n",
              "      <td>Q</td>\n",
              "      <td>0</td>\n",
              "    </tr>\n",
              "    <tr>\n",
              "      <th>1</th>\n",
              "      <td>893</td>\n",
              "      <td>3</td>\n",
              "      <td>Wilkes, Mrs. James (Ellen Needs)</td>\n",
              "      <td>female</td>\n",
              "      <td>47.0</td>\n",
              "      <td>1</td>\n",
              "      <td>0</td>\n",
              "      <td>363272</td>\n",
              "      <td>7.0000</td>\n",
              "      <td>NaN</td>\n",
              "      <td>S</td>\n",
              "      <td>1</td>\n",
              "    </tr>\n",
              "    <tr>\n",
              "      <th>2</th>\n",
              "      <td>894</td>\n",
              "      <td>2</td>\n",
              "      <td>Myles, Mr. Thomas Francis</td>\n",
              "      <td>male</td>\n",
              "      <td>62.0</td>\n",
              "      <td>0</td>\n",
              "      <td>0</td>\n",
              "      <td>240276</td>\n",
              "      <td>9.6875</td>\n",
              "      <td>NaN</td>\n",
              "      <td>Q</td>\n",
              "      <td>0</td>\n",
              "    </tr>\n",
              "    <tr>\n",
              "      <th>3</th>\n",
              "      <td>895</td>\n",
              "      <td>3</td>\n",
              "      <td>Wirz, Mr. Albert</td>\n",
              "      <td>male</td>\n",
              "      <td>27.0</td>\n",
              "      <td>0</td>\n",
              "      <td>0</td>\n",
              "      <td>315154</td>\n",
              "      <td>8.6625</td>\n",
              "      <td>NaN</td>\n",
              "      <td>S</td>\n",
              "      <td>0</td>\n",
              "    </tr>\n",
              "    <tr>\n",
              "      <th>4</th>\n",
              "      <td>896</td>\n",
              "      <td>3</td>\n",
              "      <td>Hirvonen, Mrs. Alexander (Helga E Lindqvist)</td>\n",
              "      <td>female</td>\n",
              "      <td>22.0</td>\n",
              "      <td>1</td>\n",
              "      <td>1</td>\n",
              "      <td>3101298</td>\n",
              "      <td>12.2875</td>\n",
              "      <td>NaN</td>\n",
              "      <td>S</td>\n",
              "      <td>1</td>\n",
              "    </tr>\n",
              "  </tbody>\n",
              "</table>\n",
              "</div>"
            ],
            "text/plain": [
              "   PassengerId  Pclass  ... Embarked Survived\n",
              "0          892       3  ...        Q        0\n",
              "1          893       3  ...        S        1\n",
              "2          894       2  ...        Q        0\n",
              "3          895       3  ...        S        0\n",
              "4          896       3  ...        S        1\n",
              "\n",
              "[5 rows x 12 columns]"
            ]
          },
          "metadata": {
            "tags": []
          },
          "execution_count": 9
        }
      ]
    },
    {
      "cell_type": "code",
      "metadata": {
        "id": "0y8HlCTnYx2c",
        "colab_type": "code",
        "outputId": "171881fe-616b-4010-e5ca-681a4b0e9b2f",
        "colab": {
          "base_uri": "https://localhost:8080/",
          "height": 447
        }
      },
      "source": [
        "#train과 열 순서를 맞춰준다.\n",
        "\n",
        "test_df = test_df[ ['PassengerId', 'Survived', 'Pclass', 'Name', 'Sex', 'Age', 'SibSp', 'Parch', 'Ticket', 'Fare', 'Embarked'] ]\n",
        "\n",
        "test_df.head()"
      ],
      "execution_count": 0,
      "outputs": [
        {
          "output_type": "execute_result",
          "data": {
            "text/html": [
              "<div>\n",
              "<style scoped>\n",
              "    .dataframe tbody tr th:only-of-type {\n",
              "        vertical-align: middle;\n",
              "    }\n",
              "\n",
              "    .dataframe tbody tr th {\n",
              "        vertical-align: top;\n",
              "    }\n",
              "\n",
              "    .dataframe thead th {\n",
              "        text-align: right;\n",
              "    }\n",
              "</style>\n",
              "<table border=\"1\" class=\"dataframe\">\n",
              "  <thead>\n",
              "    <tr style=\"text-align: right;\">\n",
              "      <th></th>\n",
              "      <th>PassengerId</th>\n",
              "      <th>Survived</th>\n",
              "      <th>Pclass</th>\n",
              "      <th>Name</th>\n",
              "      <th>Sex</th>\n",
              "      <th>Age</th>\n",
              "      <th>SibSp</th>\n",
              "      <th>Parch</th>\n",
              "      <th>Ticket</th>\n",
              "      <th>Fare</th>\n",
              "      <th>Embarked</th>\n",
              "    </tr>\n",
              "  </thead>\n",
              "  <tbody>\n",
              "    <tr>\n",
              "      <th>0</th>\n",
              "      <td>892</td>\n",
              "      <td>0</td>\n",
              "      <td>3</td>\n",
              "      <td>Kelly, Mr. James</td>\n",
              "      <td>male</td>\n",
              "      <td>34.5</td>\n",
              "      <td>0</td>\n",
              "      <td>0</td>\n",
              "      <td>330911</td>\n",
              "      <td>7.8292</td>\n",
              "      <td>Q</td>\n",
              "    </tr>\n",
              "    <tr>\n",
              "      <th>1</th>\n",
              "      <td>893</td>\n",
              "      <td>1</td>\n",
              "      <td>3</td>\n",
              "      <td>Wilkes, Mrs. James (Ellen Needs)</td>\n",
              "      <td>female</td>\n",
              "      <td>47.0</td>\n",
              "      <td>1</td>\n",
              "      <td>0</td>\n",
              "      <td>363272</td>\n",
              "      <td>7.0000</td>\n",
              "      <td>S</td>\n",
              "    </tr>\n",
              "    <tr>\n",
              "      <th>2</th>\n",
              "      <td>894</td>\n",
              "      <td>0</td>\n",
              "      <td>2</td>\n",
              "      <td>Myles, Mr. Thomas Francis</td>\n",
              "      <td>male</td>\n",
              "      <td>62.0</td>\n",
              "      <td>0</td>\n",
              "      <td>0</td>\n",
              "      <td>240276</td>\n",
              "      <td>9.6875</td>\n",
              "      <td>Q</td>\n",
              "    </tr>\n",
              "    <tr>\n",
              "      <th>3</th>\n",
              "      <td>895</td>\n",
              "      <td>0</td>\n",
              "      <td>3</td>\n",
              "      <td>Wirz, Mr. Albert</td>\n",
              "      <td>male</td>\n",
              "      <td>27.0</td>\n",
              "      <td>0</td>\n",
              "      <td>0</td>\n",
              "      <td>315154</td>\n",
              "      <td>8.6625</td>\n",
              "      <td>S</td>\n",
              "    </tr>\n",
              "    <tr>\n",
              "      <th>4</th>\n",
              "      <td>896</td>\n",
              "      <td>1</td>\n",
              "      <td>3</td>\n",
              "      <td>Hirvonen, Mrs. Alexander (Helga E Lindqvist)</td>\n",
              "      <td>female</td>\n",
              "      <td>22.0</td>\n",
              "      <td>1</td>\n",
              "      <td>1</td>\n",
              "      <td>3101298</td>\n",
              "      <td>12.2875</td>\n",
              "      <td>S</td>\n",
              "    </tr>\n",
              "  </tbody>\n",
              "</table>\n",
              "</div>"
            ],
            "text/plain": [
              "   PassengerId  Survived  Pclass  ...   Ticket     Fare  Embarked\n",
              "0          892         0       3  ...   330911   7.8292         Q\n",
              "1          893         1       3  ...   363272   7.0000         S\n",
              "2          894         0       2  ...   240276   9.6875         Q\n",
              "3          895         0       3  ...   315154   8.6625         S\n",
              "4          896         1       3  ...  3101298  12.2875         S\n",
              "\n",
              "[5 rows x 11 columns]"
            ]
          },
          "metadata": {
            "tags": []
          },
          "execution_count": 10
        }
      ]
    },
    {
      "cell_type": "markdown",
      "metadata": {
        "id": "JpXhPp3YbO1B",
        "colab_type": "text"
      },
      "source": [
        "missing data 확인"
      ]
    },
    {
      "cell_type": "code",
      "metadata": {
        "id": "0WcPbLcLYxwj",
        "colab_type": "code",
        "outputId": "e29ee6a5-dbd7-4d64-ad84-77fc8bb7144c",
        "colab": {
          "base_uri": "https://localhost:8080/",
          "height": 260
        }
      },
      "source": [
        "train_df.isnull().sum()"
      ],
      "execution_count": 0,
      "outputs": [
        {
          "output_type": "execute_result",
          "data": {
            "text/plain": [
              "PassengerId      0\n",
              "Survived         0\n",
              "Pclass           0\n",
              "Name             0\n",
              "Sex              0\n",
              "Age            177\n",
              "SibSp            0\n",
              "Parch            0\n",
              "Ticket           0\n",
              "Fare             0\n",
              "Cabin          687\n",
              "Embarked         2\n",
              "dtype: int64"
            ]
          },
          "metadata": {
            "tags": []
          },
          "execution_count": 11
        }
      ]
    },
    {
      "cell_type": "code",
      "metadata": {
        "id": "bscT7-sEYxsy",
        "colab_type": "code",
        "outputId": "6920bf41-d532-4fd8-decf-f3b413feccb8",
        "colab": {
          "base_uri": "https://localhost:8080/",
          "height": 241
        }
      },
      "source": [
        "test_df.isnull().sum()"
      ],
      "execution_count": 0,
      "outputs": [
        {
          "output_type": "execute_result",
          "data": {
            "text/plain": [
              "PassengerId     0\n",
              "Survived        0\n",
              "Pclass          0\n",
              "Name            0\n",
              "Sex             0\n",
              "Age            86\n",
              "SibSp           0\n",
              "Parch           0\n",
              "Ticket          0\n",
              "Fare            1\n",
              "Embarked        0\n",
              "dtype: int64"
            ]
          },
          "metadata": {
            "tags": []
          },
          "execution_count": 12
        }
      ]
    },
    {
      "cell_type": "code",
      "metadata": {
        "id": "oFFEVcAAYxop",
        "colab_type": "code",
        "outputId": "6ef6119e-9f79-4fb6-d5da-fa52e95fc54d",
        "colab": {
          "base_uri": "https://localhost:8080/",
          "height": 92
        }
      },
      "source": [
        "train_df['Embarked'].value_counts()"
      ],
      "execution_count": 0,
      "outputs": [
        {
          "output_type": "execute_result",
          "data": {
            "text/plain": [
              "S    644\n",
              "C    168\n",
              "Q     77\n",
              "Name: Embarked, dtype: int64"
            ]
          },
          "metadata": {
            "tags": []
          },
          "execution_count": 13
        }
      ]
    },
    {
      "cell_type": "code",
      "metadata": {
        "id": "EDaykdIUYxm0",
        "colab_type": "code",
        "outputId": "68c1bd8d-5db1-407d-eb29-01aea3d06954",
        "colab": {
          "base_uri": "https://localhost:8080/",
          "height": 55
        }
      },
      "source": [
        "print(train_df['Age'].mean())\n",
        "print(train_df['Age'].median())"
      ],
      "execution_count": 0,
      "outputs": [
        {
          "output_type": "stream",
          "text": [
            "29.69911764705882\n",
            "28.0\n"
          ],
          "name": "stdout"
        }
      ]
    },
    {
      "cell_type": "markdown",
      "metadata": {
        "id": "o1Rkg_P1b06b",
        "colab_type": "text"
      },
      "source": [
        "## missing data 처리\n",
        "train_df['Age']는 mean으로 대체, train_df['Embarked']는 가장 빈도수가 많은 S로 대체\n"
      ]
    },
    {
      "cell_type": "code",
      "metadata": {
        "id": "CoQ64odKYxi7",
        "colab_type": "code",
        "outputId": "2ee6f42f-c531-451d-fd40-7f1cb8af355e",
        "colab": {
          "base_uri": "https://localhost:8080/",
          "height": 260
        }
      },
      "source": [
        "train_df['Age'].fillna(train_df['Age'].mean(), inplace=True)\n",
        "\n",
        "train_df['Embarked'].fillna('S', inplace=True) #그 외의 값은 중요하지 않기 때문에 Nan으로 냅둠\n",
        "\n",
        "train_df.isnull().sum()"
      ],
      "execution_count": 0,
      "outputs": [
        {
          "output_type": "execute_result",
          "data": {
            "text/plain": [
              "PassengerId      0\n",
              "Survived         0\n",
              "Pclass           0\n",
              "Name             0\n",
              "Sex              0\n",
              "Age              0\n",
              "SibSp            0\n",
              "Parch            0\n",
              "Ticket           0\n",
              "Fare             0\n",
              "Cabin          687\n",
              "Embarked         0\n",
              "dtype: int64"
            ]
          },
          "metadata": {
            "tags": []
          },
          "execution_count": 16
        }
      ]
    },
    {
      "cell_type": "markdown",
      "metadata": {
        "id": "1ClRZ0LAdF4s",
        "colab_type": "text"
      },
      "source": [
        "test_df['Age']열의 NaN 또한 mean() 대체, test_df['Fare']는 mean() 대체"
      ]
    },
    {
      "cell_type": "code",
      "metadata": {
        "id": "7d9b231HYxg8",
        "colab_type": "code",
        "outputId": "6d4e0b8a-8e73-49b0-eede-28a4ac86b1d4",
        "colab": {
          "base_uri": "https://localhost:8080/",
          "height": 241
        }
      },
      "source": [
        "test_df['Age'].fillna(test_df['Age'].mean(), inplace=True)\n",
        "\n",
        "test_df['Fare'].fillna(test_df['Fare'].mean(), inplace=True)\n",
        "\n",
        "test_df.isnull().sum()"
      ],
      "execution_count": 0,
      "outputs": [
        {
          "output_type": "execute_result",
          "data": {
            "text/plain": [
              "PassengerId    0\n",
              "Survived       0\n",
              "Pclass         0\n",
              "Name           0\n",
              "Sex            0\n",
              "Age            0\n",
              "SibSp          0\n",
              "Parch          0\n",
              "Ticket         0\n",
              "Fare           0\n",
              "Embarked       0\n",
              "dtype: int64"
            ]
          },
          "metadata": {
            "tags": []
          },
          "execution_count": 17
        }
      ]
    },
    {
      "cell_type": "markdown",
      "metadata": {
        "id": "MZSFAst6duaX",
        "colab_type": "text"
      },
      "source": [
        "딥러닝 학습을 위한 행렬 생성"
      ]
    },
    {
      "cell_type": "code",
      "metadata": {
        "id": "bc_0w_UnYxem",
        "colab_type": "code",
        "outputId": "cfc8cb6f-87e1-45c6-e86b-2c1dd333c8b2",
        "colab": {
          "base_uri": "https://localhost:8080/",
          "height": 55
        }
      },
      "source": [
        "train_csv_data = train_df.values\n",
        "test_csv_data = test_df.values\n",
        "\n",
        "print(type(train_csv_data), train_csv_data.shape)\n",
        "print(type(test_csv_data), test_csv_data.shape)"
      ],
      "execution_count": 0,
      "outputs": [
        {
          "output_type": "stream",
          "text": [
            "<class 'numpy.ndarray'> (891, 12)\n",
            "<class 'numpy.ndarray'> (418, 11)\n"
          ],
          "name": "stdout"
        }
      ]
    },
    {
      "cell_type": "markdown",
      "metadata": {
        "id": "P0M6nbrReI5i",
        "colab_type": "text"
      },
      "source": [
        "Data 를 문자에서 숫자로 변경"
      ]
    },
    {
      "cell_type": "code",
      "metadata": {
        "id": "2ugo2p3CYxct",
        "colab_type": "code",
        "colab": {}
      },
      "source": [
        "#train_csv_data 에서 male=> 1, female=> 0\n",
        "for i in range(len(train_csv_data)):\n",
        "\n",
        "  if train_csv_data[i,4] == 'male':\n",
        "\n",
        "    train_csv_data[i,4] = 1.0\n",
        "\n",
        "  else:\n",
        "\n",
        "    train_csv_data[i,4] = 0.0\n",
        "\n",
        "#test_csv_data 에서 male=> 1, female=> 0\n",
        "for i in range(len(test_csv_data)):\n",
        "\n",
        "  if test_csv_data[i,4] == 'male':\n",
        "\n",
        "    test_csv_data[i,4] = 1.0\n",
        "\n",
        "  else:\n",
        "\n",
        "    test_csv_data[i,4] = 0.0\n",
        "\n"
      ],
      "execution_count": 0,
      "outputs": []
    },
    {
      "cell_type": "code",
      "metadata": {
        "id": "VA6jCbPyYxav",
        "colab_type": "code",
        "colab": {}
      },
      "source": [
        "#train_csv_data 에서 Embarked, Empty=> 0, S => 1, C => 2, Q => 3\n",
        "for i in range(len(train_csv_data)):\n",
        "\n",
        "  if train_csv_data[i,11] == 'S':\n",
        "\n",
        "    train_csv_data[i,11] = 1.0\n",
        "\n",
        "  elif train_csv_data[i,11] == 'C':\n",
        "\n",
        "    train_csv_data[i,11] = 2.0\n",
        "\n",
        "  elif train_csv_data[i,11] == 'Q':\n",
        "\n",
        "    train_csv_data[i,11] = 3\n",
        "\n",
        "#test_csv_data 에서 Embarked, Empty=> 0, S => 1, C => 2, Q => 3\n",
        "for i in range(len(test_csv_data)):\n",
        "\n",
        "  if test_csv_data[i,10] == 'S':\n",
        "\n",
        "    test_csv_data[i,10] = 1.0\n",
        "\n",
        "  elif test_csv_data[i,10] == 'C':\n",
        "\n",
        "    test_csv_data[i,10] = 2.0\n",
        "\n",
        "  elif test_csv_data[i,10] == 'Q':\n",
        "\n",
        "    test_csv_data[i,10] = 3\n",
        "\n"
      ],
      "execution_count": 0,
      "outputs": []
    },
    {
      "cell_type": "markdown",
      "metadata": {
        "id": "aKHmtFhOgnuZ",
        "colab_type": "text"
      },
      "source": [
        "training data 생성에 필요한 칼럼 재 확인"
      ]
    },
    {
      "cell_type": "code",
      "metadata": {
        "id": "F3x6stkBYxX4",
        "colab_type": "code",
        "outputId": "6aed72f1-0f99-4566-ec26-521b841ba090",
        "colab": {
          "base_uri": "https://localhost:8080/",
          "height": 499
        }
      },
      "source": [
        "train_df.head()"
      ],
      "execution_count": 0,
      "outputs": [
        {
          "output_type": "execute_result",
          "data": {
            "text/html": [
              "<div>\n",
              "<style scoped>\n",
              "    .dataframe tbody tr th:only-of-type {\n",
              "        vertical-align: middle;\n",
              "    }\n",
              "\n",
              "    .dataframe tbody tr th {\n",
              "        vertical-align: top;\n",
              "    }\n",
              "\n",
              "    .dataframe thead th {\n",
              "        text-align: right;\n",
              "    }\n",
              "</style>\n",
              "<table border=\"1\" class=\"dataframe\">\n",
              "  <thead>\n",
              "    <tr style=\"text-align: right;\">\n",
              "      <th></th>\n",
              "      <th>PassengerId</th>\n",
              "      <th>Survived</th>\n",
              "      <th>Pclass</th>\n",
              "      <th>Name</th>\n",
              "      <th>Sex</th>\n",
              "      <th>Age</th>\n",
              "      <th>SibSp</th>\n",
              "      <th>Parch</th>\n",
              "      <th>Ticket</th>\n",
              "      <th>Fare</th>\n",
              "      <th>Cabin</th>\n",
              "      <th>Embarked</th>\n",
              "    </tr>\n",
              "  </thead>\n",
              "  <tbody>\n",
              "    <tr>\n",
              "      <th>0</th>\n",
              "      <td>1</td>\n",
              "      <td>0</td>\n",
              "      <td>3</td>\n",
              "      <td>Braund, Mr. Owen Harris</td>\n",
              "      <td>male</td>\n",
              "      <td>22.0</td>\n",
              "      <td>1</td>\n",
              "      <td>0</td>\n",
              "      <td>A/5 21171</td>\n",
              "      <td>7.2500</td>\n",
              "      <td>NaN</td>\n",
              "      <td>S</td>\n",
              "    </tr>\n",
              "    <tr>\n",
              "      <th>1</th>\n",
              "      <td>2</td>\n",
              "      <td>1</td>\n",
              "      <td>1</td>\n",
              "      <td>Cumings, Mrs. John Bradley (Florence Briggs Th...</td>\n",
              "      <td>female</td>\n",
              "      <td>38.0</td>\n",
              "      <td>1</td>\n",
              "      <td>0</td>\n",
              "      <td>PC 17599</td>\n",
              "      <td>71.2833</td>\n",
              "      <td>C85</td>\n",
              "      <td>C</td>\n",
              "    </tr>\n",
              "    <tr>\n",
              "      <th>2</th>\n",
              "      <td>3</td>\n",
              "      <td>1</td>\n",
              "      <td>3</td>\n",
              "      <td>Heikkinen, Miss. Laina</td>\n",
              "      <td>female</td>\n",
              "      <td>26.0</td>\n",
              "      <td>0</td>\n",
              "      <td>0</td>\n",
              "      <td>STON/O2. 3101282</td>\n",
              "      <td>7.9250</td>\n",
              "      <td>NaN</td>\n",
              "      <td>S</td>\n",
              "    </tr>\n",
              "    <tr>\n",
              "      <th>3</th>\n",
              "      <td>4</td>\n",
              "      <td>1</td>\n",
              "      <td>1</td>\n",
              "      <td>Futrelle, Mrs. Jacques Heath (Lily May Peel)</td>\n",
              "      <td>female</td>\n",
              "      <td>35.0</td>\n",
              "      <td>1</td>\n",
              "      <td>0</td>\n",
              "      <td>113803</td>\n",
              "      <td>53.1000</td>\n",
              "      <td>C123</td>\n",
              "      <td>S</td>\n",
              "    </tr>\n",
              "    <tr>\n",
              "      <th>4</th>\n",
              "      <td>5</td>\n",
              "      <td>0</td>\n",
              "      <td>3</td>\n",
              "      <td>Allen, Mr. William Henry</td>\n",
              "      <td>male</td>\n",
              "      <td>35.0</td>\n",
              "      <td>0</td>\n",
              "      <td>0</td>\n",
              "      <td>373450</td>\n",
              "      <td>8.0500</td>\n",
              "      <td>NaN</td>\n",
              "      <td>S</td>\n",
              "    </tr>\n",
              "  </tbody>\n",
              "</table>\n",
              "</div>"
            ],
            "text/plain": [
              "   PassengerId  Survived  Pclass  ...     Fare Cabin  Embarked\n",
              "0            1         0       3  ...   7.2500   NaN         S\n",
              "1            2         1       1  ...  71.2833   C85         C\n",
              "2            3         1       3  ...   7.9250   NaN         S\n",
              "3            4         1       1  ...  53.1000  C123         S\n",
              "4            5         0       3  ...   8.0500   NaN         S\n",
              "\n",
              "[5 rows x 12 columns]"
            ]
          },
          "metadata": {
            "tags": []
          },
          "execution_count": 22
        }
      ]
    },
    {
      "cell_type": "code",
      "metadata": {
        "id": "oexRYOf1guEm",
        "colab_type": "code",
        "outputId": "63debe10-4f7a-4c6b-b05e-25e8d0cde618",
        "colab": {
          "base_uri": "https://localhost:8080/",
          "height": 73
        }
      },
      "source": [
        "training_input_data = train_csv_data[ : , [ 2, 4, 5, 6, 7, 9] ].astype('float32') # Pclass, Sex, Age, SibSp, Parch, Fare\n",
        "\n",
        "training_target_data = train_csv_data[ : , 1 ].astype('float32') #Survived\n",
        "\n",
        "print('training_input_data.shape = ', training_input_data.shape, 'training_target_data.shape = ', training_target_data.shape)\n",
        "\n",
        "print(training_input_data[1])\n",
        "print(training_target_data[1])"
      ],
      "execution_count": 0,
      "outputs": [
        {
          "output_type": "stream",
          "text": [
            "training_input_data.shape =  (891, 6) training_target_data.shape =  (891,)\n",
            "[ 1.      0.     38.      1.      0.     71.2833]\n",
            "1.0\n"
          ],
          "name": "stdout"
        }
      ]
    },
    {
      "cell_type": "code",
      "metadata": {
        "id": "pjLAJVv8jKlG",
        "colab_type": "code",
        "outputId": "d8b9b7d8-11aa-4275-8e30-07d63f758d04",
        "colab": {
          "base_uri": "https://localhost:8080/",
          "height": 447
        }
      },
      "source": [
        "test_df.head()"
      ],
      "execution_count": 0,
      "outputs": [
        {
          "output_type": "execute_result",
          "data": {
            "text/html": [
              "<div>\n",
              "<style scoped>\n",
              "    .dataframe tbody tr th:only-of-type {\n",
              "        vertical-align: middle;\n",
              "    }\n",
              "\n",
              "    .dataframe tbody tr th {\n",
              "        vertical-align: top;\n",
              "    }\n",
              "\n",
              "    .dataframe thead th {\n",
              "        text-align: right;\n",
              "    }\n",
              "</style>\n",
              "<table border=\"1\" class=\"dataframe\">\n",
              "  <thead>\n",
              "    <tr style=\"text-align: right;\">\n",
              "      <th></th>\n",
              "      <th>PassengerId</th>\n",
              "      <th>Survived</th>\n",
              "      <th>Pclass</th>\n",
              "      <th>Name</th>\n",
              "      <th>Sex</th>\n",
              "      <th>Age</th>\n",
              "      <th>SibSp</th>\n",
              "      <th>Parch</th>\n",
              "      <th>Ticket</th>\n",
              "      <th>Fare</th>\n",
              "      <th>Embarked</th>\n",
              "    </tr>\n",
              "  </thead>\n",
              "  <tbody>\n",
              "    <tr>\n",
              "      <th>0</th>\n",
              "      <td>892</td>\n",
              "      <td>0</td>\n",
              "      <td>3</td>\n",
              "      <td>Kelly, Mr. James</td>\n",
              "      <td>male</td>\n",
              "      <td>34.5</td>\n",
              "      <td>0</td>\n",
              "      <td>0</td>\n",
              "      <td>330911</td>\n",
              "      <td>7.8292</td>\n",
              "      <td>Q</td>\n",
              "    </tr>\n",
              "    <tr>\n",
              "      <th>1</th>\n",
              "      <td>893</td>\n",
              "      <td>1</td>\n",
              "      <td>3</td>\n",
              "      <td>Wilkes, Mrs. James (Ellen Needs)</td>\n",
              "      <td>female</td>\n",
              "      <td>47.0</td>\n",
              "      <td>1</td>\n",
              "      <td>0</td>\n",
              "      <td>363272</td>\n",
              "      <td>7.0000</td>\n",
              "      <td>S</td>\n",
              "    </tr>\n",
              "    <tr>\n",
              "      <th>2</th>\n",
              "      <td>894</td>\n",
              "      <td>0</td>\n",
              "      <td>2</td>\n",
              "      <td>Myles, Mr. Thomas Francis</td>\n",
              "      <td>male</td>\n",
              "      <td>62.0</td>\n",
              "      <td>0</td>\n",
              "      <td>0</td>\n",
              "      <td>240276</td>\n",
              "      <td>9.6875</td>\n",
              "      <td>Q</td>\n",
              "    </tr>\n",
              "    <tr>\n",
              "      <th>3</th>\n",
              "      <td>895</td>\n",
              "      <td>0</td>\n",
              "      <td>3</td>\n",
              "      <td>Wirz, Mr. Albert</td>\n",
              "      <td>male</td>\n",
              "      <td>27.0</td>\n",
              "      <td>0</td>\n",
              "      <td>0</td>\n",
              "      <td>315154</td>\n",
              "      <td>8.6625</td>\n",
              "      <td>S</td>\n",
              "    </tr>\n",
              "    <tr>\n",
              "      <th>4</th>\n",
              "      <td>896</td>\n",
              "      <td>1</td>\n",
              "      <td>3</td>\n",
              "      <td>Hirvonen, Mrs. Alexander (Helga E Lindqvist)</td>\n",
              "      <td>female</td>\n",
              "      <td>22.0</td>\n",
              "      <td>1</td>\n",
              "      <td>1</td>\n",
              "      <td>3101298</td>\n",
              "      <td>12.2875</td>\n",
              "      <td>S</td>\n",
              "    </tr>\n",
              "  </tbody>\n",
              "</table>\n",
              "</div>"
            ],
            "text/plain": [
              "   PassengerId  Survived  Pclass  ...   Ticket     Fare  Embarked\n",
              "0          892         0       3  ...   330911   7.8292         Q\n",
              "1          893         1       3  ...   363272   7.0000         S\n",
              "2          894         0       2  ...   240276   9.6875         Q\n",
              "3          895         0       3  ...   315154   8.6625         S\n",
              "4          896         1       3  ...  3101298  12.2875         S\n",
              "\n",
              "[5 rows x 11 columns]"
            ]
          },
          "metadata": {
            "tags": []
          },
          "execution_count": 32
        }
      ]
    },
    {
      "cell_type": "code",
      "metadata": {
        "id": "gN_vR0APjKQJ",
        "colab_type": "code",
        "outputId": "de97e33a-fbeb-4ea1-8d74-4944e9277054",
        "colab": {
          "base_uri": "https://localhost:8080/",
          "height": 73
        }
      },
      "source": [
        "test_input_data = train_csv_data[ : , [ 2, 4, 5, 6, 7, 9] ].astype('float32') # Pclass, Sex, Age, SibSp, Parch, Fare\n",
        "\n",
        "test_target_data = train_csv_data[ : , 1 ].astype('float32') #Survived\n",
        "\n",
        "print('test_input_data.shape = ', test_input_data.shape, 'test_target_data.shape = ', test_target_data.shape)\n",
        "\n",
        "print(test_input_data[1])\n",
        "print(test_target_data[1])"
      ],
      "execution_count": 0,
      "outputs": [
        {
          "output_type": "stream",
          "text": [
            "test_input_data.shape =  (891, 6) test_target_data.shape =  (891,)\n",
            "[ 1.      0.     38.      1.      0.     71.2833]\n",
            "1.0\n"
          ],
          "name": "stdout"
        }
      ]
    },
    {
      "cell_type": "markdown",
      "metadata": {
        "id": "eWO-EihBinei",
        "colab_type": "text"
      },
      "source": [
        "**오차역전파를 위한 코드 구현**"
      ]
    },
    {
      "cell_type": "code",
      "metadata": {
        "id": "0j-zyX11YxUu",
        "colab_type": "code",
        "colab": {}
      },
      "source": [
        "# sigmoid 함수 정의\n",
        "def sigmoid(x):\n",
        "    return 1 / (1+np.exp(-x))"
      ],
      "execution_count": 0,
      "outputs": []
    },
    {
      "cell_type": "code",
      "metadata": {
        "id": "bCnVCtlUYxTM",
        "colab_type": "code",
        "colab": {}
      },
      "source": [
        "from datetime import datetime      # datetime.now() 를 이용하여 학습 경과 시간 측정\n",
        "\n",
        "class Kaggle_Titanic:\n",
        "    \n",
        "    def __init__(self, name, input_nodes, hidden_nodes, output_nodes, learning_rate):\n",
        "        \n",
        "        self.input_nodes = input_nodes\n",
        "        self.hidden_nodes = hidden_nodes\n",
        "        self.output_nodes = output_nodes\n",
        "        \n",
        "        # 은닉층 가중치  W2 = Xavier/He 방법으로 self.W2 가중치 초기화\n",
        "        self.W2 = np.random.randn(self.input_nodes, self.hidden_nodes) / np.sqrt(self.input_nodes/2)\n",
        "        self.b2 = np.random.rand(self.hidden_nodes)      \n",
        "        \n",
        "        # 출력층 가중치는 W3 =  Xavier/He 방법으로 self.W3 가중치 초기화\n",
        "        self.W3 = np.random.randn(self.hidden_nodes, self.output_nodes) / np.sqrt(self.hidden_nodes/2)\n",
        "        self.b3 = np.random.rand(self.output_nodes)      \n",
        "                        \n",
        "        # 출력층 선형회귀 값 Z3, 출력값 A3 정의 (모두 행렬로 표시)\n",
        "        self.Z3 = np.zeros([1,output_nodes])\n",
        "        self.A3 = np.zeros([1,output_nodes])\n",
        "        \n",
        "        # 은닉층 선형회귀 값 Z2, 출력값 A2 정의 (모두 행렬로 표시)\n",
        "        self.Z2 = np.zeros([1,hidden_nodes])\n",
        "        self.A2 = np.zeros([1,hidden_nodes])\n",
        "        \n",
        "        # 입력층 선형회귀 값 Z1, 출력값 A1 정의 (모두 행렬로 표시)\n",
        "        self.Z1 = np.zeros([1,input_nodes])    \n",
        "        self.A1 = np.zeros([1,input_nodes])       \n",
        "        \n",
        "        # 학습률 learning rate 초기화\n",
        "        self.learning_rate = learning_rate\n",
        "        \n",
        "        # name 초기화\n",
        "        self.name = name\n",
        "        \n",
        "        print(self.name, \" object is created !!!\")\n",
        "        \n",
        "    def feed_forward(self):  \n",
        "        \n",
        "        delta = 1e-7    # log 무한대 발산 방지\n",
        "        \n",
        "        # 입력층 선형회귀 값 Z1, 출력값 A1 계산\n",
        "        self.Z1 = self.input_data\n",
        "        self.A1 = self.input_data\n",
        "        \n",
        "        # 은닉층 선형회귀 값 Z2, 출력값 A2 계산    \n",
        "        self.Z2 = np.dot(self.A1, self.W2) + self.b2\n",
        "        self.A2 = sigmoid(self.Z2)\n",
        "        \n",
        "        # 출력층 선형회귀 값 Z3, 출력값 A3 계산\n",
        "        self.Z3 = np.dot(self.A2, self.W3) + self.b3\n",
        "        y = self.A3 = sigmoid(self.Z3)\n",
        "        \n",
        "        return  -np.sum( self.target_data*np.log(y + delta) + (1-self.target_data)*np.log((1 - y)+delta ) )    \n",
        "    \n",
        "    def loss_val(self):\n",
        "        \n",
        "        delta = 1e-7    # log 무한대 발산 방지\n",
        "        \n",
        "        # 입력층 선형회귀 값 Z1, 출력값 A1 계산\n",
        "        self.Z1 = self.input_data\n",
        "        self.A1 = self.input_data\n",
        "        \n",
        "        # 은닉층 선형회귀 값 Z2, 출력값 A2 계산    \n",
        "        self.Z2 = np.dot(self.A1, self.W2) + self.b2\n",
        "        self.A2 = sigmoid(self.Z2)\n",
        "        \n",
        "        # 출력층 선형회귀 값 Z3, 출력값 A3 계산\n",
        "        self.Z3 = np.dot(self.A2, self.W3) + self.b3\n",
        "        y = self.A3 = sigmoid(self.Z3)\n",
        "        \n",
        "        return  -np.sum( self.target_data*np.log(y + delta) + (1-self.target_data)*np.log((1 - y)+delta ) )    \n",
        "    \n",
        "    # accuracy method\n",
        "    def accuracy(self, input_data, target_data):\n",
        "        \n",
        "        matched_list = []\n",
        "        not_matched_list = []\n",
        "        \n",
        "        # list which contains (index, label, prediction) value\n",
        "        index_label_prediction_list = []\n",
        "        \n",
        "        temp_list = []\n",
        "        \n",
        "        for index in range(len(input_data)):\n",
        "            \n",
        "            # predict 를 위해서 vector 을 matrix 로 변환하여 인수로 넘겨줌\n",
        "            # dtype=np.float32 해주지 않으면 sigmoid 에서 Numpy AttributeError: 'float' object has no attribute 'exp' 발생함\n",
        "            # 해결방법 소스\n",
        "            # https://stackoverflow.com/questions/18557337/numpy-attributeerror-float-object-has-no-attribute-exp/18568056\n",
        "            (real_val, predicted_num) = self.predict(np.array(input_data[index], dtype=np.float32, ndmin=2)) \n",
        "            \n",
        "            if predicted_num == target_data[index]:\n",
        "                matched_list.append(index)\n",
        "                \n",
        "            else:\n",
        "                not_matched_list.append(index)\n",
        "                \n",
        "                temp_list.append(index)\n",
        "                temp_list.append(target_data[index])\n",
        "                temp_list.append(predicted_num)\n",
        "                \n",
        "                index_label_prediction_list.append(temp_list)\n",
        "                \n",
        "                temp_list = []\n",
        "                \n",
        "        accuracy_result = len(matched_list) / len(input_data)\n",
        "            \n",
        "        #print(\"Accuracy => \", accuracy_result)\n",
        "            \n",
        "        return accuracy_result, index_label_prediction_list\n",
        "    \n",
        "    # train method\n",
        "    def train(self, input_data, target_data):   \n",
        "        \n",
        "        self.target_data = target_data    \n",
        "        self.input_data = input_data\n",
        "        \n",
        "        # 먼저 feed forward 를 통해서 최종 출력값과 이를 바탕으로 현재의 에러 값 계산\n",
        "        loss_val = self.feed_forward()\n",
        "        \n",
        "        # 출력층 loss 인 loss_3 구함\n",
        "        loss_3 = (self.A3-self.target_data) * self.A3 * (1-self.A3)\n",
        "                        \n",
        "        # 출력층 가중치 W3, 출력층 바이어스 b3 업데이트\n",
        "        self.W3 = self.W3 - self.learning_rate * np.dot(self.A2.T, loss_3)   \n",
        "        \n",
        "        self.b3 = self.b3 - self.learning_rate * loss_3\n",
        "        \n",
        "        # 은닉층 loss 인 loss_2 구함        \n",
        "        loss_2 = np.dot(loss_3, self.W3.T) * self.A2 * (1-self.A2)\n",
        "        \n",
        "        # 은닉층 가중치 W2, 은닉층 바이어스 b2 업데이트\n",
        "        self.W2 = self.W2 - self.learning_rate * np.dot(self.A1.T, loss_2)   \n",
        "        \n",
        "        self.b2 = self.b2 - self.learning_rate * loss_2\n",
        "        \n",
        "        \n",
        "    def predict(self, input_data):        # input_data 는 행렬로 입력됨     \n",
        "        \n",
        "        Z2 = np.dot(input_data, self.W2) + self.b2\n",
        "        A2 = sigmoid(Z2)\n",
        "        \n",
        "        Z3 = np.dot(A2, self.W3) + self.b3\n",
        "        y = A3 = sigmoid(Z3)\n",
        "        \n",
        "        if y >= 0.5:\n",
        "            predicted_num = 1\n",
        "        else:\n",
        "            predicted_num = 0\n",
        "    \n",
        "        return y, predicted_num"
      ],
      "execution_count": 0,
      "outputs": []
    },
    {
      "cell_type": "code",
      "metadata": {
        "id": "vfm4RLcPYxQ5",
        "colab_type": "code",
        "outputId": "fafeb078-2ee8-4dd8-eca1-c236657ddc09",
        "colab": {
          "base_uri": "https://localhost:8080/",
          "height": 1000
        }
      },
      "source": [
        "#hyper-parameter\n",
        "i_nodes = training_input_data.shape[1]    # input nodes 개수\n",
        "h1_nodes = 50  # hidden nodes 개수, 20개, 1e-4 OK\n",
        "o_nodes = 1    # output nodes 개수\n",
        "\n",
        "lr = 1e-4     # learning rate\n",
        "\n",
        "epochs = 200   # 반복횟수\n",
        "\n",
        "# 손실함수 값을 저장할 list 생성\n",
        "loss_val_list = []\n",
        "\n",
        "train_acc_list = []\n",
        "validation_acc_list = []\n",
        "\n",
        "# Kaggle_Titanic 객체 생성\n",
        "titanic_obj = Kaggle_Titanic('Titanic', i_nodes, h1_nodes, o_nodes, lr)\n",
        "\n",
        "print(\"Neural Network Learning using BackPropagation...\")\n",
        "\n",
        "\n",
        "start_time = datetime.now()\n",
        "\n",
        "for i in range(epochs):\n",
        "    \n",
        "    for index in range(len(training_input_data)):\n",
        "        \n",
        "        input_data = training_input_data[index]\n",
        "        target_data = training_target_data[index]\n",
        "        \n",
        "        # dtype=np.float32 해주지 않으면 sigmoid 에서 Numpy AttributeError: 'float' object has no attribute 'exp' 발생함\n",
        "        # 해결방법 소스\n",
        "        # https://stackoverflow.com/questions/18557337/numpy-attributeerror-float-object-has-no-attribute-exp/18568056\n",
        "        titanic_obj.train( np.array(input_data, dtype=np.float32, ndmin=2), np.array([target_data], dtype=np.float32, ndmin=2) )  # 행렬로 입력\n",
        "  \n",
        "    \n",
        "    cur_loss_val = titanic_obj.loss_val()\n",
        "    print(\"epochs = \", i+1, \"loss value = \", cur_loss_val)    \n",
        "    \n",
        "    (train_accuracy_val, index_label_prediction_list) = titanic_obj.accuracy(training_input_data, training_target_data)\n",
        "    (validation_accuracy_val, index_label_prediction_list) = titanic_obj.accuracy(test_input_data, test_target_data)\n",
        "    \n",
        "    train_acc_list.append(train_accuracy_val)\n",
        "    validation_acc_list.append(validation_accuracy_val)\n",
        "    \n",
        "    \n",
        "    # 손실함수 값 저장\n",
        "    loss_val_list.append(cur_loss_val) \n",
        "        \n",
        "\n",
        "end_time = datetime.now()\n",
        "        \n",
        "print(\"\")\n",
        "print(\"Elapsed Time => \", end_time - start_time)"
      ],
      "execution_count": 0,
      "outputs": [
        {
          "output_type": "stream",
          "text": [
            "Titanic  object is created !!!\n",
            "Neural Network Learning using BackPropagation...\n",
            "epochs =  1 loss value =  1.284059476018077\n",
            "epochs =  2 loss value =  1.171247314238971\n",
            "epochs =  3 loss value =  1.070741186222947\n",
            "epochs =  4 loss value =  0.9828655194474806\n",
            "epochs =  5 loss value =  0.9071480449382061\n",
            "epochs =  6 loss value =  0.8425558639449156\n",
            "epochs =  7 loss value =  0.787765729825566\n",
            "epochs =  8 loss value =  0.7413857749142199\n",
            "epochs =  9 loss value =  0.7020981714914125\n",
            "epochs =  10 loss value =  0.6687305956157068\n",
            "epochs =  11 loss value =  0.6402786995919636\n",
            "epochs =  12 loss value =  0.6159012357320816\n",
            "epochs =  13 loss value =  0.5949031109633727\n",
            "epochs =  14 loss value =  0.5767146613154431\n",
            "epochs =  15 loss value =  0.5608708547318508\n",
            "epochs =  16 loss value =  0.5469921985423756\n",
            "epochs =  17 loss value =  0.5347682743673263\n",
            "epochs =  18 loss value =  0.5239441599354787\n",
            "epochs =  19 loss value =  0.5143095244991179\n",
            "epochs =  20 loss value =  0.5056899678897162\n",
            "epochs =  21 loss value =  0.49794014777366\n",
            "epochs =  22 loss value =  0.4909383113704834\n",
            "epochs =  23 loss value =  0.48458193990535453\n",
            "epochs =  24 loss value =  0.47878428290808933\n",
            "epochs =  25 loss value =  0.47347160171512487\n",
            "epochs =  26 loss value =  0.46858097187173503\n",
            "epochs =  27 loss value =  0.46405852153825444\n",
            "epochs =  28 loss value =  0.4598580082007662\n",
            "epochs =  29 loss value =  0.45593965773006545\n",
            "epochs =  30 loss value =  0.4522692077062272\n",
            "epochs =  31 loss value =  0.448817111159853\n",
            "epochs =  32 loss value =  0.4455578678744476\n",
            "epochs =  33 loss value =  0.44246945859011916\n",
            "epochs =  34 loss value =  0.43953286334652036\n",
            "epochs =  35 loss value =  0.4367316493438604\n",
            "epochs =  36 loss value =  0.4340516166058406\n",
            "epochs =  37 loss value =  0.4314804918316269\n",
            "epochs =  38 loss value =  0.42900766243486793\n",
            "epochs =  39 loss value =  0.4266239440688335\n",
            "epochs =  40 loss value =  0.42432137601134734\n",
            "epochs =  41 loss value =  0.42209303966429385\n",
            "epochs =  42 loss value =  0.4199328961795166\n",
            "epochs =  43 loss value =  0.41783564016314584\n",
            "epochs =  44 loss value =  0.41579656862491055\n",
            "epochs =  45 loss value =  0.4138114710409094\n",
            "epochs =  46 loss value =  0.41187656446355336\n",
            "epochs =  47 loss value =  0.40998852907606287\n",
            "epochs =  48 loss value =  0.4081446911007587\n",
            "epochs =  49 loss value =  0.4063432193659299\n",
            "epochs =  50 loss value =  0.40458300851882\n",
            "epochs =  51 loss value =  0.40286324521247285\n",
            "epochs =  52 loss value =  0.4011830491892937\n",
            "epochs =  53 loss value =  0.39954136351172204\n",
            "epochs =  54 loss value =  0.3979369885057922\n",
            "epochs =  55 loss value =  0.39636864736532024\n",
            "epochs =  56 loss value =  0.3948350402651597\n",
            "epochs =  57 loss value =  0.3933348804091091\n",
            "epochs =  58 loss value =  0.3918669157510362\n",
            "epochs =  59 loss value =  0.3904299410775845\n",
            "epochs =  60 loss value =  0.38902280399253714\n",
            "epochs =  61 loss value =  0.3876444071509027\n",
            "epochs =  62 loss value =  0.3862937082316897\n",
            "epochs =  63 loss value =  0.3849697185789153\n",
            "epochs =  64 loss value =  0.3836715010883662\n",
            "epochs =  65 loss value =  0.38239816769809987\n",
            "epochs =  66 loss value =  0.38114887670367387\n",
            "epochs =  67 loss value =  0.3799228300331962\n",
            "epochs =  68 loss value =  0.3787192705630789\n",
            "epochs =  69 loss value =  0.3775374795210189\n",
            "epochs =  70 loss value =  0.376376774000741\n",
            "epochs =  71 loss value =  0.3752365045989861\n",
            "epochs =  72 loss value =  0.37411605317599383\n",
            "epochs =  73 loss value =  0.37301483073467534\n",
            "epochs =  74 loss value =  0.37193227540933105\n",
            "epochs =  75 loss value =  0.37086785055150445\n",
            "epochs =  76 loss value =  0.3698210428975887\n",
            "epochs =  77 loss value =  0.3687913607996868\n",
            "epochs =  78 loss value =  0.3677783324974614\n",
            "epochs =  79 loss value =  0.36678150440378865\n",
            "epochs =  80 loss value =  0.3658004393702747\n",
            "epochs =  81 loss value =  0.3648347148893318\n",
            "epochs =  82 loss value =  0.3638839211765776\n",
            "epochs =  83 loss value =  0.362947659059493\n",
            "epochs =  84 loss value =  0.36202553757461226\n",
            "epochs =  85 loss value =  0.3611171711456268\n",
            "epochs =  86 loss value =  0.36022217618185554\n",
            "epochs =  87 loss value =  0.35934016691282633\n",
            "epochs =  88 loss value =  0.35847075029623815\n",
            "epochs =  89 loss value =  0.3576135199951918\n",
            "epochs =  90 loss value =  0.35676804992628364\n",
            "epochs =  91 loss value =  0.3559338891491047\n",
            "epochs =  92 loss value =  0.3551105625066182\n",
            "epochs =  93 loss value =  0.35429758557426355\n",
            "epochs =  94 loss value =  0.3534945053889028\n",
            "epochs =  95 loss value =  0.35270097105923665\n",
            "epochs =  96 loss value =  0.35191681134027447\n",
            "epochs =  97 loss value =  0.3511420670557973\n",
            "epochs =  98 loss value =  0.35037694318831597\n",
            "epochs =  99 loss value =  0.3496217086271086\n",
            "epochs =  100 loss value =  0.34887660473637033\n",
            "epochs =  101 loss value =  0.34814179644056165\n",
            "epochs =  102 loss value =  0.3474173615465448\n",
            "epochs =  103 loss value =  0.34670330061223414\n",
            "epochs =  104 loss value =  0.3459995535301208\n",
            "epochs =  105 loss value =  0.34530601585029275\n",
            "epochs =  106 loss value =  0.3446225523548474\n",
            "epochs =  107 loss value =  0.3439490075014945\n",
            "epochs =  108 loss value =  0.3432852131251705\n",
            "epochs =  109 loss value =  0.34263099396752716\n",
            "epochs =  110 loss value =  0.3419861715673267\n",
            "epochs =  111 loss value =  0.3413505669471858\n",
            "epochs =  112 loss value =  0.3407240024321089\n",
            "epochs =  113 loss value =  0.3401063028505701\n",
            "epochs =  114 loss value =  0.3394972963021711\n",
            "epochs =  115 loss value =  0.3388968146251644\n",
            "epochs =  116 loss value =  0.338304693659224\n",
            "epochs =  117 loss value =  0.33772077337082806\n",
            "epochs =  118 loss value =  0.337144897888234\n",
            "epochs =  119 loss value =  0.33657691547826285\n",
            "epochs =  120 loss value =  0.33601667848664285\n",
            "epochs =  121 loss value =  0.33546404325628043\n",
            "epochs =  122 loss value =  0.33491887003277854\n",
            "epochs =  123 loss value =  0.334381022863059\n",
            "epochs =  124 loss value =  0.3338503694907095\n",
            "epochs =  125 loss value =  0.33332678125019327\n",
            "epochs =  126 loss value =  0.332810132961157\n",
            "epochs =  127 loss value =  0.33230030282352535\n",
            "epochs =  128 loss value =  0.33179717231376726\n",
            "epochs =  129 loss value =  0.3313006260825313\n",
            "epochs =  130 loss value =  0.3308105518538025\n",
            "epochs =  131 loss value =  0.33032684032567816\n",
            "epochs =  132 loss value =  0.3298493850728635\n",
            "epochs =  133 loss value =  0.32937808245099315\n",
            "epochs =  134 loss value =  0.32891283150288403\n",
            "epochs =  135 loss value =  0.3284535338668348\n",
            "epochs =  136 loss value =  0.32800009368707833\n",
            "epochs =  137 loss value =  0.3275524175264849\n",
            "epochs =  138 loss value =  0.32711041428161314\n",
            "epochs =  139 loss value =  0.3266739951001821\n",
            "epochs =  140 loss value =  0.3262430733010229\n",
            "epochs =  141 loss value =  0.32581756429656267\n",
            "epochs =  142 loss value =  0.3253973855178633\n",
            "epochs =  143 loss value =  0.32498245634223005\n",
            "epochs =  144 loss value =  0.3245726980233879\n",
            "epochs =  145 loss value =  0.324168033624207\n",
            "epochs =  146 loss value =  0.3237683879519497\n",
            "epochs =  147 loss value =  0.3233736874960016\n",
            "epochs =  148 loss value =  0.32298386036803395\n",
            "epochs =  149 loss value =  0.3225988362445451\n",
            "epochs =  150 loss value =  0.3222185463117149\n",
            "epochs =  151 loss value =  0.3218429232125059\n",
            "epochs =  152 loss value =  0.3214719009959359\n",
            "epochs =  153 loss value =  0.3211054150684606\n",
            "epochs =  154 loss value =  0.3207434021473704\n",
            "epochs =  155 loss value =  0.3203858002161416\n",
            "epochs =  156 loss value =  0.3200325484816582\n",
            "epochs =  157 loss value =  0.31968358733323055\n",
            "epochs =  158 loss value =  0.3193388583033309\n",
            "epochs =  159 loss value =  0.3189983040299788\n",
            "epochs =  160 loss value =  0.31866186822069875\n",
            "epochs =  161 loss value =  0.3183294956179866\n",
            "epochs =  162 loss value =  0.318001131966202\n",
            "epochs =  163 loss value =  0.31767672397984836\n",
            "epochs =  164 loss value =  0.31735621931314667\n",
            "epochs =  165 loss value =  0.3170395665308648\n",
            "epochs =  166 loss value =  0.31672671508033634\n",
            "epochs =  167 loss value =  0.31641761526461065\n",
            "epochs =  168 loss value =  0.31611221821669216\n",
            "epochs =  169 loss value =  0.3158104758748049\n",
            "epochs =  170 loss value =  0.31551234095864583\n",
            "epochs =  171 loss value =  0.3152177669465771\n",
            "epochs =  172 loss value =  0.3149267080537097\n",
            "epochs =  173 loss value =  0.3146391192108527\n",
            "epochs =  174 loss value =  0.3143549560442681\n",
            "epochs =  175 loss value =  0.31407417485621586\n",
            "epochs =  176 loss value =  0.31379673260623653\n",
            "epochs =  177 loss value =  0.3135225868931549\n",
            "epochs =  178 loss value =  0.31325169593776\n",
            "epochs =  179 loss value =  0.3129840185661438\n",
            "epochs =  180 loss value =  0.31271951419366034\n",
            "epochs =  181 loss value =  0.31245814280948725\n",
            "epochs =  182 loss value =  0.312199864961765\n",
            "epochs =  183 loss value =  0.31194464174328296\n",
            "epochs =  184 loss value =  0.3116924347776992\n",
            "epochs =  185 loss value =  0.31144320620626936\n",
            "epochs =  186 loss value =  0.3111969186750619\n",
            "epochs =  187 loss value =  0.31095353532264963\n",
            "epochs =  188 loss value =  0.3107130197682489\n",
            "epochs =  189 loss value =  0.31047533610030165\n",
            "epochs =  190 loss value =  0.31024044886547425\n",
            "epochs =  191 loss value =  0.31000832305806475\n",
            "epochs =  192 loss value =  0.30977892410979946\n",
            "epochs =  193 loss value =  0.309552217880011\n",
            "epochs =  194 loss value =  0.30932817064618096\n",
            "epochs =  195 loss value =  0.3091067490948345\n",
            "epochs =  196 loss value =  0.30888792031277673\n",
            "epochs =  197 loss value =  0.30867165177866157\n",
            "epochs =  198 loss value =  0.3084579113548764\n",
            "epochs =  199 loss value =  0.30824666727974087\n",
            "epochs =  200 loss value =  0.30803788816000083\n",
            "\n",
            "Elapsed Time =>  0:00:22.871934\n"
          ],
          "name": "stdout"
        }
      ]
    },
    {
      "cell_type": "code",
      "metadata": {
        "id": "tGfqlTrWYxOQ",
        "colab_type": "code",
        "outputId": "c7cabd79-f962-491a-f92c-007f9ef3ee7f",
        "colab": {
          "base_uri": "https://localhost:8080/",
          "height": 281
        }
      },
      "source": [
        "plt.title('Loss Value Trend')\n",
        "plt.grid()\n",
        "plt.plot(loss_val_list)\n",
        "plt.show()"
      ],
      "execution_count": 0,
      "outputs": [
        {
          "output_type": "display_data",
          "data": {
            "image/png": "[encoded data removed]",
            "text/plain": [
              "<Figure size 432x288 with 1 Axes>"
            ]
          },
          "metadata": {
            "tags": [],
            "needs_background": "light"
          }
        }
      ]
    },
    {
      "cell_type": "code",
      "metadata": {
        "id": "AiHCU38XYxMK",
        "colab_type": "code",
        "outputId": "61a44e7a-7cde-4e44-961d-15a78ccf8b7c",
        "colab": {
          "base_uri": "https://localhost:8080/",
          "height": 36
        }
      },
      "source": [
        "\n",
        "(accuracy_val, index_label_prediction_list) = titanic_obj.accuracy(test_input_data, test_target_data)\n",
        "\n",
        "print('Accuracy = ', 100*np.round(accuracy_val, 3), ' %')"
      ],
      "execution_count": 0,
      "outputs": [
        {
          "output_type": "stream",
          "text": [
            "Accuracy =  68.10000000000001  %\n"
          ],
          "name": "stdout"
        }
      ]
    },
    {
      "cell_type": "code",
      "metadata": {
        "id": "Zomc9UvLYxJ7",
        "colab_type": "code",
        "outputId": "16512cc9-77bc-4cec-dd28-082b2f3635aa",
        "colab": {
          "base_uri": "https://localhost:8080/",
          "height": 55
        }
      },
      "source": [
        "# 디카프리오, 윈슬렛 예측\n",
        "dicaprio = np.array([3., 1., 19., 0., 0.,   5.]).reshape(1,6)    # Pclass, Sex, Age, SibSp, Parch, Fare\n",
        "winslet  = np.array([1., 0., 17., 1., 2., 100.]).reshape(1,6)    # Pclass, Sex, Age, SibSp, Parch, Fare\n",
        "\n",
        "(d_probability, alive_or_dead) = titanic_obj.predict(dicaprio)\n",
        "\n",
        "print(d_probability, alive_or_dead)\n",
        "\n",
        "(w_probability, alive_or_dead) = titanic_obj.predict(winslet)\n",
        "\n",
        "print(w_probability, alive_or_dead)"
      ],
      "execution_count": 0,
      "outputs": [
        {
          "output_type": "stream",
          "text": [
            "[[0.30060878]] 0\n",
            "[[0.67910794]] 1\n"
          ],
          "name": "stdout"
        }
      ]
    },
    {
      "cell_type": "code",
      "metadata": {
        "id": "-NAewer0YxG2",
        "colab_type": "code",
        "colab": {}
      },
      "source": [
        "#65%에서 68%로 정확도가 급격하게 오른 것을 보면 test data에 최적화된 W,b를 찾은 것 같다.\n"
      ],
      "execution_count": 0,
      "outputs": []
    },
    {
      "cell_type": "code",
      "metadata": {
        "id": "7qUf6VE3YxFD",
        "colab_type": "code",
        "colab": {}
      },
      "source": [
        ""
      ],
      "execution_count": 0,
      "outputs": []
    },
    {
      "cell_type": "code",
      "metadata": {
        "id": "lHXgYrFmleoM",
        "colab_type": "code",
        "colab": {}
      },
      "source": [
        ""
      ],
      "execution_count": 0,
      "outputs": []
    },
    {
      "cell_type": "code",
      "metadata": {
        "id": "sqqyeanvYxCQ",
        "colab_type": "code",
        "colab": {}
      },
      "source": [
        ""
      ],
      "execution_count": 0,
      "outputs": []
    },
    {
      "cell_type": "code",
      "metadata": {
        "id": "9Ie9YrvGYw_O",
        "colab_type": "code",
        "colab": {}
      },
      "source": [
        ""
      ],
      "execution_count": 0,
      "outputs": []
    }
  ]
}