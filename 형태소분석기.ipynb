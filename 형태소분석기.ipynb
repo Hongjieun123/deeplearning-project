{
  "nbformat": 4,
  "nbformat_minor": 0,
  "metadata": {
    "colab": {
      "name": "형태소분석기.ipynb",
      "provenance": [],
      "collapsed_sections": [],
      "authorship_tag": "ABX9TyM7tdHUBMPRRHuUpmo4oxrk",
      "include_colab_link": true
    },
    "kernelspec": {
      "name": "python3",
      "display_name": "Python 3"
    }
  },
  "cells": [
    {
      "cell_type": "markdown",
      "metadata": {
        "id": "view-in-github",
        "colab_type": "text"
      },
      "source": [
        "<a href=\"https://colab.research.google.com/github/Hongjieun123/deeplearning-project/blob/master/%ED%98%95%ED%83%9C%EC%86%8C%EB%B6%84%EC%84%9D%EA%B8%B0.ipynb\" target=\"_parent\"><img src=\"https://colab.research.google.com/assets/colab-badge.svg\" alt=\"Open In Colab\"/></a>"
      ]
    },
    {
      "cell_type": "code",
      "metadata": {
        "id": "MD0zrP9vBLGy",
        "colab_type": "code",
        "colab": {}
      },
      "source": [
        "# 형태소분석기 관련 설치\n",
        "!apt-get update\n",
        "!apt-get install g++ openjdk-8-jdk\n",
        "!pip install JPype1==0.7.4\n",
        "!pip install rhinoMorph"
      ],
      "execution_count": 0,
      "outputs": []
    },
    {
      "cell_type": "code",
      "metadata": {
        "id": "Notquy02BLTS",
        "colab_type": "code",
        "colab": {
          "base_uri": "https://localhost:8080/",
          "height": 107
        },
        "outputId": "fa849348-bcf3-4a7b-99c9-d8b4d4862d17"
      },
      "source": [
        "import rhinoMorph\n",
        "\n",
        "rn = rhinoMorph.startRhino() #시동을 또 걸어도 되는가? -> 시동 또 걸어도 이미 실행된 상태라 무시되어짐\n",
        "text = \"한글로 된 한글텍스트를 분석하는 것은 즐겁다.\"\n",
        "\n",
        "# 사용 1 : 모든 형태소 보이기\n",
        "text_analyzed = rhinoMorph.onlyMorph_list(rn, text) # 텍스트의 내용중 형태부분만(품사가 아니라) 리스트 타입으로 출력한다. \n",
        "print('\\n1. 형태소 분석 결과: ', text_analyzed)"
      ],
      "execution_count": 6,
      "outputs": [
        {
          "output_type": "stream",
          "text": [
            "filepath:  /usr/local/lib/python3.6/dist-packages\n",
            "classpath:  /usr/local/lib/python3.6/dist-packages/rhinoMorph/lib/rhino.jar\n",
            "RHINO started!\n",
            "\n",
            "1. 형태소 분석 결과:  ['한글', '로', '되', 'ㄴ', '한글', '텍스트', '를', '분석', '하', '는', '것', '은', '즐겁', '다', '.']\n"
          ],
          "name": "stdout"
        }
      ]
    },
    {
      "cell_type": "code",
      "metadata": {
        "id": "AhlvvTgQBLZR",
        "colab_type": "code",
        "colab": {
          "base_uri": "https://localhost:8080/",
          "height": 53
        },
        "outputId": "de7f64c5-1b88-4c90-b1cc-51d19bec4baf"
      },
      "source": [
        "# 사용 2 : 실질형태소만, 동사의 어말어미 제외 \n",
        "text_analyzed = rhinoMorph.onlyMorph_list(rn, text, pos=['NNG', 'NNP', 'NP', 'VV', 'VA', 'IC', 'MM', 'MAG', 'MAJ', 'XR']) #ppt 품사 태그에 있다.추출하고 싶은 품사 태그만 넣는다 \n",
        "print('\\n2. 형태소 분석 결과: ', text_analyzed) #사용 1과 다르게 어근만 있다. -> 실질형태소라 한다. "
      ],
      "execution_count": 7,
      "outputs": [
        {
          "output_type": "stream",
          "text": [
            "\n",
            "2. 형태소 분석 결과:  ['한글', '되', '한글', '텍스트', '분석', '하', '즐겁']\n"
          ],
          "name": "stdout"
        }
      ]
    },
    {
      "cell_type": "code",
      "metadata": {
        "id": "Bk5kcTgUBLcx",
        "colab_type": "code",
        "colab": {
          "base_uri": "https://localhost:8080/",
          "height": 53
        },
        "outputId": "a1ab4b0d-b350-4e8b-a39f-33bf9c685956"
      },
      "source": [
        "# 사용 3 : 실질형태소만, 동사의 어말어미 포함\n",
        "text_analyzed = rhinoMorph.onlyMorph_list(rn, text, pos=['NNG', 'NNP', 'NP', 'VV', 'VA', 'IC', 'MM', 'MAG', 'MAJ'], eomi=True) #part of speech 의 약자 pos => 품사 , eomi=True 추가해주면 포함됨.\n",
        "print('\\n3. 형태소 분석 결과: ', text_analyzed) #동사의 빈도 분석을 했을 때, 동사의 어말어미 포함해주지 않으면 되:100 , 하:233 이런 식이기 때문에 익숙하지 않아한다. "
      ],
      "execution_count": 8,
      "outputs": [
        {
          "output_type": "stream",
          "text": [
            "\n",
            "3. 형태소 분석 결과:  ['한글', '되다', '한글', '텍스트', '분석', '하다', '즐겁다']\n"
          ],
          "name": "stdout"
        }
      ]
    },
    {
      "cell_type": "code",
      "metadata": {
        "id": "0dI8JuKCBLfS",
        "colab_type": "code",
        "colab": {
          "base_uri": "https://localhost:8080/",
          "height": 89
        },
        "outputId": "f6abfb40-7323-43ec-b1c9-a89c9de75411"
      },
      "source": [
        "# 사용 4 : 전체형태소, 품사정보도 가져오기\n",
        "morphs, poses = rhinoMorph.wholeResult_list(rn, text) #리스트 타입\n",
        "print('\\n4. 형태소 분석 결과: ')\n",
        "print('morphs: ', morphs) #형태소\n",
        "print('poses: ', poses) #품사정보 \n",
        "#형태소와 품사정보는 동일한 인덱스를 가진다. "
      ],
      "execution_count": 9,
      "outputs": [
        {
          "output_type": "stream",
          "text": [
            "\n",
            "4. 형태소 분석 결과: \n",
            "morphs:  ['한글', '로', '되', 'ㄴ', '한글', '텍스트', '를', '분석', '하', '는', '것', '은', '즐겁', '다', '.']\n",
            "poses:  ['NNG', 'JKB', 'VV', 'ETM', 'NNG', 'NNG', 'JKO', 'NNG', 'VV', 'ETM', 'NNB', 'JX', 'VA', 'EF', 'SF']\n"
          ],
          "name": "stdout"
        }
      ]
    },
    {
      "cell_type": "code",
      "metadata": {
        "id": "ELv_3B1MJTHd",
        "colab_type": "code",
        "colab": {
          "base_uri": "https://localhost:8080/",
          "height": 197
        },
        "outputId": "9ec67c21-80af-4460-907e-0de09b20d04e"
      },
      "source": [
        "# 사용 5 : 원문의 어절 정보를 같이 가져오기\n",
        "text_analyzed = rhinoMorph.wholeResult_text(rn, text) #텍스트 타입 (분리되지 않는 텍스트, 원문의 어절정보를 알고 싶을 때쓴다.)\n",
        "print('\\n5. 형태소 분석 결과:\\n', text_analyzed)"
      ],
      "execution_count": 10,
      "outputs": [
        {
          "output_type": "stream",
          "text": [
            "\n",
            "5. 형태소 분석 결과:\n",
            " 한글로\t한글/NNG + 로/JKB\r\n",
            "된\t되/VV + ㄴ/ETM\r\n",
            "한글텍스트를\t한글/NNG + 텍스트/NNG + 를/JKO\r\n",
            "분석하는\t분석/NNG + 하/VV + 는/ETM\r\n",
            "것은\t것/NNB + 은/JX\r\n",
            "즐겁다\t즐겁/VA + 다/EF\r\n",
            ".\t./SF\r\n",
            "\n"
          ],
          "name": "stdout"
        }
      ]
    },
    {
      "cell_type": "markdown",
      "metadata": {
        "id": "DlW5h7ngbj4G",
        "colab_type": "text"
      },
      "source": [
        "### 추가 옵션"
      ]
    },
    {
      "cell_type": "code",
      "metadata": {
        "id": "qjRhtwb3JUOQ",
        "colab_type": "code",
        "colab": {
          "base_uri": "https://localhost:8080/",
          "height": 143
        },
        "outputId": "ff57cb01-21c9-434b-a09b-a9204be09065"
      },
      "source": [
        "# 사용 6,7 : 한 어절에서 연결된 명사를 하나의 명사로 결합하기\n",
        "# onlyMorph_list와 wholeResult_list에서 사용 가능하다\n",
        "\n",
        "text_analyzed = rhinoMorph.onlyMorph_list(rn, text, pos=['NNG', 'NNP', 'NP', 'VV', 'VA', 'XR', 'IC', 'MM', 'MAG', 'MAJ'], combineN=True) #combineN=True 은 명사 결합의 의미, 분리해야 하는 명사를 결합시키는 기능 \n",
        "print('\\n6. 형태소 분석 결과:\\n', text_analyzed)\n",
        "\n",
        "morphs, poses = rhinoMorph.wholeResult_list(rn, text, combineN=True) #본래 한글/텍스트가 분리 되어 졌었으나 결합시킴 (전문용어의 경우 이렇게 쓸 수 있다. )\n",
        "print('\\n7. 형태소 분석 결과: ')\n",
        "print('morphs: ', morphs)\n",
        "print('poses: ', poses)"
      ],
      "execution_count": 11,
      "outputs": [
        {
          "output_type": "stream",
          "text": [
            "\n",
            "6. 형태소 분석 결과:\n",
            " ['한글', '되', '한글텍스트', '분석', '하', '즐겁']\n",
            "\n",
            "7. 형태소 분석 결과: \n",
            "morphs:  ['한글', '로', '되', 'ㄴ', '한글텍스트', '를', '분석', '하', '는', '것', '은', '즐겁', '다', '.']\n",
            "poses:  ['NNG', 'JKB', 'VV', 'ETM', 'NNG', 'JKO', 'NNG', 'VV', 'ETM', 'NNB', 'JX', 'VA', 'EF', 'SF']\n"
          ],
          "name": "stdout"
        }
      ]
    },
    {
      "cell_type": "code",
      "metadata": {
        "id": "aJAEN7oXcsvf",
        "colab_type": "code",
        "colab": {
          "base_uri": "https://localhost:8080/",
          "height": 89
        },
        "outputId": "e3172649-04d0-4e69-a851-02ff624343f8"
      },
      "source": [
        "# 사용 8, 9 : 어근 + 하 형태를 하나의 동사로 출력하기\n",
        "# xrVv 아규먼트가 담당하며, 기본값은 False로서 둘을 분리하여 출력한다\n",
        "# 분리된 어근이 명사인 경우, 명사로 출력된다\n",
        "# onlyMorph_list, wholeResult_list, wholeResult_text 등 모든 함수에서 사용 가능하다\n",
        "\n",
        "text_analyzed = rhinoMorph.wholeResult_list(rn, '사랑합니다')\n",
        "print('\\n8. 형태소 분석 결과: ', text_analyzed)\n",
        "\n",
        "text_analyzed = rhinoMorph.wholeResult_list(rn, '사랑합니다', xrVv=True) #eomi=True 로 써주면 '사랑하다' 가 나옴\n",
        "print('\\n9. 형태소 분석 결과: ', text_analyzed)"
      ],
      "execution_count": 12,
      "outputs": [
        {
          "output_type": "stream",
          "text": [
            "\n",
            "8. 형태소 분석 결과:  (['사랑', '하', 'ㅂ니다'], ['NNG', 'VV', 'EF'])\n",
            "\n",
            "9. 형태소 분석 결과:  (['사랑하', 'ㅂ니다'], ['VV', 'EF'])\n"
          ],
          "name": "stdout"
        }
      ]
    }
  ]
}