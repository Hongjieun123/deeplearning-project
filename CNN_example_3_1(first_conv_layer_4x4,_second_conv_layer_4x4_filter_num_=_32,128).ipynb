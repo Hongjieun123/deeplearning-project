{
  "nbformat": 4,
  "nbformat_minor": 0,
  "metadata": {
    "kernelspec": {
      "display_name": "Python 3",
      "language": "python",
      "name": "python3"
    },
    "language_info": {
      "codemirror_mode": {
        "name": "ipython",
        "version": 3
      },
      "file_extension": ".py",
      "mimetype": "text/x-python",
      "name": "python",
      "nbconvert_exporter": "python",
      "pygments_lexer": "ipython3",
      "version": "3.7.4"
    },
    "colab": {
      "name": "CNN_example_3_1(first conv layer 4x4, second conv layer 4x4 filter num = 32,128)",
      "provenance": [],
      "include_colab_link": true
    }
  },
  "cells": [
    {
      "cell_type": "markdown",
      "metadata": {
        "id": "view-in-github",
        "colab_type": "text"
      },
      "source": [
        "<a href=\"https://colab.research.google.com/github/Hongjieun123/deeplearning-project/blob/master/CNN_example_3_1(first_conv_layer_4x4%2C_second_conv_layer_4x4_filter_num_%3D_32%2C128).ipynb\" target=\"_parent\"><img src=\"https://colab.research.google.com/assets/colab-badge.svg\" alt=\"Open In Colab\"/></a>"
      ]
    },
    {
      "cell_type": "code",
      "metadata": {
        "id": "zm7Br1h6uu1X",
        "colab_type": "code",
        "outputId": "f0927fcc-db63-4d6f-fa75-0a9521da3d67",
        "colab": {
          "base_uri": "https://localhost:8080/",
          "height": 36
        }
      },
      "source": [
        "# Colab에서 tensorflow 1.x 실행\n",
        "%tensorflow_version 1.x"
      ],
      "execution_count": 1,
      "outputs": [
        {
          "output_type": "stream",
          "text": [
            "TensorFlow 1.x selected.\n"
          ],
          "name": "stdout"
        }
      ]
    },
    {
      "cell_type": "code",
      "metadata": {
        "id": "xTN7ue5lucbw",
        "colab_type": "code",
        "outputId": "a24f659d-11da-4863-d8ef-d9f8c409a421",
        "colab": {
          "base_uri": "https://localhost:8080/",
          "height": 709
        }
      },
      "source": [
        "import tensorflow as tf\n",
        "from tensorflow.examples.tutorials.mnist import input_data\n",
        "import numpy as np\n",
        "from datetime import datetime\n",
        "\n",
        "mnist = input_data.read_data_sets('MNIST_data/', one_hot=True)\n",
        "\n",
        "print('\\n', mnist.train.num_examples, mnist.test.num_examples, mnist.validation.num_examples)\n",
        "\n",
        "print('\\ntrain image shape = ', np.shape(mnist.train.images))\n",
        "print('train label shape = ', np.shape(mnist.train.labels))\n",
        "print('test image shape = ', np.shape(mnist.test.images))\n",
        "print('test label shape = ', np.shape(mnist.test.labels))"
      ],
      "execution_count": 2,
      "outputs": [
        {
          "output_type": "stream",
          "text": [
            "WARNING:tensorflow:From <ipython-input-2-b4762e5f4068>:6: read_data_sets (from tensorflow.contrib.learn.python.learn.datasets.mnist) is deprecated and will be removed in a future version.\n",
            "Instructions for updating:\n",
            "Please use alternatives such as official/mnist/dataset.py from tensorflow/models.\n",
            "WARNING:tensorflow:From /tensorflow-1.15.2/python3.6/tensorflow_core/contrib/learn/python/learn/datasets/mnist.py:260: maybe_download (from tensorflow.contrib.learn.python.learn.datasets.base) is deprecated and will be removed in a future version.\n",
            "Instructions for updating:\n",
            "Please write your own downloading logic.\n",
            "WARNING:tensorflow:From /tensorflow-1.15.2/python3.6/tensorflow_core/contrib/learn/python/learn/datasets/base.py:252: _internal_retry.<locals>.wrap.<locals>.wrapped_fn (from tensorflow.contrib.learn.python.learn.datasets.base) is deprecated and will be removed in a future version.\n",
            "Instructions for updating:\n",
            "Please use urllib or similar directly.\n",
            "Successfully downloaded train-images-idx3-ubyte.gz 9912422 bytes.\n",
            "WARNING:tensorflow:From /tensorflow-1.15.2/python3.6/tensorflow_core/contrib/learn/python/learn/datasets/mnist.py:262: extract_images (from tensorflow.contrib.learn.python.learn.datasets.mnist) is deprecated and will be removed in a future version.\n",
            "Instructions for updating:\n",
            "Please use tf.data to implement this functionality.\n",
            "Extracting MNIST_data/train-images-idx3-ubyte.gz\n",
            "Successfully downloaded train-labels-idx1-ubyte.gz 28881 bytes.\n",
            "WARNING:tensorflow:From /tensorflow-1.15.2/python3.6/tensorflow_core/contrib/learn/python/learn/datasets/mnist.py:267: extract_labels (from tensorflow.contrib.learn.python.learn.datasets.mnist) is deprecated and will be removed in a future version.\n",
            "Instructions for updating:\n",
            "Please use tf.data to implement this functionality.\n",
            "Extracting MNIST_data/train-labels-idx1-ubyte.gz\n",
            "WARNING:tensorflow:From /tensorflow-1.15.2/python3.6/tensorflow_core/contrib/learn/python/learn/datasets/mnist.py:110: dense_to_one_hot (from tensorflow.contrib.learn.python.learn.datasets.mnist) is deprecated and will be removed in a future version.\n",
            "Instructions for updating:\n",
            "Please use tf.one_hot on tensors.\n",
            "Successfully downloaded t10k-images-idx3-ubyte.gz 1648877 bytes.\n",
            "Extracting MNIST_data/t10k-images-idx3-ubyte.gz\n",
            "Successfully downloaded t10k-labels-idx1-ubyte.gz 4542 bytes.\n",
            "Extracting MNIST_data/t10k-labels-idx1-ubyte.gz\n",
            "WARNING:tensorflow:From /tensorflow-1.15.2/python3.6/tensorflow_core/contrib/learn/python/learn/datasets/mnist.py:290: DataSet.__init__ (from tensorflow.contrib.learn.python.learn.datasets.mnist) is deprecated and will be removed in a future version.\n",
            "Instructions for updating:\n",
            "Please use alternatives such as official/mnist/dataset.py from tensorflow/models.\n",
            "\n",
            " 55000 10000 5000\n",
            "\n",
            "train image shape =  (55000, 784)\n",
            "train label shape =  (55000, 10)\n",
            "test image shape =  (10000, 784)\n",
            "test label shape =  (10000, 10)\n"
          ],
          "name": "stdout"
        }
      ]
    },
    {
      "cell_type": "code",
      "metadata": {
        "id": "gSW7hSsWuccP",
        "colab_type": "code",
        "colab": {}
      },
      "source": [
        "learning_rate = 0.001\n",
        "epochs = 30\n",
        "batch_size = 100"
      ],
      "execution_count": 0,
      "outputs": []
    },
    {
      "cell_type": "code",
      "metadata": {
        "id": "XWUQ3TD7ucca",
        "colab_type": "code",
        "colab": {}
      },
      "source": [
        "X = tf.placeholder(tf.float32, [None, 784])\n",
        "\n",
        "A1 = X_img = tf.reshape(X,[-1, 28, 28, 1])\n",
        "\n",
        "T = tf.placeholder(tf.float32, [None, 10])  # image 28 X 28 X 1 (black/white)"
      ],
      "execution_count": 0,
      "outputs": []
    },
    {
      "cell_type": "code",
      "metadata": {
        "id": "e81mstOCucch",
        "colab_type": "code",
        "colab": {}
      },
      "source": [
        "# 1번째 컨볼루션 층\n",
        "# 4X4 크기를 가지는 32개의 필터를 적용\n",
        "\n",
        "F2 = tf.Variable(tf.random_normal([4, 4, 1, 32], stddev=0.01))  \n",
        "b2 = tf.Variable(tf.constant(0.1, shape=[32]))   \n",
        "\n",
        "# 1번째 컨볼루션 연산을 통해 28 X 28 X1  => 28 X 28 X 32\n",
        "C2 = tf.nn.conv2d(A1, F2, strides=[1, 1, 1, 1], padding='SAME')\n",
        "\n",
        "# relu\n",
        "Z2 = tf.nn.relu(C2+b2)\n",
        "\n",
        "# 1번째 max pooling을 통해 28 X 28 X 32  => 14 X 14 X 32\n",
        "A2 = P2 = tf.nn.max_pool(Z2, ksize=[1, 2, 2, 1], strides=[1, 2, 2, 1], padding='SAME')"
      ],
      "execution_count": 0,
      "outputs": []
    },
    {
      "cell_type": "code",
      "metadata": {
        "id": "2fRNliDcucco",
        "colab_type": "code",
        "colab": {}
      },
      "source": [
        "# 2번째 컨볼루션 층\n",
        "# 4X4 크기를 가지는 128개의 필터를 적용\n",
        "\n",
        "F3 = tf.Variable(tf.random_normal([4, 4, 32, 128], stddev=0.01))  \n",
        "b3 = tf.Variable(tf.constant(0.1, shape=[128]))   \n",
        "\n",
        "# 2번째 컨볼루션 연산을 통해 14 X 14 X32  => 14 X 14 X 128\n",
        "C3 = tf.nn.conv2d(A2, F3, strides=[1, 1, 1, 1], padding='SAME')\n",
        "\n",
        "# relu\n",
        "Z3= tf.nn.relu(C3+b3)\n",
        "\n",
        "# 2번째 max pooling을 통해 14 X 14 X 128  => 7 X 7 X 128\n",
        "A3= P3 = tf.nn.max_pool(Z3, ksize=[1, 2, 2, 1], strides=[1, 2, 2, 1], padding='SAME')"
      ],
      "execution_count": 0,
      "outputs": []
    },
    {
      "cell_type": "code",
      "metadata": {
        "id": "uc-OxRiduccy",
        "colab_type": "code",
        "colab": {}
      },
      "source": [
        "# 7X7 크기를 가진 32개의 activation map을 flatten 시킴\n",
        "A3_flat = P3_flat = tf.reshape(A3, [-1, 128*7*7])"
      ],
      "execution_count": 0,
      "outputs": []
    },
    {
      "cell_type": "code",
      "metadata": {
        "id": "cfvy6ZXYucc8",
        "colab_type": "code",
        "colab": {}
      },
      "source": [
        "# 출력층\n",
        "W4 = tf.Variable(tf.random_normal([128*7*7, 10], stddev=0.01))\n",
        "b4 = tf.Variable(tf.random_normal([10]))\n",
        "\n",
        "# 출력층 선형회귀  값 Z4, 즉 softmax 에 들어가는 입력 값\n",
        "Z4 = logits = tf.matmul(A3_flat, W4) + b4    # 선형회귀 값 Z4\n",
        "\n",
        "y = A4 = tf.nn.softmax(Z4)"
      ],
      "execution_count": 0,
      "outputs": []
    },
    {
      "cell_type": "code",
      "metadata": {
        "id": "vbPC_r_QucdP",
        "colab_type": "code",
        "colab": {}
      },
      "source": [
        "loss = tf.reduce_mean( tf.nn.softmax_cross_entropy_with_logits_v2(logits=Z4, labels=T) )\n",
        "\n",
        "optimizer = tf.train.AdamOptimizer(learning_rate)\n",
        "\n",
        "train = optimizer.minimize(loss)"
      ],
      "execution_count": 0,
      "outputs": []
    },
    {
      "cell_type": "code",
      "metadata": {
        "id": "Ly_6cqGrucdU",
        "colab_type": "code",
        "colab": {}
      },
      "source": [
        "# batch_size X 10 데이터에 대해 argmax를 통해 행단위로 비교함\n",
        "predicted_val = tf.equal( tf.argmax(A4, 1), tf.argmax(T, 1) )\n",
        "\n",
        "# batch_size X 10 의 True, False 를 1 또는 0 으로 변환\n",
        "accuracy = tf.reduce_mean(tf.cast(predicted_val, dtype=tf.float32))\n",
        "\n",
        "# index list 출력\n",
        "accuracy_index = tf.cast(predicted_val, dtype=tf.float32)\n",
        "\n",
        "# 예측값 처리\n",
        "predicted_list = tf.argmax(A4, 1)"
      ],
      "execution_count": 0,
      "outputs": []
    },
    {
      "cell_type": "code",
      "metadata": {
        "id": "vgxuwi4Fucdb",
        "colab_type": "code",
        "outputId": "d5b46ddb-abda-4813-b775-ff171811a29b",
        "colab": {
          "base_uri": "https://localhost:8080/",
          "height": 1000
        }
      },
      "source": [
        "index_label_prediction_list = []\n",
        "\n",
        "with  tf.Session()  as sess:\n",
        "    \n",
        "    sess.run(tf.global_variables_initializer())  # 변수 노드(tf.Variable) 초기화\n",
        "    \n",
        "    start_time = datetime.now()\n",
        "    \n",
        "    for i in range(epochs):    # 30 번 반복수행\n",
        "        \n",
        "        total_batch = int(mnist.train.num_examples / batch_size)  # 55,000 / 100\n",
        "\n",
        "        for step in range(total_batch):\n",
        "            \n",
        "            batch_x_data, batch_t_data = mnist.train.next_batch(batch_size)\n",
        "      \n",
        "            loss_val, _ = sess.run([loss, train], feed_dict={X: batch_x_data, T: batch_t_data})    \n",
        "        \n",
        "            if step % 100 == 0:\n",
        "                print(\"epochs = \", i, \", step = \", step, \", loss_val = \", loss_val)             \n",
        "    \n",
        "    end_time = datetime.now() \n",
        "    \n",
        "    print(\"\\nelapsed time = \", end_time - start_time) \n",
        "    \n",
        "    # Accuracy 확인\n",
        "    test_x_data = mnist.test.images    # 10000 X 784\n",
        "    test_t_data = mnist.test.labels    # 10000 X 10\n",
        "    \n",
        "    accuracy_val, predicted_list_val, index_label = sess.run([accuracy, predicted_list, accuracy_index], feed_dict={X: test_x_data, T: test_t_data})\n",
        "    \n",
        "    print(\"\\nAccuracy = \", accuracy_val)\n",
        "    print(\"type(accuracy_val) = \", type(accuracy_val), ', type(predicted_list_val) = ', type(predicted_list_val), ', type(index_label) = ', type(index_label))\n",
        "    print(\"index_label.shape = \", index_label.shape)\n",
        "    \n",
        "    index_label_list = list(index_label)\n",
        "    print(\"length of index_label_list = \", len(index_label_list))\n",
        "    print(\"false label count = \", index_label_list.count([0]))\n",
        "        \n",
        "    \n",
        "    temp_list = [] \n",
        "    \n",
        "    for index in range(len(index_label)):\n",
        "        \n",
        "        if index_label[index] == 0:\n",
        "            \n",
        "            temp_list.append(index)\n",
        "            temp_list.append(np.argmax(test_t_data[index]))  # one-hot encoding 이므로 argmax 로 정답 추출\n",
        "            temp_list.append(predicted_list_val[index])\n",
        "            \n",
        "            index_label_prediction_list.append(temp_list)\n",
        "            \n",
        "            temp_list = []\n",
        "            \n",
        "    print(\"\\nlength of index_label_false_list\", len(index_label_prediction_list))"
      ],
      "execution_count": 11,
      "outputs": [
        {
          "output_type": "stream",
          "text": [
            "epochs =  0 , step =  0 , loss_val =  2.6960254\n",
            "epochs =  0 , step =  100 , loss_val =  0.42290536\n",
            "epochs =  0 , step =  200 , loss_val =  0.31915593\n",
            "epochs =  0 , step =  300 , loss_val =  0.17805469\n",
            "epochs =  0 , step =  400 , loss_val =  0.22976746\n",
            "epochs =  0 , step =  500 , loss_val =  0.040181514\n",
            "epochs =  1 , step =  0 , loss_val =  0.057762135\n",
            "epochs =  1 , step =  100 , loss_val =  0.060322218\n",
            "epochs =  1 , step =  200 , loss_val =  0.13973472\n",
            "epochs =  1 , step =  300 , loss_val =  0.057118133\n",
            "epochs =  1 , step =  400 , loss_val =  0.028313898\n",
            "epochs =  1 , step =  500 , loss_val =  0.023967266\n",
            "epochs =  2 , step =  0 , loss_val =  0.021166194\n",
            "epochs =  2 , step =  100 , loss_val =  0.022834795\n",
            "epochs =  2 , step =  200 , loss_val =  0.09488032\n",
            "epochs =  2 , step =  300 , loss_val =  0.090900764\n",
            "epochs =  2 , step =  400 , loss_val =  0.1305616\n",
            "epochs =  2 , step =  500 , loss_val =  0.07419898\n",
            "epochs =  3 , step =  0 , loss_val =  0.014540403\n",
            "epochs =  3 , step =  100 , loss_val =  0.013706747\n",
            "epochs =  3 , step =  200 , loss_val =  0.018405078\n",
            "epochs =  3 , step =  300 , loss_val =  0.043203928\n",
            "epochs =  3 , step =  400 , loss_val =  0.05518694\n",
            "epochs =  3 , step =  500 , loss_val =  0.06362836\n",
            "epochs =  4 , step =  0 , loss_val =  0.008707938\n",
            "epochs =  4 , step =  100 , loss_val =  0.00847783\n",
            "epochs =  4 , step =  200 , loss_val =  0.004250726\n",
            "epochs =  4 , step =  300 , loss_val =  0.009837624\n",
            "epochs =  4 , step =  400 , loss_val =  0.061379477\n",
            "epochs =  4 , step =  500 , loss_val =  0.010064537\n",
            "epochs =  5 , step =  0 , loss_val =  0.07532671\n",
            "epochs =  5 , step =  100 , loss_val =  0.0061660046\n",
            "epochs =  5 , step =  200 , loss_val =  0.002083376\n",
            "epochs =  5 , step =  300 , loss_val =  0.014561447\n",
            "epochs =  5 , step =  400 , loss_val =  0.034652244\n",
            "epochs =  5 , step =  500 , loss_val =  0.004382728\n",
            "epochs =  6 , step =  0 , loss_val =  0.047629844\n",
            "epochs =  6 , step =  100 , loss_val =  0.027969869\n",
            "epochs =  6 , step =  200 , loss_val =  0.034970764\n",
            "epochs =  6 , step =  300 , loss_val =  0.0008709805\n",
            "epochs =  6 , step =  400 , loss_val =  0.0015400852\n",
            "epochs =  6 , step =  500 , loss_val =  0.008404058\n",
            "epochs =  7 , step =  0 , loss_val =  0.005187878\n",
            "epochs =  7 , step =  100 , loss_val =  0.0069026407\n",
            "epochs =  7 , step =  200 , loss_val =  0.0077295573\n",
            "epochs =  7 , step =  300 , loss_val =  0.04075854\n",
            "epochs =  7 , step =  400 , loss_val =  0.015571599\n",
            "epochs =  7 , step =  500 , loss_val =  0.0054849708\n",
            "epochs =  8 , step =  0 , loss_val =  0.00060159434\n",
            "epochs =  8 , step =  100 , loss_val =  0.019276591\n",
            "epochs =  8 , step =  200 , loss_val =  0.0028692284\n",
            "epochs =  8 , step =  300 , loss_val =  0.005104387\n",
            "epochs =  8 , step =  400 , loss_val =  0.00226317\n",
            "epochs =  8 , step =  500 , loss_val =  0.04540951\n",
            "epochs =  9 , step =  0 , loss_val =  0.023243362\n",
            "epochs =  9 , step =  100 , loss_val =  0.0027483755\n",
            "epochs =  9 , step =  200 , loss_val =  0.00063692237\n",
            "epochs =  9 , step =  300 , loss_val =  0.011387601\n",
            "epochs =  9 , step =  400 , loss_val =  0.0037411987\n",
            "epochs =  9 , step =  500 , loss_val =  0.045173794\n",
            "epochs =  10 , step =  0 , loss_val =  0.037190866\n",
            "epochs =  10 , step =  100 , loss_val =  0.0028177002\n",
            "epochs =  10 , step =  200 , loss_val =  0.018088054\n",
            "epochs =  10 , step =  300 , loss_val =  0.0069940053\n",
            "epochs =  10 , step =  400 , loss_val =  0.00091425114\n",
            "epochs =  10 , step =  500 , loss_val =  0.0028367417\n",
            "epochs =  11 , step =  0 , loss_val =  0.0005424908\n",
            "epochs =  11 , step =  100 , loss_val =  0.00064373063\n",
            "epochs =  11 , step =  200 , loss_val =  4.7805548e-05\n",
            "epochs =  11 , step =  300 , loss_val =  0.012978532\n",
            "epochs =  11 , step =  400 , loss_val =  0.0017560907\n",
            "epochs =  11 , step =  500 , loss_val =  0.0021844239\n",
            "epochs =  12 , step =  0 , loss_val =  0.0024286073\n",
            "epochs =  12 , step =  100 , loss_val =  0.0010545739\n",
            "epochs =  12 , step =  200 , loss_val =  0.0019145884\n",
            "epochs =  12 , step =  300 , loss_val =  0.00384642\n",
            "epochs =  12 , step =  400 , loss_val =  0.025288805\n",
            "epochs =  12 , step =  500 , loss_val =  0.0014469096\n",
            "epochs =  13 , step =  0 , loss_val =  0.0027257085\n",
            "epochs =  13 , step =  100 , loss_val =  0.011467848\n",
            "epochs =  13 , step =  200 , loss_val =  0.014538834\n",
            "epochs =  13 , step =  300 , loss_val =  0.011961751\n",
            "epochs =  13 , step =  400 , loss_val =  0.03078947\n",
            "epochs =  13 , step =  500 , loss_val =  0.0028733937\n",
            "epochs =  14 , step =  0 , loss_val =  0.00029029208\n",
            "epochs =  14 , step =  100 , loss_val =  0.00017617707\n",
            "epochs =  14 , step =  200 , loss_val =  0.003729304\n",
            "epochs =  14 , step =  300 , loss_val =  0.0026002175\n",
            "epochs =  14 , step =  400 , loss_val =  0.0062958533\n",
            "epochs =  14 , step =  500 , loss_val =  0.0035274741\n",
            "epochs =  15 , step =  0 , loss_val =  0.000436728\n",
            "epochs =  15 , step =  100 , loss_val =  0.0011502787\n",
            "epochs =  15 , step =  200 , loss_val =  5.052316e-05\n",
            "epochs =  15 , step =  300 , loss_val =  0.0027079664\n",
            "epochs =  15 , step =  400 , loss_val =  0.0014680275\n",
            "epochs =  15 , step =  500 , loss_val =  0.019905282\n",
            "epochs =  16 , step =  0 , loss_val =  0.002180077\n",
            "epochs =  16 , step =  100 , loss_val =  0.0027717247\n",
            "epochs =  16 , step =  200 , loss_val =  0.00033352993\n",
            "epochs =  16 , step =  300 , loss_val =  1.4902894e-05\n",
            "epochs =  16 , step =  400 , loss_val =  5.0965846e-05\n",
            "epochs =  16 , step =  500 , loss_val =  0.0018829548\n",
            "epochs =  17 , step =  0 , loss_val =  0.00033125153\n",
            "epochs =  17 , step =  100 , loss_val =  0.010814607\n",
            "epochs =  17 , step =  200 , loss_val =  0.035148993\n",
            "epochs =  17 , step =  300 , loss_val =  0.0022535846\n",
            "epochs =  17 , step =  400 , loss_val =  0.007086724\n",
            "epochs =  17 , step =  500 , loss_val =  6.67933e-05\n",
            "epochs =  18 , step =  0 , loss_val =  0.005773578\n",
            "epochs =  18 , step =  100 , loss_val =  0.0038305789\n",
            "epochs =  18 , step =  200 , loss_val =  0.0029279718\n",
            "epochs =  18 , step =  300 , loss_val =  0.00223797\n",
            "epochs =  18 , step =  400 , loss_val =  0.0004466393\n",
            "epochs =  18 , step =  500 , loss_val =  0.0009037821\n",
            "epochs =  19 , step =  0 , loss_val =  0.00040077433\n",
            "epochs =  19 , step =  100 , loss_val =  0.0061100684\n",
            "epochs =  19 , step =  200 , loss_val =  0.0017279154\n",
            "epochs =  19 , step =  300 , loss_val =  0.01356\n",
            "epochs =  19 , step =  400 , loss_val =  6.30133e-05\n",
            "epochs =  19 , step =  500 , loss_val =  0.0039296066\n",
            "epochs =  20 , step =  0 , loss_val =  0.00031598614\n",
            "epochs =  20 , step =  100 , loss_val =  0.00013469564\n",
            "epochs =  20 , step =  200 , loss_val =  0.0006265625\n",
            "epochs =  20 , step =  300 , loss_val =  0.0017358647\n",
            "epochs =  20 , step =  400 , loss_val =  0.000113876304\n",
            "epochs =  20 , step =  500 , loss_val =  0.00069446943\n",
            "epochs =  21 , step =  0 , loss_val =  1.6352751e-05\n",
            "epochs =  21 , step =  100 , loss_val =  0.00014603793\n",
            "epochs =  21 , step =  200 , loss_val =  0.004548357\n",
            "epochs =  21 , step =  300 , loss_val =  0.0068326592\n",
            "epochs =  21 , step =  400 , loss_val =  0.004738112\n",
            "epochs =  21 , step =  500 , loss_val =  0.015605902\n",
            "epochs =  22 , step =  0 , loss_val =  0.0005977547\n",
            "epochs =  22 , step =  100 , loss_val =  9.432997e-06\n",
            "epochs =  22 , step =  200 , loss_val =  2.7352986e-05\n",
            "epochs =  22 , step =  300 , loss_val =  0.00033841803\n",
            "epochs =  22 , step =  400 , loss_val =  0.00018037204\n",
            "epochs =  22 , step =  500 , loss_val =  8.159267e-05\n",
            "epochs =  23 , step =  0 , loss_val =  0.00020628524\n",
            "epochs =  23 , step =  100 , loss_val =  0.009440099\n",
            "epochs =  23 , step =  200 , loss_val =  0.0012726438\n",
            "epochs =  23 , step =  300 , loss_val =  0.00016040514\n",
            "epochs =  23 , step =  400 , loss_val =  0.00094645954\n",
            "epochs =  23 , step =  500 , loss_val =  1.1050384e-05\n",
            "epochs =  24 , step =  0 , loss_val =  1.02148215e-05\n",
            "epochs =  24 , step =  100 , loss_val =  0.00076592626\n",
            "epochs =  24 , step =  200 , loss_val =  7.4614014e-05\n",
            "epochs =  24 , step =  300 , loss_val =  0.0004141089\n",
            "epochs =  24 , step =  400 , loss_val =  0.0018203212\n",
            "epochs =  24 , step =  500 , loss_val =  0.005803244\n",
            "epochs =  25 , step =  0 , loss_val =  0.00022085237\n",
            "epochs =  25 , step =  100 , loss_val =  1.42006875e-05\n",
            "epochs =  25 , step =  200 , loss_val =  0.0007606672\n",
            "epochs =  25 , step =  300 , loss_val =  0.014983419\n",
            "epochs =  25 , step =  400 , loss_val =  0.00035650935\n",
            "epochs =  25 , step =  500 , loss_val =  1.1114053e-05\n",
            "epochs =  26 , step =  0 , loss_val =  1.3888139e-05\n",
            "epochs =  26 , step =  100 , loss_val =  1.04018345e-05\n",
            "epochs =  26 , step =  200 , loss_val =  0.00040776696\n",
            "epochs =  26 , step =  300 , loss_val =  1.3527013e-05\n",
            "epochs =  26 , step =  400 , loss_val =  0.0027530754\n",
            "epochs =  26 , step =  500 , loss_val =  0.00016758358\n",
            "epochs =  27 , step =  0 , loss_val =  0.00038795118\n",
            "epochs =  27 , step =  100 , loss_val =  0.0007035744\n",
            "epochs =  27 , step =  200 , loss_val =  7.4629264e-05\n",
            "epochs =  27 , step =  300 , loss_val =  0.0013933182\n",
            "epochs =  27 , step =  400 , loss_val =  0.014093451\n",
            "epochs =  27 , step =  500 , loss_val =  0.00067510427\n",
            "epochs =  28 , step =  0 , loss_val =  7.94192e-05\n",
            "epochs =  28 , step =  100 , loss_val =  0.0013645248\n",
            "epochs =  28 , step =  200 , loss_val =  0.000663741\n",
            "epochs =  28 , step =  300 , loss_val =  2.404341e-06\n",
            "epochs =  28 , step =  400 , loss_val =  3.726231e-05\n",
            "epochs =  28 , step =  500 , loss_val =  7.275447e-06\n",
            "epochs =  29 , step =  0 , loss_val =  0.00013056648\n",
            "epochs =  29 , step =  100 , loss_val =  0.0011403656\n",
            "epochs =  29 , step =  200 , loss_val =  0.00031252787\n",
            "epochs =  29 , step =  300 , loss_val =  0.0068613417\n",
            "epochs =  29 , step =  400 , loss_val =  0.00023615216\n",
            "epochs =  29 , step =  500 , loss_val =  0.0019058493\n",
            "\n",
            "elapsed time =  1:02:28.300892\n",
            "\n",
            "Accuracy =  0.9921\n",
            "type(accuracy_val) =  <class 'numpy.float32'> , type(predicted_list_val) =  <class 'numpy.ndarray'> , type(index_label) =  <class 'numpy.ndarray'>\n",
            "index_label.shape =  (10000,)\n",
            "length of index_label_list =  10000\n",
            "false label count =  79\n",
            "\n",
            "length of index_label_false_list 79\n"
          ],
          "name": "stdout"
        }
      ]
    },
    {
      "cell_type": "code",
      "metadata": {
        "id": "-czriG10ucdp",
        "colab_type": "code",
        "colab": {}
      },
      "source": [
        ""
      ],
      "execution_count": 0,
      "outputs": []
    }
  ]
}