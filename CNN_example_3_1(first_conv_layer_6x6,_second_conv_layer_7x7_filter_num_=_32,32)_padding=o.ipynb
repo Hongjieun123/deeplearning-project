{
  "nbformat": 4,
  "nbformat_minor": 0,
  "metadata": {
    "kernelspec": {
      "display_name": "Python 3",
      "language": "python",
      "name": "python3"
    },
    "language_info": {
      "codemirror_mode": {
        "name": "ipython",
        "version": 3
      },
      "file_extension": ".py",
      "mimetype": "text/x-python",
      "name": "python",
      "nbconvert_exporter": "python",
      "pygments_lexer": "ipython3",
      "version": "3.7.4"
    },
    "colab": {
      "name": "CNN_example_3_1(first conv layer 6x6, second conv layer 7x7 filter num = 32,32)  padding=o",
      "provenance": [],
      "include_colab_link": true
    }
  },
  "cells": [
    {
      "cell_type": "markdown",
      "metadata": {
        "id": "view-in-github",
        "colab_type": "text"
      },
      "source": [
        "<a href=\"https://colab.research.google.com/github/Hongjieun123/deeplearning-project/blob/master/CNN_example_3_1(first_conv_layer_6x6%2C_second_conv_layer_7x7_filter_num_%3D_32%2C32)_padding%3Do.ipynb\" target=\"_parent\"><img src=\"https://colab.research.google.com/assets/colab-badge.svg\" alt=\"Open In Colab\"/></a>"
      ]
    },
    {
      "cell_type": "code",
      "metadata": {
        "id": "zm7Br1h6uu1X",
        "colab_type": "code",
        "outputId": "75732ffc-0fd2-4d94-fb7c-fb172e9628c2",
        "colab": {
          "base_uri": "https://localhost:8080/",
          "height": 36
        }
      },
      "source": [
        "# Colab에서 tensorflow 1.x 실행\n",
        "%tensorflow_version 1.x"
      ],
      "execution_count": 1,
      "outputs": [
        {
          "output_type": "stream",
          "text": [
            "TensorFlow 1.x selected.\n"
          ],
          "name": "stdout"
        }
      ]
    },
    {
      "cell_type": "code",
      "metadata": {
        "id": "xTN7ue5lucbw",
        "colab_type": "code",
        "outputId": "46f6f048-6f33-45c5-93bf-9199ef5849b8",
        "colab": {
          "base_uri": "https://localhost:8080/",
          "height": 709
        }
      },
      "source": [
        "import tensorflow as tf\n",
        "from tensorflow.examples.tutorials.mnist import input_data\n",
        "import numpy as np\n",
        "from datetime import datetime\n",
        "\n",
        "mnist = input_data.read_data_sets('MNIST_data/', one_hot=True)\n",
        "\n",
        "print('\\n', mnist.train.num_examples, mnist.test.num_examples, mnist.validation.num_examples)\n",
        "\n",
        "print('\\ntrain image shape = ', np.shape(mnist.train.images))\n",
        "print('train label shape = ', np.shape(mnist.train.labels))\n",
        "print('test image shape = ', np.shape(mnist.test.images))\n",
        "print('test label shape = ', np.shape(mnist.test.labels))"
      ],
      "execution_count": 2,
      "outputs": [
        {
          "output_type": "stream",
          "text": [
            "WARNING:tensorflow:From <ipython-input-2-b4762e5f4068>:6: read_data_sets (from tensorflow.contrib.learn.python.learn.datasets.mnist) is deprecated and will be removed in a future version.\n",
            "Instructions for updating:\n",
            "Please use alternatives such as official/mnist/dataset.py from tensorflow/models.\n",
            "WARNING:tensorflow:From /tensorflow-1.15.2/python3.6/tensorflow_core/contrib/learn/python/learn/datasets/mnist.py:260: maybe_download (from tensorflow.contrib.learn.python.learn.datasets.base) is deprecated and will be removed in a future version.\n",
            "Instructions for updating:\n",
            "Please write your own downloading logic.\n",
            "WARNING:tensorflow:From /tensorflow-1.15.2/python3.6/tensorflow_core/contrib/learn/python/learn/datasets/base.py:252: _internal_retry.<locals>.wrap.<locals>.wrapped_fn (from tensorflow.contrib.learn.python.learn.datasets.base) is deprecated and will be removed in a future version.\n",
            "Instructions for updating:\n",
            "Please use urllib or similar directly.\n",
            "Successfully downloaded train-images-idx3-ubyte.gz 9912422 bytes.\n",
            "WARNING:tensorflow:From /tensorflow-1.15.2/python3.6/tensorflow_core/contrib/learn/python/learn/datasets/mnist.py:262: extract_images (from tensorflow.contrib.learn.python.learn.datasets.mnist) is deprecated and will be removed in a future version.\n",
            "Instructions for updating:\n",
            "Please use tf.data to implement this functionality.\n",
            "Extracting MNIST_data/train-images-idx3-ubyte.gz\n",
            "Successfully downloaded train-labels-idx1-ubyte.gz 28881 bytes.\n",
            "WARNING:tensorflow:From /tensorflow-1.15.2/python3.6/tensorflow_core/contrib/learn/python/learn/datasets/mnist.py:267: extract_labels (from tensorflow.contrib.learn.python.learn.datasets.mnist) is deprecated and will be removed in a future version.\n",
            "Instructions for updating:\n",
            "Please use tf.data to implement this functionality.\n",
            "Extracting MNIST_data/train-labels-idx1-ubyte.gz\n",
            "WARNING:tensorflow:From /tensorflow-1.15.2/python3.6/tensorflow_core/contrib/learn/python/learn/datasets/mnist.py:110: dense_to_one_hot (from tensorflow.contrib.learn.python.learn.datasets.mnist) is deprecated and will be removed in a future version.\n",
            "Instructions for updating:\n",
            "Please use tf.one_hot on tensors.\n",
            "Successfully downloaded t10k-images-idx3-ubyte.gz 1648877 bytes.\n",
            "Extracting MNIST_data/t10k-images-idx3-ubyte.gz\n",
            "Successfully downloaded t10k-labels-idx1-ubyte.gz 4542 bytes.\n",
            "Extracting MNIST_data/t10k-labels-idx1-ubyte.gz\n",
            "WARNING:tensorflow:From /tensorflow-1.15.2/python3.6/tensorflow_core/contrib/learn/python/learn/datasets/mnist.py:290: DataSet.__init__ (from tensorflow.contrib.learn.python.learn.datasets.mnist) is deprecated and will be removed in a future version.\n",
            "Instructions for updating:\n",
            "Please use alternatives such as official/mnist/dataset.py from tensorflow/models.\n",
            "\n",
            " 55000 10000 5000\n",
            "\n",
            "train image shape =  (55000, 784)\n",
            "train label shape =  (55000, 10)\n",
            "test image shape =  (10000, 784)\n",
            "test label shape =  (10000, 10)\n"
          ],
          "name": "stdout"
        }
      ]
    },
    {
      "cell_type": "code",
      "metadata": {
        "id": "gSW7hSsWuccP",
        "colab_type": "code",
        "colab": {}
      },
      "source": [
        "learning_rate = 0.001\n",
        "epochs = 30\n",
        "batch_size = 100"
      ],
      "execution_count": 0,
      "outputs": []
    },
    {
      "cell_type": "code",
      "metadata": {
        "id": "XWUQ3TD7ucca",
        "colab_type": "code",
        "colab": {}
      },
      "source": [
        "X = tf.placeholder(tf.float32, [None, 784])\n",
        "\n",
        "A1 = X_img = tf.reshape(X,[-1, 28, 28, 1])\n",
        "\n",
        "T = tf.placeholder(tf.float32, [None, 10])  # image 28 X 28 X 1 (black/white)"
      ],
      "execution_count": 0,
      "outputs": []
    },
    {
      "cell_type": "code",
      "metadata": {
        "id": "e81mstOCucch",
        "colab_type": "code",
        "colab": {}
      },
      "source": [
        "# 1번째 컨볼루션 층\n",
        "# 6X6 크기를 가지는 32개의 필터를 적용\n",
        "\n",
        "F2 = tf.Variable(tf.random_normal([6, 6, 1, 32], stddev=0.01))  \n",
        "b2 = tf.Variable(tf.constant(0.1, shape=[32]))   \n",
        "\n",
        "# 1번째 컨볼루션 연산을 통해 28 X 28 X1  => 28 X 28 X 32\n",
        "C2 = tf.nn.conv2d(A1, F2, strides=[1, 1, 1, 1], padding='SAME')\n",
        "\n",
        "# relu\n",
        "Z2 = tf.nn.relu(C2+b2)\n",
        "\n",
        "# 1번째 max pooling을 통해 28 X 28 X 32  => 14 X 14 X 32\n",
        "A2 = P2 = tf.nn.max_pool(Z2, ksize=[1, 2, 2, 1], strides=[1, 2, 2, 1], padding='SAME')"
      ],
      "execution_count": 0,
      "outputs": []
    },
    {
      "cell_type": "code",
      "metadata": {
        "id": "2fRNliDcucco",
        "colab_type": "code",
        "colab": {}
      },
      "source": [
        "# 2번째 컨볼루션 층\n",
        "# 7X7 크기를 가지는 32개의 필터를 적용\n",
        "\n",
        "F3 = tf.Variable(tf.random_normal([7, 7, 32, 32], stddev=0.01))  \n",
        "b3 = tf.Variable(tf.constant(0.1, shape=[32]))   \n",
        "\n",
        "# 2번째 컨볼루션 연산을 통해 14 X 14 X32  => 14 X 14 X 32\n",
        "C3 = tf.nn.conv2d(A2, F3, strides=[1, 1, 1, 1], padding='SAME')\n",
        "\n",
        "# relu\n",
        "Z3= tf.nn.relu(C3+b3)\n",
        "\n",
        "# 2번째 max pooling을 통해 14 X 14 X 32  => 7 X 7 X 32\n",
        "A3= P3 = tf.nn.max_pool(Z3, ksize=[1, 2, 2, 1], strides=[1, 2, 2, 1], padding='SAME')"
      ],
      "execution_count": 0,
      "outputs": []
    },
    {
      "cell_type": "code",
      "metadata": {
        "id": "uc-OxRiduccy",
        "colab_type": "code",
        "colab": {}
      },
      "source": [
        "# 7X7 크기를 가진 32개의 activation map을 flatten 시킴\n",
        "A3_flat = P3_flat = tf.reshape(A3, [-1, 32*7*7])"
      ],
      "execution_count": 0,
      "outputs": []
    },
    {
      "cell_type": "code",
      "metadata": {
        "id": "cfvy6ZXYucc8",
        "colab_type": "code",
        "colab": {}
      },
      "source": [
        "# 출력층\n",
        "W4 = tf.Variable(tf.random_normal([32*7*7, 10], stddev=0.01))\n",
        "b4 = tf.Variable(tf.random_normal([10]))\n",
        "\n",
        "# 출력층 선형회귀  값 Z4, 즉 softmax 에 들어가는 입력 값\n",
        "Z4 = logits = tf.matmul(A3_flat, W4) + b4    # 선형회귀 값 Z4\n",
        "\n",
        "y = A4 = tf.nn.softmax(Z4)"
      ],
      "execution_count": 0,
      "outputs": []
    },
    {
      "cell_type": "code",
      "metadata": {
        "id": "vbPC_r_QucdP",
        "colab_type": "code",
        "colab": {}
      },
      "source": [
        "loss = tf.reduce_mean( tf.nn.softmax_cross_entropy_with_logits_v2(logits=Z4, labels=T) )\n",
        "\n",
        "optimizer = tf.train.AdamOptimizer(learning_rate)\n",
        "\n",
        "train = optimizer.minimize(loss)"
      ],
      "execution_count": 0,
      "outputs": []
    },
    {
      "cell_type": "code",
      "metadata": {
        "id": "Ly_6cqGrucdU",
        "colab_type": "code",
        "colab": {}
      },
      "source": [
        "# batch_size X 10 데이터에 대해 argmax를 통해 행단위로 비교함\n",
        "predicted_val = tf.equal( tf.argmax(A4, 1), tf.argmax(T, 1) )\n",
        "\n",
        "# batch_size X 10 의 True, False 를 1 또는 0 으로 변환\n",
        "accuracy = tf.reduce_mean(tf.cast(predicted_val, dtype=tf.float32))\n",
        "\n",
        "# index list 출력\n",
        "accuracy_index = tf.cast(predicted_val, dtype=tf.float32)\n",
        "\n",
        "# 예측값 처리\n",
        "predicted_list = tf.argmax(A4, 1)"
      ],
      "execution_count": 0,
      "outputs": []
    },
    {
      "cell_type": "code",
      "metadata": {
        "id": "vgxuwi4Fucdb",
        "colab_type": "code",
        "outputId": "cb735c67-8588-45be-8cc4-7b583797ff93",
        "colab": {
          "base_uri": "https://localhost:8080/",
          "height": 1000
        }
      },
      "source": [
        "index_label_prediction_list = []\n",
        "\n",
        "with  tf.Session()  as sess:\n",
        "    \n",
        "    sess.run(tf.global_variables_initializer())  # 변수 노드(tf.Variable) 초기화\n",
        "    \n",
        "    start_time = datetime.now()\n",
        "    \n",
        "    for i in range(epochs):    # 30 번 반복수행\n",
        "        \n",
        "        total_batch = int(mnist.train.num_examples / batch_size)  # 55,000 / 100\n",
        "\n",
        "        for step in range(total_batch):\n",
        "            \n",
        "            batch_x_data, batch_t_data = mnist.train.next_batch(batch_size)\n",
        "      \n",
        "            loss_val, _ = sess.run([loss, train], feed_dict={X: batch_x_data, T: batch_t_data})    \n",
        "        \n",
        "            if step % 100 == 0:\n",
        "                print(\"epochs = \", i, \", step = \", step, \", loss_val = \", loss_val)             \n",
        "    \n",
        "    end_time = datetime.now() \n",
        "    \n",
        "    print(\"\\nelapsed time = \", end_time - start_time) \n",
        "    \n",
        "    # Accuracy 확인\n",
        "    test_x_data = mnist.test.images    # 10000 X 784\n",
        "    test_t_data = mnist.test.labels    # 10000 X 10\n",
        "    \n",
        "    accuracy_val, predicted_list_val, index_label = sess.run([accuracy, predicted_list, accuracy_index], feed_dict={X: test_x_data, T: test_t_data})\n",
        "    \n",
        "    print(\"\\nAccuracy = \", accuracy_val)\n",
        "    print(\"type(accuracy_val) = \", type(accuracy_val), ', type(predicted_list_val) = ', type(predicted_list_val), ', type(index_label) = ', type(index_label))\n",
        "    print(\"index_label.shape = \", index_label.shape)\n",
        "    \n",
        "    index_label_list = list(index_label)\n",
        "    print(\"length of index_label_list = \", len(index_label_list))\n",
        "    print(\"false label count = \", index_label_list.count([0]))\n",
        "        \n",
        "    \n",
        "    temp_list = [] \n",
        "    \n",
        "    for index in range(len(index_label)):\n",
        "        \n",
        "        if index_label[index] == 0:\n",
        "            \n",
        "            temp_list.append(index)\n",
        "            temp_list.append(np.argmax(test_t_data[index]))  # one-hot encoding 이므로 argmax 로 정답 추출\n",
        "            temp_list.append(predicted_list_val[index])\n",
        "            \n",
        "            index_label_prediction_list.append(temp_list)\n",
        "            \n",
        "            temp_list = []\n",
        "            \n",
        "    print(\"\\nlength of index_label_false_list\", len(index_label_prediction_list))"
      ],
      "execution_count": 16,
      "outputs": [
        {
          "output_type": "stream",
          "text": [
            "epochs =  0 , step =  0 , loss_val =  2.4343188\n",
            "epochs =  0 , step =  100 , loss_val =  0.23962322\n",
            "epochs =  0 , step =  200 , loss_val =  0.1721768\n",
            "epochs =  0 , step =  300 , loss_val =  0.11525257\n",
            "epochs =  0 , step =  400 , loss_val =  0.095074594\n",
            "epochs =  0 , step =  500 , loss_val =  0.1482435\n",
            "epochs =  1 , step =  0 , loss_val =  0.0763132\n",
            "epochs =  1 , step =  100 , loss_val =  0.21106085\n",
            "epochs =  1 , step =  200 , loss_val =  0.19750254\n",
            "epochs =  1 , step =  300 , loss_val =  0.09479126\n",
            "epochs =  1 , step =  400 , loss_val =  0.050899044\n",
            "epochs =  1 , step =  500 , loss_val =  0.091576636\n",
            "epochs =  2 , step =  0 , loss_val =  0.073551625\n",
            "epochs =  2 , step =  100 , loss_val =  0.052693754\n",
            "epochs =  2 , step =  200 , loss_val =  0.09368569\n",
            "epochs =  2 , step =  300 , loss_val =  0.018068422\n",
            "epochs =  2 , step =  400 , loss_val =  0.016424475\n",
            "epochs =  2 , step =  500 , loss_val =  0.061550986\n",
            "epochs =  3 , step =  0 , loss_val =  0.024521558\n",
            "epochs =  3 , step =  100 , loss_val =  0.02293779\n",
            "epochs =  3 , step =  200 , loss_val =  0.018047996\n",
            "epochs =  3 , step =  300 , loss_val =  0.09436045\n",
            "epochs =  3 , step =  400 , loss_val =  0.02560227\n",
            "epochs =  3 , step =  500 , loss_val =  0.06754437\n",
            "epochs =  4 , step =  0 , loss_val =  0.0032019645\n",
            "epochs =  4 , step =  100 , loss_val =  0.022261783\n",
            "epochs =  4 , step =  200 , loss_val =  0.067026906\n",
            "epochs =  4 , step =  300 , loss_val =  0.031795688\n",
            "epochs =  4 , step =  400 , loss_val =  0.039779793\n",
            "epochs =  4 , step =  500 , loss_val =  0.004845847\n",
            "epochs =  5 , step =  0 , loss_val =  0.039978642\n",
            "epochs =  5 , step =  100 , loss_val =  0.00075436605\n",
            "epochs =  5 , step =  200 , loss_val =  0.0068961806\n",
            "epochs =  5 , step =  300 , loss_val =  0.008701733\n",
            "epochs =  5 , step =  400 , loss_val =  0.021745581\n",
            "epochs =  5 , step =  500 , loss_val =  0.004500364\n",
            "epochs =  6 , step =  0 , loss_val =  0.0057921032\n",
            "epochs =  6 , step =  100 , loss_val =  0.01328435\n",
            "epochs =  6 , step =  200 , loss_val =  0.007689844\n",
            "epochs =  6 , step =  300 , loss_val =  0.006069709\n",
            "epochs =  6 , step =  400 , loss_val =  0.008447804\n",
            "epochs =  6 , step =  500 , loss_val =  0.019235399\n",
            "epochs =  7 , step =  0 , loss_val =  0.010291655\n",
            "epochs =  7 , step =  100 , loss_val =  0.002530178\n",
            "epochs =  7 , step =  200 , loss_val =  0.020664005\n",
            "epochs =  7 , step =  300 , loss_val =  0.034085937\n",
            "epochs =  7 , step =  400 , loss_val =  0.017503724\n",
            "epochs =  7 , step =  500 , loss_val =  0.072822206\n",
            "epochs =  8 , step =  0 , loss_val =  0.0018259108\n",
            "epochs =  8 , step =  100 , loss_val =  0.009801217\n",
            "epochs =  8 , step =  200 , loss_val =  0.016490541\n",
            "epochs =  8 , step =  300 , loss_val =  0.009706777\n",
            "epochs =  8 , step =  400 , loss_val =  0.0038536363\n",
            "epochs =  8 , step =  500 , loss_val =  0.041426603\n",
            "epochs =  9 , step =  0 , loss_val =  0.010256786\n",
            "epochs =  9 , step =  100 , loss_val =  0.0009669416\n",
            "epochs =  9 , step =  200 , loss_val =  0.011102586\n",
            "epochs =  9 , step =  300 , loss_val =  0.008898272\n",
            "epochs =  9 , step =  400 , loss_val =  0.0069492585\n",
            "epochs =  9 , step =  500 , loss_val =  0.013207381\n",
            "epochs =  10 , step =  0 , loss_val =  0.024457056\n",
            "epochs =  10 , step =  100 , loss_val =  0.009340963\n",
            "epochs =  10 , step =  200 , loss_val =  0.014393585\n",
            "epochs =  10 , step =  300 , loss_val =  0.0284644\n",
            "epochs =  10 , step =  400 , loss_val =  0.010873052\n",
            "epochs =  10 , step =  500 , loss_val =  0.009279558\n",
            "epochs =  11 , step =  0 , loss_val =  0.030914271\n",
            "epochs =  11 , step =  100 , loss_val =  0.0058739306\n",
            "epochs =  11 , step =  200 , loss_val =  0.0031459278\n",
            "epochs =  11 , step =  300 , loss_val =  0.07294534\n",
            "epochs =  11 , step =  400 , loss_val =  0.00090498774\n",
            "epochs =  11 , step =  500 , loss_val =  0.058872253\n",
            "epochs =  12 , step =  0 , loss_val =  0.03878299\n",
            "epochs =  12 , step =  100 , loss_val =  0.008245811\n",
            "epochs =  12 , step =  200 , loss_val =  0.0048372634\n",
            "epochs =  12 , step =  300 , loss_val =  0.008528939\n",
            "epochs =  12 , step =  400 , loss_val =  0.0011231097\n",
            "epochs =  12 , step =  500 , loss_val =  0.009770272\n",
            "epochs =  13 , step =  0 , loss_val =  0.0009354404\n",
            "epochs =  13 , step =  100 , loss_val =  0.0010457559\n",
            "epochs =  13 , step =  200 , loss_val =  8.089973e-05\n",
            "epochs =  13 , step =  300 , loss_val =  0.0012285602\n",
            "epochs =  13 , step =  400 , loss_val =  0.001467338\n",
            "epochs =  13 , step =  500 , loss_val =  0.0012171771\n",
            "epochs =  14 , step =  0 , loss_val =  0.0015774332\n",
            "epochs =  14 , step =  100 , loss_val =  0.0012106026\n",
            "epochs =  14 , step =  200 , loss_val =  0.0023003123\n",
            "epochs =  14 , step =  300 , loss_val =  0.0008570838\n",
            "epochs =  14 , step =  400 , loss_val =  0.0011863803\n",
            "epochs =  14 , step =  500 , loss_val =  0.014973744\n",
            "epochs =  15 , step =  0 , loss_val =  0.0048743337\n",
            "epochs =  15 , step =  100 , loss_val =  0.0092016915\n",
            "epochs =  15 , step =  200 , loss_val =  0.018876322\n",
            "epochs =  15 , step =  300 , loss_val =  0.0014632076\n",
            "epochs =  15 , step =  400 , loss_val =  0.023632282\n",
            "epochs =  15 , step =  500 , loss_val =  0.00042337272\n",
            "epochs =  16 , step =  0 , loss_val =  0.0012686476\n",
            "epochs =  16 , step =  100 , loss_val =  0.0005358098\n",
            "epochs =  16 , step =  200 , loss_val =  0.018824771\n",
            "epochs =  16 , step =  300 , loss_val =  0.00028799084\n",
            "epochs =  16 , step =  400 , loss_val =  0.014885463\n",
            "epochs =  16 , step =  500 , loss_val =  0.0009074941\n",
            "epochs =  17 , step =  0 , loss_val =  0.00025244695\n",
            "epochs =  17 , step =  100 , loss_val =  0.00068693346\n",
            "epochs =  17 , step =  200 , loss_val =  0.0002878281\n",
            "epochs =  17 , step =  300 , loss_val =  0.0105005475\n",
            "epochs =  17 , step =  400 , loss_val =  0.00095456943\n",
            "epochs =  17 , step =  500 , loss_val =  0.008206107\n",
            "epochs =  18 , step =  0 , loss_val =  0.0008025504\n",
            "epochs =  18 , step =  100 , loss_val =  0.00017889564\n",
            "epochs =  18 , step =  200 , loss_val =  0.0009889792\n",
            "epochs =  18 , step =  300 , loss_val =  0.0031559481\n",
            "epochs =  18 , step =  400 , loss_val =  0.0038557511\n",
            "epochs =  18 , step =  500 , loss_val =  0.09106996\n",
            "epochs =  19 , step =  0 , loss_val =  0.011009088\n",
            "epochs =  19 , step =  100 , loss_val =  6.4938606e-05\n",
            "epochs =  19 , step =  200 , loss_val =  0.00035138495\n",
            "epochs =  19 , step =  300 , loss_val =  0.00045160908\n",
            "epochs =  19 , step =  400 , loss_val =  0.017194644\n",
            "epochs =  19 , step =  500 , loss_val =  0.011955044\n",
            "epochs =  20 , step =  0 , loss_val =  0.01290149\n",
            "epochs =  20 , step =  100 , loss_val =  0.004165249\n",
            "epochs =  20 , step =  200 , loss_val =  0.00066608866\n",
            "epochs =  20 , step =  300 , loss_val =  0.017427063\n",
            "epochs =  20 , step =  400 , loss_val =  0.0034439885\n",
            "epochs =  20 , step =  500 , loss_val =  0.00011309224\n",
            "epochs =  21 , step =  0 , loss_val =  0.0023315004\n",
            "epochs =  21 , step =  100 , loss_val =  0.0025122701\n",
            "epochs =  21 , step =  200 , loss_val =  0.00036841712\n",
            "epochs =  21 , step =  300 , loss_val =  1.52006105e-05\n",
            "epochs =  21 , step =  400 , loss_val =  0.00013330791\n",
            "epochs =  21 , step =  500 , loss_val =  0.001337642\n",
            "epochs =  22 , step =  0 , loss_val =  0.00075229997\n",
            "epochs =  22 , step =  100 , loss_val =  0.001547418\n",
            "epochs =  22 , step =  200 , loss_val =  0.0006414848\n",
            "epochs =  22 , step =  300 , loss_val =  0.0010845333\n",
            "epochs =  22 , step =  400 , loss_val =  0.0014482044\n",
            "epochs =  22 , step =  500 , loss_val =  0.009712567\n",
            "epochs =  23 , step =  0 , loss_val =  0.0042459015\n",
            "epochs =  23 , step =  100 , loss_val =  0.00045289777\n",
            "epochs =  23 , step =  200 , loss_val =  4.2077977e-06\n",
            "epochs =  23 , step =  300 , loss_val =  7.4028395e-07\n",
            "epochs =  23 , step =  400 , loss_val =  0.0169847\n",
            "epochs =  23 , step =  500 , loss_val =  0.00014130998\n",
            "epochs =  24 , step =  0 , loss_val =  1.016242e-05\n",
            "epochs =  24 , step =  100 , loss_val =  2.183854e-06\n",
            "epochs =  24 , step =  200 , loss_val =  0.00022954642\n",
            "epochs =  24 , step =  300 , loss_val =  0.00255375\n",
            "epochs =  24 , step =  400 , loss_val =  0.046016976\n",
            "epochs =  24 , step =  500 , loss_val =  0.0004683408\n",
            "epochs =  25 , step =  0 , loss_val =  0.00011942899\n",
            "epochs =  25 , step =  100 , loss_val =  0.0005356411\n",
            "epochs =  25 , step =  200 , loss_val =  1.940921e-05\n",
            "epochs =  25 , step =  300 , loss_val =  0.0019629463\n",
            "epochs =  25 , step =  400 , loss_val =  0.00043712853\n",
            "epochs =  25 , step =  500 , loss_val =  0.00053853734\n",
            "epochs =  26 , step =  0 , loss_val =  0.0023132092\n",
            "epochs =  26 , step =  100 , loss_val =  0.00018966227\n",
            "epochs =  26 , step =  200 , loss_val =  3.1730556e-06\n",
            "epochs =  26 , step =  300 , loss_val =  0.005024506\n",
            "epochs =  26 , step =  400 , loss_val =  0.00013892564\n",
            "epochs =  26 , step =  500 , loss_val =  0.00031064035\n",
            "epochs =  27 , step =  0 , loss_val =  8.792177e-06\n",
            "epochs =  27 , step =  100 , loss_val =  2.1611888e-06\n",
            "epochs =  27 , step =  200 , loss_val =  0.0006191609\n",
            "epochs =  27 , step =  300 , loss_val =  0.00024155417\n",
            "epochs =  27 , step =  400 , loss_val =  0.00246754\n",
            "epochs =  27 , step =  500 , loss_val =  6.2714724e-05\n",
            "epochs =  28 , step =  0 , loss_val =  8.5000946e-05\n",
            "epochs =  28 , step =  100 , loss_val =  0.0013206397\n",
            "epochs =  28 , step =  200 , loss_val =  3.6891182e-05\n",
            "epochs =  28 , step =  300 , loss_val =  8.213462e-07\n",
            "epochs =  28 , step =  400 , loss_val =  9.647898e-06\n",
            "epochs =  28 , step =  500 , loss_val =  7.307276e-06\n",
            "epochs =  29 , step =  0 , loss_val =  0.00065816834\n",
            "epochs =  29 , step =  100 , loss_val =  5.2614814e-05\n",
            "epochs =  29 , step =  200 , loss_val =  3.7540776e-05\n",
            "epochs =  29 , step =  300 , loss_val =  0.0017604221\n",
            "epochs =  29 , step =  400 , loss_val =  1.1694099e-06\n",
            "epochs =  29 , step =  500 , loss_val =  0.0036411253\n",
            "\n",
            "elapsed time =  1:14:30.233765\n",
            "\n",
            "Accuracy =  0.9899\n",
            "type(accuracy_val) =  <class 'numpy.float32'> , type(predicted_list_val) =  <class 'numpy.ndarray'> , type(index_label) =  <class 'numpy.ndarray'>\n",
            "index_label.shape =  (10000,)\n",
            "length of index_label_list =  10000\n",
            "false label count =  101\n",
            "\n",
            "length of index_label_false_list 101\n"
          ],
          "name": "stdout"
        }
      ]
    },
    {
      "cell_type": "code",
      "metadata": {
        "id": "-czriG10ucdp",
        "colab_type": "code",
        "colab": {}
      },
      "source": [
        ""
      ],
      "execution_count": 0,
      "outputs": []
    }
  ]
}