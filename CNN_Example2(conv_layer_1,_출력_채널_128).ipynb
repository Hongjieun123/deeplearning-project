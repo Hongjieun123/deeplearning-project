{
  "nbformat": 4,
  "nbformat_minor": 0,
  "metadata": {
    "colab": {
      "name": "CNN_Example2(conv layer 1, 출력 채널 128).ipynb",
      "provenance": [],
      "authorship_tag": "ABX9TyMOVIF1a027vJm054wRAcx9",
      "include_colab_link": true
    },
    "kernelspec": {
      "name": "python3",
      "display_name": "Python 3"
    }
  },
  "cells": [
    {
      "cell_type": "markdown",
      "metadata": {
        "id": "view-in-github",
        "colab_type": "text"
      },
      "source": [
        "<a href=\"https://colab.research.google.com/github/Hongjieun123/deeplearning-project/blob/master/CNN_Example2(conv_layer_1%2C_%EC%B6%9C%EB%A0%A5_%EC%B1%84%EB%84%90_128).ipynb\" target=\"_parent\"><img src=\"https://colab.research.google.com/assets/colab-badge.svg\" alt=\"Open In Colab\"/></a>"
      ]
    },
    {
      "cell_type": "code",
      "metadata": {
        "id": "7GbfMajDGj4R",
        "colab_type": "code",
        "colab": {
          "base_uri": "https://localhost:8080/",
          "height": 35
        },
        "outputId": "03eb39f5-4aef-4ba5-e19a-744643015961"
      },
      "source": [
        "# Colab에서 tensorflow 1.x 실행\n",
        "%tensorflow_version 1.x"
      ],
      "execution_count": 1,
      "outputs": [
        {
          "output_type": "stream",
          "text": [
            "TensorFlow 1.x selected.\n"
          ],
          "name": "stdout"
        }
      ]
    },
    {
      "cell_type": "code",
      "metadata": {
        "id": "FnMTJ8Y2GyZf",
        "colab_type": "code",
        "colab": {
          "base_uri": "https://localhost:8080/",
          "height": 685
        },
        "outputId": "99d17c78-b393-4752-a04d-7e7325ad4623"
      },
      "source": [
        "import tensorflow as tf\n",
        "from tensorflow.examples.tutorials.mnist import input_data\n",
        "import numpy as np\n",
        "from datetime import datetime      # datetime.now() 를 이용하여 학습 경과 시간 측정\n",
        "\n",
        "# read_data_sets() 를 통해 데이터를 객체형태로 받아오고\n",
        "# one_hot 옵션을 통해 정답(label) 을 one-hot 인코딩된 형태로 받아옴\n",
        "\n",
        "mnist = input_data.read_data_sets(\"MNIST_data/\", one_hot=True)\n",
        "\n",
        "# mnist 데이터 셋은 train, test, validation 3개의 데이터 셋으로 구성되어 있으며.\n",
        "# num_examples 값을 통해 데이터의 갯수 확인 가능함\n",
        "\n",
        "print(\"\\n\", mnist.train.num_examples, mnist.test.num_examples, mnist.validation.num_examples)\n",
        "\n",
        "# 데이터는 784(28x28)개의 픽셀을 가지는 이미지와\n",
        "# 10(0~9)개 클래스를 가지는 one-hot 인코딩된 레이블(정답)을 가지고 있음\n",
        "\n",
        "print(\"\\ntrain image shape = \", np.shape(mnist.train.images))\n",
        "print(\"train label shape = \", np.shape(mnist.train.labels))\n",
        "print(\"test image shape = \", np.shape(mnist.test.images))\n",
        "print(\"test label shape = \", np.shape(mnist.test.labels))"
      ],
      "execution_count": 2,
      "outputs": [
        {
          "output_type": "stream",
          "text": [
            "WARNING:tensorflow:From <ipython-input-2-37edfc5623ff>:9: read_data_sets (from tensorflow.contrib.learn.python.learn.datasets.mnist) is deprecated and will be removed in a future version.\n",
            "Instructions for updating:\n",
            "Please use alternatives such as official/mnist/dataset.py from tensorflow/models.\n",
            "WARNING:tensorflow:From /tensorflow-1.15.2/python3.6/tensorflow_core/contrib/learn/python/learn/datasets/mnist.py:260: maybe_download (from tensorflow.contrib.learn.python.learn.datasets.base) is deprecated and will be removed in a future version.\n",
            "Instructions for updating:\n",
            "Please write your own downloading logic.\n",
            "WARNING:tensorflow:From /tensorflow-1.15.2/python3.6/tensorflow_core/contrib/learn/python/learn/datasets/base.py:252: _internal_retry.<locals>.wrap.<locals>.wrapped_fn (from tensorflow.contrib.learn.python.learn.datasets.base) is deprecated and will be removed in a future version.\n",
            "Instructions for updating:\n",
            "Please use urllib or similar directly.\n",
            "Successfully downloaded train-images-idx3-ubyte.gz 9912422 bytes.\n",
            "WARNING:tensorflow:From /tensorflow-1.15.2/python3.6/tensorflow_core/contrib/learn/python/learn/datasets/mnist.py:262: extract_images (from tensorflow.contrib.learn.python.learn.datasets.mnist) is deprecated and will be removed in a future version.\n",
            "Instructions for updating:\n",
            "Please use tf.data to implement this functionality.\n",
            "Extracting MNIST_data/train-images-idx3-ubyte.gz\n",
            "Successfully downloaded train-labels-idx1-ubyte.gz 28881 bytes.\n",
            "WARNING:tensorflow:From /tensorflow-1.15.2/python3.6/tensorflow_core/contrib/learn/python/learn/datasets/mnist.py:267: extract_labels (from tensorflow.contrib.learn.python.learn.datasets.mnist) is deprecated and will be removed in a future version.\n",
            "Instructions for updating:\n",
            "Please use tf.data to implement this functionality.\n",
            "Extracting MNIST_data/train-labels-idx1-ubyte.gz\n",
            "WARNING:tensorflow:From /tensorflow-1.15.2/python3.6/tensorflow_core/contrib/learn/python/learn/datasets/mnist.py:110: dense_to_one_hot (from tensorflow.contrib.learn.python.learn.datasets.mnist) is deprecated and will be removed in a future version.\n",
            "Instructions for updating:\n",
            "Please use tf.one_hot on tensors.\n",
            "Successfully downloaded t10k-images-idx3-ubyte.gz 1648877 bytes.\n",
            "Extracting MNIST_data/t10k-images-idx3-ubyte.gz\n",
            "Successfully downloaded t10k-labels-idx1-ubyte.gz 4542 bytes.\n",
            "Extracting MNIST_data/t10k-labels-idx1-ubyte.gz\n",
            "WARNING:tensorflow:From /tensorflow-1.15.2/python3.6/tensorflow_core/contrib/learn/python/learn/datasets/mnist.py:290: DataSet.__init__ (from tensorflow.contrib.learn.python.learn.datasets.mnist) is deprecated and will be removed in a future version.\n",
            "Instructions for updating:\n",
            "Please use alternatives such as official/mnist/dataset.py from tensorflow/models.\n",
            "\n",
            " 55000 10000 5000\n",
            "\n",
            "train image shape =  (55000, 784)\n",
            "train label shape =  (55000, 10)\n",
            "test image shape =  (10000, 784)\n",
            "test label shape =  (10000, 10)\n"
          ],
          "name": "stdout"
        }
      ]
    },
    {
      "cell_type": "code",
      "metadata": {
        "id": "TjmGPgZlGycW",
        "colab_type": "code",
        "colab": {}
      },
      "source": [
        "# Hyper-Parameter\n",
        "learning_rate = 0.001  # 학습율\n",
        "epochs = 30            # 반복횟수\n",
        "batch_size = 100      # 한번에 입력으로 주어지는 MNIST 개수"
      ],
      "execution_count": 0,
      "outputs": []
    },
    {
      "cell_type": "code",
      "metadata": {
        "id": "jl_hu4cMGyfS",
        "colab_type": "code",
        "colab": {}
      },
      "source": [
        "# 입력과 정답을 위한 플레이스홀더 정의\n",
        "X = tf.placeholder(tf.float32, [None, 784])  \n",
        "\n",
        "T = tf.placeholder(tf.float32, [None, 10])  \n",
        "\n",
        "# 입력층의 출력 값. 컨볼루션 연산을 위해 reshape 시킴\n",
        "A1 = X_img = tf.reshape(X, [-1, 28, 28, 1])   # image 28 X 28 X 1 (black/white)"
      ],
      "execution_count": 0,
      "outputs": []
    },
    {
      "cell_type": "code",
      "metadata": {
        "id": "IorBUepmGyjs",
        "colab_type": "code",
        "colab": {}
      },
      "source": [
        "# 1번째 컨볼루션 층\n",
        "# 5x5 크기를 가지는 32개의 필터를 적용\n",
        "\n",
        "F2 = tf.Variable(tf.random_normal([5, 5, 1, 128], stddev=0.01))\n",
        "b2 = tf.Variable(tf.constant(0.1, shape=[128]))\n",
        "\n",
        "#1번째 컨볼루션 연산을 통해 28 X 28 X 1 => 28 X 28 X 128\n",
        "C2 = tf.nn.conv2d(A1, F2, strides=[1, 1, 1, 1], padding='SAME')\n",
        "\n",
        "#relu\n",
        "Z2 = tf.nn.relu(C2+b2)\n",
        "\n",
        "#1번째 max pooling을 통해 28 X 28 X 128 => 14 X 14 X 128\n",
        "A2 = P2 = tf.nn.max_pool(Z2, ksize=[1, 2, 2, 1], strides=[1, 2, 2, 1], padding='SAME')"
      ],
      "execution_count": 0,
      "outputs": []
    },
    {
      "cell_type": "code",
      "metadata": {
        "id": "pKOqhb0iGymQ",
        "colab_type": "code",
        "colab": {}
      },
      "source": [
        "# 14X14 크기를 가진 128개의 activation map을 flatten 시킴\n",
        "A2_flat = P2_flat = tf.reshape(A2, [-1, 128*14*14])"
      ],
      "execution_count": 0,
      "outputs": []
    },
    {
      "cell_type": "code",
      "metadata": {
        "id": "TSHrHxOXGyqz",
        "colab_type": "code",
        "colab": {}
      },
      "source": [
        "# 출력층\n",
        "W3 = tf.Variable(tf.random_normal([128*14*14, 10], stddev=0.01))\n",
        "b3 = tf.Variable(tf.random_normal([10]))\n",
        "\n",
        "# 출력층 선형회귀  값 Z3, 즉 softmax 에 들어가는 입력 값\n",
        "Z3 = logits = tf.matmul(A2_flat, W3) + b3    # 선형회귀 값 Z3\n",
        "\n",
        "y = A3 = tf.nn.softmax(Z3)"
      ],
      "execution_count": 0,
      "outputs": []
    },
    {
      "cell_type": "code",
      "metadata": {
        "id": "Tx9u_-anGy05",
        "colab_type": "code",
        "colab": {}
      },
      "source": [
        "loss = tf.reduce_mean( tf.nn.softmax_cross_entropy_with_logits_v2(logits=Z3, labels=T) )\n",
        "\n",
        "optimizer = tf.train.AdamOptimizer(learning_rate)\n",
        "\n",
        "train = optimizer.minimize(loss)  "
      ],
      "execution_count": 0,
      "outputs": []
    },
    {
      "cell_type": "code",
      "metadata": {
        "id": "CG7jFDZGGy5G",
        "colab_type": "code",
        "colab": {}
      },
      "source": [
        "# batch_size X 10 데이터에 대해 argmax를 통해 행단위로 비교함\n",
        "predicted_val = tf.equal( tf.argmax(A3, 1), tf.argmax(T, 1) )\n",
        "\n",
        "# batch_size X 10 의 True, False 를 1 또는 0 으로 변환\n",
        "accuracy = tf.reduce_mean(tf.cast(predicted_val, dtype=tf.float32))\n",
        "\n",
        "# index list 출력\n",
        "accuracy_index = tf.cast(predicted_val, dtype=tf.float32)\n",
        "\n",
        "# 예측값 처리\n",
        "predicted_list = tf.argmax(A3, 1)"
      ],
      "execution_count": 0,
      "outputs": []
    },
    {
      "cell_type": "code",
      "metadata": {
        "id": "uDNIdQBvGy76",
        "colab_type": "code",
        "colab": {
          "base_uri": "https://localhost:8080/",
          "height": 1000
        },
        "outputId": "c3330874-cfc6-46cb-dee6-e569eca6471a"
      },
      "source": [
        "index_label_prediction_list = []\n",
        "\n",
        "with  tf.Session()  as sess:\n",
        "    \n",
        "    sess.run(tf.global_variables_initializer())  # 변수 노드(tf.Variable) 초기화\n",
        "    \n",
        "    start_time = datetime.now()\n",
        "    \n",
        "    for i in range(epochs):    # 30 번 반복수행\n",
        "        \n",
        "        total_batch = int(mnist.train.num_examples / batch_size)  # 55,000 / 100\n",
        "\n",
        "        for step in range(total_batch):\n",
        "            \n",
        "            batch_x_data, batch_t_data = mnist.train.next_batch(batch_size)\n",
        "      \n",
        "            loss_val, _ = sess.run([loss, train], feed_dict={X: batch_x_data, T: batch_t_data})    \n",
        "        \n",
        "            if step % 100 == 0:\n",
        "                print(\"epochs = \", i, \", step = \", step, \", loss_val = \", loss_val)             \n",
        "    \n",
        "    end_time = datetime.now() \n",
        "    \n",
        "    print(\"\\nelapsed time = \", end_time - start_time) \n",
        "    \n",
        "    # Accuracy 확인\n",
        "    test_x_data = mnist.test.images    # 10000 X 784\n",
        "    test_t_data = mnist.test.labels    # 10000 X 10\n",
        "    \n",
        "    accuracy_val, predicted_list_val, index_label = sess.run([accuracy, predicted_list, accuracy_index], feed_dict={X: test_x_data, T: test_t_data})\n",
        "    \n",
        "    print(\"\\nAccuracy = \", accuracy_val)\n",
        "    print(\"type(accuracy_val) = \", type(accuracy_val), ', type(predicted_list_val) = ', type(predicted_list_val), ', type(index_label) = ', type(index_label))\n",
        "    print(\"index_label.shape = \", index_label.shape)\n",
        "    \n",
        "    index_label_list = list(index_label)\n",
        "    print(\"length of index_label_list = \", len(index_label_list))\n",
        "    print(\"false label count = \", index_label_list.count([0]))\n",
        "        \n",
        "    \n",
        "    temp_list = [] \n",
        "    \n",
        "    for index in range(len(index_label)):\n",
        "        \n",
        "        if index_label[index] == 0:\n",
        "            \n",
        "            temp_list.append(index)\n",
        "            temp_list.append(np.argmax(test_t_data[index]))  # one-hot encoding 이므로 argmax 로 정답 추출\n",
        "            temp_list.append(predicted_list_val[index])\n",
        "            \n",
        "            index_label_prediction_list.append(temp_list)\n",
        "            \n",
        "            temp_list = []\n",
        "            \n",
        "    print(\"\\nlength of index_label_false_list\", len(index_label_prediction_list))"
      ],
      "execution_count": 13,
      "outputs": [
        {
          "output_type": "stream",
          "text": [
            "epochs =  0 , step =  0 , loss_val =  3.4484\n",
            "epochs =  0 , step =  100 , loss_val =  0.30569834\n",
            "epochs =  0 , step =  200 , loss_val =  0.28807712\n",
            "epochs =  0 , step =  300 , loss_val =  0.2995243\n",
            "epochs =  0 , step =  400 , loss_val =  0.31615788\n",
            "epochs =  0 , step =  500 , loss_val =  0.063462555\n",
            "epochs =  1 , step =  0 , loss_val =  0.12603372\n",
            "epochs =  1 , step =  100 , loss_val =  0.07907291\n",
            "epochs =  1 , step =  200 , loss_val =  0.07988778\n",
            "epochs =  1 , step =  300 , loss_val =  0.057296876\n",
            "epochs =  1 , step =  400 , loss_val =  0.057510994\n",
            "epochs =  1 , step =  500 , loss_val =  0.05207295\n",
            "epochs =  2 , step =  0 , loss_val =  0.045429572\n",
            "epochs =  2 , step =  100 , loss_val =  0.07412744\n",
            "epochs =  2 , step =  200 , loss_val =  0.05437767\n",
            "epochs =  2 , step =  300 , loss_val =  0.033544376\n",
            "epochs =  2 , step =  400 , loss_val =  0.14111865\n",
            "epochs =  2 , step =  500 , loss_val =  0.099185854\n",
            "epochs =  3 , step =  0 , loss_val =  0.02039176\n",
            "epochs =  3 , step =  100 , loss_val =  0.065061495\n",
            "epochs =  3 , step =  200 , loss_val =  0.0139164\n",
            "epochs =  3 , step =  300 , loss_val =  0.015289512\n",
            "epochs =  3 , step =  400 , loss_val =  0.021039153\n",
            "epochs =  3 , step =  500 , loss_val =  0.0076429155\n",
            "epochs =  4 , step =  0 , loss_val =  0.039609797\n",
            "epochs =  4 , step =  100 , loss_val =  0.15104721\n",
            "epochs =  4 , step =  200 , loss_val =  0.073542975\n",
            "epochs =  4 , step =  300 , loss_val =  0.09798221\n",
            "epochs =  4 , step =  400 , loss_val =  0.07264308\n",
            "epochs =  4 , step =  500 , loss_val =  0.048530046\n",
            "epochs =  5 , step =  0 , loss_val =  0.01614808\n",
            "epochs =  5 , step =  100 , loss_val =  0.0034217949\n",
            "epochs =  5 , step =  200 , loss_val =  0.0154693555\n",
            "epochs =  5 , step =  300 , loss_val =  0.017957976\n",
            "epochs =  5 , step =  400 , loss_val =  0.079895504\n",
            "epochs =  5 , step =  500 , loss_val =  0.018119903\n",
            "epochs =  6 , step =  0 , loss_val =  0.07476705\n",
            "epochs =  6 , step =  100 , loss_val =  0.056873642\n",
            "epochs =  6 , step =  200 , loss_val =  0.004223521\n",
            "epochs =  6 , step =  300 , loss_val =  0.014831611\n",
            "epochs =  6 , step =  400 , loss_val =  0.045803785\n",
            "epochs =  6 , step =  500 , loss_val =  0.06816473\n",
            "epochs =  7 , step =  0 , loss_val =  0.018007541\n",
            "epochs =  7 , step =  100 , loss_val =  0.058568943\n",
            "epochs =  7 , step =  200 , loss_val =  0.02013793\n",
            "epochs =  7 , step =  300 , loss_val =  0.0026618724\n",
            "epochs =  7 , step =  400 , loss_val =  0.0046474403\n",
            "epochs =  7 , step =  500 , loss_val =  0.007969509\n",
            "epochs =  8 , step =  0 , loss_val =  0.046555474\n",
            "epochs =  8 , step =  100 , loss_val =  0.0041614105\n",
            "epochs =  8 , step =  200 , loss_val =  0.015612181\n",
            "epochs =  8 , step =  300 , loss_val =  0.010338818\n",
            "epochs =  8 , step =  400 , loss_val =  0.009645304\n",
            "epochs =  8 , step =  500 , loss_val =  0.0096340645\n",
            "epochs =  9 , step =  0 , loss_val =  0.029712759\n",
            "epochs =  9 , step =  100 , loss_val =  0.0016332576\n",
            "epochs =  9 , step =  200 , loss_val =  0.012349579\n",
            "epochs =  9 , step =  300 , loss_val =  0.05704003\n",
            "epochs =  9 , step =  400 , loss_val =  0.012176202\n",
            "epochs =  9 , step =  500 , loss_val =  0.016634764\n",
            "epochs =  10 , step =  0 , loss_val =  0.030368268\n",
            "epochs =  10 , step =  100 , loss_val =  0.011942904\n",
            "epochs =  10 , step =  200 , loss_val =  0.004485206\n",
            "epochs =  10 , step =  300 , loss_val =  0.00031590377\n",
            "epochs =  10 , step =  400 , loss_val =  0.012681573\n",
            "epochs =  10 , step =  500 , loss_val =  0.011728773\n",
            "epochs =  11 , step =  0 , loss_val =  0.02082818\n",
            "epochs =  11 , step =  100 , loss_val =  0.0035831798\n",
            "epochs =  11 , step =  200 , loss_val =  0.0027184505\n",
            "epochs =  11 , step =  300 , loss_val =  0.0012393967\n",
            "epochs =  11 , step =  400 , loss_val =  0.006825918\n",
            "epochs =  11 , step =  500 , loss_val =  0.021782754\n",
            "epochs =  12 , step =  0 , loss_val =  0.0056798244\n",
            "epochs =  12 , step =  100 , loss_val =  0.018211376\n",
            "epochs =  12 , step =  200 , loss_val =  0.02310414\n",
            "epochs =  12 , step =  300 , loss_val =  0.016978009\n",
            "epochs =  12 , step =  400 , loss_val =  0.0015680232\n",
            "epochs =  12 , step =  500 , loss_val =  0.004476565\n",
            "epochs =  13 , step =  0 , loss_val =  0.0007541488\n",
            "epochs =  13 , step =  100 , loss_val =  0.0017325546\n",
            "epochs =  13 , step =  200 , loss_val =  0.0062751267\n",
            "epochs =  13 , step =  300 , loss_val =  0.023498155\n",
            "epochs =  13 , step =  400 , loss_val =  0.0039039734\n",
            "epochs =  13 , step =  500 , loss_val =  0.0072683175\n",
            "epochs =  14 , step =  0 , loss_val =  0.0006661247\n",
            "epochs =  14 , step =  100 , loss_val =  0.013873283\n",
            "epochs =  14 , step =  200 , loss_val =  0.0026552812\n",
            "epochs =  14 , step =  300 , loss_val =  0.0021243698\n",
            "epochs =  14 , step =  400 , loss_val =  0.004511739\n",
            "epochs =  14 , step =  500 , loss_val =  0.00056692306\n",
            "epochs =  15 , step =  0 , loss_val =  0.0028090337\n",
            "epochs =  15 , step =  100 , loss_val =  0.0324915\n",
            "epochs =  15 , step =  200 , loss_val =  0.0008100186\n",
            "epochs =  15 , step =  300 , loss_val =  0.0012830097\n",
            "epochs =  15 , step =  400 , loss_val =  0.0016172668\n",
            "epochs =  15 , step =  500 , loss_val =  0.0050847917\n",
            "epochs =  16 , step =  0 , loss_val =  0.00012297583\n",
            "epochs =  16 , step =  100 , loss_val =  0.0054648705\n",
            "epochs =  16 , step =  200 , loss_val =  0.007260026\n",
            "epochs =  16 , step =  300 , loss_val =  0.0014339122\n",
            "epochs =  16 , step =  400 , loss_val =  0.007561356\n",
            "epochs =  16 , step =  500 , loss_val =  0.0061365054\n",
            "epochs =  17 , step =  0 , loss_val =  0.00075345696\n",
            "epochs =  17 , step =  100 , loss_val =  0.021837246\n",
            "epochs =  17 , step =  200 , loss_val =  0.0039851237\n",
            "epochs =  17 , step =  300 , loss_val =  0.00080490304\n",
            "epochs =  17 , step =  400 , loss_val =  0.0023916755\n",
            "epochs =  17 , step =  500 , loss_val =  0.0024733532\n",
            "epochs =  18 , step =  0 , loss_val =  8.800653e-06\n",
            "epochs =  18 , step =  100 , loss_val =  0.00015059188\n",
            "epochs =  18 , step =  200 , loss_val =  0.0003281724\n",
            "epochs =  18 , step =  300 , loss_val =  0.022639707\n",
            "epochs =  18 , step =  400 , loss_val =  0.00057739444\n",
            "epochs =  18 , step =  500 , loss_val =  0.007896563\n",
            "epochs =  19 , step =  0 , loss_val =  0.0020298136\n",
            "epochs =  19 , step =  100 , loss_val =  0.0014815195\n",
            "epochs =  19 , step =  200 , loss_val =  0.0006053454\n",
            "epochs =  19 , step =  300 , loss_val =  0.00045786874\n",
            "epochs =  19 , step =  400 , loss_val =  0.0015330863\n",
            "epochs =  19 , step =  500 , loss_val =  0.00077914307\n",
            "epochs =  20 , step =  0 , loss_val =  0.023510303\n",
            "epochs =  20 , step =  100 , loss_val =  0.0044899075\n",
            "epochs =  20 , step =  200 , loss_val =  0.0021633634\n",
            "epochs =  20 , step =  300 , loss_val =  5.7547415e-05\n",
            "epochs =  20 , step =  400 , loss_val =  0.00042080565\n",
            "epochs =  20 , step =  500 , loss_val =  0.0028377434\n",
            "epochs =  21 , step =  0 , loss_val =  0.00069692224\n",
            "epochs =  21 , step =  100 , loss_val =  0.00012797734\n",
            "epochs =  21 , step =  200 , loss_val =  0.00021508444\n",
            "epochs =  21 , step =  300 , loss_val =  0.00070380047\n",
            "epochs =  21 , step =  400 , loss_val =  0.0014831665\n",
            "epochs =  21 , step =  500 , loss_val =  6.947729e-05\n",
            "epochs =  22 , step =  0 , loss_val =  4.597218e-05\n",
            "epochs =  22 , step =  100 , loss_val =  0.00041916795\n",
            "epochs =  22 , step =  200 , loss_val =  0.00031483005\n",
            "epochs =  22 , step =  300 , loss_val =  0.0031547884\n",
            "epochs =  22 , step =  400 , loss_val =  0.003657491\n",
            "epochs =  22 , step =  500 , loss_val =  0.00032935792\n",
            "epochs =  23 , step =  0 , loss_val =  0.00030398855\n",
            "epochs =  23 , step =  100 , loss_val =  0.00013383047\n",
            "epochs =  23 , step =  200 , loss_val =  0.0010094766\n",
            "epochs =  23 , step =  300 , loss_val =  0.010058924\n",
            "epochs =  23 , step =  400 , loss_val =  0.013087937\n",
            "epochs =  23 , step =  500 , loss_val =  0.0039709075\n",
            "epochs =  24 , step =  0 , loss_val =  0.0025024896\n",
            "epochs =  24 , step =  100 , loss_val =  0.0015090958\n",
            "epochs =  24 , step =  200 , loss_val =  0.00070882565\n",
            "epochs =  24 , step =  300 , loss_val =  0.0043209437\n",
            "epochs =  24 , step =  400 , loss_val =  2.762281e-05\n",
            "epochs =  24 , step =  500 , loss_val =  0.00013093265\n",
            "epochs =  25 , step =  0 , loss_val =  4.8635215e-05\n",
            "epochs =  25 , step =  100 , loss_val =  0.0004477424\n",
            "epochs =  25 , step =  200 , loss_val =  0.00010228364\n",
            "epochs =  25 , step =  300 , loss_val =  0.00017050306\n",
            "epochs =  25 , step =  400 , loss_val =  0.0002791866\n",
            "epochs =  25 , step =  500 , loss_val =  9.228366e-06\n",
            "epochs =  26 , step =  0 , loss_val =  0.00081513665\n",
            "epochs =  26 , step =  100 , loss_val =  0.00014372927\n",
            "epochs =  26 , step =  200 , loss_val =  7.38957e-05\n",
            "epochs =  26 , step =  300 , loss_val =  0.0034247262\n",
            "epochs =  26 , step =  400 , loss_val =  0.004074382\n",
            "epochs =  26 , step =  500 , loss_val =  0.0035622919\n",
            "epochs =  27 , step =  0 , loss_val =  0.0002138457\n",
            "epochs =  27 , step =  100 , loss_val =  0.0024953964\n",
            "epochs =  27 , step =  200 , loss_val =  0.00013549125\n",
            "epochs =  27 , step =  300 , loss_val =  0.00014966025\n",
            "epochs =  27 , step =  400 , loss_val =  4.5187975e-05\n",
            "epochs =  27 , step =  500 , loss_val =  0.008689739\n",
            "epochs =  28 , step =  0 , loss_val =  0.00010071202\n",
            "epochs =  28 , step =  100 , loss_val =  7.588413e-05\n",
            "epochs =  28 , step =  200 , loss_val =  0.00065865874\n",
            "epochs =  28 , step =  300 , loss_val =  0.00014737587\n",
            "epochs =  28 , step =  400 , loss_val =  2.1743208e-06\n",
            "epochs =  28 , step =  500 , loss_val =  6.743236e-05\n",
            "epochs =  29 , step =  0 , loss_val =  0.00021083356\n",
            "epochs =  29 , step =  100 , loss_val =  0.001165161\n",
            "epochs =  29 , step =  200 , loss_val =  0.0002661366\n",
            "epochs =  29 , step =  300 , loss_val =  1.968155e-05\n",
            "epochs =  29 , step =  400 , loss_val =  6.204616e-05\n",
            "epochs =  29 , step =  500 , loss_val =  0.00017695442\n",
            "\n",
            "elapsed time =  0:33:22.317819\n",
            "\n",
            "Accuracy =  0.9895\n",
            "type(accuracy_val) =  <class 'numpy.float32'> , type(predicted_list_val) =  <class 'numpy.ndarray'> , type(index_label) =  <class 'numpy.ndarray'>\n",
            "index_label.shape =  (10000,)\n",
            "length of index_label_list =  10000\n",
            "false label count =  105\n",
            "\n",
            "length of index_label_false_list 105\n"
          ],
          "name": "stdout"
        }
      ]
    },
    {
      "cell_type": "code",
      "metadata": {
        "id": "Bt5u-bW0Gy-y",
        "colab_type": "code",
        "colab": {}
      },
      "source": [
        ""
      ],
      "execution_count": 0,
      "outputs": []
    },
    {
      "cell_type": "code",
      "metadata": {
        "id": "uWmkQJEUGy3x",
        "colab_type": "code",
        "colab": {}
      },
      "source": [
        ""
      ],
      "execution_count": 0,
      "outputs": []
    },
    {
      "cell_type": "code",
      "metadata": {
        "id": "BHXHTUAiGyzu",
        "colab_type": "code",
        "colab": {}
      },
      "source": [
        ""
      ],
      "execution_count": 0,
      "outputs": []
    },
    {
      "cell_type": "code",
      "metadata": {
        "id": "y03nhdABGyy3",
        "colab_type": "code",
        "colab": {}
      },
      "source": [
        ""
      ],
      "execution_count": 0,
      "outputs": []
    },
    {
      "cell_type": "code",
      "metadata": {
        "id": "a-vS2hs3Gyub",
        "colab_type": "code",
        "colab": {}
      },
      "source": [
        ""
      ],
      "execution_count": 0,
      "outputs": []
    },
    {
      "cell_type": "code",
      "metadata": {
        "id": "VDFFzVaQGypE",
        "colab_type": "code",
        "colab": {}
      },
      "source": [
        ""
      ],
      "execution_count": 0,
      "outputs": []
    },
    {
      "cell_type": "code",
      "metadata": {
        "id": "uslYlTIqGyh8",
        "colab_type": "code",
        "colab": {}
      },
      "source": [
        ""
      ],
      "execution_count": 0,
      "outputs": []
    }
  ]
}