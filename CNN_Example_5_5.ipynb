{
  "nbformat": 4,
  "nbformat_minor": 0,
  "metadata": {
    "accelerator": "GPU",
    "anaconda-cloud": {},
    "colab": {
      "name": "CNN_Example_5_5.ipynb",
      "provenance": [],
      "collapsed_sections": []
    },
    "kernelspec": {
      "display_name": "Python 3",
      "language": "python",
      "name": "python3"
    },
    "language_info": {
      "codemirror_mode": {
        "name": "ipython",
        "version": 3
      },
      "file_extension": ".py",
      "mimetype": "text/x-python",
      "name": "python",
      "nbconvert_exporter": "python",
      "pygments_lexer": "ipython3",
      "version": "3.7.3"
    }
  },
  "cells": [
    {
      "cell_type": "markdown",
      "metadata": {
        "id": "O-Pv5fJG1KiA",
        "colab_type": "text"
      },
      "source": [
        "### 3conv_5X5_5X5_5X5_NoPooling_FC"
      ]
    },
    {
      "cell_type": "code",
      "metadata": {
        "id": "dhvBrcge1KiE",
        "colab_type": "code",
        "colab": {
          "base_uri": "https://localhost:8080/",
          "height": 34
        },
        "outputId": "779ea9de-d40e-4ee5-a508-f5b1feacbc6d"
      },
      "source": [
        "# colab 에서 tensorflow 1.x 실행\n",
        "%tensorflow_version 1.x"
      ],
      "execution_count": 1,
      "outputs": [
        {
          "output_type": "stream",
          "text": [
            "TensorFlow 1.x selected.\n"
          ],
          "name": "stdout"
        }
      ]
    },
    {
      "cell_type": "code",
      "metadata": {
        "colab_type": "code",
        "id": "Bt2ciGRak9-I",
        "outputId": "9bb835d2-1cb1-49f7-de07-2602b7b4c1f6",
        "colab": {
          "base_uri": "https://localhost:8080/",
          "height": 670
        }
      },
      "source": [
        "import tensorflow as tf\n",
        "from tensorflow.examples.tutorials.mnist import input_data\n",
        "import numpy as np\n",
        "from datetime import datetime      # datetime.now() 를 이용하여 학습 경과 시간 측정\n",
        "\n",
        "# read_data_sets() 를 통해 데이터를 객체형태로 받아오고\n",
        "# one_hot 옵션을 통해 정답(label) 을 one-hot 인코딩된 형태로 받아옴\n",
        "\n",
        "mnist = input_data.read_data_sets(\"MNIST_data/\", one_hot=True)\n",
        "\n",
        "# mnist 데이터 셋은 train, test, validation 3개의 데이터 셋으로 구성되어 있으며.\n",
        "# num_examples 값을 통해 데이터의 갯수 확인 가능함\n",
        "\n",
        "print(\"\\n\", mnist.train.num_examples, mnist.test.num_examples, mnist.validation.num_examples)\n",
        "\n",
        "# 데이터는 784(28x28)개의 픽셀을 가지는 이미지와\n",
        "# 10(0~9)개 클래스를 가지는 one-hot 인코딩된 레이블(정답)을 가지고 있음\n",
        "\n",
        "print(\"\\ntrain image shape = \", np.shape(mnist.train.images))\n",
        "print(\"train label shape = \", np.shape(mnist.train.labels))\n",
        "print(\"test image shape = \", np.shape(mnist.test.images))\n",
        "print(\"test label shape = \", np.shape(mnist.test.labels))"
      ],
      "execution_count": 2,
      "outputs": [
        {
          "output_type": "stream",
          "text": [
            "WARNING:tensorflow:From <ipython-input-2-37edfc5623ff>:9: read_data_sets (from tensorflow.contrib.learn.python.learn.datasets.mnist) is deprecated and will be removed in a future version.\n",
            "Instructions for updating:\n",
            "Please use alternatives such as official/mnist/dataset.py from tensorflow/models.\n",
            "WARNING:tensorflow:From /tensorflow-1.15.2/python3.6/tensorflow_core/contrib/learn/python/learn/datasets/mnist.py:260: maybe_download (from tensorflow.contrib.learn.python.learn.datasets.base) is deprecated and will be removed in a future version.\n",
            "Instructions for updating:\n",
            "Please write your own downloading logic.\n",
            "WARNING:tensorflow:From /tensorflow-1.15.2/python3.6/tensorflow_core/contrib/learn/python/learn/datasets/base.py:252: _internal_retry.<locals>.wrap.<locals>.wrapped_fn (from tensorflow.contrib.learn.python.learn.datasets.base) is deprecated and will be removed in a future version.\n",
            "Instructions for updating:\n",
            "Please use urllib or similar directly.\n",
            "Successfully downloaded train-images-idx3-ubyte.gz 9912422 bytes.\n",
            "WARNING:tensorflow:From /tensorflow-1.15.2/python3.6/tensorflow_core/contrib/learn/python/learn/datasets/mnist.py:262: extract_images (from tensorflow.contrib.learn.python.learn.datasets.mnist) is deprecated and will be removed in a future version.\n",
            "Instructions for updating:\n",
            "Please use tf.data to implement this functionality.\n",
            "Extracting MNIST_data/train-images-idx3-ubyte.gz\n",
            "Successfully downloaded train-labels-idx1-ubyte.gz 28881 bytes.\n",
            "WARNING:tensorflow:From /tensorflow-1.15.2/python3.6/tensorflow_core/contrib/learn/python/learn/datasets/mnist.py:267: extract_labels (from tensorflow.contrib.learn.python.learn.datasets.mnist) is deprecated and will be removed in a future version.\n",
            "Instructions for updating:\n",
            "Please use tf.data to implement this functionality.\n",
            "Extracting MNIST_data/train-labels-idx1-ubyte.gz\n",
            "WARNING:tensorflow:From /tensorflow-1.15.2/python3.6/tensorflow_core/contrib/learn/python/learn/datasets/mnist.py:110: dense_to_one_hot (from tensorflow.contrib.learn.python.learn.datasets.mnist) is deprecated and will be removed in a future version.\n",
            "Instructions for updating:\n",
            "Please use tf.one_hot on tensors.\n",
            "Successfully downloaded t10k-images-idx3-ubyte.gz 1648877 bytes.\n",
            "Extracting MNIST_data/t10k-images-idx3-ubyte.gz\n",
            "Successfully downloaded t10k-labels-idx1-ubyte.gz 4542 bytes.\n",
            "Extracting MNIST_data/t10k-labels-idx1-ubyte.gz\n",
            "WARNING:tensorflow:From /tensorflow-1.15.2/python3.6/tensorflow_core/contrib/learn/python/learn/datasets/mnist.py:290: DataSet.__init__ (from tensorflow.contrib.learn.python.learn.datasets.mnist) is deprecated and will be removed in a future version.\n",
            "Instructions for updating:\n",
            "Please use alternatives such as official/mnist/dataset.py from tensorflow/models.\n",
            "\n",
            " 55000 10000 5000\n",
            "\n",
            "train image shape =  (55000, 784)\n",
            "train label shape =  (55000, 10)\n",
            "test image shape =  (10000, 784)\n",
            "test label shape =  (10000, 10)\n"
          ],
          "name": "stdout"
        }
      ]
    },
    {
      "cell_type": "code",
      "metadata": {
        "colab_type": "code",
        "id": "S1Doo13ik9-O",
        "colab": {}
      },
      "source": [
        "# Hyper-Parameter\n",
        "learning_rate = 0.001  # 학습율\n",
        "epochs = 30            # 반복횟수\n",
        "batch_size = 100      # 한번에 입력으로 주어지는 MNIST 개수"
      ],
      "execution_count": 0,
      "outputs": []
    },
    {
      "cell_type": "code",
      "metadata": {
        "colab_type": "code",
        "id": "dbHu2Xnek9-S",
        "colab": {}
      },
      "source": [
        "# 입력과 정답을 위한 플레이스홀더 정의\n",
        "X = tf.placeholder(tf.float32, [None, 784])  \n",
        "\n",
        "T = tf.placeholder(tf.float32, [None, 10])  \n",
        "\n",
        "# 입력층의 출력 값. 컨볼루션 연산을 위해 reshape 시킴\n",
        "A1 = X_img = tf.reshape(X, [-1, 28, 28, 1])   # image 28 X 28 X 1 (black/white)"
      ],
      "execution_count": 0,
      "outputs": []
    },
    {
      "cell_type": "code",
      "metadata": {
        "colab_type": "code",
        "id": "W-YcxLO1k9-V",
        "colab": {}
      },
      "source": [
        "# 1번째 컨볼루션 층\n",
        "# 5X5 크기를 가지는 32개의 필터를 적용\n",
        "\n",
        "F2 = tf.Variable(tf.random_normal([5, 5, 1, 32], stddev=0.01))  \n",
        "b2 = tf.Variable(tf.constant(0.1, shape=[32]))   \n",
        "\n",
        "# 1번째 컨볼루션 연산을 통해 28 X 28 X1  => 28 X 28 X 32 \n",
        "C2 = tf.nn.conv2d(A1, F2, strides=[1, 1, 1, 1], padding='SAME')\n",
        "\n",
        "# relu\n",
        "Z2 = tf.nn.relu(C2+b2)\n",
        "\n",
        "# 1번째 max pooling을 통해 28 X 28 X 32  => 14 X 14 X 32 \n",
        "A2 = P2 = tf.nn.max_pool(Z2, ksize=[1, 2, 2, 1], strides=[1, 2, 2, 1], padding='SAME')"
      ],
      "execution_count": 0,
      "outputs": []
    },
    {
      "cell_type": "code",
      "metadata": {
        "colab_type": "code",
        "id": "wWx5urPxk9-Y",
        "colab": {}
      },
      "source": [
        "# 2번째 컨볼루션 층\n",
        "F3 = tf.Variable(tf.random_normal([5, 5, 32, 64], stddev=0.01))  \n",
        "b3 = tf.Variable(tf.constant(0.1, shape=[64]))   \n",
        "\n",
        "# 2번째 컨볼루션 연산을 통해 14 X 14 X 32 => 14 X 14 X 64 \n",
        "C3 = tf.nn.conv2d(A2, F3, strides=[1, 1, 1, 1], padding='SAME')\n",
        "\n",
        "# relu\n",
        "Z3 = tf.nn.relu(C3+b3)\n",
        "\n",
        "# 2번째 max pooling을 통해 14 X 14 X 64 => 7 X 7 X 64\n",
        "A3 = P3 = tf.nn.max_pool(Z3, ksize=[1, 2, 2, 1], strides=[1, 2, 2, 1], padding='SAME')"
      ],
      "execution_count": 0,
      "outputs": []
    },
    {
      "cell_type": "code",
      "metadata": {
        "colab_type": "code",
        "id": "gNxBw9Fbk9-b",
        "colab": {}
      },
      "source": [
        "# 3번째 컨볼루션 층\n",
        "F4 = tf.Variable(tf.random_normal([5, 5, 64, 128], stddev=0.01))  \n",
        "b4 = tf.Variable(tf.constant(0.1, shape=[128]))   \n",
        "\n",
        "# 3번째 컨볼루션 연산을 통해 7 X 7 X 64 => 7 X 7 X 128\n",
        "C4 = tf.nn.conv2d(A3, F4, strides=[1, 1, 1, 1], padding='SAME')\n",
        "\n",
        "# relu\n",
        "A4 = Z4 = tf.nn.relu(C4+b4)\n",
        "\n",
        "# pooling 없음 \n",
        "#A4 = P4 = tf.nn.max_pool(Z4, ksize=[1, 2, 2, 1], strides=[1, 2, 2, 1], padding='SAME')"
      ],
      "execution_count": 0,
      "outputs": []
    },
    {
      "cell_type": "code",
      "metadata": {
        "colab_type": "code",
        "id": "HoKyURwwk9-d",
        "colab": {}
      },
      "source": [
        "# 4X4 크기를 가진 128개의 activation map을 flatten 시킴\n",
        "A4_flat = P4_flat = tf.reshape(A4, [-1, 128*7*7])"
      ],
      "execution_count": 0,
      "outputs": []
    },
    {
      "cell_type": "code",
      "metadata": {
        "colab_type": "code",
        "id": "4vRk70vhk9-g",
        "colab": {}
      },
      "source": [
        "# 출력층\n",
        "W5 = tf.Variable(tf.random_normal([128*7*7, 10], stddev=0.01))\n",
        "b5 = tf.Variable(tf.random_normal([10]))\n",
        "\n",
        "# 출력층 선형회귀  값 Z5, 즉 softmax 에 들어가는 입력 값\n",
        "Z5 = logits = tf.matmul(A4_flat, W5) + b5    # 선형회귀 값 Z5\n",
        "\n",
        "y = A5 = tf.nn.softmax(Z5)"
      ],
      "execution_count": 0,
      "outputs": []
    },
    {
      "cell_type": "code",
      "metadata": {
        "colab_type": "code",
        "id": "prsLY0U6k9-j",
        "colab": {}
      },
      "source": [
        "loss = tf.reduce_mean( tf.nn.softmax_cross_entropy_with_logits_v2(logits=Z5, labels=T) )\n",
        "\n",
        "optimizer = tf.train.AdamOptimizer(learning_rate)\n",
        "\n",
        "train = optimizer.minimize(loss)  "
      ],
      "execution_count": 0,
      "outputs": []
    },
    {
      "cell_type": "code",
      "metadata": {
        "colab_type": "code",
        "id": "stkXP6Evk9-l",
        "colab": {}
      },
      "source": [
        "# batch_size X 10 데이터에 대해 argmax를 통해 행단위로 비교함\n",
        "predicted_val = tf.equal( tf.argmax(A5, 1), tf.argmax(T, 1) )\n",
        "\n",
        "# batch_size X 10 의 True, False 를 1 또는 0 으로 변환\n",
        "accuracy = tf.reduce_mean(tf.cast(predicted_val, dtype=tf.float32))\n",
        "\n",
        "# index list 출력\n",
        "accuracy_index = tf.cast(predicted_val, dtype=tf.float32)\n",
        "\n",
        "# 예측값 처리\n",
        "predicted_list = tf.argmax(A5, 1)"
      ],
      "execution_count": 0,
      "outputs": []
    },
    {
      "cell_type": "code",
      "metadata": {
        "colab_type": "code",
        "id": "s9t7mdaWk9-m",
        "outputId": "1b2c3b8f-8635-4960-d229-3759cb499811",
        "colab": {
          "base_uri": "https://localhost:8080/",
          "height": 1000
        }
      },
      "source": [
        "index_label_prediction_list = []\n",
        "\n",
        "with  tf.Session()  as sess:\n",
        "    \n",
        "    sess.run(tf.global_variables_initializer())  # 변수 노드(tf.Variable) 초기화\n",
        "    \n",
        "    start_time = datetime.now()\n",
        "    \n",
        "    for i in range(epochs):    # 30 번 반복수행\n",
        "        \n",
        "        total_batch = int(mnist.train.num_examples / batch_size)  # 55,000 / 100\n",
        "\n",
        "        for step in range(total_batch):\n",
        "            \n",
        "            batch_x_data, batch_t_data = mnist.train.next_batch(batch_size)\n",
        "      \n",
        "            loss_val, _ = sess.run([loss, train], feed_dict={X: batch_x_data, T: batch_t_data})    \n",
        "        \n",
        "            if step % 100 == 0:\n",
        "                print(\"epochs = \", i, \", step = \", step, \", loss_val = \", loss_val)             \n",
        "    \n",
        "    end_time = datetime.now() \n",
        "    \n",
        "    print(\"\\nelapsed time = \", end_time - start_time) \n",
        "    \n",
        "    # Accuracy 확인\n",
        "    test_x_data = mnist.test.images    # 10000 X 784\n",
        "    test_t_data = mnist.test.labels    # 10000 X 10\n",
        "    \n",
        "    accuracy_val, predicted_list_val, index_label = sess.run([accuracy, predicted_list, accuracy_index], feed_dict={X: test_x_data, T: test_t_data})\n",
        "    \n",
        "    print(\"\\nAccuracy = \", accuracy_val)\n",
        "    print(\"type(accuracy_val) = \", type(accuracy_val), ', type(predicted_list_val) = ', type(predicted_list_val), ', type(index_label) = ', type(index_label))\n",
        "    print(\"index_label.shape = \", index_label.shape)\n",
        "    \n",
        "    index_label_list = list(index_label)\n",
        "    print(\"length of index_label_list = \", len(index_label_list))\n",
        "    print(\"false label count = \", index_label_list.count([0]))\n",
        "        \n",
        "    # numpy type 으로 디버그\n",
        "    temp_list = [] \n",
        "    \n",
        "    for index in range(len(index_label)):\n",
        "        \n",
        "        if index_label[index] == 0:\n",
        "            \n",
        "            temp_list.append(index)\n",
        "            temp_list.append(np.argmax(test_t_data[index]))  # one-hot encoding 이므로 argmax 로 정답 추출\n",
        "            temp_list.append(predicted_list_val[index])\n",
        "            \n",
        "            index_label_prediction_list.append(temp_list)\n",
        "            \n",
        "            temp_list = []\n",
        "            \n",
        "    print(\"\\nlength of index_label_false_list\", len(index_label_prediction_list))"
      ],
      "execution_count": 12,
      "outputs": [
        {
          "output_type": "stream",
          "text": [
            "epochs =  0 , step =  0 , loss_val =  2.849021\n",
            "epochs =  0 , step =  100 , loss_val =  0.6068811\n",
            "epochs =  0 , step =  200 , loss_val =  0.26134712\n",
            "epochs =  0 , step =  300 , loss_val =  0.1802639\n",
            "epochs =  0 , step =  400 , loss_val =  0.041353464\n",
            "epochs =  0 , step =  500 , loss_val =  0.015322737\n",
            "epochs =  1 , step =  0 , loss_val =  0.013876539\n",
            "epochs =  1 , step =  100 , loss_val =  0.036874607\n",
            "epochs =  1 , step =  200 , loss_val =  0.054332644\n",
            "epochs =  1 , step =  300 , loss_val =  0.074569255\n",
            "epochs =  1 , step =  400 , loss_val =  0.035119906\n",
            "epochs =  1 , step =  500 , loss_val =  0.0444294\n",
            "epochs =  2 , step =  0 , loss_val =  0.09626565\n",
            "epochs =  2 , step =  100 , loss_val =  0.035812687\n",
            "epochs =  2 , step =  200 , loss_val =  0.025940616\n",
            "epochs =  2 , step =  300 , loss_val =  0.039197568\n",
            "epochs =  2 , step =  400 , loss_val =  0.0077020144\n",
            "epochs =  2 , step =  500 , loss_val =  0.034368288\n",
            "epochs =  3 , step =  0 , loss_val =  0.018082118\n",
            "epochs =  3 , step =  100 , loss_val =  0.009634332\n",
            "epochs =  3 , step =  200 , loss_val =  0.009987411\n",
            "epochs =  3 , step =  300 , loss_val =  0.0076389275\n",
            "epochs =  3 , step =  400 , loss_val =  0.13348517\n",
            "epochs =  3 , step =  500 , loss_val =  0.0035077545\n",
            "epochs =  4 , step =  0 , loss_val =  0.010592273\n",
            "epochs =  4 , step =  100 , loss_val =  0.001953509\n",
            "epochs =  4 , step =  200 , loss_val =  0.0061985524\n",
            "epochs =  4 , step =  300 , loss_val =  0.0062447083\n",
            "epochs =  4 , step =  400 , loss_val =  0.023539498\n",
            "epochs =  4 , step =  500 , loss_val =  0.0005061763\n",
            "epochs =  5 , step =  0 , loss_val =  0.010489937\n",
            "epochs =  5 , step =  100 , loss_val =  0.009221364\n",
            "epochs =  5 , step =  200 , loss_val =  0.019901596\n",
            "epochs =  5 , step =  300 , loss_val =  0.015709693\n",
            "epochs =  5 , step =  400 , loss_val =  0.053819843\n",
            "epochs =  5 , step =  500 , loss_val =  0.040268384\n",
            "epochs =  6 , step =  0 , loss_val =  0.002386428\n",
            "epochs =  6 , step =  100 , loss_val =  0.0031542182\n",
            "epochs =  6 , step =  200 , loss_val =  0.03375709\n",
            "epochs =  6 , step =  300 , loss_val =  0.0038611584\n",
            "epochs =  6 , step =  400 , loss_val =  0.002259284\n",
            "epochs =  6 , step =  500 , loss_val =  0.022448575\n",
            "epochs =  7 , step =  0 , loss_val =  0.002865739\n",
            "epochs =  7 , step =  100 , loss_val =  0.019518945\n",
            "epochs =  7 , step =  200 , loss_val =  0.00014639851\n",
            "epochs =  7 , step =  300 , loss_val =  0.0006541036\n",
            "epochs =  7 , step =  400 , loss_val =  0.009344923\n",
            "epochs =  7 , step =  500 , loss_val =  0.0053363983\n",
            "epochs =  8 , step =  0 , loss_val =  0.00051905995\n",
            "epochs =  8 , step =  100 , loss_val =  0.0051760348\n",
            "epochs =  8 , step =  200 , loss_val =  0.0026870975\n",
            "epochs =  8 , step =  300 , loss_val =  0.00014725399\n",
            "epochs =  8 , step =  400 , loss_val =  0.00790089\n",
            "epochs =  8 , step =  500 , loss_val =  0.052755028\n",
            "epochs =  9 , step =  0 , loss_val =  0.0119486265\n",
            "epochs =  9 , step =  100 , loss_val =  0.0015702302\n",
            "epochs =  9 , step =  200 , loss_val =  0.0013776767\n",
            "epochs =  9 , step =  300 , loss_val =  0.0048708017\n",
            "epochs =  9 , step =  400 , loss_val =  0.0012364091\n",
            "epochs =  9 , step =  500 , loss_val =  0.002352165\n",
            "epochs =  10 , step =  0 , loss_val =  0.0006282742\n",
            "epochs =  10 , step =  100 , loss_val =  0.00039469372\n",
            "epochs =  10 , step =  200 , loss_val =  8.070641e-05\n",
            "epochs =  10 , step =  300 , loss_val =  0.0037695987\n",
            "epochs =  10 , step =  400 , loss_val =  0.0011057465\n",
            "epochs =  10 , step =  500 , loss_val =  0.00026638684\n",
            "epochs =  11 , step =  0 , loss_val =  0.0011640916\n",
            "epochs =  11 , step =  100 , loss_val =  0.00036794582\n",
            "epochs =  11 , step =  200 , loss_val =  2.0357083e-05\n",
            "epochs =  11 , step =  300 , loss_val =  0.00081997394\n",
            "epochs =  11 , step =  400 , loss_val =  0.0007100557\n",
            "epochs =  11 , step =  500 , loss_val =  0.017602183\n",
            "epochs =  12 , step =  0 , loss_val =  0.00018270574\n",
            "epochs =  12 , step =  100 , loss_val =  6.764112e-05\n",
            "epochs =  12 , step =  200 , loss_val =  1.7622719e-05\n",
            "epochs =  12 , step =  300 , loss_val =  0.002728955\n",
            "epochs =  12 , step =  400 , loss_val =  0.00031712107\n",
            "epochs =  12 , step =  500 , loss_val =  0.00012652384\n",
            "epochs =  13 , step =  0 , loss_val =  0.013727337\n",
            "epochs =  13 , step =  100 , loss_val =  0.000277261\n",
            "epochs =  13 , step =  200 , loss_val =  0.0025592705\n",
            "epochs =  13 , step =  300 , loss_val =  0.00024357303\n",
            "epochs =  13 , step =  400 , loss_val =  0.0020877742\n",
            "epochs =  13 , step =  500 , loss_val =  2.5190788e-05\n",
            "epochs =  14 , step =  0 , loss_val =  0.034529425\n",
            "epochs =  14 , step =  100 , loss_val =  1.6577153e-05\n",
            "epochs =  14 , step =  200 , loss_val =  0.00040253962\n",
            "epochs =  14 , step =  300 , loss_val =  0.0014976416\n",
            "epochs =  14 , step =  400 , loss_val =  0.0016337135\n",
            "epochs =  14 , step =  500 , loss_val =  5.187339e-05\n",
            "epochs =  15 , step =  0 , loss_val =  0.004103526\n",
            "epochs =  15 , step =  100 , loss_val =  0.022235375\n",
            "epochs =  15 , step =  200 , loss_val =  3.7046423e-06\n",
            "epochs =  15 , step =  300 , loss_val =  1.55846e-05\n",
            "epochs =  15 , step =  400 , loss_val =  0.0027675168\n",
            "epochs =  15 , step =  500 , loss_val =  8.268262e-05\n",
            "epochs =  16 , step =  0 , loss_val =  0.0035353645\n",
            "epochs =  16 , step =  100 , loss_val =  0.00061962666\n",
            "epochs =  16 , step =  200 , loss_val =  0.00025026963\n",
            "epochs =  16 , step =  300 , loss_val =  4.3733507e-05\n",
            "epochs =  16 , step =  400 , loss_val =  0.0011044947\n",
            "epochs =  16 , step =  500 , loss_val =  0.0012529996\n",
            "epochs =  17 , step =  0 , loss_val =  8.952255e-05\n",
            "epochs =  17 , step =  100 , loss_val =  0.00027252818\n",
            "epochs =  17 , step =  200 , loss_val =  0.0061478857\n",
            "epochs =  17 , step =  300 , loss_val =  3.4301305e-05\n",
            "epochs =  17 , step =  400 , loss_val =  0.00014085414\n",
            "epochs =  17 , step =  500 , loss_val =  0.003677154\n",
            "epochs =  18 , step =  0 , loss_val =  2.2958325e-06\n",
            "epochs =  18 , step =  100 , loss_val =  0.00013350867\n",
            "epochs =  18 , step =  200 , loss_val =  2.95552e-05\n",
            "epochs =  18 , step =  300 , loss_val =  3.9832947e-05\n",
            "epochs =  18 , step =  400 , loss_val =  0.0002607831\n",
            "epochs =  18 , step =  500 , loss_val =  8.846102e-06\n",
            "epochs =  19 , step =  0 , loss_val =  0.0014694456\n",
            "epochs =  19 , step =  100 , loss_val =  0.000114337796\n",
            "epochs =  19 , step =  200 , loss_val =  0.0006189609\n",
            "epochs =  19 , step =  300 , loss_val =  0.0016624794\n",
            "epochs =  19 , step =  400 , loss_val =  2.492416e-06\n",
            "epochs =  19 , step =  500 , loss_val =  0.00011099835\n",
            "epochs =  20 , step =  0 , loss_val =  4.715317e-06\n",
            "epochs =  20 , step =  100 , loss_val =  1.2408999e-06\n",
            "epochs =  20 , step =  200 , loss_val =  1.9656402e-06\n",
            "epochs =  20 , step =  300 , loss_val =  3.036174e-05\n",
            "epochs =  20 , step =  400 , loss_val =  0.0003564135\n",
            "epochs =  20 , step =  500 , loss_val =  0.00053808937\n",
            "epochs =  21 , step =  0 , loss_val =  0.0005526811\n",
            "epochs =  21 , step =  100 , loss_val =  0.0008363516\n",
            "epochs =  21 , step =  200 , loss_val =  2.7551476e-05\n",
            "epochs =  21 , step =  300 , loss_val =  0.0033392601\n",
            "epochs =  21 , step =  400 , loss_val =  0.00033508026\n",
            "epochs =  21 , step =  500 , loss_val =  8.00416e-06\n",
            "epochs =  22 , step =  0 , loss_val =  0.001976888\n",
            "epochs =  22 , step =  100 , loss_val =  2.4511288e-05\n",
            "epochs =  22 , step =  200 , loss_val =  4.854733e-05\n",
            "epochs =  22 , step =  300 , loss_val =  7.217133e-05\n",
            "epochs =  22 , step =  400 , loss_val =  1.6766868e-05\n",
            "epochs =  22 , step =  500 , loss_val =  2.8801041e-05\n",
            "epochs =  23 , step =  0 , loss_val =  4.7211447e-06\n",
            "epochs =  23 , step =  100 , loss_val =  0.00013110001\n",
            "epochs =  23 , step =  200 , loss_val =  2.1853632e-05\n",
            "epochs =  23 , step =  300 , loss_val =  2.7712635e-05\n",
            "epochs =  23 , step =  400 , loss_val =  0.0045385845\n",
            "epochs =  23 , step =  500 , loss_val =  4.931687e-05\n",
            "epochs =  24 , step =  0 , loss_val =  3.681592e-05\n",
            "epochs =  24 , step =  100 , loss_val =  2.1094565e-05\n",
            "epochs =  24 , step =  200 , loss_val =  0.029342225\n",
            "epochs =  24 , step =  300 , loss_val =  0.0005572374\n",
            "epochs =  24 , step =  400 , loss_val =  0.000116809446\n",
            "epochs =  24 , step =  500 , loss_val =  2.2649691e-07\n",
            "epochs =  25 , step =  0 , loss_val =  0.00031801534\n",
            "epochs =  25 , step =  100 , loss_val =  0.00084337435\n",
            "epochs =  25 , step =  200 , loss_val =  3.4197237e-06\n",
            "epochs =  25 , step =  300 , loss_val =  2.9682954e-07\n",
            "epochs =  25 , step =  400 , loss_val =  4.1723226e-08\n",
            "epochs =  25 , step =  500 , loss_val =  9.478874e-05\n",
            "epochs =  26 , step =  0 , loss_val =  0.0009681836\n",
            "epochs =  26 , step =  100 , loss_val =  4.0527946e-05\n",
            "epochs =  26 , step =  200 , loss_val =  0.039420173\n",
            "epochs =  26 , step =  300 , loss_val =  0.0006386065\n",
            "epochs =  26 , step =  400 , loss_val =  0.0010530594\n",
            "epochs =  26 , step =  500 , loss_val =  7.152401e-06\n",
            "epochs =  27 , step =  0 , loss_val =  0.0017193975\n",
            "epochs =  27 , step =  100 , loss_val =  5.149251e-05\n",
            "epochs =  27 , step =  200 , loss_val =  1.1402331e-05\n",
            "epochs =  27 , step =  300 , loss_val =  0.043427113\n",
            "epochs =  27 , step =  400 , loss_val =  7.196447e-05\n",
            "epochs =  27 , step =  500 , loss_val =  0.009295423\n",
            "epochs =  28 , step =  0 , loss_val =  0.00089939294\n",
            "epochs =  28 , step =  100 , loss_val =  5.0221963e-05\n",
            "epochs =  28 , step =  200 , loss_val =  7.5174357e-06\n",
            "epochs =  28 , step =  300 , loss_val =  0.00010337843\n",
            "epochs =  28 , step =  400 , loss_val =  5.9084323e-06\n",
            "epochs =  28 , step =  500 , loss_val =  8.948743e-06\n",
            "epochs =  29 , step =  0 , loss_val =  7.850544e-06\n",
            "epochs =  29 , step =  100 , loss_val =  0.00015284149\n",
            "epochs =  29 , step =  200 , loss_val =  3.6247488e-06\n",
            "epochs =  29 , step =  300 , loss_val =  0.0016098715\n",
            "epochs =  29 , step =  400 , loss_val =  2.3841844e-08\n",
            "epochs =  29 , step =  500 , loss_val =  1.5497205e-08\n",
            "\n",
            "elapsed time =  0:01:43.874408\n",
            "\n",
            "Accuracy =  0.9912\n",
            "type(accuracy_val) =  <class 'numpy.float32'> , type(predicted_list_val) =  <class 'numpy.ndarray'> , type(index_label) =  <class 'numpy.ndarray'>\n",
            "index_label.shape =  (10000,)\n",
            "length of index_label_list =  10000\n",
            "false label count =  88\n",
            "\n",
            "length of index_label_false_list 88\n"
          ],
          "name": "stdout"
        }
      ]
    },
    {
      "cell_type": "code",
      "metadata": {
        "colab_type": "code",
        "id": "48THz29lk9-o",
        "outputId": "9180e7c4-19a8-44f9-8ff5-d7a989551108",
        "colab": {
          "base_uri": "https://localhost:8080/",
          "height": 54
        }
      },
      "source": [
        "# index_label_prediction_list\n",
        "print(index_label_prediction_list)"
      ],
      "execution_count": 13,
      "outputs": [
        {
          "output_type": "stream",
          "text": [
            "[[321, 2, 7], [340, 5, 3], [359, 9, 4], [445, 6, 0], [447, 4, 7], [582, 8, 2], [659, 2, 1], [924, 2, 7], [936, 8, 5], [947, 8, 9], [1014, 6, 9], [1039, 7, 3], [1112, 4, 6], [1226, 7, 2], [1232, 9, 4], [1247, 9, 5], [1260, 7, 1], [1393, 5, 3], [1459, 2, 3], [1554, 9, 8], [1709, 9, 5], [1878, 8, 3], [1901, 9, 4], [1903, 7, 2], [1982, 6, 5], [2035, 5, 3], [2118, 6, 0], [2130, 4, 9], [2135, 6, 1], [2293, 9, 0], [2387, 9, 1], [2414, 9, 4], [2597, 5, 3], [2654, 6, 1], [2720, 9, 4], [2742, 9, 7], [2953, 3, 5], [3023, 8, 5], [3225, 7, 9], [3266, 0, 6], [3422, 6, 0], [3475, 3, 7], [3534, 4, 8], [3558, 5, 0], [3780, 4, 6], [3808, 7, 8], [3853, 6, 0], [3926, 9, 3], [3941, 4, 6], [3985, 9, 4], [4176, 2, 7], [4284, 9, 5], [4289, 2, 7], [4369, 9, 4], [4477, 0, 6], [4500, 9, 1], [4505, 9, 3], [4507, 1, 8], [4571, 6, 0], [4578, 7, 1], [4740, 3, 5], [4761, 9, 4], [4838, 6, 5], [5450, 0, 5], [5654, 7, 2], [5749, 8, 5], [5937, 5, 3], [6091, 9, 5], [6166, 9, 5], [6173, 9, 8], [6571, 9, 7], [6576, 7, 1], [6597, 0, 7], [6608, 9, 5], [6625, 8, 2], [6783, 1, 6], [7216, 0, 6], [7278, 9, 4], [7473, 4, 5], [8094, 2, 8], [8246, 3, 5], [8408, 8, 5], [8527, 4, 9], [9540, 1, 7], [9642, 9, 7], [9679, 6, 1], [9729, 5, 6], [9839, 2, 7]]\n"
          ],
          "name": "stdout"
        }
      ]
    },
    {
      "cell_type": "code",
      "metadata": {
        "colab_type": "code",
        "id": "c9d89jv1XTkh",
        "outputId": "55e38f71-dc59-49f1-bd7d-061085c2edec",
        "colab": {
          "base_uri": "https://localhost:8080/",
          "height": 125
        }
      },
      "source": [
        "from google.colab import drive   # colab 사용시 mount 하기 위한 용도. local 에서는 불필요\n",
        "drive.mount('/content/gdrive/')  # colab 사용시 mount 하기 위한 용도. local 에서는 불필요"
      ],
      "execution_count": 14,
      "outputs": [
        {
          "output_type": "stream",
          "text": [
            "Go to this URL in a browser: https://accounts.google.com/o/oauth2/auth?client_id=947318989803-6bn6qk8qdgf4n4g3pfee6491hc0brc4i.apps.googleusercontent.com&redirect_uri=urn%3aietf%3awg%3aoauth%3a2.0%3aoob&response_type=code&scope=email%20https%3a%2f%2fwww.googleapis.com%2fauth%2fdocs.test%20https%3a%2f%2fwww.googleapis.com%2fauth%2fdrive%20https%3a%2f%2fwww.googleapis.com%2fauth%2fdrive.photos.readonly%20https%3a%2f%2fwww.googleapis.com%2fauth%2fpeopleapi.readonly\n",
            "\n",
            "Enter your authorization code:\n",
            "··········\n",
            "Mounted at /content/gdrive/\n"
          ],
          "name": "stdout"
        }
      ]
    },
    {
      "cell_type": "code",
      "metadata": {
        "colab_type": "code",
        "id": "ZjMMkZkdk9-p",
        "outputId": "c212ef15-09fc-4b8e-9434-d6c677cadb65",
        "colab": {
          "base_uri": "https://localhost:8080/",
          "height": 457
        }
      },
      "source": [
        "# check false data\n",
        "import os\n",
        "from datetime import datetime\n",
        "import matplotlib.pyplot as plt\n",
        "%matplotlib inline\n",
        "\n",
        "save_count = 0\n",
        "\n",
        "example_name = 'CNN_Example_5_5_'\n",
        "\n",
        "# 현재 디렉토리 저장\n",
        "curr_dir = os.getcwd()\n",
        "\n",
        "# image 저장할 디렉토리 생성. 현재 시간으로 생성\n",
        "now = datetime.now()\n",
        "\n",
        "save_dir_name = example_name + str(now.year) + '-' + str(now.month) + '-' + str(now.day) + '_' + str(now.hour) + str(now.minute) + str(now.second)\n",
        "\n",
        "colab_default_dir = '/content/gdrive/My Drive/Colab Notebooks/'\n",
        "\n",
        "# Exception handling => 파일과 디렉토리 프로그래밍 이므로 반드시 exception handling 필요\n",
        "\n",
        "try:\n",
        "\n",
        "  os.chdir(colab_default_dir)\n",
        "  os.mkdir(save_dir_name)\n",
        "\n",
        "  # change dir\n",
        "  os.chdir(save_dir_name)\n",
        "\n",
        "  start_time = datetime.now()\n",
        "\n",
        "  for list_data in index_label_prediction_list:\n",
        "    \n",
        "    index_int = list_data[0]\n",
        "    label_int = list_data[1]\n",
        "    prediction_int = list_data[2]\n",
        "    \n",
        "    # 인덱스 문자열\n",
        "    index_str = str(index_int)\n",
        "\n",
        "    # 정답 문자열\n",
        "    label_str = str(label_int)\n",
        "    \n",
        "    # 예측값 문자열\n",
        "    prediction_str = str(prediction_int)\n",
        "    \n",
        "    # 인덱스 정답 오답을 나타내는 문자열\n",
        "    index_label_prediction_str = 'index = ' + index_str + ', label = ' + label_str + ', prediction = ' + prediction_str\n",
        "    \n",
        "\n",
        "    # 저장 파일 이름 생성, str(index_int).png\n",
        "    save_image_name = str(index_int) + '.png'\n",
        "    plt.title(index_label_prediction_str)\n",
        "\n",
        "    # 저장할 이미지를 인덱스를 이용하여 가져옴\n",
        "    img = test_x_data[index_int].reshape(28,28)  \n",
        "    plt.imshow(img, cmap='gray')\n",
        "\n",
        "    plt.savefig(save_image_name)  # 파일저장\n",
        "    \n",
        "    save_count += 1\n",
        "    \n",
        "    if save_count % 10 == 0:\n",
        "        \n",
        "      print(save_count, 'image is saved now')\n",
        "        \n",
        "  end_time = datetime.now()\n",
        "\n",
        "  print('Elapsed save time => ', end_time - start_time)\n",
        "  print('Total ', save_count, \" data is saved\")        \n",
        "\n",
        "  # 원래의 dir 로 복귀\n",
        "  os.chdir(curr_dir)\n",
        "\n",
        "except Exception as err:\n",
        "\n",
        "  # 원래의 dir 로 복귀\n",
        "  os.chdir(curr_dir)\n",
        "  print(str(err))"
      ],
      "execution_count": 15,
      "outputs": [
        {
          "output_type": "stream",
          "text": [
            "10 image is saved now\n",
            "20 image is saved now\n",
            "30 image is saved now\n",
            "40 image is saved now\n",
            "50 image is saved now\n",
            "60 image is saved now\n",
            "70 image is saved now\n",
            "80 image is saved now\n",
            "Elapsed save time =>  0:00:28.677620\n",
            "Total  88  data is saved\n"
          ],
          "name": "stdout"
        },
        {
          "output_type": "display_data",
          "data": {
            "image/png": "[encoded data removed]",
            "text/plain": [
              "<Figure size 432x288 with 1 Axes>"
            ]
          },
          "metadata": {
            "tags": []
          }
        }
      ]
    },
    {
      "cell_type": "code",
      "metadata": {
        "colab_type": "code",
        "id": "3GVrLMouk9-r",
        "colab": {}
      },
      "source": [
        ""
      ],
      "execution_count": 0,
      "outputs": []
    }
  ]
}