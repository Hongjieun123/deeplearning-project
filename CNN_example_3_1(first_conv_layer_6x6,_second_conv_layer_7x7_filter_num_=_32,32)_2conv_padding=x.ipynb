{
  "nbformat": 4,
  "nbformat_minor": 0,
  "metadata": {
    "kernelspec": {
      "display_name": "Python 3",
      "language": "python",
      "name": "python3"
    },
    "language_info": {
      "codemirror_mode": {
        "name": "ipython",
        "version": 3
      },
      "file_extension": ".py",
      "mimetype": "text/x-python",
      "name": "python",
      "nbconvert_exporter": "python",
      "pygments_lexer": "ipython3",
      "version": "3.7.4"
    },
    "colab": {
      "name": "CNN_example_3_1(first conv layer 6x6, second conv layer 7x7 filter num = 32,32) 2conv padding=x",
      "provenance": [],
      "include_colab_link": true
    }
  },
  "cells": [
    {
      "cell_type": "markdown",
      "metadata": {
        "id": "view-in-github",
        "colab_type": "text"
      },
      "source": [
        "<a href=\"https://colab.research.google.com/github/Hongjieun123/deeplearning-project/blob/master/CNN_example_3_1(first_conv_layer_6x6%2C_second_conv_layer_7x7_filter_num_%3D_32%2C32)_2conv_padding%3Dx.ipynb\" target=\"_parent\"><img src=\"https://colab.research.google.com/assets/colab-badge.svg\" alt=\"Open In Colab\"/></a>"
      ]
    },
    {
      "cell_type": "code",
      "metadata": {
        "id": "zm7Br1h6uu1X",
        "colab_type": "code",
        "outputId": "4d68ac27-2e0d-4441-9ff4-c638a65b9b4d",
        "colab": {
          "base_uri": "https://localhost:8080/",
          "height": 36
        }
      },
      "source": [
        "# Colab에서 tensorflow 1.x 실행\n",
        "%tensorflow_version 1.x"
      ],
      "execution_count": 1,
      "outputs": [
        {
          "output_type": "stream",
          "text": [
            "TensorFlow 1.x selected.\n"
          ],
          "name": "stdout"
        }
      ]
    },
    {
      "cell_type": "code",
      "metadata": {
        "id": "xTN7ue5lucbw",
        "colab_type": "code",
        "outputId": "77ef3110-de53-47ea-e80f-636e58a47ef7",
        "colab": {
          "base_uri": "https://localhost:8080/",
          "height": 709
        }
      },
      "source": [
        "import tensorflow as tf\n",
        "from tensorflow.examples.tutorials.mnist import input_data\n",
        "import numpy as np\n",
        "from datetime import datetime\n",
        "\n",
        "mnist = input_data.read_data_sets('MNIST_data/', one_hot=True)\n",
        "\n",
        "print('\\n', mnist.train.num_examples, mnist.test.num_examples, mnist.validation.num_examples)\n",
        "\n",
        "print('\\ntrain image shape = ', np.shape(mnist.train.images))\n",
        "print('train label shape = ', np.shape(mnist.train.labels))\n",
        "print('test image shape = ', np.shape(mnist.test.images))\n",
        "print('test label shape = ', np.shape(mnist.test.labels))"
      ],
      "execution_count": 2,
      "outputs": [
        {
          "output_type": "stream",
          "text": [
            "WARNING:tensorflow:From <ipython-input-2-b4762e5f4068>:6: read_data_sets (from tensorflow.contrib.learn.python.learn.datasets.mnist) is deprecated and will be removed in a future version.\n",
            "Instructions for updating:\n",
            "Please use alternatives such as official/mnist/dataset.py from tensorflow/models.\n",
            "WARNING:tensorflow:From /tensorflow-1.15.2/python3.6/tensorflow_core/contrib/learn/python/learn/datasets/mnist.py:260: maybe_download (from tensorflow.contrib.learn.python.learn.datasets.base) is deprecated and will be removed in a future version.\n",
            "Instructions for updating:\n",
            "Please write your own downloading logic.\n",
            "WARNING:tensorflow:From /tensorflow-1.15.2/python3.6/tensorflow_core/contrib/learn/python/learn/datasets/base.py:252: _internal_retry.<locals>.wrap.<locals>.wrapped_fn (from tensorflow.contrib.learn.python.learn.datasets.base) is deprecated and will be removed in a future version.\n",
            "Instructions for updating:\n",
            "Please use urllib or similar directly.\n",
            "Successfully downloaded train-images-idx3-ubyte.gz 9912422 bytes.\n",
            "WARNING:tensorflow:From /tensorflow-1.15.2/python3.6/tensorflow_core/contrib/learn/python/learn/datasets/mnist.py:262: extract_images (from tensorflow.contrib.learn.python.learn.datasets.mnist) is deprecated and will be removed in a future version.\n",
            "Instructions for updating:\n",
            "Please use tf.data to implement this functionality.\n",
            "Extracting MNIST_data/train-images-idx3-ubyte.gz\n",
            "Successfully downloaded train-labels-idx1-ubyte.gz 28881 bytes.\n",
            "WARNING:tensorflow:From /tensorflow-1.15.2/python3.6/tensorflow_core/contrib/learn/python/learn/datasets/mnist.py:267: extract_labels (from tensorflow.contrib.learn.python.learn.datasets.mnist) is deprecated and will be removed in a future version.\n",
            "Instructions for updating:\n",
            "Please use tf.data to implement this functionality.\n",
            "Extracting MNIST_data/train-labels-idx1-ubyte.gz\n",
            "WARNING:tensorflow:From /tensorflow-1.15.2/python3.6/tensorflow_core/contrib/learn/python/learn/datasets/mnist.py:110: dense_to_one_hot (from tensorflow.contrib.learn.python.learn.datasets.mnist) is deprecated and will be removed in a future version.\n",
            "Instructions for updating:\n",
            "Please use tf.one_hot on tensors.\n",
            "Successfully downloaded t10k-images-idx3-ubyte.gz 1648877 bytes.\n",
            "Extracting MNIST_data/t10k-images-idx3-ubyte.gz\n",
            "Successfully downloaded t10k-labels-idx1-ubyte.gz 4542 bytes.\n",
            "Extracting MNIST_data/t10k-labels-idx1-ubyte.gz\n",
            "WARNING:tensorflow:From /tensorflow-1.15.2/python3.6/tensorflow_core/contrib/learn/python/learn/datasets/mnist.py:290: DataSet.__init__ (from tensorflow.contrib.learn.python.learn.datasets.mnist) is deprecated and will be removed in a future version.\n",
            "Instructions for updating:\n",
            "Please use alternatives such as official/mnist/dataset.py from tensorflow/models.\n",
            "\n",
            " 55000 10000 5000\n",
            "\n",
            "train image shape =  (55000, 784)\n",
            "train label shape =  (55000, 10)\n",
            "test image shape =  (10000, 784)\n",
            "test label shape =  (10000, 10)\n"
          ],
          "name": "stdout"
        }
      ]
    },
    {
      "cell_type": "code",
      "metadata": {
        "id": "gSW7hSsWuccP",
        "colab_type": "code",
        "colab": {}
      },
      "source": [
        "learning_rate = 0.001\n",
        "epochs = 30\n",
        "batch_size = 100"
      ],
      "execution_count": 0,
      "outputs": []
    },
    {
      "cell_type": "code",
      "metadata": {
        "id": "XWUQ3TD7ucca",
        "colab_type": "code",
        "colab": {}
      },
      "source": [
        "X = tf.placeholder(tf.float32, [None, 784])\n",
        "\n",
        "A1 = X_img = tf.reshape(X,[-1, 28, 28, 1])\n",
        "\n",
        "T = tf.placeholder(tf.float32, [None, 10])  # image 28 X 28 X 1 (black/white)"
      ],
      "execution_count": 0,
      "outputs": []
    },
    {
      "cell_type": "code",
      "metadata": {
        "id": "e81mstOCucch",
        "colab_type": "code",
        "colab": {}
      },
      "source": [
        "# 1번째 컨볼루션 층\n",
        "# 6X6 크기를 가지는 32개의 필터를 적용\n",
        "\n",
        "F2 = tf.Variable(tf.random_normal([6, 6, 1, 32], stddev=0.01))  \n",
        "b2 = tf.Variable(tf.constant(0.1, shape=[32]))   \n",
        "\n",
        "# 1번째 컨볼루션 연산을 통해 28 X 28 X1  => 28 X 28 X 32\n",
        "C2 = tf.nn.conv2d(A1, F2, strides=[1, 1, 1, 1], padding='SAME')\n",
        "\n",
        "# relu\n",
        "Z2 = tf.nn.relu(C2+b2)\n",
        "\n",
        "# 1번째 max pooling을 통해 28 X 28 X 32  => 14 X 14 X 32\n",
        "A2 = P2 = tf.nn.max_pool(Z2, ksize=[1, 2, 2, 1], strides=[1, 2, 2, 1], padding='SAME')"
      ],
      "execution_count": 0,
      "outputs": []
    },
    {
      "cell_type": "code",
      "metadata": {
        "id": "2fRNliDcucco",
        "colab_type": "code",
        "colab": {}
      },
      "source": [
        "# 2번째 컨볼루션 층\n",
        "# 7X7 크기를 가지는 32개의 필터를 적용\n",
        "\n",
        "F3 = tf.Variable(tf.random_normal([7, 7, 32, 32], stddev=0.01))  \n",
        "b3 = tf.Variable(tf.constant(0.1, shape=[32]))   \n",
        "\n",
        "# 2번째 컨볼루션 연산을 통해 14 X 14 X32  => 8 X 8 X 32\n",
        "C3 = tf.nn.conv2d(A2, F3, strides=[1, 1, 1, 1], padding='VALID')\n",
        "\n",
        "# relu\n",
        "Z3= tf.nn.relu(C3+b3)\n",
        "\n",
        "# 2번째 max pooling을 통해 8 X 8 X 32  => 4 X 4 X 32\n",
        "A3= P3 = tf.nn.max_pool(Z3, ksize=[1, 2, 2, 1], strides=[1, 2, 2, 1], padding='SAME')"
      ],
      "execution_count": 0,
      "outputs": []
    },
    {
      "cell_type": "code",
      "metadata": {
        "id": "uc-OxRiduccy",
        "colab_type": "code",
        "colab": {}
      },
      "source": [
        "# 4X4 크기를 가진 32개의 activation map을 flatten 시킴\n",
        "A3_flat = P3_flat = tf.reshape(A3, [-1, 32*4*4])"
      ],
      "execution_count": 0,
      "outputs": []
    },
    {
      "cell_type": "code",
      "metadata": {
        "id": "cfvy6ZXYucc8",
        "colab_type": "code",
        "colab": {}
      },
      "source": [
        "# 출력층\n",
        "W4 = tf.Variable(tf.random_normal([32*4*4, 10], stddev=0.01))\n",
        "b4 = tf.Variable(tf.random_normal([10]))\n",
        "\n",
        "# 출력층 선형회귀  값 Z4, 즉 softmax 에 들어가는 입력 값\n",
        "Z4 = logits = tf.matmul(A3_flat, W4) + b4    # 선형회귀 값 Z4\n",
        "\n",
        "y = A4 = tf.nn.softmax(Z4)"
      ],
      "execution_count": 0,
      "outputs": []
    },
    {
      "cell_type": "code",
      "metadata": {
        "id": "vbPC_r_QucdP",
        "colab_type": "code",
        "colab": {}
      },
      "source": [
        "loss = tf.reduce_mean( tf.nn.softmax_cross_entropy_with_logits_v2(logits=Z4, labels=T) )\n",
        "\n",
        "optimizer = tf.train.AdamOptimizer(learning_rate)\n",
        "\n",
        "train = optimizer.minimize(loss)"
      ],
      "execution_count": 0,
      "outputs": []
    },
    {
      "cell_type": "code",
      "metadata": {
        "id": "Ly_6cqGrucdU",
        "colab_type": "code",
        "colab": {}
      },
      "source": [
        "# batch_size X 10 데이터에 대해 argmax를 통해 행단위로 비교함\n",
        "predicted_val = tf.equal( tf.argmax(A4, 1), tf.argmax(T, 1) )\n",
        "\n",
        "# batch_size X 10 의 True, False 를 1 또는 0 으로 변환\n",
        "accuracy = tf.reduce_mean(tf.cast(predicted_val, dtype=tf.float32))\n",
        "\n",
        "# index list 출력\n",
        "accuracy_index = tf.cast(predicted_val, dtype=tf.float32)\n",
        "\n",
        "# 예측값 처리\n",
        "predicted_list = tf.argmax(A4, 1)"
      ],
      "execution_count": 0,
      "outputs": []
    },
    {
      "cell_type": "code",
      "metadata": {
        "id": "vgxuwi4Fucdb",
        "colab_type": "code",
        "outputId": "dc389161-613b-4122-8d83-dfb7f0cbcf16",
        "colab": {
          "base_uri": "https://localhost:8080/",
          "height": 1000
        }
      },
      "source": [
        "index_label_prediction_list = []\n",
        "\n",
        "with  tf.Session()  as sess:\n",
        "    \n",
        "    sess.run(tf.global_variables_initializer())  # 변수 노드(tf.Variable) 초기화\n",
        "    \n",
        "    start_time = datetime.now()\n",
        "    \n",
        "    for i in range(epochs):    # 30 번 반복수행\n",
        "        \n",
        "        total_batch = int(mnist.train.num_examples / batch_size)  # 55,000 / 100\n",
        "\n",
        "        for step in range(total_batch):\n",
        "            \n",
        "            batch_x_data, batch_t_data = mnist.train.next_batch(batch_size)\n",
        "      \n",
        "            loss_val, _ = sess.run([loss, train], feed_dict={X: batch_x_data, T: batch_t_data})    \n",
        "        \n",
        "            if step % 100 == 0:\n",
        "                print(\"epochs = \", i, \", step = \", step, \", loss_val = \", loss_val)             \n",
        "    \n",
        "    end_time = datetime.now() \n",
        "    \n",
        "    print(\"\\nelapsed time = \", end_time - start_time) \n",
        "    \n",
        "    # Accuracy 확인\n",
        "    test_x_data = mnist.test.images    # 10000 X 784\n",
        "    test_t_data = mnist.test.labels    # 10000 X 10\n",
        "    \n",
        "    accuracy_val, predicted_list_val, index_label = sess.run([accuracy, predicted_list, accuracy_index], feed_dict={X: test_x_data, T: test_t_data})\n",
        "    \n",
        "    print(\"\\nAccuracy = \", accuracy_val)\n",
        "    print(\"type(accuracy_val) = \", type(accuracy_val), ', type(predicted_list_val) = ', type(predicted_list_val), ', type(index_label) = ', type(index_label))\n",
        "    print(\"index_label.shape = \", index_label.shape)\n",
        "    \n",
        "    index_label_list = list(index_label)\n",
        "    print(\"length of index_label_list = \", len(index_label_list))\n",
        "    print(\"false label count = \", index_label_list.count([0]))\n",
        "        \n",
        "    \n",
        "    temp_list = [] \n",
        "    \n",
        "    for index in range(len(index_label)):\n",
        "        \n",
        "        if index_label[index] == 0:\n",
        "            \n",
        "            temp_list.append(index)\n",
        "            temp_list.append(np.argmax(test_t_data[index]))  # one-hot encoding 이므로 argmax 로 정답 추출\n",
        "            temp_list.append(predicted_list_val[index])\n",
        "            \n",
        "            index_label_prediction_list.append(temp_list)\n",
        "            \n",
        "            temp_list = []\n",
        "            \n",
        "    print(\"\\nlength of index_label_false_list\", len(index_label_prediction_list))"
      ],
      "execution_count": 20,
      "outputs": [
        {
          "output_type": "stream",
          "text": [
            "epochs =  0 , step =  0 , loss_val =  2.7805424\n",
            "epochs =  0 , step =  100 , loss_val =  1.4247519\n",
            "epochs =  0 , step =  200 , loss_val =  0.45819202\n",
            "epochs =  0 , step =  300 , loss_val =  0.22322913\n",
            "epochs =  0 , step =  400 , loss_val =  0.19849002\n",
            "epochs =  0 , step =  500 , loss_val =  0.15502764\n",
            "epochs =  1 , step =  0 , loss_val =  0.11420474\n",
            "epochs =  1 , step =  100 , loss_val =  0.07642577\n",
            "epochs =  1 , step =  200 , loss_val =  0.045021854\n",
            "epochs =  1 , step =  300 , loss_val =  0.13890892\n",
            "epochs =  1 , step =  400 , loss_val =  0.08369002\n",
            "epochs =  1 , step =  500 , loss_val =  0.14624867\n",
            "epochs =  2 , step =  0 , loss_val =  0.05849224\n",
            "epochs =  2 , step =  100 , loss_val =  0.0525944\n",
            "epochs =  2 , step =  200 , loss_val =  0.08485614\n",
            "epochs =  2 , step =  300 , loss_val =  0.020655205\n",
            "epochs =  2 , step =  400 , loss_val =  0.09105583\n",
            "epochs =  2 , step =  500 , loss_val =  0.024826366\n",
            "epochs =  3 , step =  0 , loss_val =  0.02601577\n",
            "epochs =  3 , step =  100 , loss_val =  0.020761907\n",
            "epochs =  3 , step =  200 , loss_val =  0.0927088\n",
            "epochs =  3 , step =  300 , loss_val =  0.019550374\n",
            "epochs =  3 , step =  400 , loss_val =  0.076408125\n",
            "epochs =  3 , step =  500 , loss_val =  0.019161507\n",
            "epochs =  4 , step =  0 , loss_val =  0.029229121\n",
            "epochs =  4 , step =  100 , loss_val =  0.033249907\n",
            "epochs =  4 , step =  200 , loss_val =  0.02956474\n",
            "epochs =  4 , step =  300 , loss_val =  0.015289099\n",
            "epochs =  4 , step =  400 , loss_val =  0.0063849287\n",
            "epochs =  4 , step =  500 , loss_val =  0.036450185\n",
            "epochs =  5 , step =  0 , loss_val =  0.011635613\n",
            "epochs =  5 , step =  100 , loss_val =  0.007016904\n",
            "epochs =  5 , step =  200 , loss_val =  0.009378245\n",
            "epochs =  5 , step =  300 , loss_val =  0.013676876\n",
            "epochs =  5 , step =  400 , loss_val =  0.017374272\n",
            "epochs =  5 , step =  500 , loss_val =  0.012332017\n",
            "epochs =  6 , step =  0 , loss_val =  0.014717259\n",
            "epochs =  6 , step =  100 , loss_val =  0.015930932\n",
            "epochs =  6 , step =  200 , loss_val =  0.10948607\n",
            "epochs =  6 , step =  300 , loss_val =  0.08542985\n",
            "epochs =  6 , step =  400 , loss_val =  0.018384919\n",
            "epochs =  6 , step =  500 , loss_val =  0.09456399\n",
            "epochs =  7 , step =  0 , loss_val =  0.012954398\n",
            "epochs =  7 , step =  100 , loss_val =  0.022054283\n",
            "epochs =  7 , step =  200 , loss_val =  0.004545618\n",
            "epochs =  7 , step =  300 , loss_val =  0.0021711004\n",
            "epochs =  7 , step =  400 , loss_val =  0.0641192\n",
            "epochs =  7 , step =  500 , loss_val =  0.010430067\n",
            "epochs =  8 , step =  0 , loss_val =  0.035474643\n",
            "epochs =  8 , step =  100 , loss_val =  0.01115082\n",
            "epochs =  8 , step =  200 , loss_val =  0.019180072\n",
            "epochs =  8 , step =  300 , loss_val =  0.018994883\n",
            "epochs =  8 , step =  400 , loss_val =  0.018549174\n",
            "epochs =  8 , step =  500 , loss_val =  0.0026229406\n",
            "epochs =  9 , step =  0 , loss_val =  0.0044523906\n",
            "epochs =  9 , step =  100 , loss_val =  0.00054825144\n",
            "epochs =  9 , step =  200 , loss_val =  0.022913424\n",
            "epochs =  9 , step =  300 , loss_val =  0.002497025\n",
            "epochs =  9 , step =  400 , loss_val =  0.010882611\n",
            "epochs =  9 , step =  500 , loss_val =  0.009738221\n",
            "epochs =  10 , step =  0 , loss_val =  0.012632033\n",
            "epochs =  10 , step =  100 , loss_val =  0.063851975\n",
            "epochs =  10 , step =  200 , loss_val =  0.005789133\n",
            "epochs =  10 , step =  300 , loss_val =  0.011110446\n",
            "epochs =  10 , step =  400 , loss_val =  0.0012888394\n",
            "epochs =  10 , step =  500 , loss_val =  0.0065881847\n",
            "epochs =  11 , step =  0 , loss_val =  0.019381942\n",
            "epochs =  11 , step =  100 , loss_val =  0.00046768252\n",
            "epochs =  11 , step =  200 , loss_val =  0.0039410777\n",
            "epochs =  11 , step =  300 , loss_val =  0.02956604\n",
            "epochs =  11 , step =  400 , loss_val =  0.0013923849\n",
            "epochs =  11 , step =  500 , loss_val =  0.0050646453\n",
            "epochs =  12 , step =  0 , loss_val =  0.009157571\n",
            "epochs =  12 , step =  100 , loss_val =  0.016858831\n",
            "epochs =  12 , step =  200 , loss_val =  0.016947208\n",
            "epochs =  12 , step =  300 , loss_val =  0.0055199093\n",
            "epochs =  12 , step =  400 , loss_val =  0.0063509005\n",
            "epochs =  12 , step =  500 , loss_val =  0.04496339\n",
            "epochs =  13 , step =  0 , loss_val =  0.0055259718\n",
            "epochs =  13 , step =  100 , loss_val =  0.0018354349\n",
            "epochs =  13 , step =  200 , loss_val =  0.019802358\n",
            "epochs =  13 , step =  300 , loss_val =  0.06061367\n",
            "epochs =  13 , step =  400 , loss_val =  0.005255814\n",
            "epochs =  13 , step =  500 , loss_val =  0.01933652\n",
            "epochs =  14 , step =  0 , loss_val =  0.0010020148\n",
            "epochs =  14 , step =  100 , loss_val =  0.006902767\n",
            "epochs =  14 , step =  200 , loss_val =  0.0014119842\n",
            "epochs =  14 , step =  300 , loss_val =  0.040834464\n",
            "epochs =  14 , step =  400 , loss_val =  0.017436046\n",
            "epochs =  14 , step =  500 , loss_val =  0.00076600234\n",
            "epochs =  15 , step =  0 , loss_val =  0.013067048\n",
            "epochs =  15 , step =  100 , loss_val =  0.019546432\n",
            "epochs =  15 , step =  200 , loss_val =  0.013634455\n",
            "epochs =  15 , step =  300 , loss_val =  0.041612707\n",
            "epochs =  15 , step =  400 , loss_val =  0.0045895167\n",
            "epochs =  15 , step =  500 , loss_val =  0.05880202\n",
            "epochs =  16 , step =  0 , loss_val =  0.0013204168\n",
            "epochs =  16 , step =  100 , loss_val =  0.0018350771\n",
            "epochs =  16 , step =  200 , loss_val =  0.0007261746\n",
            "epochs =  16 , step =  300 , loss_val =  0.03594813\n",
            "epochs =  16 , step =  400 , loss_val =  0.0041656177\n",
            "epochs =  16 , step =  500 , loss_val =  0.0032824902\n",
            "epochs =  17 , step =  0 , loss_val =  0.038161434\n",
            "epochs =  17 , step =  100 , loss_val =  0.008655041\n",
            "epochs =  17 , step =  200 , loss_val =  0.021179369\n",
            "epochs =  17 , step =  300 , loss_val =  0.023697145\n",
            "epochs =  17 , step =  400 , loss_val =  0.0004312722\n",
            "epochs =  17 , step =  500 , loss_val =  0.00060281664\n",
            "epochs =  18 , step =  0 , loss_val =  0.003228176\n",
            "epochs =  18 , step =  100 , loss_val =  0.001568749\n",
            "epochs =  18 , step =  200 , loss_val =  0.005937836\n",
            "epochs =  18 , step =  300 , loss_val =  0.000120590346\n",
            "epochs =  18 , step =  400 , loss_val =  0.00524768\n",
            "epochs =  18 , step =  500 , loss_val =  0.042277467\n",
            "epochs =  19 , step =  0 , loss_val =  0.020683972\n",
            "epochs =  19 , step =  100 , loss_val =  0.01991322\n",
            "epochs =  19 , step =  200 , loss_val =  0.0013268777\n",
            "epochs =  19 , step =  300 , loss_val =  0.006519462\n",
            "epochs =  19 , step =  400 , loss_val =  0.0014804588\n",
            "epochs =  19 , step =  500 , loss_val =  0.0017172055\n",
            "epochs =  20 , step =  0 , loss_val =  0.029738171\n",
            "epochs =  20 , step =  100 , loss_val =  0.00012691243\n",
            "epochs =  20 , step =  200 , loss_val =  0.00035120276\n",
            "epochs =  20 , step =  300 , loss_val =  0.0010814492\n",
            "epochs =  20 , step =  400 , loss_val =  0.022670586\n",
            "epochs =  20 , step =  500 , loss_val =  0.001359773\n",
            "epochs =  21 , step =  0 , loss_val =  0.0035578883\n",
            "epochs =  21 , step =  100 , loss_val =  0.0004651273\n",
            "epochs =  21 , step =  200 , loss_val =  0.00095902965\n",
            "epochs =  21 , step =  300 , loss_val =  0.0059225927\n",
            "epochs =  21 , step =  400 , loss_val =  0.00089491846\n",
            "epochs =  21 , step =  500 , loss_val =  0.00023766201\n",
            "epochs =  22 , step =  0 , loss_val =  0.0018885641\n",
            "epochs =  22 , step =  100 , loss_val =  0.0010965372\n",
            "epochs =  22 , step =  200 , loss_val =  0.0007024844\n",
            "epochs =  22 , step =  300 , loss_val =  1.9063453e-05\n",
            "epochs =  22 , step =  400 , loss_val =  0.0002689723\n",
            "epochs =  22 , step =  500 , loss_val =  0.02290957\n",
            "epochs =  23 , step =  0 , loss_val =  0.0010926962\n",
            "epochs =  23 , step =  100 , loss_val =  0.00064268557\n",
            "epochs =  23 , step =  200 , loss_val =  0.00074806466\n",
            "epochs =  23 , step =  300 , loss_val =  0.00046586097\n",
            "epochs =  23 , step =  400 , loss_val =  0.0036397523\n",
            "epochs =  23 , step =  500 , loss_val =  0.000112352\n",
            "epochs =  24 , step =  0 , loss_val =  0.0080259405\n",
            "epochs =  24 , step =  100 , loss_val =  0.0003510242\n",
            "epochs =  24 , step =  200 , loss_val =  0.0012945015\n",
            "epochs =  24 , step =  300 , loss_val =  0.00035029568\n",
            "epochs =  24 , step =  400 , loss_val =  0.00047527277\n",
            "epochs =  24 , step =  500 , loss_val =  0.0007208195\n",
            "epochs =  25 , step =  0 , loss_val =  0.0009871881\n",
            "epochs =  25 , step =  100 , loss_val =  0.00057498395\n",
            "epochs =  25 , step =  200 , loss_val =  0.00091058976\n",
            "epochs =  25 , step =  300 , loss_val =  0.00405704\n",
            "epochs =  25 , step =  400 , loss_val =  0.00026926247\n",
            "epochs =  25 , step =  500 , loss_val =  0.0013237265\n",
            "epochs =  26 , step =  0 , loss_val =  0.00020181236\n",
            "epochs =  26 , step =  100 , loss_val =  0.0018616037\n",
            "epochs =  26 , step =  200 , loss_val =  0.00058684056\n",
            "epochs =  26 , step =  300 , loss_val =  0.005495129\n",
            "epochs =  26 , step =  400 , loss_val =  0.00036389593\n",
            "epochs =  26 , step =  500 , loss_val =  0.00017350374\n",
            "epochs =  27 , step =  0 , loss_val =  0.00058095023\n",
            "epochs =  27 , step =  100 , loss_val =  0.002463066\n",
            "epochs =  27 , step =  200 , loss_val =  0.0015947865\n",
            "epochs =  27 , step =  300 , loss_val =  0.014053248\n",
            "epochs =  27 , step =  400 , loss_val =  1.8778583e-05\n",
            "epochs =  27 , step =  500 , loss_val =  0.05247503\n",
            "epochs =  28 , step =  0 , loss_val =  0.0011649816\n",
            "epochs =  28 , step =  100 , loss_val =  0.00029169154\n",
            "epochs =  28 , step =  200 , loss_val =  0.00089822075\n",
            "epochs =  28 , step =  300 , loss_val =  0.00023961984\n",
            "epochs =  28 , step =  400 , loss_val =  0.005317396\n",
            "epochs =  28 , step =  500 , loss_val =  0.0001089795\n",
            "epochs =  29 , step =  0 , loss_val =  0.00022071668\n",
            "epochs =  29 , step =  100 , loss_val =  0.00016498614\n",
            "epochs =  29 , step =  200 , loss_val =  1.2620199e-05\n",
            "epochs =  29 , step =  300 , loss_val =  0.011624087\n",
            "epochs =  29 , step =  400 , loss_val =  0.1244544\n",
            "epochs =  29 , step =  500 , loss_val =  1.1154803e-05\n",
            "\n",
            "elapsed time =  0:39:11.324689\n",
            "\n",
            "Accuracy =  0.99\n",
            "type(accuracy_val) =  <class 'numpy.float32'> , type(predicted_list_val) =  <class 'numpy.ndarray'> , type(index_label) =  <class 'numpy.ndarray'>\n",
            "index_label.shape =  (10000,)\n",
            "length of index_label_list =  10000\n",
            "false label count =  100\n",
            "\n",
            "length of index_label_false_list 100\n"
          ],
          "name": "stdout"
        }
      ]
    },
    {
      "cell_type": "code",
      "metadata": {
        "id": "-czriG10ucdp",
        "colab_type": "code",
        "colab": {}
      },
      "source": [
        ""
      ],
      "execution_count": 0,
      "outputs": []
    }
  ]
}