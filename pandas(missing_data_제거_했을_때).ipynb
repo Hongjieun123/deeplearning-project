{
  "nbformat": 4,
  "nbformat_minor": 0,
  "metadata": {
    "colab": {
      "name": "pandas(missing data 제거 했을 때)",
      "provenance": [],
      "authorship_tag": "ABX9TyOM53UyoELC1jhVwAQ8Iedn",
      "include_colab_link": true
    },
    "kernelspec": {
      "name": "python3",
      "display_name": "Python 3"
    }
  },
  "cells": [
    {
      "cell_type": "markdown",
      "metadata": {
        "id": "view-in-github",
        "colab_type": "text"
      },
      "source": [
        "<a href=\"https://colab.research.google.com/github/Hongjieun123/deeplearning-project/blob/master/pandas(missing_data_%EC%A0%9C%EA%B1%B0_%ED%96%88%EC%9D%84_%EB%95%8C).ipynb\" target=\"_parent\"><img src=\"https://colab.research.google.com/assets/colab-badge.svg\" alt=\"Open In Colab\"/></a>"
      ]
    },
    {
      "cell_type": "code",
      "metadata": {
        "id": "O5BsGa-Yl4Ti",
        "colab_type": "code",
        "outputId": "493b4af8-16b0-4cfe-f861-25a15d85ee3c",
        "colab": {
          "resources": {
            "http://localhost:8080/nbextensions/google.colab/files.js": {
              "data": "Ly8gQ29weXJpZ2h0IDIwMTcgR29vZ2xlIExMQwovLwovLyBMaWNlbnNlZCB1bmRlciB0aGUgQXBhY2hlIExpY2Vuc2UsIFZlcnNpb24gMi4wICh0aGUgIkxpY2Vuc2UiKTsKLy8geW91IG1heSBub3QgdXNlIHRoaXMgZmlsZSBleGNlcHQgaW4gY29tcGxpYW5jZSB3aXRoIHRoZSBMaWNlbnNlLgovLyBZb3UgbWF5IG9idGFpbiBhIGNvcHkgb2YgdGhlIExpY2Vuc2UgYXQKLy8KLy8gICAgICBodHRwOi8vd3d3LmFwYWNoZS5vcmcvbGljZW5zZXMvTElDRU5TRS0yLjAKLy8KLy8gVW5sZXNzIHJlcXVpcmVkIGJ5IGFwcGxpY2FibGUgbGF3IG9yIGFncmVlZCB0byBpbiB3cml0aW5nLCBzb2Z0d2FyZQovLyBkaXN0cmlidXRlZCB1bmRlciB0aGUgTGljZW5zZSBpcyBkaXN0cmlidXRlZCBvbiBhbiAiQVMgSVMiIEJBU0lTLAovLyBXSVRIT1VUIFdBUlJBTlRJRVMgT1IgQ09ORElUSU9OUyBPRiBBTlkgS0lORCwgZWl0aGVyIGV4cHJlc3Mgb3IgaW1wbGllZC4KLy8gU2VlIHRoZSBMaWNlbnNlIGZvciB0aGUgc3BlY2lmaWMgbGFuZ3VhZ2UgZ292ZXJuaW5nIHBlcm1pc3Npb25zIGFuZAovLyBsaW1pdGF0aW9ucyB1bmRlciB0aGUgTGljZW5zZS4KCi8qKgogKiBAZmlsZW92ZXJ2aWV3IEhlbHBlcnMgZm9yIGdvb2dsZS5jb2xhYiBQeXRob24gbW9kdWxlLgogKi8KKGZ1bmN0aW9uKHNjb3BlKSB7CmZ1bmN0aW9uIHNwYW4odGV4dCwgc3R5bGVBdHRyaWJ1dGVzID0ge30pIHsKICBjb25zdCBlbGVtZW50ID0gZG9jdW1lbnQuY3JlYXRlRWxlbWVudCgnc3BhbicpOwogIGVsZW1lbnQudGV4dENvbnRlbnQgPSB0ZXh0OwogIGZvciAoY29uc3Qga2V5IG9mIE9iamVjdC5rZXlzKHN0eWxlQXR0cmlidXRlcykpIHsKICAgIGVsZW1lbnQuc3R5bGVba2V5XSA9IHN0eWxlQXR0cmlidXRlc1trZXldOwogIH0KICByZXR1cm4gZWxlbWVudDsKfQoKLy8gTWF4IG51bWJlciBvZiBieXRlcyB3aGljaCB3aWxsIGJlIHVwbG9hZGVkIGF0IGEgdGltZS4KY29uc3QgTUFYX1BBWUxPQURfU0laRSA9IDEwMCAqIDEwMjQ7Ci8vIE1heCBhbW91bnQgb2YgdGltZSB0byBibG9jayB3YWl0aW5nIGZvciB0aGUgdXNlci4KY29uc3QgRklMRV9DSEFOR0VfVElNRU9VVF9NUyA9IDMwICogMTAwMDsKCmZ1bmN0aW9uIF91cGxvYWRGaWxlcyhpbnB1dElkLCBvdXRwdXRJZCkgewogIGNvbnN0IHN0ZXBzID0gdXBsb2FkRmlsZXNTdGVwKGlucHV0SWQsIG91dHB1dElkKTsKICBjb25zdCBvdXRwdXRFbGVtZW50ID0gZG9jdW1lbnQuZ2V0RWxlbWVudEJ5SWQob3V0cHV0SWQpOwogIC8vIENhY2hlIHN0ZXBzIG9uIHRoZSBvdXRwdXRFbGVtZW50IHRvIG1ha2UgaXQgYXZhaWxhYmxlIGZvciB0aGUgbmV4dCBjYWxsCiAgLy8gdG8gdXBsb2FkRmlsZXNDb250aW51ZSBmcm9tIFB5dGhvbi4KICBvdXRwdXRFbGVtZW50LnN0ZXBzID0gc3RlcHM7CgogIHJldHVybiBfdXBsb2FkRmlsZXNDb250aW51ZShvdXRwdXRJZCk7Cn0KCi8vIFRoaXMgaXMgcm91Z2hseSBhbiBhc3luYyBnZW5lcmF0b3IgKG5vdCBzdXBwb3J0ZWQgaW4gdGhlIGJyb3dzZXIgeWV0KSwKLy8gd2hlcmUgdGhlcmUgYXJlIG11bHRpcGxlIGFzeW5jaHJvbm91cyBzdGVwcyBhbmQgdGhlIFB5dGhvbiBzaWRlIGlzIGdvaW5nCi8vIHRvIHBvbGwgZm9yIGNvbXBsZXRpb24gb2YgZWFjaCBzdGVwLgovLyBUaGlzIHVzZXMgYSBQcm9taXNlIHRvIGJsb2NrIHRoZSBweXRob24gc2lkZSBvbiBjb21wbGV0aW9uIG9mIGVhY2ggc3RlcCwKLy8gdGhlbiBwYXNzZXMgdGhlIHJlc3VsdCBvZiB0aGUgcHJldmlvdXMgc3RlcCBhcyB0aGUgaW5wdXQgdG8gdGhlIG5leHQgc3RlcC4KZnVuY3Rpb24gX3VwbG9hZEZpbGVzQ29udGludWUob3V0cHV0SWQpIHsKICBjb25zdCBvdXRwdXRFbGVtZW50ID0gZG9jdW1lbnQuZ2V0RWxlbWVudEJ5SWQob3V0cHV0SWQpOwogIGNvbnN0IHN0ZXBzID0gb3V0cHV0RWxlbWVudC5zdGVwczsKCiAgY29uc3QgbmV4dCA9IHN0ZXBzLm5leHQob3V0cHV0RWxlbWVudC5sYXN0UHJvbWlzZVZhbHVlKTsKICByZXR1cm4gUHJvbWlzZS5yZXNvbHZlKG5leHQudmFsdWUucHJvbWlzZSkudGhlbigodmFsdWUpID0+IHsKICAgIC8vIENhY2hlIHRoZSBsYXN0IHByb21pc2UgdmFsdWUgdG8gbWFrZSBpdCBhdmFpbGFibGUgdG8gdGhlIG5leHQKICAgIC8vIHN0ZXAgb2YgdGhlIGdlbmVyYXRvci4KICAgIG91dHB1dEVsZW1lbnQubGFzdFByb21pc2VWYWx1ZSA9IHZhbHVlOwogICAgcmV0dXJuIG5leHQudmFsdWUucmVzcG9uc2U7CiAgfSk7Cn0KCi8qKgogKiBHZW5lcmF0b3IgZnVuY3Rpb24gd2hpY2ggaXMgY2FsbGVkIGJldHdlZW4gZWFjaCBhc3luYyBzdGVwIG9mIHRoZSB1cGxvYWQKICogcHJvY2Vzcy4KICogQHBhcmFtIHtzdHJpbmd9IGlucHV0SWQgRWxlbWVudCBJRCBvZiB0aGUgaW5wdXQgZmlsZSBwaWNrZXIgZWxlbWVudC4KICogQHBhcmFtIHtzdHJpbmd9IG91dHB1dElkIEVsZW1lbnQgSUQgb2YgdGhlIG91dHB1dCBkaXNwbGF5LgogKiBAcmV0dXJuIHshSXRlcmFibGU8IU9iamVjdD59IEl0ZXJhYmxlIG9mIG5leHQgc3RlcHMuCiAqLwpmdW5jdGlvbiogdXBsb2FkRmlsZXNTdGVwKGlucHV0SWQsIG91dHB1dElkKSB7CiAgY29uc3QgaW5wdXRFbGVtZW50ID0gZG9jdW1lbnQuZ2V0RWxlbWVudEJ5SWQoaW5wdXRJZCk7CiAgaW5wdXRFbGVtZW50LmRpc2FibGVkID0gZmFsc2U7CgogIGNvbnN0IG91dHB1dEVsZW1lbnQgPSBkb2N1bWVudC5nZXRFbGVtZW50QnlJZChvdXRwdXRJZCk7CiAgb3V0cHV0RWxlbWVudC5pbm5lckhUTUwgPSAnJzsKCiAgY29uc3QgcGlja2VkUHJvbWlzZSA9IG5ldyBQcm9taXNlKChyZXNvbHZlKSA9PiB7CiAgICBpbnB1dEVsZW1lbnQuYWRkRXZlbnRMaXN0ZW5lcignY2hhbmdlJywgKGUpID0+IHsKICAgICAgcmVzb2x2ZShlLnRhcmdldC5maWxlcyk7CiAgICB9KTsKICB9KTsKCiAgY29uc3QgY2FuY2VsID0gZG9jdW1lbnQuY3JlYXRlRWxlbWVudCgnYnV0dG9uJyk7CiAgaW5wdXRFbGVtZW50LnBhcmVudEVsZW1lbnQuYXBwZW5kQ2hpbGQoY2FuY2VsKTsKICBjYW5jZWwudGV4dENvbnRlbnQgPSAnQ2FuY2VsIHVwbG9hZCc7CiAgY29uc3QgY2FuY2VsUHJvbWlzZSA9IG5ldyBQcm9taXNlKChyZXNvbHZlKSA9PiB7CiAgICBjYW5jZWwub25jbGljayA9ICgpID0+IHsKICAgICAgcmVzb2x2ZShudWxsKTsKICAgIH07CiAgfSk7CgogIC8vIENhbmNlbCB1cGxvYWQgaWYgdXNlciBoYXNuJ3QgcGlja2VkIGFueXRoaW5nIGluIHRpbWVvdXQuCiAgY29uc3QgdGltZW91dFByb21pc2UgPSBuZXcgUHJvbWlzZSgocmVzb2x2ZSkgPT4gewogICAgc2V0VGltZW91dCgoKSA9PiB7CiAgICAgIHJlc29sdmUobnVsbCk7CiAgICB9LCBGSUxFX0NIQU5HRV9USU1FT1VUX01TKTsKICB9KTsKCiAgLy8gV2FpdCBmb3IgdGhlIHVzZXIgdG8gcGljayB0aGUgZmlsZXMuCiAgY29uc3QgZmlsZXMgPSB5aWVsZCB7CiAgICBwcm9taXNlOiBQcm9taXNlLnJhY2UoW3BpY2tlZFByb21pc2UsIHRpbWVvdXRQcm9taXNlLCBjYW5jZWxQcm9taXNlXSksCiAgICByZXNwb25zZTogewogICAgICBhY3Rpb246ICdzdGFydGluZycsCiAgICB9CiAgfTsKCiAgaWYgKCFmaWxlcykgewogICAgcmV0dXJuIHsKICAgICAgcmVzcG9uc2U6IHsKICAgICAgICBhY3Rpb246ICdjb21wbGV0ZScsCiAgICAgIH0KICAgIH07CiAgfQoKICBjYW5jZWwucmVtb3ZlKCk7CgogIC8vIERpc2FibGUgdGhlIGlucHV0IGVsZW1lbnQgc2luY2UgZnVydGhlciBwaWNrcyBhcmUgbm90IGFsbG93ZWQuCiAgaW5wdXRFbGVtZW50LmRpc2FibGVkID0gdHJ1ZTsKCiAgZm9yIChjb25zdCBmaWxlIG9mIGZpbGVzKSB7CiAgICBjb25zdCBsaSA9IGRvY3VtZW50LmNyZWF0ZUVsZW1lbnQoJ2xpJyk7CiAgICBsaS5hcHBlbmQoc3BhbihmaWxlLm5hbWUsIHtmb250V2VpZ2h0OiAnYm9sZCd9KSk7CiAgICBsaS5hcHBlbmQoc3BhbigKICAgICAgICBgKCR7ZmlsZS50eXBlIHx8ICduL2EnfSkgLSAke2ZpbGUuc2l6ZX0gYnl0ZXMsIGAgKwogICAgICAgIGBsYXN0IG1vZGlmaWVkOiAkewogICAgICAgICAgICBmaWxlLmxhc3RNb2RpZmllZERhdGUgPyBmaWxlLmxhc3RNb2RpZmllZERhdGUudG9Mb2NhbGVEYXRlU3RyaW5nKCkgOgogICAgICAgICAgICAgICAgICAgICAgICAgICAgICAgICAgICAnbi9hJ30gLSBgKSk7CiAgICBjb25zdCBwZXJjZW50ID0gc3BhbignMCUgZG9uZScpOwogICAgbGkuYXBwZW5kQ2hpbGQocGVyY2VudCk7CgogICAgb3V0cHV0RWxlbWVudC5hcHBlbmRDaGlsZChsaSk7CgogICAgY29uc3QgZmlsZURhdGFQcm9taXNlID0gbmV3IFByb21pc2UoKHJlc29sdmUpID0+IHsKICAgICAgY29uc3QgcmVhZGVyID0gbmV3IEZpbGVSZWFkZXIoKTsKICAgICAgcmVhZGVyLm9ubG9hZCA9IChlKSA9PiB7CiAgICAgICAgcmVzb2x2ZShlLnRhcmdldC5yZXN1bHQpOwogICAgICB9OwogICAgICByZWFkZXIucmVhZEFzQXJyYXlCdWZmZXIoZmlsZSk7CiAgICB9KTsKICAgIC8vIFdhaXQgZm9yIHRoZSBkYXRhIHRvIGJlIHJlYWR5LgogICAgbGV0IGZpbGVEYXRhID0geWllbGQgewogICAgICBwcm9taXNlOiBmaWxlRGF0YVByb21pc2UsCiAgICAgIHJlc3BvbnNlOiB7CiAgICAgICAgYWN0aW9uOiAnY29udGludWUnLAogICAgICB9CiAgICB9OwoKICAgIC8vIFVzZSBhIGNodW5rZWQgc2VuZGluZyB0byBhdm9pZCBtZXNzYWdlIHNpemUgbGltaXRzLiBTZWUgYi82MjExNTY2MC4KICAgIGxldCBwb3NpdGlvbiA9IDA7CiAgICB3aGlsZSAocG9zaXRpb24gPCBmaWxlRGF0YS5ieXRlTGVuZ3RoKSB7CiAgICAgIGNvbnN0IGxlbmd0aCA9IE1hdGgubWluKGZpbGVEYXRhLmJ5dGVMZW5ndGggLSBwb3NpdGlvbiwgTUFYX1BBWUxPQURfU0laRSk7CiAgICAgIGNvbnN0IGNodW5rID0gbmV3IFVpbnQ4QXJyYXkoZmlsZURhdGEsIHBvc2l0aW9uLCBsZW5ndGgpOwogICAgICBwb3NpdGlvbiArPSBsZW5ndGg7CgogICAgICBjb25zdCBiYXNlNjQgPSBidG9hKFN0cmluZy5mcm9tQ2hhckNvZGUuYXBwbHkobnVsbCwgY2h1bmspKTsKICAgICAgeWllbGQgewogICAgICAgIHJlc3BvbnNlOiB7CiAgICAgICAgICBhY3Rpb246ICdhcHBlbmQnLAogICAgICAgICAgZmlsZTogZmlsZS5uYW1lLAogICAgICAgICAgZGF0YTogYmFzZTY0LAogICAgICAgIH0sCiAgICAgIH07CiAgICAgIHBlcmNlbnQudGV4dENvbnRlbnQgPQogICAgICAgICAgYCR7TWF0aC5yb3VuZCgocG9zaXRpb24gLyBmaWxlRGF0YS5ieXRlTGVuZ3RoKSAqIDEwMCl9JSBkb25lYDsKICAgIH0KICB9CgogIC8vIEFsbCBkb25lLgogIHlpZWxkIHsKICAgIHJlc3BvbnNlOiB7CiAgICAgIGFjdGlvbjogJ2NvbXBsZXRlJywKICAgIH0KICB9Owp9CgpzY29wZS5nb29nbGUgPSBzY29wZS5nb29nbGUgfHwge307CnNjb3BlLmdvb2dsZS5jb2xhYiA9IHNjb3BlLmdvb2dsZS5jb2xhYiB8fCB7fTsKc2NvcGUuZ29vZ2xlLmNvbGFiLl9maWxlcyA9IHsKICBfdXBsb2FkRmlsZXMsCiAgX3VwbG9hZEZpbGVzQ29udGludWUsCn07Cn0pKHNlbGYpOwo=",
              "ok": true,
              "headers": [
                [
                  "content-type",
                  "application/javascript"
                ]
              ],
              "status": 200,
              "status_text": ""
            }
          },
          "base_uri": "https://localhost:8080/",
          "height": 169
        }
      },
      "source": [
        "from google.colab import files\n",
        "uploaded = files.upload()"
      ],
      "execution_count": 0,
      "outputs": [
        {
          "output_type": "display_data",
          "data": {
            "text/html": [
              "\n",
              "     <input type=\"file\" id=\"files-135e6637-d3ac-42b4-9001-79a71f565dac\" name=\"files[]\" multiple disabled />\n",
              "     <output id=\"result-135e6637-d3ac-42b4-9001-79a71f565dac\">\n",
              "      Upload widget is only available when the cell has been executed in the\n",
              "      current browser session. Please rerun this cell to enable.\n",
              "      </output>\n",
              "      <script src=\"/nbextensions/google.colab/files.js\"></script> "
            ],
            "text/plain": [
              "<IPython.core.display.HTML object>"
            ]
          },
          "metadata": {
            "tags": []
          }
        },
        {
          "output_type": "stream",
          "text": [
            "Saving train.csv to train.csv\n",
            "Saving test.csv to test.csv\n",
            "Saving gender_submission.csv to gender_submission.csv\n"
          ],
          "name": "stdout"
        }
      ]
    },
    {
      "cell_type": "code",
      "metadata": {
        "id": "rDvRk5YLlhaB",
        "colab_type": "code",
        "colab": {}
      },
      "source": [
        "import numpy as np\n",
        "import pandas as pd\n",
        "import matplotlib.pyplot as plt\n",
        "\n",
        "%matplotlib inline"
      ],
      "execution_count": 0,
      "outputs": []
    },
    {
      "cell_type": "code",
      "metadata": {
        "id": "NwsdsTdCl2hb",
        "colab_type": "code",
        "colab": {}
      },
      "source": [
        "# Load Kaggle Data as matrix\n",
        "train_df = pd.read_csv('./train.csv')\n",
        "test_df = pd.read_csv('./test.csv')\n",
        "test_sub_df = pd.read_csv('./gender_submission.csv')"
      ],
      "execution_count": 0,
      "outputs": []
    },
    {
      "cell_type": "code",
      "metadata": {
        "id": "kCEE7i16l2ds",
        "colab_type": "code",
        "outputId": "17e893ac-b79a-4e64-a49d-33cbe2c79e8f",
        "colab": {
          "base_uri": "https://localhost:8080/",
          "height": 499
        }
      },
      "source": [
        "train_df.head()"
      ],
      "execution_count": 0,
      "outputs": [
        {
          "output_type": "execute_result",
          "data": {
            "text/html": [
              "<div>\n",
              "<style scoped>\n",
              "    .dataframe tbody tr th:only-of-type {\n",
              "        vertical-align: middle;\n",
              "    }\n",
              "\n",
              "    .dataframe tbody tr th {\n",
              "        vertical-align: top;\n",
              "    }\n",
              "\n",
              "    .dataframe thead th {\n",
              "        text-align: right;\n",
              "    }\n",
              "</style>\n",
              "<table border=\"1\" class=\"dataframe\">\n",
              "  <thead>\n",
              "    <tr style=\"text-align: right;\">\n",
              "      <th></th>\n",
              "      <th>PassengerId</th>\n",
              "      <th>Survived</th>\n",
              "      <th>Pclass</th>\n",
              "      <th>Name</th>\n",
              "      <th>Sex</th>\n",
              "      <th>Age</th>\n",
              "      <th>SibSp</th>\n",
              "      <th>Parch</th>\n",
              "      <th>Ticket</th>\n",
              "      <th>Fare</th>\n",
              "      <th>Cabin</th>\n",
              "      <th>Embarked</th>\n",
              "    </tr>\n",
              "  </thead>\n",
              "  <tbody>\n",
              "    <tr>\n",
              "      <th>0</th>\n",
              "      <td>1</td>\n",
              "      <td>0</td>\n",
              "      <td>3</td>\n",
              "      <td>Braund, Mr. Owen Harris</td>\n",
              "      <td>male</td>\n",
              "      <td>22.0</td>\n",
              "      <td>1</td>\n",
              "      <td>0</td>\n",
              "      <td>A/5 21171</td>\n",
              "      <td>7.2500</td>\n",
              "      <td>NaN</td>\n",
              "      <td>S</td>\n",
              "    </tr>\n",
              "    <tr>\n",
              "      <th>1</th>\n",
              "      <td>2</td>\n",
              "      <td>1</td>\n",
              "      <td>1</td>\n",
              "      <td>Cumings, Mrs. John Bradley (Florence Briggs Th...</td>\n",
              "      <td>female</td>\n",
              "      <td>38.0</td>\n",
              "      <td>1</td>\n",
              "      <td>0</td>\n",
              "      <td>PC 17599</td>\n",
              "      <td>71.2833</td>\n",
              "      <td>C85</td>\n",
              "      <td>C</td>\n",
              "    </tr>\n",
              "    <tr>\n",
              "      <th>2</th>\n",
              "      <td>3</td>\n",
              "      <td>1</td>\n",
              "      <td>3</td>\n",
              "      <td>Heikkinen, Miss. Laina</td>\n",
              "      <td>female</td>\n",
              "      <td>26.0</td>\n",
              "      <td>0</td>\n",
              "      <td>0</td>\n",
              "      <td>STON/O2. 3101282</td>\n",
              "      <td>7.9250</td>\n",
              "      <td>NaN</td>\n",
              "      <td>S</td>\n",
              "    </tr>\n",
              "    <tr>\n",
              "      <th>3</th>\n",
              "      <td>4</td>\n",
              "      <td>1</td>\n",
              "      <td>1</td>\n",
              "      <td>Futrelle, Mrs. Jacques Heath (Lily May Peel)</td>\n",
              "      <td>female</td>\n",
              "      <td>35.0</td>\n",
              "      <td>1</td>\n",
              "      <td>0</td>\n",
              "      <td>113803</td>\n",
              "      <td>53.1000</td>\n",
              "      <td>C123</td>\n",
              "      <td>S</td>\n",
              "    </tr>\n",
              "    <tr>\n",
              "      <th>4</th>\n",
              "      <td>5</td>\n",
              "      <td>0</td>\n",
              "      <td>3</td>\n",
              "      <td>Allen, Mr. William Henry</td>\n",
              "      <td>male</td>\n",
              "      <td>35.0</td>\n",
              "      <td>0</td>\n",
              "      <td>0</td>\n",
              "      <td>373450</td>\n",
              "      <td>8.0500</td>\n",
              "      <td>NaN</td>\n",
              "      <td>S</td>\n",
              "    </tr>\n",
              "  </tbody>\n",
              "</table>\n",
              "</div>"
            ],
            "text/plain": [
              "   PassengerId  Survived  Pclass  ...     Fare Cabin  Embarked\n",
              "0            1         0       3  ...   7.2500   NaN         S\n",
              "1            2         1       1  ...  71.2833   C85         C\n",
              "2            3         1       3  ...   7.9250   NaN         S\n",
              "3            4         1       1  ...  53.1000  C123         S\n",
              "4            5         0       3  ...   8.0500   NaN         S\n",
              "\n",
              "[5 rows x 12 columns]"
            ]
          },
          "metadata": {
            "tags": []
          },
          "execution_count": 38
        }
      ]
    },
    {
      "cell_type": "code",
      "metadata": {
        "id": "jevUvNl4l2bQ",
        "colab_type": "code",
        "outputId": "56d045fa-c85e-4d2e-e019-33dfad54a028",
        "colab": {
          "base_uri": "https://localhost:8080/",
          "height": 447
        }
      },
      "source": [
        "test_df.head()"
      ],
      "execution_count": 0,
      "outputs": [
        {
          "output_type": "execute_result",
          "data": {
            "text/html": [
              "<div>\n",
              "<style scoped>\n",
              "    .dataframe tbody tr th:only-of-type {\n",
              "        vertical-align: middle;\n",
              "    }\n",
              "\n",
              "    .dataframe tbody tr th {\n",
              "        vertical-align: top;\n",
              "    }\n",
              "\n",
              "    .dataframe thead th {\n",
              "        text-align: right;\n",
              "    }\n",
              "</style>\n",
              "<table border=\"1\" class=\"dataframe\">\n",
              "  <thead>\n",
              "    <tr style=\"text-align: right;\">\n",
              "      <th></th>\n",
              "      <th>PassengerId</th>\n",
              "      <th>Pclass</th>\n",
              "      <th>Name</th>\n",
              "      <th>Sex</th>\n",
              "      <th>Age</th>\n",
              "      <th>SibSp</th>\n",
              "      <th>Parch</th>\n",
              "      <th>Ticket</th>\n",
              "      <th>Fare</th>\n",
              "      <th>Cabin</th>\n",
              "      <th>Embarked</th>\n",
              "    </tr>\n",
              "  </thead>\n",
              "  <tbody>\n",
              "    <tr>\n",
              "      <th>0</th>\n",
              "      <td>892</td>\n",
              "      <td>3</td>\n",
              "      <td>Kelly, Mr. James</td>\n",
              "      <td>male</td>\n",
              "      <td>34.5</td>\n",
              "      <td>0</td>\n",
              "      <td>0</td>\n",
              "      <td>330911</td>\n",
              "      <td>7.8292</td>\n",
              "      <td>NaN</td>\n",
              "      <td>Q</td>\n",
              "    </tr>\n",
              "    <tr>\n",
              "      <th>1</th>\n",
              "      <td>893</td>\n",
              "      <td>3</td>\n",
              "      <td>Wilkes, Mrs. James (Ellen Needs)</td>\n",
              "      <td>female</td>\n",
              "      <td>47.0</td>\n",
              "      <td>1</td>\n",
              "      <td>0</td>\n",
              "      <td>363272</td>\n",
              "      <td>7.0000</td>\n",
              "      <td>NaN</td>\n",
              "      <td>S</td>\n",
              "    </tr>\n",
              "    <tr>\n",
              "      <th>2</th>\n",
              "      <td>894</td>\n",
              "      <td>2</td>\n",
              "      <td>Myles, Mr. Thomas Francis</td>\n",
              "      <td>male</td>\n",
              "      <td>62.0</td>\n",
              "      <td>0</td>\n",
              "      <td>0</td>\n",
              "      <td>240276</td>\n",
              "      <td>9.6875</td>\n",
              "      <td>NaN</td>\n",
              "      <td>Q</td>\n",
              "    </tr>\n",
              "    <tr>\n",
              "      <th>3</th>\n",
              "      <td>895</td>\n",
              "      <td>3</td>\n",
              "      <td>Wirz, Mr. Albert</td>\n",
              "      <td>male</td>\n",
              "      <td>27.0</td>\n",
              "      <td>0</td>\n",
              "      <td>0</td>\n",
              "      <td>315154</td>\n",
              "      <td>8.6625</td>\n",
              "      <td>NaN</td>\n",
              "      <td>S</td>\n",
              "    </tr>\n",
              "    <tr>\n",
              "      <th>4</th>\n",
              "      <td>896</td>\n",
              "      <td>3</td>\n",
              "      <td>Hirvonen, Mrs. Alexander (Helga E Lindqvist)</td>\n",
              "      <td>female</td>\n",
              "      <td>22.0</td>\n",
              "      <td>1</td>\n",
              "      <td>1</td>\n",
              "      <td>3101298</td>\n",
              "      <td>12.2875</td>\n",
              "      <td>NaN</td>\n",
              "      <td>S</td>\n",
              "    </tr>\n",
              "  </tbody>\n",
              "</table>\n",
              "</div>"
            ],
            "text/plain": [
              "   PassengerId  Pclass  ... Cabin Embarked\n",
              "0          892       3  ...   NaN        Q\n",
              "1          893       3  ...   NaN        S\n",
              "2          894       2  ...   NaN        Q\n",
              "3          895       3  ...   NaN        S\n",
              "4          896       3  ...   NaN        S\n",
              "\n",
              "[5 rows x 11 columns]"
            ]
          },
          "metadata": {
            "tags": []
          },
          "execution_count": 39
        }
      ]
    },
    {
      "cell_type": "code",
      "metadata": {
        "id": "mW5jg7Jzl2Yc",
        "colab_type": "code",
        "outputId": "d99d0ded-738d-4f98-dd5f-4f970bbae341",
        "colab": {
          "base_uri": "https://localhost:8080/",
          "height": 202
        }
      },
      "source": [
        "test_sub_df.head()"
      ],
      "execution_count": 0,
      "outputs": [
        {
          "output_type": "execute_result",
          "data": {
            "text/html": [
              "<div>\n",
              "<style scoped>\n",
              "    .dataframe tbody tr th:only-of-type {\n",
              "        vertical-align: middle;\n",
              "    }\n",
              "\n",
              "    .dataframe tbody tr th {\n",
              "        vertical-align: top;\n",
              "    }\n",
              "\n",
              "    .dataframe thead th {\n",
              "        text-align: right;\n",
              "    }\n",
              "</style>\n",
              "<table border=\"1\" class=\"dataframe\">\n",
              "  <thead>\n",
              "    <tr style=\"text-align: right;\">\n",
              "      <th></th>\n",
              "      <th>PassengerId</th>\n",
              "      <th>Survived</th>\n",
              "    </tr>\n",
              "  </thead>\n",
              "  <tbody>\n",
              "    <tr>\n",
              "      <th>0</th>\n",
              "      <td>892</td>\n",
              "      <td>0</td>\n",
              "    </tr>\n",
              "    <tr>\n",
              "      <th>1</th>\n",
              "      <td>893</td>\n",
              "      <td>1</td>\n",
              "    </tr>\n",
              "    <tr>\n",
              "      <th>2</th>\n",
              "      <td>894</td>\n",
              "      <td>0</td>\n",
              "    </tr>\n",
              "    <tr>\n",
              "      <th>3</th>\n",
              "      <td>895</td>\n",
              "      <td>0</td>\n",
              "    </tr>\n",
              "    <tr>\n",
              "      <th>4</th>\n",
              "      <td>896</td>\n",
              "      <td>1</td>\n",
              "    </tr>\n",
              "  </tbody>\n",
              "</table>\n",
              "</div>"
            ],
            "text/plain": [
              "   PassengerId  Survived\n",
              "0          892         0\n",
              "1          893         1\n",
              "2          894         0\n",
              "3          895         0\n",
              "4          896         1"
            ]
          },
          "metadata": {
            "tags": []
          },
          "execution_count": 40
        }
      ]
    },
    {
      "cell_type": "markdown",
      "metadata": {
        "id": "S5Wen7cSmqPR",
        "colab_type": "text"
      },
      "source": [
        "test_sub_df['Survived'] 열(column) 데이터를 test_df['Survived'] 열(column)로 추가함"
      ]
    },
    {
      "cell_type": "code",
      "metadata": {
        "id": "HDD-Bi60l2WW",
        "colab_type": "code",
        "outputId": "f46055f8-ec1d-4365-fe86-482df1462044",
        "colab": {
          "base_uri": "https://localhost:8080/",
          "height": 447
        }
      },
      "source": [
        "test_df['Survived'] = test_sub_df['Survived']\n",
        "\n",
        "test_df.head()"
      ],
      "execution_count": 0,
      "outputs": [
        {
          "output_type": "execute_result",
          "data": {
            "text/html": [
              "<div>\n",
              "<style scoped>\n",
              "    .dataframe tbody tr th:only-of-type {\n",
              "        vertical-align: middle;\n",
              "    }\n",
              "\n",
              "    .dataframe tbody tr th {\n",
              "        vertical-align: top;\n",
              "    }\n",
              "\n",
              "    .dataframe thead th {\n",
              "        text-align: right;\n",
              "    }\n",
              "</style>\n",
              "<table border=\"1\" class=\"dataframe\">\n",
              "  <thead>\n",
              "    <tr style=\"text-align: right;\">\n",
              "      <th></th>\n",
              "      <th>PassengerId</th>\n",
              "      <th>Pclass</th>\n",
              "      <th>Name</th>\n",
              "      <th>Sex</th>\n",
              "      <th>Age</th>\n",
              "      <th>SibSp</th>\n",
              "      <th>Parch</th>\n",
              "      <th>Ticket</th>\n",
              "      <th>Fare</th>\n",
              "      <th>Cabin</th>\n",
              "      <th>Embarked</th>\n",
              "      <th>Survived</th>\n",
              "    </tr>\n",
              "  </thead>\n",
              "  <tbody>\n",
              "    <tr>\n",
              "      <th>0</th>\n",
              "      <td>892</td>\n",
              "      <td>3</td>\n",
              "      <td>Kelly, Mr. James</td>\n",
              "      <td>male</td>\n",
              "      <td>34.5</td>\n",
              "      <td>0</td>\n",
              "      <td>0</td>\n",
              "      <td>330911</td>\n",
              "      <td>7.8292</td>\n",
              "      <td>NaN</td>\n",
              "      <td>Q</td>\n",
              "      <td>0</td>\n",
              "    </tr>\n",
              "    <tr>\n",
              "      <th>1</th>\n",
              "      <td>893</td>\n",
              "      <td>3</td>\n",
              "      <td>Wilkes, Mrs. James (Ellen Needs)</td>\n",
              "      <td>female</td>\n",
              "      <td>47.0</td>\n",
              "      <td>1</td>\n",
              "      <td>0</td>\n",
              "      <td>363272</td>\n",
              "      <td>7.0000</td>\n",
              "      <td>NaN</td>\n",
              "      <td>S</td>\n",
              "      <td>1</td>\n",
              "    </tr>\n",
              "    <tr>\n",
              "      <th>2</th>\n",
              "      <td>894</td>\n",
              "      <td>2</td>\n",
              "      <td>Myles, Mr. Thomas Francis</td>\n",
              "      <td>male</td>\n",
              "      <td>62.0</td>\n",
              "      <td>0</td>\n",
              "      <td>0</td>\n",
              "      <td>240276</td>\n",
              "      <td>9.6875</td>\n",
              "      <td>NaN</td>\n",
              "      <td>Q</td>\n",
              "      <td>0</td>\n",
              "    </tr>\n",
              "    <tr>\n",
              "      <th>3</th>\n",
              "      <td>895</td>\n",
              "      <td>3</td>\n",
              "      <td>Wirz, Mr. Albert</td>\n",
              "      <td>male</td>\n",
              "      <td>27.0</td>\n",
              "      <td>0</td>\n",
              "      <td>0</td>\n",
              "      <td>315154</td>\n",
              "      <td>8.6625</td>\n",
              "      <td>NaN</td>\n",
              "      <td>S</td>\n",
              "      <td>0</td>\n",
              "    </tr>\n",
              "    <tr>\n",
              "      <th>4</th>\n",
              "      <td>896</td>\n",
              "      <td>3</td>\n",
              "      <td>Hirvonen, Mrs. Alexander (Helga E Lindqvist)</td>\n",
              "      <td>female</td>\n",
              "      <td>22.0</td>\n",
              "      <td>1</td>\n",
              "      <td>1</td>\n",
              "      <td>3101298</td>\n",
              "      <td>12.2875</td>\n",
              "      <td>NaN</td>\n",
              "      <td>S</td>\n",
              "      <td>1</td>\n",
              "    </tr>\n",
              "  </tbody>\n",
              "</table>\n",
              "</div>"
            ],
            "text/plain": [
              "   PassengerId  Pclass  ... Embarked Survived\n",
              "0          892       3  ...        Q        0\n",
              "1          893       3  ...        S        1\n",
              "2          894       2  ...        Q        0\n",
              "3          895       3  ...        S        0\n",
              "4          896       3  ...        S        1\n",
              "\n",
              "[5 rows x 12 columns]"
            ]
          },
          "metadata": {
            "tags": []
          },
          "execution_count": 41
        }
      ]
    },
    {
      "cell_type": "code",
      "metadata": {
        "id": "SsSoO4jel2TO",
        "colab_type": "code",
        "outputId": "656b5a4d-7cf5-43fb-dcd3-4641b668f507",
        "colab": {
          "base_uri": "https://localhost:8080/",
          "height": 447
        }
      },
      "source": [
        "#train과 열 맞춰주기\n",
        "test_df = test_df[ ['PassengerId', 'Survived', 'Pclass', 'Name', 'Sex', 'Age', 'SibSp', 'Parch', 'Ticket', 'Fare', 'Embarked'] ]\n",
        "\n",
        "test_df.head()"
      ],
      "execution_count": 0,
      "outputs": [
        {
          "output_type": "execute_result",
          "data": {
            "text/html": [
              "<div>\n",
              "<style scoped>\n",
              "    .dataframe tbody tr th:only-of-type {\n",
              "        vertical-align: middle;\n",
              "    }\n",
              "\n",
              "    .dataframe tbody tr th {\n",
              "        vertical-align: top;\n",
              "    }\n",
              "\n",
              "    .dataframe thead th {\n",
              "        text-align: right;\n",
              "    }\n",
              "</style>\n",
              "<table border=\"1\" class=\"dataframe\">\n",
              "  <thead>\n",
              "    <tr style=\"text-align: right;\">\n",
              "      <th></th>\n",
              "      <th>PassengerId</th>\n",
              "      <th>Survived</th>\n",
              "      <th>Pclass</th>\n",
              "      <th>Name</th>\n",
              "      <th>Sex</th>\n",
              "      <th>Age</th>\n",
              "      <th>SibSp</th>\n",
              "      <th>Parch</th>\n",
              "      <th>Ticket</th>\n",
              "      <th>Fare</th>\n",
              "      <th>Embarked</th>\n",
              "    </tr>\n",
              "  </thead>\n",
              "  <tbody>\n",
              "    <tr>\n",
              "      <th>0</th>\n",
              "      <td>892</td>\n",
              "      <td>0</td>\n",
              "      <td>3</td>\n",
              "      <td>Kelly, Mr. James</td>\n",
              "      <td>male</td>\n",
              "      <td>34.5</td>\n",
              "      <td>0</td>\n",
              "      <td>0</td>\n",
              "      <td>330911</td>\n",
              "      <td>7.8292</td>\n",
              "      <td>Q</td>\n",
              "    </tr>\n",
              "    <tr>\n",
              "      <th>1</th>\n",
              "      <td>893</td>\n",
              "      <td>1</td>\n",
              "      <td>3</td>\n",
              "      <td>Wilkes, Mrs. James (Ellen Needs)</td>\n",
              "      <td>female</td>\n",
              "      <td>47.0</td>\n",
              "      <td>1</td>\n",
              "      <td>0</td>\n",
              "      <td>363272</td>\n",
              "      <td>7.0000</td>\n",
              "      <td>S</td>\n",
              "    </tr>\n",
              "    <tr>\n",
              "      <th>2</th>\n",
              "      <td>894</td>\n",
              "      <td>0</td>\n",
              "      <td>2</td>\n",
              "      <td>Myles, Mr. Thomas Francis</td>\n",
              "      <td>male</td>\n",
              "      <td>62.0</td>\n",
              "      <td>0</td>\n",
              "      <td>0</td>\n",
              "      <td>240276</td>\n",
              "      <td>9.6875</td>\n",
              "      <td>Q</td>\n",
              "    </tr>\n",
              "    <tr>\n",
              "      <th>3</th>\n",
              "      <td>895</td>\n",
              "      <td>0</td>\n",
              "      <td>3</td>\n",
              "      <td>Wirz, Mr. Albert</td>\n",
              "      <td>male</td>\n",
              "      <td>27.0</td>\n",
              "      <td>0</td>\n",
              "      <td>0</td>\n",
              "      <td>315154</td>\n",
              "      <td>8.6625</td>\n",
              "      <td>S</td>\n",
              "    </tr>\n",
              "    <tr>\n",
              "      <th>4</th>\n",
              "      <td>896</td>\n",
              "      <td>1</td>\n",
              "      <td>3</td>\n",
              "      <td>Hirvonen, Mrs. Alexander (Helga E Lindqvist)</td>\n",
              "      <td>female</td>\n",
              "      <td>22.0</td>\n",
              "      <td>1</td>\n",
              "      <td>1</td>\n",
              "      <td>3101298</td>\n",
              "      <td>12.2875</td>\n",
              "      <td>S</td>\n",
              "    </tr>\n",
              "  </tbody>\n",
              "</table>\n",
              "</div>"
            ],
            "text/plain": [
              "   PassengerId  Survived  Pclass  ...   Ticket     Fare  Embarked\n",
              "0          892         0       3  ...   330911   7.8292         Q\n",
              "1          893         1       3  ...   363272   7.0000         S\n",
              "2          894         0       2  ...   240276   9.6875         Q\n",
              "3          895         0       3  ...   315154   8.6625         S\n",
              "4          896         1       3  ...  3101298  12.2875         S\n",
              "\n",
              "[5 rows x 11 columns]"
            ]
          },
          "metadata": {
            "tags": []
          },
          "execution_count": 42
        }
      ]
    },
    {
      "cell_type": "markdown",
      "metadata": {
        "id": "YBFqdByvm1Qx",
        "colab_type": "text"
      },
      "source": [
        "각 데이터프레임의 Missing Data 및 Embarked 종류 확인"
      ]
    },
    {
      "cell_type": "code",
      "metadata": {
        "id": "HTfuUd3Fl2Q4",
        "colab_type": "code",
        "outputId": "0a9e35f5-1bf1-4789-9aa1-6d8bae2bfe8f",
        "colab": {
          "base_uri": "https://localhost:8080/",
          "height": 260
        }
      },
      "source": [
        "train_df.isnull().sum()"
      ],
      "execution_count": 0,
      "outputs": [
        {
          "output_type": "execute_result",
          "data": {
            "text/plain": [
              "PassengerId      0\n",
              "Survived         0\n",
              "Pclass           0\n",
              "Name             0\n",
              "Sex              0\n",
              "Age            177\n",
              "SibSp            0\n",
              "Parch            0\n",
              "Ticket           0\n",
              "Fare             0\n",
              "Cabin          687\n",
              "Embarked         2\n",
              "dtype: int64"
            ]
          },
          "metadata": {
            "tags": []
          },
          "execution_count": 43
        }
      ]
    },
    {
      "cell_type": "code",
      "metadata": {
        "id": "ynRbg4Syl2OD",
        "colab_type": "code",
        "outputId": "99489f55-ae12-48c9-a585-ba3e97b9eb12",
        "colab": {
          "base_uri": "https://localhost:8080/",
          "height": 241
        }
      },
      "source": [
        "test_df.isnull().sum()"
      ],
      "execution_count": 0,
      "outputs": [
        {
          "output_type": "execute_result",
          "data": {
            "text/plain": [
              "PassengerId     0\n",
              "Survived        0\n",
              "Pclass          0\n",
              "Name            0\n",
              "Sex             0\n",
              "Age            86\n",
              "SibSp           0\n",
              "Parch           0\n",
              "Ticket          0\n",
              "Fare            1\n",
              "Embarked        0\n",
              "dtype: int64"
            ]
          },
          "metadata": {
            "tags": []
          },
          "execution_count": 44
        }
      ]
    },
    {
      "cell_type": "code",
      "metadata": {
        "id": "qctorigUl2Lf",
        "colab_type": "code",
        "outputId": "5c25e058-f68b-46f5-d422-3bc4d9a446de",
        "colab": {
          "base_uri": "https://localhost:8080/",
          "height": 92
        }
      },
      "source": [
        "train_df['Embarked'].value_counts()"
      ],
      "execution_count": 0,
      "outputs": [
        {
          "output_type": "execute_result",
          "data": {
            "text/plain": [
              "S    644\n",
              "C    168\n",
              "Q     77\n",
              "Name: Embarked, dtype: int64"
            ]
          },
          "metadata": {
            "tags": []
          },
          "execution_count": 45
        }
      ]
    },
    {
      "cell_type": "code",
      "metadata": {
        "id": "8L3F0G6Sl2IT",
        "colab_type": "code",
        "outputId": "2ae9902f-fc74-428d-aa73-c28511539978",
        "colab": {
          "base_uri": "https://localhost:8080/",
          "height": 36
        }
      },
      "source": [
        "train_df['Age'].median()"
      ],
      "execution_count": 0,
      "outputs": [
        {
          "output_type": "execute_result",
          "data": {
            "text/plain": [
              "28.0"
            ]
          },
          "metadata": {
            "tags": []
          },
          "execution_count": 46
        }
      ]
    },
    {
      "cell_type": "code",
      "metadata": {
        "id": "dorkkuGfnAyV",
        "colab_type": "code",
        "colab": {}
      },
      "source": [
        "#중요하지 않은 cabin,embarked 열을 'aaa'로 채우고 나머지 데이터 지워주기\n",
        "train_df['Cabin'].fillna('aaa', inplace=True)\n",
        "train_df['Embarked'].fillna('aaa', inplace=True)\n",
        "train_df = train_df.dropna()"
      ],
      "execution_count": 0,
      "outputs": []
    },
    {
      "cell_type": "code",
      "metadata": {
        "id": "L5UMWOCcnA-R",
        "colab_type": "code",
        "outputId": "f041c685-d6f4-4618-fe06-a99892aa809a",
        "colab": {
          "base_uri": "https://localhost:8080/",
          "height": 260
        }
      },
      "source": [
        "train_df.isnull().sum()"
      ],
      "execution_count": 0,
      "outputs": [
        {
          "output_type": "execute_result",
          "data": {
            "text/plain": [
              "PassengerId    0\n",
              "Survived       0\n",
              "Pclass         0\n",
              "Name           0\n",
              "Sex            0\n",
              "Age            0\n",
              "SibSp          0\n",
              "Parch          0\n",
              "Ticket         0\n",
              "Fare           0\n",
              "Cabin          0\n",
              "Embarked       0\n",
              "dtype: int64"
            ]
          },
          "metadata": {
            "tags": []
          },
          "execution_count": 48
        }
      ]
    },
    {
      "cell_type": "code",
      "metadata": {
        "id": "4G2RoGHVnBDT",
        "colab_type": "code",
        "colab": {}
      },
      "source": [
        "#test_df 도 missing data 부분 모두 제거"
      ],
      "execution_count": 0,
      "outputs": []
    },
    {
      "cell_type": "code",
      "metadata": {
        "id": "hzC66VRinA7J",
        "colab_type": "code",
        "outputId": "b7a71a47-e48b-44f1-c291-cd2cbd0862fb",
        "colab": {
          "base_uri": "https://localhost:8080/",
          "height": 241
        }
      },
      "source": [
        "test_df.isnull().sum()"
      ],
      "execution_count": 0,
      "outputs": [
        {
          "output_type": "execute_result",
          "data": {
            "text/plain": [
              "PassengerId     0\n",
              "Survived        0\n",
              "Pclass          0\n",
              "Name            0\n",
              "Sex             0\n",
              "Age            86\n",
              "SibSp           0\n",
              "Parch           0\n",
              "Ticket          0\n",
              "Fare            1\n",
              "Embarked        0\n",
              "dtype: int64"
            ]
          },
          "metadata": {
            "tags": []
          },
          "execution_count": 49
        }
      ]
    },
    {
      "cell_type": "code",
      "metadata": {
        "id": "eBfWL0wTpFqU",
        "colab_type": "code",
        "outputId": "42a3ad37-bdb7-40e5-f5cd-aa1ac105e1b2",
        "colab": {
          "base_uri": "https://localhost:8080/",
          "height": 241
        }
      },
      "source": [
        "test_df = test_df.dropna()\n",
        "test_df.isnull().sum()"
      ],
      "execution_count": 0,
      "outputs": [
        {
          "output_type": "execute_result",
          "data": {
            "text/plain": [
              "PassengerId    0\n",
              "Survived       0\n",
              "Pclass         0\n",
              "Name           0\n",
              "Sex            0\n",
              "Age            0\n",
              "SibSp          0\n",
              "Parch          0\n",
              "Ticket         0\n",
              "Fare           0\n",
              "Embarked       0\n",
              "dtype: int64"
            ]
          },
          "metadata": {
            "tags": []
          },
          "execution_count": 52
        }
      ]
    },
    {
      "cell_type": "code",
      "metadata": {
        "id": "ffXbybsppFml",
        "colab_type": "code",
        "outputId": "4ce27f06-d451-4a40-9bda-5f534a3607ed",
        "colab": {
          "base_uri": "https://localhost:8080/",
          "height": 36
        }
      },
      "source": [
        "len(test_df)"
      ],
      "execution_count": 0,
      "outputs": [
        {
          "output_type": "execute_result",
          "data": {
            "text/plain": [
              "331"
            ]
          },
          "metadata": {
            "tags": []
          },
          "execution_count": 51
        }
      ]
    },
    {
      "cell_type": "markdown",
      "metadata": {
        "id": "Jx-aCbf9pW_6",
        "colab_type": "text"
      },
      "source": [
        "딥러닝 학습을 위한 행렬 생성"
      ]
    },
    {
      "cell_type": "code",
      "metadata": {
        "id": "6VBGGWzYpFkM",
        "colab_type": "code",
        "outputId": "69053064-ec6b-43a7-8e08-c87d3d5dc1e9",
        "colab": {
          "base_uri": "https://localhost:8080/",
          "height": 55
        }
      },
      "source": [
        "train_csv_data = train_df.values\n",
        "test_csv_data = test_df.values\n",
        "#test_csv_sub = test_sub_df.values  # test_df 에 정답을 추가시켰기때문에 이제 필요치 않음\n",
        "\n",
        "print(type(train_csv_data), train_csv_data.shape)\n",
        "print(type(test_csv_data), test_csv_data.shape)\n",
        "#print(type(test_csv_sub), test_csv_sub.shape)  # test_df 에 정답을 추가시켰기때문에 이제 필요치 않음"
      ],
      "execution_count": 0,
      "outputs": [
        {
          "output_type": "stream",
          "text": [
            "<class 'numpy.ndarray'> (714, 12)\n",
            "<class 'numpy.ndarray'> (331, 11)\n"
          ],
          "name": "stdout"
        }
      ]
    },
    {
      "cell_type": "code",
      "metadata": {
        "id": "xmciiMI9pFi2",
        "colab_type": "code",
        "colab": {}
      },
      "source": [
        "#문자 -> 숫자 변경"
      ],
      "execution_count": 0,
      "outputs": []
    },
    {
      "cell_type": "code",
      "metadata": {
        "id": "_292Vun-pFhC",
        "colab_type": "code",
        "colab": {}
      },
      "source": [
        " #train_csv_data 에서 male -> 1, female -> 0\n",
        "for i in range(len(train_csv_data)):\n",
        "    \n",
        "    if train_csv_data[i, 4] == 'male':\n",
        "        \n",
        "        train_csv_data[i, 4] = 1.0\n",
        "    \n",
        "    else:\n",
        "        \n",
        "        train_csv_data[i, 4] = 0.0\n",
        "        \n",
        "# test_csv_data 에서 male -> 1, female -> 0\n",
        "for i in range(len(test_csv_data)):\n",
        "    \n",
        "    if test_csv_data[i, 4] == 'male':\n",
        "        \n",
        "        test_csv_data[i, 4] = 1.0\n",
        "    \n",
        "    else:\n",
        "        \n",
        "        test_csv_data[i, 4] = 0.0"
      ],
      "execution_count": 0,
      "outputs": []
    },
    {
      "cell_type": "code",
      "metadata": {
        "id": "fbYvyMw8pFe9",
        "colab_type": "code",
        "colab": {}
      },
      "source": [
        "# train_csv_data 에서 Embarked, Empty -> 0, S -> 1, C -> 2, Q -> 3\n",
        "for i in range(len(train_csv_data)):\n",
        "    \n",
        "    if train_csv_data[i, 11] == 'S':\n",
        "        \n",
        "        train_csv_data[i, 11] = 1.0\n",
        "        \n",
        "    elif train_csv_data[i, 11] == 'C':\n",
        "        \n",
        "        train_csv_data[i, 11] = 2.0\n",
        "        \n",
        "    elif train_csv_data[i, 11] == 'Q':\n",
        "        \n",
        "        train_csv_data[i, 11] = 3.0\n",
        "        \n",
        "\n",
        "# test_csv_data 에서 Embarked, Empty -> 0, S -> 1, C -> 2, Q -> 3\n",
        "for i in range(len(test_csv_data)):\n",
        "    \n",
        "    if test_csv_data[i, 10] == 'S':\n",
        "        \n",
        "        test_csv_data[i, 10] = 1.0\n",
        "        \n",
        "    elif test_csv_data[i, 10] == 'C':\n",
        "        \n",
        "        test_csv_data[i, 10] = 2.0\n",
        "        \n",
        "    elif test_csv_data[i, 10] == 'Q':\n",
        "        \n",
        "        test_csv_data[i, 10] = 3.0"
      ],
      "execution_count": 0,
      "outputs": []
    },
    {
      "cell_type": "markdown",
      "metadata": {
        "id": "4B1JF4IFqdNF",
        "colab_type": "text"
      },
      "source": [
        "training data 생성에 필요한 칼럼 재 확인"
      ]
    },
    {
      "cell_type": "code",
      "metadata": {
        "id": "biJBH8IhpFaw",
        "colab_type": "code",
        "outputId": "f790555e-d9d0-48bf-cca1-b751bd111ac2",
        "colab": {
          "base_uri": "https://localhost:8080/",
          "height": 499
        }
      },
      "source": [
        "train_df.head()"
      ],
      "execution_count": 0,
      "outputs": [
        {
          "output_type": "execute_result",
          "data": {
            "text/html": [
              "<div>\n",
              "<style scoped>\n",
              "    .dataframe tbody tr th:only-of-type {\n",
              "        vertical-align: middle;\n",
              "    }\n",
              "\n",
              "    .dataframe tbody tr th {\n",
              "        vertical-align: top;\n",
              "    }\n",
              "\n",
              "    .dataframe thead th {\n",
              "        text-align: right;\n",
              "    }\n",
              "</style>\n",
              "<table border=\"1\" class=\"dataframe\">\n",
              "  <thead>\n",
              "    <tr style=\"text-align: right;\">\n",
              "      <th></th>\n",
              "      <th>PassengerId</th>\n",
              "      <th>Survived</th>\n",
              "      <th>Pclass</th>\n",
              "      <th>Name</th>\n",
              "      <th>Sex</th>\n",
              "      <th>Age</th>\n",
              "      <th>SibSp</th>\n",
              "      <th>Parch</th>\n",
              "      <th>Ticket</th>\n",
              "      <th>Fare</th>\n",
              "      <th>Cabin</th>\n",
              "      <th>Embarked</th>\n",
              "    </tr>\n",
              "  </thead>\n",
              "  <tbody>\n",
              "    <tr>\n",
              "      <th>0</th>\n",
              "      <td>1</td>\n",
              "      <td>0</td>\n",
              "      <td>3</td>\n",
              "      <td>Braund, Mr. Owen Harris</td>\n",
              "      <td>male</td>\n",
              "      <td>22.0</td>\n",
              "      <td>1</td>\n",
              "      <td>0</td>\n",
              "      <td>A/5 21171</td>\n",
              "      <td>7.2500</td>\n",
              "      <td>aaa</td>\n",
              "      <td>S</td>\n",
              "    </tr>\n",
              "    <tr>\n",
              "      <th>1</th>\n",
              "      <td>2</td>\n",
              "      <td>1</td>\n",
              "      <td>1</td>\n",
              "      <td>Cumings, Mrs. John Bradley (Florence Briggs Th...</td>\n",
              "      <td>female</td>\n",
              "      <td>38.0</td>\n",
              "      <td>1</td>\n",
              "      <td>0</td>\n",
              "      <td>PC 17599</td>\n",
              "      <td>71.2833</td>\n",
              "      <td>C85</td>\n",
              "      <td>C</td>\n",
              "    </tr>\n",
              "    <tr>\n",
              "      <th>2</th>\n",
              "      <td>3</td>\n",
              "      <td>1</td>\n",
              "      <td>3</td>\n",
              "      <td>Heikkinen, Miss. Laina</td>\n",
              "      <td>female</td>\n",
              "      <td>26.0</td>\n",
              "      <td>0</td>\n",
              "      <td>0</td>\n",
              "      <td>STON/O2. 3101282</td>\n",
              "      <td>7.9250</td>\n",
              "      <td>aaa</td>\n",
              "      <td>S</td>\n",
              "    </tr>\n",
              "    <tr>\n",
              "      <th>3</th>\n",
              "      <td>4</td>\n",
              "      <td>1</td>\n",
              "      <td>1</td>\n",
              "      <td>Futrelle, Mrs. Jacques Heath (Lily May Peel)</td>\n",
              "      <td>female</td>\n",
              "      <td>35.0</td>\n",
              "      <td>1</td>\n",
              "      <td>0</td>\n",
              "      <td>113803</td>\n",
              "      <td>53.1000</td>\n",
              "      <td>C123</td>\n",
              "      <td>S</td>\n",
              "    </tr>\n",
              "    <tr>\n",
              "      <th>4</th>\n",
              "      <td>5</td>\n",
              "      <td>0</td>\n",
              "      <td>3</td>\n",
              "      <td>Allen, Mr. William Henry</td>\n",
              "      <td>male</td>\n",
              "      <td>35.0</td>\n",
              "      <td>0</td>\n",
              "      <td>0</td>\n",
              "      <td>373450</td>\n",
              "      <td>8.0500</td>\n",
              "      <td>aaa</td>\n",
              "      <td>S</td>\n",
              "    </tr>\n",
              "  </tbody>\n",
              "</table>\n",
              "</div>"
            ],
            "text/plain": [
              "   PassengerId  Survived  Pclass  ...     Fare Cabin  Embarked\n",
              "0            1         0       3  ...   7.2500   aaa         S\n",
              "1            2         1       1  ...  71.2833   C85         C\n",
              "2            3         1       3  ...   7.9250   aaa         S\n",
              "3            4         1       1  ...  53.1000  C123         S\n",
              "4            5         0       3  ...   8.0500   aaa         S\n",
              "\n",
              "[5 rows x 12 columns]"
            ]
          },
          "metadata": {
            "tags": []
          },
          "execution_count": 57
        }
      ]
    },
    {
      "cell_type": "code",
      "metadata": {
        "id": "NbIO0GfIpFYS",
        "colab_type": "code",
        "outputId": "1492a523-5004-405b-854f-18369342de83",
        "colab": {
          "base_uri": "https://localhost:8080/",
          "height": 73
        }
      },
      "source": [
        "# training input data / training_target_data 생성\n",
        "training_input_data = train_csv_data[ : , [ 2, 4, 5, 6, 7, 9 ] ].astype('float32')  # Pclass, Sex, Age, SibSp, Parch, Fare\n",
        "\n",
        "training_target_data = train_csv_data[ :, 1:2 ].astype('float32')  # Survived\n",
        "\n",
        "print('training_input_data.shape = ', training_input_data.shape, ', training_target_data.shape = ', training_target_data.shape)\n",
        "\n",
        "print(training_input_data[1])\n",
        "print(training_target_data[1])"
      ],
      "execution_count": 0,
      "outputs": [
        {
          "output_type": "stream",
          "text": [
            "training_input_data.shape =  (714, 6) , training_target_data.shape =  (714, 1)\n",
            "[ 1.      0.     38.      1.      0.     71.2833]\n",
            "[1.]\n"
          ],
          "name": "stdout"
        }
      ]
    },
    {
      "cell_type": "markdown",
      "metadata": {
        "id": "X8xb9BaXqqZu",
        "colab_type": "text"
      },
      "source": [
        "test data 생성에 필요한 칼럼 재 확인"
      ]
    },
    {
      "cell_type": "code",
      "metadata": {
        "id": "8-AMdxklpFW6",
        "colab_type": "code",
        "outputId": "0152b9b2-de5a-4574-8184-19977b68a728",
        "colab": {
          "base_uri": "https://localhost:8080/",
          "height": 447
        }
      },
      "source": [
        "test_df.head()"
      ],
      "execution_count": 0,
      "outputs": [
        {
          "output_type": "execute_result",
          "data": {
            "text/html": [
              "<div>\n",
              "<style scoped>\n",
              "    .dataframe tbody tr th:only-of-type {\n",
              "        vertical-align: middle;\n",
              "    }\n",
              "\n",
              "    .dataframe tbody tr th {\n",
              "        vertical-align: top;\n",
              "    }\n",
              "\n",
              "    .dataframe thead th {\n",
              "        text-align: right;\n",
              "    }\n",
              "</style>\n",
              "<table border=\"1\" class=\"dataframe\">\n",
              "  <thead>\n",
              "    <tr style=\"text-align: right;\">\n",
              "      <th></th>\n",
              "      <th>PassengerId</th>\n",
              "      <th>Survived</th>\n",
              "      <th>Pclass</th>\n",
              "      <th>Name</th>\n",
              "      <th>Sex</th>\n",
              "      <th>Age</th>\n",
              "      <th>SibSp</th>\n",
              "      <th>Parch</th>\n",
              "      <th>Ticket</th>\n",
              "      <th>Fare</th>\n",
              "      <th>Embarked</th>\n",
              "    </tr>\n",
              "  </thead>\n",
              "  <tbody>\n",
              "    <tr>\n",
              "      <th>0</th>\n",
              "      <td>892</td>\n",
              "      <td>0</td>\n",
              "      <td>3</td>\n",
              "      <td>Kelly, Mr. James</td>\n",
              "      <td>male</td>\n",
              "      <td>34.5</td>\n",
              "      <td>0</td>\n",
              "      <td>0</td>\n",
              "      <td>330911</td>\n",
              "      <td>7.8292</td>\n",
              "      <td>Q</td>\n",
              "    </tr>\n",
              "    <tr>\n",
              "      <th>1</th>\n",
              "      <td>893</td>\n",
              "      <td>1</td>\n",
              "      <td>3</td>\n",
              "      <td>Wilkes, Mrs. James (Ellen Needs)</td>\n",
              "      <td>female</td>\n",
              "      <td>47.0</td>\n",
              "      <td>1</td>\n",
              "      <td>0</td>\n",
              "      <td>363272</td>\n",
              "      <td>7.0000</td>\n",
              "      <td>S</td>\n",
              "    </tr>\n",
              "    <tr>\n",
              "      <th>2</th>\n",
              "      <td>894</td>\n",
              "      <td>0</td>\n",
              "      <td>2</td>\n",
              "      <td>Myles, Mr. Thomas Francis</td>\n",
              "      <td>male</td>\n",
              "      <td>62.0</td>\n",
              "      <td>0</td>\n",
              "      <td>0</td>\n",
              "      <td>240276</td>\n",
              "      <td>9.6875</td>\n",
              "      <td>Q</td>\n",
              "    </tr>\n",
              "    <tr>\n",
              "      <th>3</th>\n",
              "      <td>895</td>\n",
              "      <td>0</td>\n",
              "      <td>3</td>\n",
              "      <td>Wirz, Mr. Albert</td>\n",
              "      <td>male</td>\n",
              "      <td>27.0</td>\n",
              "      <td>0</td>\n",
              "      <td>0</td>\n",
              "      <td>315154</td>\n",
              "      <td>8.6625</td>\n",
              "      <td>S</td>\n",
              "    </tr>\n",
              "    <tr>\n",
              "      <th>4</th>\n",
              "      <td>896</td>\n",
              "      <td>1</td>\n",
              "      <td>3</td>\n",
              "      <td>Hirvonen, Mrs. Alexander (Helga E Lindqvist)</td>\n",
              "      <td>female</td>\n",
              "      <td>22.0</td>\n",
              "      <td>1</td>\n",
              "      <td>1</td>\n",
              "      <td>3101298</td>\n",
              "      <td>12.2875</td>\n",
              "      <td>S</td>\n",
              "    </tr>\n",
              "  </tbody>\n",
              "</table>\n",
              "</div>"
            ],
            "text/plain": [
              "   PassengerId  Survived  Pclass  ...   Ticket     Fare  Embarked\n",
              "0          892         0       3  ...   330911   7.8292         Q\n",
              "1          893         1       3  ...   363272   7.0000         S\n",
              "2          894         0       2  ...   240276   9.6875         Q\n",
              "3          895         0       3  ...   315154   8.6625         S\n",
              "4          896         1       3  ...  3101298  12.2875         S\n",
              "\n",
              "[5 rows x 11 columns]"
            ]
          },
          "metadata": {
            "tags": []
          },
          "execution_count": 59
        }
      ]
    },
    {
      "cell_type": "code",
      "metadata": {
        "id": "E1rK0h-ipFVh",
        "colab_type": "code",
        "outputId": "ccf30a7b-2901-41d0-f570-8a52638a5a9c",
        "colab": {
          "base_uri": "https://localhost:8080/",
          "height": 73
        }
      },
      "source": [
        "# test_input_data / test_target_data 생성\n",
        "\n",
        "test_input_data = test_csv_data[ : , [ 2, 4, 5, 6, 7, 9] ].astype('float32')  # Pclass, Sex, Age, SibSp, Parch, Fare\n",
        "\n",
        "test_target_data = test_csv_data[ :, 1 ].astype('float32')\n",
        "\n",
        "print(\"test_input_data.shape = \", test_input_data.shape, \", test_target_data.shape = \", test_target_data.shape)\n",
        "\n",
        "print(test_input_data[1])\n",
        "print(test_target_data[1])"
      ],
      "execution_count": 0,
      "outputs": [
        {
          "output_type": "stream",
          "text": [
            "test_input_data.shape =  (331, 6) , test_target_data.shape =  (331,)\n",
            "[ 3.  0. 47.  1.  0.  7.]\n",
            "1.0\n"
          ],
          "name": "stdout"
        }
      ]
    },
    {
      "cell_type": "markdown",
      "metadata": {
        "id": "GqYdSJMIqzKQ",
        "colab_type": "text"
      },
      "source": [
        "오차역전파 코드 구현"
      ]
    },
    {
      "cell_type": "code",
      "metadata": {
        "id": "7pZrASY_pFRY",
        "colab_type": "code",
        "colab": {}
      },
      "source": [
        "# sigmoid 함수 정의\n",
        "def sigmoid(x):\n",
        "    return 1 / (1+np.exp(-x))"
      ],
      "execution_count": 0,
      "outputs": []
    },
    {
      "cell_type": "code",
      "metadata": {
        "id": "fDwNU_wEpFPz",
        "colab_type": "code",
        "colab": {}
      },
      "source": [
        "from datetime import datetime      # datetime.now() 를 이용하여 학습 경과 시간 측정\n",
        "\n",
        "class Kaggle_Titanic:\n",
        "    \n",
        "    def __init__(self, name, input_nodes, hidden_nodes, output_nodes, learning_rate):\n",
        "        \n",
        "        self.input_nodes = input_nodes\n",
        "        self.hidden_nodes = hidden_nodes\n",
        "        self.output_nodes = output_nodes\n",
        "        \n",
        "        # 은닉층 가중치  W2 = Xavier/He 방법으로 self.W2 가중치 초기화\n",
        "        self.W2 = np.random.randn(self.input_nodes, self.hidden_nodes) / np.sqrt(self.input_nodes/2)\n",
        "        self.b2 = np.random.rand(self.hidden_nodes)      \n",
        "        \n",
        "        # 출력층 가중치는 W3 =  Xavier/He 방법으로 self.W3 가중치 초기화\n",
        "        self.W3 = np.random.randn(self.hidden_nodes, self.output_nodes) / np.sqrt(self.hidden_nodes/2)\n",
        "        self.b3 = np.random.rand(self.output_nodes)      \n",
        "                        \n",
        "        # 출력층 선형회귀 값 Z3, 출력값 A3 정의 (모두 행렬로 표시)\n",
        "        self.Z3 = np.zeros([1,output_nodes])\n",
        "        self.A3 = np.zeros([1,output_nodes])\n",
        "        \n",
        "        # 은닉층 선형회귀 값 Z2, 출력값 A2 정의 (모두 행렬로 표시)\n",
        "        self.Z2 = np.zeros([1,hidden_nodes])\n",
        "        self.A2 = np.zeros([1,hidden_nodes])\n",
        "        \n",
        "        # 입력층 선형회귀 값 Z1, 출력값 A1 정의 (모두 행렬로 표시)\n",
        "        self.Z1 = np.zeros([1,input_nodes])    \n",
        "        self.A1 = np.zeros([1,input_nodes])       \n",
        "        \n",
        "        # 학습률 learning rate 초기화\n",
        "        self.learning_rate = learning_rate\n",
        "        \n",
        "        # name 초기화\n",
        "        self.name = name\n",
        "        \n",
        "        print(self.name, \" object is created !!!\")\n",
        "        \n",
        "    def feed_forward(self):  \n",
        "        \n",
        "        delta = 1e-7    # log 무한대 발산 방지\n",
        "        \n",
        "        # 입력층 선형회귀 값 Z1, 출력값 A1 계산\n",
        "        self.Z1 = self.input_data\n",
        "        self.A1 = self.input_data\n",
        "        \n",
        "        # 은닉층 선형회귀 값 Z2, 출력값 A2 계산    \n",
        "        self.Z2 = np.dot(self.A1, self.W2) + self.b2\n",
        "        self.A2 = sigmoid(self.Z2)\n",
        "        \n",
        "        # 출력층 선형회귀 값 Z3, 출력값 A3 계산\n",
        "        self.Z3 = np.dot(self.A2, self.W3) + self.b3\n",
        "        y = self.A3 = sigmoid(self.Z3)\n",
        "        \n",
        "        return  -np.sum( self.target_data*np.log(y + delta) + (1-self.target_data)*np.log((1 - y)+delta ) )    \n",
        "    \n",
        "    def loss_val(self):\n",
        "        \n",
        "        delta = 1e-7    # log 무한대 발산 방지\n",
        "        \n",
        "        # 입력층 선형회귀 값 Z1, 출력값 A1 계산\n",
        "        self.Z1 = self.input_data\n",
        "        self.A1 = self.input_data\n",
        "        \n",
        "        # 은닉층 선형회귀 값 Z2, 출력값 A2 계산    \n",
        "        self.Z2 = np.dot(self.A1, self.W2) + self.b2\n",
        "        self.A2 = sigmoid(self.Z2)\n",
        "        \n",
        "        # 출력층 선형회귀 값 Z3, 출력값 A3 계산\n",
        "        self.Z3 = np.dot(self.A2, self.W3) + self.b3\n",
        "        y = self.A3 = sigmoid(self.Z3)\n",
        "        \n",
        "        return  -np.sum( self.target_data*np.log(y + delta) + (1-self.target_data)*np.log((1 - y)+delta ) )    \n",
        "    \n",
        "    # accuracy method\n",
        "    def accuracy(self, input_data, target_data):\n",
        "        \n",
        "        matched_list = []\n",
        "                \n",
        "        # list which contains (index, label, prediction) value\n",
        "        index_label_prediction_list = []\n",
        "        \n",
        "        temp_list = []\n",
        "        \n",
        "        for index in range(len(input_data)):\n",
        "            \n",
        "            # predict 를 위해서 vector 을 matrix 로 변환하여 인수로 넘겨줌\n",
        "            # dtype=np.float32 해주지 않으면 sigmoid 에서 Numpy AttributeError: 'float' object has no attribute 'exp' 발생함\n",
        "            # 해결방법 소스\n",
        "            # https://stackoverflow.com/questions/18557337/numpy-attributeerror-float-object-has-no-attribute-exp/18568056\n",
        "            (real_val, predicted_num) = self.predict(np.array(input_data[index], dtype=np.float32, ndmin=2)) \n",
        "            \n",
        "            if predicted_num == target_data[index]:\n",
        "                matched_list.append(index)\n",
        "                \n",
        "            else:\n",
        "                \n",
        "                temp_list.append(index)\n",
        "                temp_list.append(target_data[index])\n",
        "                temp_list.append(predicted_num)\n",
        "                \n",
        "                index_label_prediction_list.append(temp_list)\n",
        "                \n",
        "                temp_list = []\n",
        "                \n",
        "        accuracy_result = len(matched_list) / len(input_data)\n",
        "            \n",
        "        #print(\"Accuracy => \", accuracy_result)\n",
        "            \n",
        "        return accuracy_result, index_label_prediction_list\n",
        "    \n",
        "    # train method\n",
        "    def train(self, input_data, target_data):   \n",
        "        \n",
        "        self.target_data = target_data    \n",
        "        self.input_data = input_data\n",
        "        \n",
        "        # 먼저 feed forward 를 통해서 최종 출력값과 이를 바탕으로 현재의 에러 값 계산\n",
        "        loss_val = self.feed_forward()\n",
        "        \n",
        "        # 출력층 loss 인 loss_3 구함\n",
        "        loss_3 = (self.A3-self.target_data) * self.A3 * (1-self.A3)\n",
        "                        \n",
        "        # 출력층 가중치 W3, 출력층 바이어스 b3 업데이트\n",
        "        self.W3 = self.W3 - self.learning_rate * np.dot(self.A2.T, loss_3)   \n",
        "        \n",
        "        self.b3 = self.b3 - self.learning_rate * loss_3\n",
        "        \n",
        "        # 은닉층 loss 인 loss_2 구함        \n",
        "        loss_2 = np.dot(loss_3, self.W3.T) * self.A2 * (1-self.A2)\n",
        "        \n",
        "        # 은닉층 가중치 W2, 은닉층 바이어스 b2 업데이트\n",
        "        self.W2 = self.W2 - self.learning_rate * np.dot(self.A1.T, loss_2)   \n",
        "        \n",
        "        self.b2 = self.b2 - self.learning_rate * loss_2\n",
        "        \n",
        "        \n",
        "    def predict(self, input_data):        # input_data 는 행렬로 입력됨     \n",
        "        \n",
        "        Z2 = np.dot(input_data, self.W2) + self.b2\n",
        "        A2 = sigmoid(Z2)\n",
        "        \n",
        "        Z3 = np.dot(A2, self.W3) + self.b3\n",
        "        y = A3 = sigmoid(Z3)\n",
        "        \n",
        "        if y >= 0.5:\n",
        "            predicted_num = 1\n",
        "        else:\n",
        "            predicted_num = 0\n",
        "    \n",
        "        return y, predicted_num"
      ],
      "execution_count": 0,
      "outputs": []
    },
    {
      "cell_type": "code",
      "metadata": {
        "id": "t3vTMC0SpFMt",
        "colab_type": "code",
        "outputId": "454ff56d-4a39-4fa0-da4f-84be2ce2bb22",
        "colab": {
          "base_uri": "https://localhost:8080/",
          "height": 1000
        }
      },
      "source": [
        "#hyper-parameter\n",
        "i_nodes = training_input_data.shape[1]    # input nodes 개수\n",
        "h1_nodes = 50  # hidden nodes 개수, 20개, 1e-4 OK\n",
        "o_nodes = 1    # output nodes 개수\n",
        "\n",
        "lr = 1e-4     # learning rate\n",
        "\n",
        "epochs = 200   # 반복횟수\n",
        "\n",
        "# 손실함수 값을 저장할 list 생성\n",
        "loss_val_list = []\n",
        "\n",
        "train_acc_list = []\n",
        "validation_acc_list = []\n",
        "\n",
        "# Kaggle_Titanic 객체 생성\n",
        "titanic_obj = Kaggle_Titanic('Titanic', i_nodes, h1_nodes, o_nodes, lr)\n",
        "\n",
        "print(\"Neural Network Learning using BackPropagation...\")\n",
        "\n",
        "\n",
        "start_time = datetime.now()\n",
        "\n",
        "for i in range(epochs):\n",
        "    \n",
        "    for index in range(len(training_input_data)):\n",
        "        \n",
        "        input_data = training_input_data[index]\n",
        "        target_data = training_target_data[index]\n",
        "        \n",
        "        # dtype=np.float32 해주지 않으면 sigmoid 에서 Numpy AttributeError: 'float' object has no attribute 'exp' 발생함\n",
        "        # 해결방법 소스\n",
        "        # https://stackoverflow.com/questions/18557337/numpy-attributeerror-float-object-has-no-attribute-exp/18568056\n",
        "        titanic_obj.train( np.array(input_data, dtype=np.float32, ndmin=2), np.array([target_data], dtype=np.float32, ndmin=2) )  # 행렬로 입력\n",
        "  \n",
        "    \n",
        "    cur_loss_val = titanic_obj.loss_val()\n",
        "    print(\"epochs = \", i+1, \"loss value = \", cur_loss_val)    \n",
        "    \n",
        "    (train_accuracy_val, index_label_prediction_list) = titanic_obj.accuracy(training_input_data, training_target_data)\n",
        "    (validation_accuracy_val, index_label_prediction_list) = titanic_obj.accuracy(test_input_data, test_target_data)\n",
        "    \n",
        "    train_acc_list.append(train_accuracy_val)\n",
        "    validation_acc_list.append(validation_accuracy_val)\n",
        "    \n",
        "    \n",
        "    # 손실함수 값 저장\n",
        "    loss_val_list.append(cur_loss_val) \n",
        "        \n",
        "\n",
        "end_time = datetime.now()\n",
        "        \n",
        "print(\"\")\n",
        "print(\"Elapsed Time => \", end_time - start_time)"
      ],
      "execution_count": 0,
      "outputs": [
        {
          "output_type": "stream",
          "text": [
            "Titanic  object is created !!!\n",
            "Neural Network Learning using BackPropagation...\n",
            "epochs =  1 loss value =  1.2023803849029884\n",
            "epochs =  2 loss value =  1.115197513352696\n"
          ],
          "name": "stdout"
        },
        {
          "output_type": "stream",
          "text": [
            "/usr/local/lib/python3.6/dist-packages/ipykernel_launcher.py:2: RuntimeWarning: overflow encountered in exp\n",
            "  \n"
          ],
          "name": "stderr"
        },
        {
          "output_type": "stream",
          "text": [
            "epochs =  3 loss value =  1.0365970022554092\n",
            "epochs =  4 loss value =  0.966622974655826\n",
            "epochs =  5 loss value =  0.9049167265403103\n",
            "epochs =  6 loss value =  0.8508502815559961\n",
            "epochs =  7 loss value =  0.8036541784263536\n",
            "epochs =  8 loss value =  0.7625175817991586\n",
            "epochs =  9 loss value =  0.7266551718654547\n",
            "epochs =  10 loss value =  0.6953451059168033\n",
            "epochs =  11 loss value =  0.6679458863642148\n",
            "epochs =  12 loss value =  0.6438997249814927\n",
            "epochs =  13 loss value =  0.622728252863803\n",
            "epochs =  14 loss value =  0.6040245221961895\n",
            "epochs =  15 loss value =  0.5874437187871879\n",
            "epochs =  16 loss value =  0.5726939506747577\n",
            "epochs =  17 loss value =  0.5595278131147611\n",
            "epochs =  18 loss value =  0.5477350300482536\n",
            "epochs =  19 loss value =  0.5371362368598002\n",
            "epochs =  20 loss value =  0.527577836600274\n",
            "epochs =  21 loss value =  0.5189277961626472\n",
            "epochs =  22 loss value =  0.5110722272511791\n",
            "epochs =  23 loss value =  0.5039126022322004\n",
            "epochs =  24 loss value =  0.4973634740689678\n",
            "epochs =  25 loss value =  0.4913505934451291\n",
            "epochs =  26 loss value =  0.48580933935942244\n",
            "epochs =  27 loss value =  0.480683399225842\n",
            "epochs =  28 loss value =  0.4759236500505043\n",
            "epochs =  29 loss value =  0.4714872038789452\n",
            "epochs =  30 loss value =  0.4673365891729685\n",
            "epochs =  31 loss value =  0.4634390459039686\n",
            "epochs =  32 loss value =  0.45976591663108246\n",
            "epochs =  33 loss value =  0.4562921191783685\n",
            "epochs =  34 loss value =  0.4529956890833234\n",
            "epochs =  35 loss value =  0.44985738198678565\n",
            "epochs =  36 loss value =  0.4468603277197682\n",
            "epochs =  37 loss value =  0.4439897291159049\n",
            "epochs =  38 loss value =  0.441232599610437\n",
            "epochs =  39 loss value =  0.438577534532715\n",
            "epochs =  40 loss value =  0.43601451170154604\n",
            "epochs =  41 loss value =  0.43353471752457823\n",
            "epochs =  42 loss value =  0.4311303953084219\n",
            "epochs =  43 loss value =  0.42879471292213767\n",
            "epochs =  44 loss value =  0.4265216473334067\n",
            "epochs =  45 loss value =  0.42430588386097906\n",
            "epochs =  46 loss value =  0.42214272826389065\n",
            "epochs =  47 loss value =  0.42002803002278893\n",
            "epochs =  48 loss value =  0.4179581153680102\n",
            "epochs =  49 loss value =  0.4159297287802673\n",
            "epochs =  50 loss value =  0.4139399818406291\n",
            "epochs =  51 loss value =  0.4119863084437695\n",
            "epochs =  52 loss value =  0.41006642551697486\n",
            "epochs =  53 loss value =  0.40817829850974563\n",
            "epochs =  54 loss value =  0.4063201110348043\n",
            "epochs =  55 loss value =  0.40449023814919244\n",
            "epochs =  56 loss value =  0.40268722286076486\n",
            "epochs =  57 loss value =  0.40090975552757047\n",
            "epochs =  58 loss value =  0.3991566558823924\n",
            "epochs =  59 loss value =  0.3974268574600453\n",
            "epochs =  60 loss value =  0.3957193942296943\n",
            "epochs =  61 loss value =  0.39403338923841597\n",
            "epochs =  62 loss value =  0.3923680450565408\n",
            "epochs =  63 loss value =  0.3907226357833264\n",
            "epochs =  64 loss value =  0.3890965003287696\n",
            "epochs =  65 loss value =  0.3874890366430289\n",
            "epochs =  66 loss value =  0.3858996965289183\n",
            "epochs =  67 loss value =  0.3843279806529373\n",
            "epochs =  68 loss value =  0.38277343336222175\n",
            "epochs =  69 loss value =  0.38123563689109835\n",
            "epochs =  70 loss value =  0.379714204430271\n",
            "epochs =  71 loss value =  0.37820877118642393\n",
            "epochs =  72 loss value =  0.3767189817009861\n",
            "epochs =  73 loss value =  0.37524446987559035\n",
            "epochs =  74 loss value =  0.37378482503054583\n",
            "epochs =  75 loss value =  0.3723395344808891\n",
            "epochs =  76 loss value =  0.3709078998256646\n",
            "epochs =  77 loss value =  0.3694889628973638\n",
            "epochs =  78 loss value =  0.36808155110091106\n",
            "epochs =  79 loss value =  0.366684553972588\n",
            "epochs =  80 loss value =  0.36529734330506547\n",
            "epochs =  81 loss value =  0.3639200181225914\n",
            "epochs =  82 loss value =  0.36255325590100607\n",
            "epochs =  83 loss value =  0.3611979415108436\n",
            "epochs =  84 loss value =  0.35985488089247847\n",
            "epochs =  85 loss value =  0.3585246940025448\n",
            "epochs =  86 loss value =  0.35720781836196436\n",
            "epochs =  87 loss value =  0.35590454832909485\n",
            "epochs =  88 loss value =  0.3546150743102489\n",
            "epochs =  89 loss value =  0.3533395119496433\n",
            "epochs =  90 loss value =  0.35207792155571066\n",
            "epochs =  91 loss value =  0.35083032056372804\n",
            "epochs =  92 loss value =  0.3495966916701137\n",
            "epochs =  93 loss value =  0.34837698848237436\n",
            "epochs =  94 loss value =  0.3471711398033937\n",
            "epochs =  95 loss value =  0.34597905316349703\n",
            "epochs =  96 loss value =  0.3448006179069047\n",
            "epochs =  97 loss value =  0.34363570797085913\n",
            "epochs =  98 loss value =  0.34248418441232226\n",
            "epochs =  99 loss value =  0.34134589770102125\n",
            "epochs =  100 loss value =  0.34022068978556064\n",
            "epochs =  101 loss value =  0.33910839593804865\n",
            "epochs =  102 loss value =  0.33800884638533246\n",
            "epochs =  103 loss value =  0.33692186773827676\n",
            "epochs =  104 loss value =  0.33584728423314\n",
            "epochs =  105 loss value =  0.3347849188007325\n",
            "epochs =  106 loss value =  0.33373459397970656\n",
            "epochs =  107 loss value =  0.33269613269017634\n",
            "epochs =  108 loss value =  0.3316693588832545\n",
            "epochs =  109 loss value =  0.33065409808110446\n",
            "epochs =  110 loss value =  0.32965017782093803\n",
            "epochs =  111 loss value =  0.32865742801516756\n",
            "epochs =  112 loss value =  0.32767568123871016\n",
            "epochs =  113 loss value =  0.3267047729532366\n",
            "epochs =  114 loss value =  0.32574454167709127\n",
            "epochs =  115 loss value =  0.3247948291085701\n",
            "epochs =  116 loss value =  0.3238554802093564\n",
            "epochs =  117 loss value =  0.3229263432540587\n",
            "epochs =  118 loss value =  0.32200726985109585\n",
            "epochs =  119 loss value =  0.3210981149394751\n",
            "epochs =  120 loss value =  0.32019873676547206\n",
            "epochs =  121 loss value =  0.3193089968426783\n",
            "epochs =  122 loss value =  0.31842875989842906\n",
            "epochs =  123 loss value =  0.3175578938092451\n",
            "epochs =  124 loss value =  0.31669626952754587\n",
            "epochs =  125 loss value =  0.315843761001588\n",
            "epochs =  126 loss value =  0.3150002450903124\n",
            "epochs =  127 loss value =  0.31416560147454736\n",
            "epochs =  128 loss value =  0.31333971256578924\n",
            "epochs =  129 loss value =  0.31252246341360973\n",
            "epochs =  130 loss value =  0.31171374161257653\n",
            "epochs =  131 loss value =  0.31091343720942505\n",
            "epochs =  132 loss value =  0.3101214426111045\n",
            "epochs =  133 loss value =  0.3093376524942108\n",
            "epochs =  134 loss value =  0.3085619637162192\n",
            "epochs =  135 loss value =  0.3077942752288699\n",
            "epochs =  136 loss value =  0.30703448799395744\n",
            "epochs =  137 loss value =  0.30628250490174996\n",
            "epochs =  138 loss value =  0.30553823069218927\n",
            "epochs =  139 loss value =  0.30480157187898393\n",
            "epochs =  140 loss value =  0.3040724366766794\n",
            "epochs =  141 loss value =  0.30335073493074494\n",
            "epochs =  142 loss value =  0.30263637805070004\n",
            "epochs =  143 loss value =  0.3019292789462691\n",
            "epochs =  144 loss value =  0.3012293519665487\n",
            "epochs =  145 loss value =  0.3005365128421416\n",
            "epochs =  146 loss value =  0.299850678630211\n",
            "epochs =  147 loss value =  0.29917176766238474\n",
            "epochs =  148 loss value =  0.29849969949544025\n",
            "epochs =  149 loss value =  0.29783439486469415\n",
            "epochs =  150 loss value =  0.2971757756400001\n",
            "epochs =  151 loss value =  0.2965237647842825\n",
            "epochs =  152 loss value =  0.29587828631449137\n",
            "epochs =  153 loss value =  0.29523926526490746\n",
            "epochs =  154 loss value =  0.2946066276526778\n",
            "epochs =  155 loss value =  0.2939803004455\n",
            "epochs =  156 loss value =  0.2933602115313491\n",
            "epochs =  157 loss value =  0.2927462896901588\n",
            "epochs =  158 loss value =  0.2921384645673468\n",
            "epochs =  159 loss value =  0.2915366666491036\n",
            "epochs =  160 loss value =  0.290940827239341\n",
            "epochs =  161 loss value =  0.2903508784382167\n",
            "epochs =  162 loss value =  0.28976675312213496\n",
            "epochs =  163 loss value =  0.28918838492515103\n",
            "epochs =  164 loss value =  0.28861570822168303\n",
            "epochs =  165 loss value =  0.28804865811045066\n",
            "epochs =  166 loss value =  0.2874871703995722\n",
            "epochs =  167 loss value =  0.28693118159273184\n",
            "epochs =  168 loss value =  0.2863806288763497\n",
            "epochs =  169 loss value =  0.2858354501076866\n",
            "epochs =  170 loss value =  0.28529558380381215\n",
            "epochs =  171 loss value =  0.28476096913137605\n",
            "epochs =  172 loss value =  0.2842315458971274\n",
            "epochs =  173 loss value =  0.2837072545391029\n",
            "epochs =  174 loss value =  0.2831880361184611\n",
            "epochs =  175 loss value =  0.28267383231188536\n",
            "epochs =  176 loss value =  0.2821645854045219\n",
            "epochs =  177 loss value =  0.2816602382833933\n",
            "epochs =  178 loss value =  0.2811607344312627\n",
            "epochs =  179 loss value =  0.28066601792089074\n",
            "epochs =  180 loss value =  0.2801760334096561\n",
            "epochs =  181 loss value =  0.27969072613450674\n",
            "epochs =  182 loss value =  0.27921004190719756\n",
            "epochs =  183 loss value =  0.27873392710980127\n",
            "epochs =  184 loss value =  0.2782623286904429\n",
            "epochs =  185 loss value =  0.2777951941592491\n",
            "epochs =  186 loss value =  0.27733247158447977\n",
            "epochs =  187 loss value =  0.2768741095888204\n",
            "epochs =  188 loss value =  0.2764200573458127\n",
            "epochs =  189 loss value =  0.2759702645764093\n",
            "epochs =  190 loss value =  0.27552468154562887\n",
            "epochs =  191 loss value =  0.2750832590592992\n",
            "epochs =  192 loss value =  0.2746459484608782\n",
            "epochs =  193 loss value =  0.2742127016283228\n",
            "epochs =  194 loss value =  0.2737834709710167\n",
            "epochs =  195 loss value =  0.27335820942672767\n",
            "epochs =  196 loss value =  0.27293687045859133\n",
            "epochs =  197 loss value =  0.27251940805211766\n",
            "epochs =  198 loss value =  0.2721057767121995\n",
            "epochs =  199 loss value =  0.27169593146013027\n",
            "epochs =  200 loss value =  0.27128982783061034\n",
            "\n",
            "Elapsed Time =>  0:00:15.580628\n"
          ],
          "name": "stdout"
        }
      ]
    },
    {
      "cell_type": "code",
      "metadata": {
        "id": "Ab82G3zYpFLM",
        "colab_type": "code",
        "outputId": "f0015c10-d844-41b0-c635-d94fe2f5f8a6",
        "colab": {
          "base_uri": "https://localhost:8080/",
          "height": 281
        }
      },
      "source": [
        "plt.title('Loss Value Trend')\n",
        "plt.grid()\n",
        "plt.plot(loss_val_list)\n",
        "plt.show()"
      ],
      "execution_count": 0,
      "outputs": [
        {
          "output_type": "display_data",
          "data": {
            "image/png": "[encoded data removed]",
            "text/plain": [
              "<Figure size 432x288 with 1 Axes>"
            ]
          },
          "metadata": {
            "tags": [],
            "needs_background": "light"
          }
        }
      ]
    },
    {
      "cell_type": "code",
      "metadata": {
        "id": "TBletSWypFHy",
        "colab_type": "code",
        "outputId": "306db254-3225-4f06-95fa-f630950de2ad",
        "colab": {
          "base_uri": "https://localhost:8080/",
          "height": 295
        }
      },
      "source": [
        "plt.title('Training / Validation Accuracy Trend')\n",
        "plt.xlabel('epochs')\n",
        "plt.ylabel('Accuracy')\n",
        "plt.grid()\n",
        "plt.plot(train_acc_list)\n",
        "plt.plot(validation_acc_list)\n",
        "plt.legend(['training acc', 'validation acc'])\n",
        "\n",
        "plt.show()"
      ],
      "execution_count": 0,
      "outputs": [
        {
          "output_type": "display_data",
          "data": {
            "image/png": "[encoded data removed]",
            "text/plain": [
              "<Figure size 432x288 with 1 Axes>"
            ]
          },
          "metadata": {
            "tags": [],
            "needs_background": "light"
          }
        }
      ]
    },
    {
      "cell_type": "code",
      "metadata": {
        "id": "7JYo8FXvnA37",
        "colab_type": "code",
        "outputId": "ac07b782-231f-4a76-932b-b2426c5188d2",
        "colab": {
          "base_uri": "https://localhost:8080/",
          "height": 93
        }
      },
      "source": [
        "(accuracy_val, index_label_prediction_list) = titanic_obj.accuracy(test_input_data, test_target_data)\n",
        "\n",
        "print('Accuracy = ', 100*np.round(accuracy_val, 3), ' %')"
      ],
      "execution_count": 0,
      "outputs": [
        {
          "output_type": "stream",
          "text": [
            "Accuracy =  61.6  %\n"
          ],
          "name": "stdout"
        },
        {
          "output_type": "stream",
          "text": [
            "/usr/local/lib/python3.6/dist-packages/ipykernel_launcher.py:2: RuntimeWarning: overflow encountered in exp\n",
            "  \n"
          ],
          "name": "stderr"
        }
      ]
    },
    {
      "cell_type": "code",
      "metadata": {
        "id": "ZGrJ7FTbnA2d",
        "colab_type": "code",
        "outputId": "85ba71fb-89bd-48c4-e18e-3f523019a693",
        "colab": {
          "base_uri": "https://localhost:8080/",
          "height": 55
        }
      },
      "source": [
        "# 디카프리오, 윈슬렛 예측\n",
        "dicaprio = np.array([3., 1., 19., 0., 0.,   5.]).reshape(1,6)    # Pclass, Sex, Age, SibSp, Parch, Fare, \n",
        "winslet  = np.array([1., 0., 17., 1., 2., 100.]).reshape(1,6)    # Pclass, Sex, Age, SibSp, Parch, Fare, \n",
        "\n",
        "(d_probability, alive_or_dead) = titanic_obj.predict(dicaprio)\n",
        "\n",
        "print(d_probability, alive_or_dead)\n",
        "\n",
        "(w_probability, alive_or_dead) = titanic_obj.predict(winslet)\n",
        "\n",
        "print(w_probability, alive_or_dead)"
      ],
      "execution_count": 0,
      "outputs": [
        {
          "output_type": "stream",
          "text": [
            "[[0.24590116]] 0\n",
            "[[0.62974036]] 1\n"
          ],
          "name": "stdout"
        }
      ]
    },
    {
      "cell_type": "code",
      "metadata": {
        "id": "npO3w6EMnAvc",
        "colab_type": "code",
        "colab": {}
      },
      "source": [
        "# missing data 를 mean이나 median 값으로 채워줬을 때 정확도가 더 높음\n",
        "# missing data 를 제거하면 정확도가 4%나 낮아진 것을 볼 수 있다."
      ],
      "execution_count": 0,
      "outputs": []
    }
  ]
}