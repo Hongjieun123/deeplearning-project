{
  "nbformat": 4,
  "nbformat_minor": 0,
  "metadata": {
    "colab": {
      "name": "CNN_example_3_1(first_conv_layer_3x3, filter_num_=_128)",
      "provenance": [],
      "authorship_tag": "ABX9TyOcI4J+67QLGF02h8HnyJPd",
      "include_colab_link": true
    },
    "kernelspec": {
      "name": "python3",
      "display_name": "Python 3"
    }
  },
  "cells": [
    {
      "cell_type": "markdown",
      "metadata": {
        "id": "view-in-github",
        "colab_type": "text"
      },
      "source": [
        "<a href=\"https://colab.research.google.com/github/Hongjieun123/deeplearning-project/blob/master/CNN_example_3_1(first_conv_layer_3x3%2C_filter_num_%3D_128).ipynb\" target=\"_parent\"><img src=\"https://colab.research.google.com/assets/colab-badge.svg\" alt=\"Open In Colab\"/></a>"
      ]
    },
    {
      "cell_type": "code",
      "metadata": {
        "id": "9TLAp8-yg6xn",
        "colab_type": "code",
        "outputId": "31f43e04-7897-4833-d109-2984002f8e0a",
        "colab": {
          "base_uri": "https://localhost:8080/",
          "height": 36
        }
      },
      "source": [
        "# Colab에서 tensorflow 1.x 실행\n",
        "%tensorflow_version 1.x"
      ],
      "execution_count": 1,
      "outputs": [
        {
          "output_type": "stream",
          "text": [
            "TensorFlow 1.x selected.\n"
          ],
          "name": "stdout"
        }
      ]
    },
    {
      "cell_type": "code",
      "metadata": {
        "id": "4fb19Ozcfr7e",
        "colab_type": "code",
        "outputId": "5780871c-25fb-4531-c2b3-f00b24c810eb",
        "colab": {
          "base_uri": "https://localhost:8080/",
          "height": 709
        }
      },
      "source": [
        "import tensorflow as tf\n",
        "from tensorflow.examples.tutorials.mnist import input_data\n",
        "import numpy as np\n",
        "from datetime import datetime\n",
        "\n",
        "mnist = input_data.read_data_sets('MNIST_data/', one_hot=True)\n",
        "\n",
        "print('\\n', mnist.train.num_examples, mnist.test.num_examples, mnist.validation.num_examples)\n",
        "\n",
        "print('\\ntrain image shape = ', np.shape(mnist.train.images))\n",
        "print('train label shape = ', np.shape(mnist.train.labels))\n",
        "print('test image shape = ', np.shape(mnist.test.images))\n",
        "print('test label shape = ', np.shape(mnist.test.labels))"
      ],
      "execution_count": 2,
      "outputs": [
        {
          "output_type": "stream",
          "text": [
            "WARNING:tensorflow:From <ipython-input-2-b4762e5f4068>:6: read_data_sets (from tensorflow.contrib.learn.python.learn.datasets.mnist) is deprecated and will be removed in a future version.\n",
            "Instructions for updating:\n",
            "Please use alternatives such as official/mnist/dataset.py from tensorflow/models.\n",
            "WARNING:tensorflow:From /tensorflow-1.15.2/python3.6/tensorflow_core/contrib/learn/python/learn/datasets/mnist.py:260: maybe_download (from tensorflow.contrib.learn.python.learn.datasets.base) is deprecated and will be removed in a future version.\n",
            "Instructions for updating:\n",
            "Please write your own downloading logic.\n",
            "WARNING:tensorflow:From /tensorflow-1.15.2/python3.6/tensorflow_core/contrib/learn/python/learn/datasets/base.py:252: _internal_retry.<locals>.wrap.<locals>.wrapped_fn (from tensorflow.contrib.learn.python.learn.datasets.base) is deprecated and will be removed in a future version.\n",
            "Instructions for updating:\n",
            "Please use urllib or similar directly.\n",
            "Successfully downloaded train-images-idx3-ubyte.gz 9912422 bytes.\n",
            "WARNING:tensorflow:From /tensorflow-1.15.2/python3.6/tensorflow_core/contrib/learn/python/learn/datasets/mnist.py:262: extract_images (from tensorflow.contrib.learn.python.learn.datasets.mnist) is deprecated and will be removed in a future version.\n",
            "Instructions for updating:\n",
            "Please use tf.data to implement this functionality.\n",
            "Extracting MNIST_data/train-images-idx3-ubyte.gz\n",
            "Successfully downloaded train-labels-idx1-ubyte.gz 28881 bytes.\n",
            "WARNING:tensorflow:From /tensorflow-1.15.2/python3.6/tensorflow_core/contrib/learn/python/learn/datasets/mnist.py:267: extract_labels (from tensorflow.contrib.learn.python.learn.datasets.mnist) is deprecated and will be removed in a future version.\n",
            "Instructions for updating:\n",
            "Please use tf.data to implement this functionality.\n",
            "Extracting MNIST_data/train-labels-idx1-ubyte.gz\n",
            "WARNING:tensorflow:From /tensorflow-1.15.2/python3.6/tensorflow_core/contrib/learn/python/learn/datasets/mnist.py:110: dense_to_one_hot (from tensorflow.contrib.learn.python.learn.datasets.mnist) is deprecated and will be removed in a future version.\n",
            "Instructions for updating:\n",
            "Please use tf.one_hot on tensors.\n",
            "Successfully downloaded t10k-images-idx3-ubyte.gz 1648877 bytes.\n",
            "Extracting MNIST_data/t10k-images-idx3-ubyte.gz\n",
            "Successfully downloaded t10k-labels-idx1-ubyte.gz 4542 bytes.\n",
            "Extracting MNIST_data/t10k-labels-idx1-ubyte.gz\n",
            "WARNING:tensorflow:From /tensorflow-1.15.2/python3.6/tensorflow_core/contrib/learn/python/learn/datasets/mnist.py:290: DataSet.__init__ (from tensorflow.contrib.learn.python.learn.datasets.mnist) is deprecated and will be removed in a future version.\n",
            "Instructions for updating:\n",
            "Please use alternatives such as official/mnist/dataset.py from tensorflow/models.\n",
            "\n",
            " 55000 10000 5000\n",
            "\n",
            "train image shape =  (55000, 784)\n",
            "train label shape =  (55000, 10)\n",
            "test image shape =  (10000, 784)\n",
            "test label shape =  (10000, 10)\n"
          ],
          "name": "stdout"
        }
      ]
    },
    {
      "cell_type": "code",
      "metadata": {
        "id": "kucoYqrhg62s",
        "colab_type": "code",
        "colab": {}
      },
      "source": [
        "learning_rate = 0.001\n",
        "epochs = 30\n",
        "batch_size = 100"
      ],
      "execution_count": 0,
      "outputs": []
    },
    {
      "cell_type": "code",
      "metadata": {
        "id": "ZJCDz_-5hIRE",
        "colab_type": "code",
        "colab": {}
      },
      "source": [
        "X = tf.placeholder(tf.float32, [None, 784])\n",
        "\n",
        "A1 = X_img = tf.reshape(X,[-1, 28, 28, 1])\n",
        "\n",
        "T = tf.placeholder(tf.float32, [None, 10])  # image 28 X 28 X 1 (black/white)"
      ],
      "execution_count": 0,
      "outputs": []
    },
    {
      "cell_type": "code",
      "metadata": {
        "id": "z8LTazY_hIhD",
        "colab_type": "code",
        "colab": {}
      },
      "source": [
        "# 1번째 컨볼루션 층\n",
        "# 3X3 크기를 가지는 128개의 필터를 적용\n",
        "\n",
        "F2 = tf.Variable(tf.random_normal([3, 3, 1, 128], stddev=0.01))  \n",
        "b2 = tf.Variable(tf.constant(0.1, shape=[128]))   \n",
        "\n",
        "# 1번째 컨볼루션 연산을 통해 28 X 28 X1  => 28 X 28 X 128\n",
        "C2 = tf.nn.conv2d(A1, F2, strides=[1, 1, 1, 1], padding='SAME')\n",
        "\n",
        "# relu\n",
        "Z2 = tf.nn.relu(C2+b2)\n",
        "\n",
        "# 1번째 max pooling을 통해 28 X 28 X 128  => 14 X 14 X 128 \n",
        "A2 = P2 = tf.nn.max_pool(Z2, ksize=[1, 2, 2, 1], strides=[1, 2, 2, 1], padding='SAME')"
      ],
      "execution_count": 0,
      "outputs": []
    },
    {
      "cell_type": "code",
      "metadata": {
        "id": "DjowEnvMhIeM",
        "colab_type": "code",
        "colab": {}
      },
      "source": [
        "# 14X14 크기를 가진 128개의 activation map을 flatten 시킴\n",
        "A2_flat = P2_flat = tf.reshape(A2, [-1, 128*14*14])"
      ],
      "execution_count": 0,
      "outputs": []
    },
    {
      "cell_type": "code",
      "metadata": {
        "id": "knDdM85whIbt",
        "colab_type": "code",
        "colab": {}
      },
      "source": [
        "# 출력층\n",
        "W3 = tf.Variable(tf.random_normal([128*14*14, 10], stddev=0.01))\n",
        "b3 = tf.Variable(tf.random_normal([10]))\n",
        "\n",
        "# 출력층 선형회귀  값 Z3, 즉 softmax 에 들어가는 입력 값\n",
        "Z3 = logits = tf.matmul(A2_flat, W3) + b3    # 선형회귀 값 Z3\n",
        "\n",
        "y = A3 = tf.nn.softmax(Z3)"
      ],
      "execution_count": 0,
      "outputs": []
    },
    {
      "cell_type": "code",
      "metadata": {
        "id": "JZ7GujmahIYG",
        "colab_type": "code",
        "colab": {}
      },
      "source": [
        "loss = tf.reduce_mean( tf.nn.softmax_cross_entropy_with_logits_v2(logits=Z3, labels=T) )\n",
        "\n",
        "optimizer = tf.train.AdamOptimizer(learning_rate)\n",
        "\n",
        "train = optimizer.minimize(loss)"
      ],
      "execution_count": 0,
      "outputs": []
    },
    {
      "cell_type": "code",
      "metadata": {
        "id": "8FruHz2rhIMs",
        "colab_type": "code",
        "colab": {}
      },
      "source": [
        "# batch_size X 10 데이터에 대해 argmax를 통해 행단위로 비교함\n",
        "predicted_val = tf.equal( tf.argmax(A3, 1), tf.argmax(T, 1) )\n",
        "\n",
        "# batch_size X 10 의 True, False 를 1 또는 0 으로 변환\n",
        "accuracy = tf.reduce_mean(tf.cast(predicted_val, dtype=tf.float32))\n",
        "\n",
        "# index list 출력\n",
        "accuracy_index = tf.cast(predicted_val, dtype=tf.float32)\n",
        "\n",
        "# 예측값 처리\n",
        "predicted_list = tf.argmax(A3, 1)"
      ],
      "execution_count": 0,
      "outputs": []
    },
    {
      "cell_type": "code",
      "metadata": {
        "id": "O4qxYaQUhIKo",
        "colab_type": "code",
        "outputId": "6fd48fb3-f8c5-429b-c35d-f3e4ad93a500",
        "colab": {
          "base_uri": "https://localhost:8080/",
          "height": 1000
        }
      },
      "source": [
        "index_label_prediction_list = []\n",
        "with  tf.Session()  as sess:\n",
        "    \n",
        "    sess.run(tf.global_variables_initializer())  # 변수 노드(tf.Variable) 초기화\n",
        "    \n",
        "    start_time = datetime.now()\n",
        "    \n",
        "    for i in range(epochs):    # 30 번 반복수행\n",
        "        \n",
        "        total_batch = int(mnist.train.num_examples / batch_size)  # 55,000 / 100\n",
        "\n",
        "        for step in range(total_batch):\n",
        "            \n",
        "            batch_x_data, batch_t_data = mnist.train.next_batch(batch_size)\n",
        "      \n",
        "            loss_val, _ = sess.run([loss, train], feed_dict={X: batch_x_data, T: batch_t_data})    \n",
        "        \n",
        "            if step % 100 == 0:\n",
        "                print(\"epochs = \", i, \", step = \", step, \", loss_val = \", loss_val)             \n",
        "    \n",
        "    end_time = datetime.now() \n",
        "    \n",
        "    print(\"\\nelapsed time = \", end_time - start_time) \n",
        "    \n",
        "    # Accuracy 확인\n",
        "    test_x_data = mnist.test.images    # 10000 X 784\n",
        "    test_t_data = mnist.test.labels    # 10000 X 10\n",
        "    \n",
        "    accuracy_val, predicted_list_val, index_label = sess.run([accuracy, predicted_list, accuracy_index], feed_dict={X: test_x_data, T: test_t_data})\n",
        "    \n",
        "    print(\"\\nAccuracy = \", accuracy_val)\n",
        "    print(\"type(accuracy_val) = \", type(accuracy_val), ', type(predicted_list_val) = ', type(predicted_list_val), ', type(index_label) = ', type(index_label))\n",
        "    print(\"index_label.shape = \", index_label.shape)\n",
        "    \n",
        "    index_label_list = list(index_label)\n",
        "    print(\"length of index_label_list = \", len(index_label_list))\n",
        "    print(\"false label count = \", index_label_list.count([0]))\n",
        "        \n",
        "    \n",
        "    temp_list = [] \n",
        "    \n",
        "    for index in range(len(index_label)):\n",
        "        \n",
        "        if index_label[index] == 0:\n",
        "            \n",
        "            temp_list.append(index)\n",
        "            temp_list.append(np.argmax(test_t_data[index]))  # one-hot encoding 이므로 argmax 로 정답 추출\n",
        "            temp_list.append(predicted_list_val[index])\n",
        "            \n",
        "            index_label_prediction_list.append(temp_list)\n",
        "            \n",
        "            temp_list = []\n",
        "            \n",
        "    print(\"\\nlength of index_label_false_list\", len(index_label_prediction_list))"
      ],
      "execution_count": 11,
      "outputs": [
        {
          "output_type": "stream",
          "text": [
            "epochs =  0 , step =  0 , loss_val =  2.8909009\n",
            "epochs =  0 , step =  100 , loss_val =  0.48529708\n",
            "epochs =  0 , step =  200 , loss_val =  0.6492524\n",
            "epochs =  0 , step =  300 , loss_val =  0.29810026\n",
            "epochs =  0 , step =  400 , loss_val =  0.40416503\n",
            "epochs =  0 , step =  500 , loss_val =  0.29557872\n",
            "epochs =  1 , step =  0 , loss_val =  0.16725583\n",
            "epochs =  1 , step =  100 , loss_val =  0.119322985\n",
            "epochs =  1 , step =  200 , loss_val =  0.06788025\n",
            "epochs =  1 , step =  300 , loss_val =  0.17502211\n",
            "epochs =  1 , step =  400 , loss_val =  0.22795604\n",
            "epochs =  1 , step =  500 , loss_val =  0.13312212\n",
            "epochs =  2 , step =  0 , loss_val =  0.07215739\n",
            "epochs =  2 , step =  100 , loss_val =  0.028775988\n",
            "epochs =  2 , step =  200 , loss_val =  0.23495756\n",
            "epochs =  2 , step =  300 , loss_val =  0.05447456\n",
            "epochs =  2 , step =  400 , loss_val =  0.12176958\n",
            "epochs =  2 , step =  500 , loss_val =  0.042802133\n",
            "epochs =  3 , step =  0 , loss_val =  0.07009344\n",
            "epochs =  3 , step =  100 , loss_val =  0.056814503\n",
            "epochs =  3 , step =  200 , loss_val =  0.035716325\n",
            "epochs =  3 , step =  300 , loss_val =  0.16482155\n",
            "epochs =  3 , step =  400 , loss_val =  0.08237294\n",
            "epochs =  3 , step =  500 , loss_val =  0.1416381\n",
            "epochs =  4 , step =  0 , loss_val =  0.07791669\n",
            "epochs =  4 , step =  100 , loss_val =  0.020447196\n",
            "epochs =  4 , step =  200 , loss_val =  0.02418796\n",
            "epochs =  4 , step =  300 , loss_val =  0.07789945\n",
            "epochs =  4 , step =  400 , loss_val =  0.045360483\n",
            "epochs =  4 , step =  500 , loss_val =  0.03539408\n",
            "epochs =  5 , step =  0 , loss_val =  0.015126318\n",
            "epochs =  5 , step =  100 , loss_val =  0.028035682\n",
            "epochs =  5 , step =  200 , loss_val =  0.04152077\n",
            "epochs =  5 , step =  300 , loss_val =  0.056479063\n",
            "epochs =  5 , step =  400 , loss_val =  0.05092164\n",
            "epochs =  5 , step =  500 , loss_val =  0.012810852\n",
            "epochs =  6 , step =  0 , loss_val =  0.037037157\n",
            "epochs =  6 , step =  100 , loss_val =  0.016586864\n",
            "epochs =  6 , step =  200 , loss_val =  0.002893521\n",
            "epochs =  6 , step =  300 , loss_val =  0.009594996\n",
            "epochs =  6 , step =  400 , loss_val =  0.013536611\n",
            "epochs =  6 , step =  500 , loss_val =  0.038279653\n",
            "epochs =  7 , step =  0 , loss_val =  0.010660264\n",
            "epochs =  7 , step =  100 , loss_val =  0.13984987\n",
            "epochs =  7 , step =  200 , loss_val =  0.077634186\n",
            "epochs =  7 , step =  300 , loss_val =  0.015356481\n",
            "epochs =  7 , step =  400 , loss_val =  0.008482376\n",
            "epochs =  7 , step =  500 , loss_val =  0.03390833\n",
            "epochs =  8 , step =  0 , loss_val =  0.025150962\n",
            "epochs =  8 , step =  100 , loss_val =  0.021431113\n",
            "epochs =  8 , step =  200 , loss_val =  0.03356992\n",
            "epochs =  8 , step =  300 , loss_val =  0.061337188\n",
            "epochs =  8 , step =  400 , loss_val =  0.072116904\n",
            "epochs =  8 , step =  500 , loss_val =  0.021730378\n",
            "epochs =  9 , step =  0 , loss_val =  0.014103814\n",
            "epochs =  9 , step =  100 , loss_val =  0.014810297\n",
            "epochs =  9 , step =  200 , loss_val =  0.022034204\n",
            "epochs =  9 , step =  300 , loss_val =  0.011215197\n",
            "epochs =  9 , step =  400 , loss_val =  0.040886693\n",
            "epochs =  9 , step =  500 , loss_val =  0.0029396152\n",
            "epochs =  10 , step =  0 , loss_val =  0.016139382\n",
            "epochs =  10 , step =  100 , loss_val =  0.029678486\n",
            "epochs =  10 , step =  200 , loss_val =  0.022887139\n",
            "epochs =  10 , step =  300 , loss_val =  0.027040437\n",
            "epochs =  10 , step =  400 , loss_val =  0.03999329\n",
            "epochs =  10 , step =  500 , loss_val =  0.002459845\n",
            "epochs =  11 , step =  0 , loss_val =  0.014876681\n",
            "epochs =  11 , step =  100 , loss_val =  0.048633233\n",
            "epochs =  11 , step =  200 , loss_val =  0.031617597\n",
            "epochs =  11 , step =  300 , loss_val =  0.028469875\n",
            "epochs =  11 , step =  400 , loss_val =  0.00642683\n",
            "epochs =  11 , step =  500 , loss_val =  0.016258568\n",
            "epochs =  12 , step =  0 , loss_val =  0.014231414\n",
            "epochs =  12 , step =  100 , loss_val =  0.02581133\n",
            "epochs =  12 , step =  200 , loss_val =  0.016374897\n",
            "epochs =  12 , step =  300 , loss_val =  0.014198779\n",
            "epochs =  12 , step =  400 , loss_val =  0.0031703704\n",
            "epochs =  12 , step =  500 , loss_val =  0.014709041\n",
            "epochs =  13 , step =  0 , loss_val =  0.006167774\n",
            "epochs =  13 , step =  100 , loss_val =  0.026250169\n",
            "epochs =  13 , step =  200 , loss_val =  0.01578658\n",
            "epochs =  13 , step =  300 , loss_val =  0.015221188\n",
            "epochs =  13 , step =  400 , loss_val =  0.040927593\n",
            "epochs =  13 , step =  500 , loss_val =  0.017742405\n",
            "epochs =  14 , step =  0 , loss_val =  0.02179849\n",
            "epochs =  14 , step =  100 , loss_val =  0.008983842\n",
            "epochs =  14 , step =  200 , loss_val =  0.05330116\n",
            "epochs =  14 , step =  300 , loss_val =  0.007698018\n",
            "epochs =  14 , step =  400 , loss_val =  0.0020673142\n",
            "epochs =  14 , step =  500 , loss_val =  0.0031034714\n",
            "epochs =  15 , step =  0 , loss_val =  0.023817558\n",
            "epochs =  15 , step =  100 , loss_val =  0.006009331\n",
            "epochs =  15 , step =  200 , loss_val =  0.0034203252\n",
            "epochs =  15 , step =  300 , loss_val =  0.0028558648\n",
            "epochs =  15 , step =  400 , loss_val =  0.0046569314\n",
            "epochs =  15 , step =  500 , loss_val =  0.014378022\n",
            "epochs =  16 , step =  0 , loss_val =  0.0041235243\n",
            "epochs =  16 , step =  100 , loss_val =  0.00850881\n",
            "epochs =  16 , step =  200 , loss_val =  0.014565693\n",
            "epochs =  16 , step =  300 , loss_val =  0.0030575132\n",
            "epochs =  16 , step =  400 , loss_val =  0.026745167\n",
            "epochs =  16 , step =  500 , loss_val =  0.0023015\n",
            "epochs =  17 , step =  0 , loss_val =  0.00936021\n",
            "epochs =  17 , step =  100 , loss_val =  0.00072293327\n",
            "epochs =  17 , step =  200 , loss_val =  0.005320227\n",
            "epochs =  17 , step =  300 , loss_val =  0.059671424\n",
            "epochs =  17 , step =  400 , loss_val =  0.019658584\n",
            "epochs =  17 , step =  500 , loss_val =  0.012458128\n",
            "epochs =  18 , step =  0 , loss_val =  0.0021157903\n",
            "epochs =  18 , step =  100 , loss_val =  0.0022873557\n",
            "epochs =  18 , step =  200 , loss_val =  0.0029437833\n",
            "epochs =  18 , step =  300 , loss_val =  0.0002971763\n",
            "epochs =  18 , step =  400 , loss_val =  0.0015910062\n",
            "epochs =  18 , step =  500 , loss_val =  0.0022373968\n",
            "epochs =  19 , step =  0 , loss_val =  0.002635435\n",
            "epochs =  19 , step =  100 , loss_val =  0.0011117671\n",
            "epochs =  19 , step =  200 , loss_val =  0.004170751\n",
            "epochs =  19 , step =  300 , loss_val =  0.0021639927\n",
            "epochs =  19 , step =  400 , loss_val =  0.025966242\n",
            "epochs =  19 , step =  500 , loss_val =  0.0069893403\n",
            "epochs =  20 , step =  0 , loss_val =  0.00030393674\n",
            "epochs =  20 , step =  100 , loss_val =  0.0008287304\n",
            "epochs =  20 , step =  200 , loss_val =  0.009353862\n",
            "epochs =  20 , step =  300 , loss_val =  0.003275468\n",
            "epochs =  20 , step =  400 , loss_val =  0.0012131579\n",
            "epochs =  20 , step =  500 , loss_val =  0.0022765023\n",
            "epochs =  21 , step =  0 , loss_val =  0.005037347\n",
            "epochs =  21 , step =  100 , loss_val =  0.0014920639\n",
            "epochs =  21 , step =  200 , loss_val =  0.0045605754\n",
            "epochs =  21 , step =  300 , loss_val =  0.0010378619\n",
            "epochs =  21 , step =  400 , loss_val =  0.0017930806\n",
            "epochs =  21 , step =  500 , loss_val =  0.005390997\n",
            "epochs =  22 , step =  0 , loss_val =  0.002786198\n",
            "epochs =  22 , step =  100 , loss_val =  0.0067042834\n",
            "epochs =  22 , step =  200 , loss_val =  0.00032333887\n",
            "epochs =  22 , step =  300 , loss_val =  0.0026277034\n",
            "epochs =  22 , step =  400 , loss_val =  0.0033737666\n",
            "epochs =  22 , step =  500 , loss_val =  0.00462907\n",
            "epochs =  23 , step =  0 , loss_val =  0.0010167114\n",
            "epochs =  23 , step =  100 , loss_val =  0.0013751735\n",
            "epochs =  23 , step =  200 , loss_val =  0.0007259885\n",
            "epochs =  23 , step =  300 , loss_val =  0.0037608906\n",
            "epochs =  23 , step =  400 , loss_val =  0.0013377968\n",
            "epochs =  23 , step =  500 , loss_val =  0.0012143063\n",
            "epochs =  24 , step =  0 , loss_val =  0.0044718464\n",
            "epochs =  24 , step =  100 , loss_val =  0.0009406488\n",
            "epochs =  24 , step =  200 , loss_val =  0.0010166427\n",
            "epochs =  24 , step =  300 , loss_val =  6.955624e-05\n",
            "epochs =  24 , step =  400 , loss_val =  0.00017078951\n",
            "epochs =  24 , step =  500 , loss_val =  0.0021670032\n",
            "epochs =  25 , step =  0 , loss_val =  0.00043764853\n",
            "epochs =  25 , step =  100 , loss_val =  0.00022233684\n",
            "epochs =  25 , step =  200 , loss_val =  0.0021896372\n",
            "epochs =  25 , step =  300 , loss_val =  0.0018730223\n",
            "epochs =  25 , step =  400 , loss_val =  0.0064658523\n",
            "epochs =  25 , step =  500 , loss_val =  0.004270457\n",
            "epochs =  26 , step =  0 , loss_val =  0.00021640777\n",
            "epochs =  26 , step =  100 , loss_val =  0.0014110521\n",
            "epochs =  26 , step =  200 , loss_val =  0.0012720074\n",
            "epochs =  26 , step =  300 , loss_val =  0.0045759245\n",
            "epochs =  26 , step =  400 , loss_val =  0.00086243404\n",
            "epochs =  26 , step =  500 , loss_val =  0.0013111868\n",
            "epochs =  27 , step =  0 , loss_val =  0.0022078878\n",
            "epochs =  27 , step =  100 , loss_val =  0.0008600067\n",
            "epochs =  27 , step =  200 , loss_val =  0.0029313243\n",
            "epochs =  27 , step =  300 , loss_val =  0.00013189761\n",
            "epochs =  27 , step =  400 , loss_val =  0.0021878905\n",
            "epochs =  27 , step =  500 , loss_val =  0.007064228\n",
            "epochs =  28 , step =  0 , loss_val =  0.00115414\n",
            "epochs =  28 , step =  100 , loss_val =  0.00053520635\n",
            "epochs =  28 , step =  200 , loss_val =  0.00017644512\n",
            "epochs =  28 , step =  300 , loss_val =  0.00018174807\n",
            "epochs =  28 , step =  400 , loss_val =  0.0011219234\n",
            "epochs =  28 , step =  500 , loss_val =  0.016345015\n",
            "epochs =  29 , step =  0 , loss_val =  0.00027845663\n",
            "epochs =  29 , step =  100 , loss_val =  0.013263604\n",
            "epochs =  29 , step =  200 , loss_val =  0.00021193695\n",
            "epochs =  29 , step =  300 , loss_val =  0.020136433\n",
            "epochs =  29 , step =  400 , loss_val =  0.016186299\n",
            "epochs =  29 , step =  500 , loss_val =  0.0011482987\n",
            "\n",
            "elapsed time =  0:28:19.228503\n",
            "\n",
            "Accuracy =  0.9825\n",
            "type(accuracy_val) =  <class 'numpy.float32'> , type(predicted_list_val) =  <class 'numpy.ndarray'> , type(index_label) =  <class 'numpy.ndarray'>\n",
            "index_label.shape =  (10000,)\n",
            "length of index_label_list =  10000\n",
            "false label count =  175\n",
            "\n",
            "length of index_label_false_list 175\n"
          ],
          "name": "stdout"
        }
      ]
    },
    {
      "cell_type": "code",
      "metadata": {
        "id": "f9yxEQoQhIJN",
        "colab_type": "code",
        "colab": {}
      },
      "source": [
        ""
      ],
      "execution_count": 0,
      "outputs": []
    },
    {
      "cell_type": "code",
      "metadata": {
        "id": "H5amMwqBhIHc",
        "colab_type": "code",
        "colab": {}
      },
      "source": [
        ""
      ],
      "execution_count": 0,
      "outputs": []
    },
    {
      "cell_type": "code",
      "metadata": {
        "id": "rUK6K7_GhIDw",
        "colab_type": "code",
        "colab": {}
      },
      "source": [
        ""
      ],
      "execution_count": 0,
      "outputs": []
    },
    {
      "cell_type": "code",
      "metadata": {
        "id": "X2bcuzkBhIB3",
        "colab_type": "code",
        "colab": {}
      },
      "source": [
        ""
      ],
      "execution_count": 0,
      "outputs": []
    },
    {
      "cell_type": "code",
      "metadata": {
        "id": "BhpiyrXRhIAS",
        "colab_type": "code",
        "colab": {}
      },
      "source": [
        ""
      ],
      "execution_count": 0,
      "outputs": []
    },
    {
      "cell_type": "code",
      "metadata": {
        "id": "rkysBnI6hH-U",
        "colab_type": "code",
        "colab": {}
      },
      "source": [
        ""
      ],
      "execution_count": 0,
      "outputs": []
    },
    {
      "cell_type": "code",
      "metadata": {
        "id": "8KhtxNYvhH8P",
        "colab_type": "code",
        "colab": {}
      },
      "source": [
        ""
      ],
      "execution_count": 0,
      "outputs": []
    },
    {
      "cell_type": "code",
      "metadata": {
        "id": "M_sDvQzBhH6f",
        "colab_type": "code",
        "colab": {}
      },
      "source": [
        ""
      ],
      "execution_count": 0,
      "outputs": []
    },
    {
      "cell_type": "code",
      "metadata": {
        "id": "XvfmuYzUhH4S",
        "colab_type": "code",
        "colab": {}
      },
      "source": [
        ""
      ],
      "execution_count": 0,
      "outputs": []
    },
    {
      "cell_type": "code",
      "metadata": {
        "id": "-z5pLjethH0F",
        "colab_type": "code",
        "colab": {}
      },
      "source": [
        ""
      ],
      "execution_count": 0,
      "outputs": []
    },
    {
      "cell_type": "code",
      "metadata": {
        "id": "35VCqGzBg6vl",
        "colab_type": "code",
        "colab": {}
      },
      "source": [
        ""
      ],
      "execution_count": 0,
      "outputs": []
    },
    {
      "cell_type": "code",
      "metadata": {
        "id": "T1d3LVwng6sl",
        "colab_type": "code",
        "colab": {}
      },
      "source": [
        ""
      ],
      "execution_count": 0,
      "outputs": []
    }
  ]
}