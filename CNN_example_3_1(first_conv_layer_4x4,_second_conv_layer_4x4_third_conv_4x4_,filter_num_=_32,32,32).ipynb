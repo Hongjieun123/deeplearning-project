{
  "nbformat": 4,
  "nbformat_minor": 0,
  "metadata": {
    "kernelspec": {
      "display_name": "Python 3",
      "language": "python",
      "name": "python3"
    },
    "language_info": {
      "codemirror_mode": {
        "name": "ipython",
        "version": 3
      },
      "file_extension": ".py",
      "mimetype": "text/x-python",
      "name": "python",
      "nbconvert_exporter": "python",
      "pygments_lexer": "ipython3",
      "version": "3.7.4"
    },
    "colab": {
      "name": "CNN_example_3_1(first conv layer 4x4, second conv layer 4x4 third conv 4x4 ,filter num = 32,32,32) ",
      "provenance": [],
      "include_colab_link": true
    }
  },
  "cells": [
    {
      "cell_type": "markdown",
      "metadata": {
        "id": "view-in-github",
        "colab_type": "text"
      },
      "source": [
        "<a href=\"https://colab.research.google.com/github/Hongjieun123/deeplearning-project/blob/master/CNN_example_3_1(first_conv_layer_4x4%2C_second_conv_layer_4x4_third_conv_4x4_%2Cfilter_num_%3D_32%2C32%2C32).ipynb\" target=\"_parent\"><img src=\"https://colab.research.google.com/assets/colab-badge.svg\" alt=\"Open In Colab\"/></a>"
      ]
    },
    {
      "cell_type": "code",
      "metadata": {
        "id": "zm7Br1h6uu1X",
        "colab_type": "code",
        "outputId": "664a0d48-2aad-4806-9dd3-2d82184321a2",
        "colab": {
          "base_uri": "https://localhost:8080/",
          "height": 36
        }
      },
      "source": [
        "# Colab에서 tensorflow 1.x 실행\n",
        "%tensorflow_version 1.x"
      ],
      "execution_count": 1,
      "outputs": [
        {
          "output_type": "stream",
          "text": [
            "TensorFlow 1.x selected.\n"
          ],
          "name": "stdout"
        }
      ]
    },
    {
      "cell_type": "code",
      "metadata": {
        "id": "xTN7ue5lucbw",
        "colab_type": "code",
        "outputId": "2bf9fbb8-27ab-45bc-8d6e-7193e7dea7b1",
        "colab": {
          "base_uri": "https://localhost:8080/",
          "height": 223
        }
      },
      "source": [
        "import tensorflow as tf\n",
        "from tensorflow.examples.tutorials.mnist import input_data\n",
        "import numpy as np\n",
        "from datetime import datetime\n",
        "\n",
        "mnist = input_data.read_data_sets('MNIST_data/', one_hot=True)\n",
        "\n",
        "print('\\n', mnist.train.num_examples, mnist.test.num_examples, mnist.validation.num_examples)\n",
        "\n",
        "print('\\ntrain image shape = ', np.shape(mnist.train.images))\n",
        "print('train label shape = ', np.shape(mnist.train.labels))\n",
        "print('test image shape = ', np.shape(mnist.test.images))\n",
        "print('test label shape = ', np.shape(mnist.test.labels))"
      ],
      "execution_count": 17,
      "outputs": [
        {
          "output_type": "stream",
          "text": [
            "Extracting MNIST_data/train-images-idx3-ubyte.gz\n",
            "Extracting MNIST_data/train-labels-idx1-ubyte.gz\n",
            "Extracting MNIST_data/t10k-images-idx3-ubyte.gz\n",
            "Extracting MNIST_data/t10k-labels-idx1-ubyte.gz\n",
            "\n",
            " 55000 10000 5000\n",
            "\n",
            "train image shape =  (55000, 784)\n",
            "train label shape =  (55000, 10)\n",
            "test image shape =  (10000, 784)\n",
            "test label shape =  (10000, 10)\n"
          ],
          "name": "stdout"
        }
      ]
    },
    {
      "cell_type": "code",
      "metadata": {
        "id": "gSW7hSsWuccP",
        "colab_type": "code",
        "colab": {}
      },
      "source": [
        "learning_rate = 0.001\n",
        "epochs = 30\n",
        "batch_size = 100"
      ],
      "execution_count": 0,
      "outputs": []
    },
    {
      "cell_type": "code",
      "metadata": {
        "id": "XWUQ3TD7ucca",
        "colab_type": "code",
        "colab": {}
      },
      "source": [
        "X = tf.placeholder(tf.float32, [None, 784])\n",
        "\n",
        "A1 = X_img = tf.reshape(X,[-1, 28, 28, 1])\n",
        "\n",
        "T = tf.placeholder(tf.float32, [None, 10])  # image 28 X 28 X 1 (black/white)"
      ],
      "execution_count": 0,
      "outputs": []
    },
    {
      "cell_type": "code",
      "metadata": {
        "id": "e81mstOCucch",
        "colab_type": "code",
        "colab": {}
      },
      "source": [
        "# 1번째 컨볼루션 층\n",
        "# 4X4 크기를 가지는 32개의 필터를 적용\n",
        "\n",
        "F2 = tf.Variable(tf.random_normal([4, 4, 1, 32], stddev=0.01))  \n",
        "b2 = tf.Variable(tf.constant(0.1, shape=[32]))   \n",
        "\n",
        "# 1번째 컨볼루션 연산을 통해 28 X 28 X1  => 28 X 28 X 32\n",
        "C2 = tf.nn.conv2d(A1, F2, strides=[1, 1, 1, 1], padding='SAME')\n",
        "\n",
        "# relu\n",
        "Z2 = tf.nn.relu(C2+b2)\n",
        "\n",
        "# 1번째 max pooling을 통해 28 X 28 X 32  => 14 X 14 X 32\n",
        "A2 = P2 = tf.nn.max_pool(Z2, ksize=[1, 2, 2, 1], strides=[1, 2, 2, 1], padding='SAME')"
      ],
      "execution_count": 0,
      "outputs": []
    },
    {
      "cell_type": "code",
      "metadata": {
        "id": "2fRNliDcucco",
        "colab_type": "code",
        "colab": {}
      },
      "source": [
        "# 2번째 컨볼루션 층\n",
        "# 4X4 크기를 가지는 32개의 필터를 적용\n",
        "\n",
        "F3 = tf.Variable(tf.random_normal([4, 4, 32, 32], stddev=0.01))  \n",
        "b3 = tf.Variable(tf.constant(0.1, shape=[32]))   \n",
        "\n",
        "# 2번째 컨볼루션 연산을 통해 14 X 14 X32  => 14 X 14 X 32\n",
        "C3 = tf.nn.conv2d(A2, F3, strides=[1, 1, 1, 1], padding='SAME')\n",
        "\n",
        "# relu\n",
        "Z3= tf.nn.relu(C3+b3)\n",
        "\n",
        "# 2번째 max pooling을 통해 14 X 14 X 32  => 7 X 7 X 32\n",
        "A3= P3 = tf.nn.max_pool(Z3, ksize=[1, 2, 2, 1], strides=[1, 2, 2, 1], padding='SAME')"
      ],
      "execution_count": 0,
      "outputs": []
    },
    {
      "cell_type": "code",
      "metadata": {
        "id": "LhCIbD9-y_Rw",
        "colab_type": "code",
        "colab": {}
      },
      "source": [
        "# 3번째 컨볼루션 층\n",
        "# 4X4 크기를 가지는 32개의 필터를 적용\n",
        "\n",
        "F4 = tf.Variable(tf.random_normal([4, 4, 32, 32], stddev=0.01))  \n",
        "b4 = tf.Variable(tf.constant(0.1, shape=[32]))   \n",
        "\n",
        "# 3번째 컨볼루션 연산을 통해 7 X 7 X32  => 7 X 7 X 32\n",
        "C4 = tf.nn.conv2d(A3, F4, strides=[1, 1, 1, 1], padding='SAME')\n",
        "\n",
        "# relu\n",
        "Z4= tf.nn.relu(C4+b4)\n",
        "\n",
        "# 3번째 max pooling을 통해 7 X 7 X 32  => 4 X 4 X 32\n",
        "A4= P4 = tf.nn.max_pool(Z4, ksize=[1, 2, 2, 1], strides=[1, 2, 2, 1], padding='SAME')"
      ],
      "execution_count": 0,
      "outputs": []
    },
    {
      "cell_type": "code",
      "metadata": {
        "id": "uc-OxRiduccy",
        "colab_type": "code",
        "colab": {}
      },
      "source": [
        "# 4X4 크기를 가진 32개의 activation map을 flatten 시킴\n",
        "A4_flat = P4_flat = tf.reshape(A4, [-1, 32*4*4])"
      ],
      "execution_count": 0,
      "outputs": []
    },
    {
      "cell_type": "code",
      "metadata": {
        "id": "cfvy6ZXYucc8",
        "colab_type": "code",
        "colab": {}
      },
      "source": [
        "# 출력층\n",
        "W5 = tf.Variable(tf.random_normal([32*4*4, 10], stddev=0.01))\n",
        "b5 = tf.Variable(tf.random_normal([10]))\n",
        "\n",
        "# 출력층 선형회귀  값 Z5, 즉 softmax 에 들어가는 입력 값\n",
        "Z5 = logits = tf.matmul(A4_flat, W5) + b5    # 선형회귀 값 Z5\n",
        "\n",
        "y = A5 = tf.nn.softmax(Z5)"
      ],
      "execution_count": 0,
      "outputs": []
    },
    {
      "cell_type": "code",
      "metadata": {
        "id": "vbPC_r_QucdP",
        "colab_type": "code",
        "colab": {}
      },
      "source": [
        "loss = tf.reduce_mean( tf.nn.softmax_cross_entropy_with_logits_v2(logits=Z5, labels=T) )\n",
        "\n",
        "optimizer = tf.train.AdamOptimizer(learning_rate)\n",
        "\n",
        "train = optimizer.minimize(loss)"
      ],
      "execution_count": 0,
      "outputs": []
    },
    {
      "cell_type": "code",
      "metadata": {
        "id": "Ly_6cqGrucdU",
        "colab_type": "code",
        "colab": {}
      },
      "source": [
        "# batch_size X 10 데이터에 대해 argmax를 통해 행단위로 비교함\n",
        "predicted_val = tf.equal( tf.argmax(A5, 1), tf.argmax(T, 1) )\n",
        "\n",
        "# batch_size X 10 의 True, False 를 1 또는 0 으로 변환\n",
        "accuracy = tf.reduce_mean(tf.cast(predicted_val, dtype=tf.float32))\n",
        "\n",
        "# index list 출력\n",
        "accuracy_index = tf.cast(predicted_val, dtype=tf.float32)\n",
        "\n",
        "# 예측값 처리\n",
        "predicted_list = tf.argmax(A5, 1)"
      ],
      "execution_count": 0,
      "outputs": []
    },
    {
      "cell_type": "code",
      "metadata": {
        "id": "vgxuwi4Fucdb",
        "colab_type": "code",
        "outputId": "b35be63d-26b6-46d8-cc30-90b0a1616103",
        "colab": {
          "base_uri": "https://localhost:8080/",
          "height": 1000
        }
      },
      "source": [
        "index_label_prediction_list = []\n",
        "with  tf.Session()  as sess:\n",
        "    \n",
        "    sess.run(tf.global_variables_initializer())  # 변수 노드(tf.Variable) 초기화\n",
        "    \n",
        "    start_time = datetime.now()\n",
        "    \n",
        "    for i in range(epochs):    # 30 번 반복수행\n",
        "        \n",
        "        total_batch = int(mnist.train.num_examples / batch_size)  # 55,000 / 100\n",
        "\n",
        "        for step in range(total_batch):\n",
        "            \n",
        "            batch_x_data, batch_t_data = mnist.train.next_batch(batch_size)\n",
        "      \n",
        "            loss_val, _ = sess.run([loss, train], feed_dict={X: batch_x_data, T: batch_t_data})    \n",
        "        \n",
        "            if step % 100 == 0:\n",
        "                print(\"epochs = \", i, \", step = \", step, \", loss_val = \", loss_val)             \n",
        "    \n",
        "    end_time = datetime.now() \n",
        "    \n",
        "    print(\"\\nelapsed time = \", end_time - start_time) \n",
        "    \n",
        "    # Accuracy 확인\n",
        "    test_x_data = mnist.test.images    # 10000 X 784\n",
        "    test_t_data = mnist.test.labels    # 10000 X 10\n",
        "    \n",
        "    accuracy_val, predicted_list_val, index_label = sess.run([accuracy, predicted_list, accuracy_index], feed_dict={X: test_x_data, T: test_t_data})\n",
        "    \n",
        "    print(\"\\nAccuracy = \", accuracy_val)\n",
        "    print(\"type(accuracy_val) = \", type(accuracy_val), ', type(predicted_list_val) = ', type(predicted_list_val), ', type(index_label) = ', type(index_label))\n",
        "    print(\"index_label.shape = \", index_label.shape)\n",
        "    \n",
        "    index_label_list = list(index_label)\n",
        "    print(\"length of index_label_list = \", len(index_label_list))\n",
        "    print(\"false label count = \", index_label_list.count([0]))\n",
        "        \n",
        "    \n",
        "    temp_list = [] \n",
        "    \n",
        "    for index in range(len(index_label)):\n",
        "        \n",
        "        if index_label[index] == 0:\n",
        "            \n",
        "            temp_list.append(index)\n",
        "            temp_list.append(np.argmax(test_t_data[index]))  # one-hot encoding 이므로 argmax 로 정답 추출\n",
        "            temp_list.append(predicted_list_val[index])\n",
        "            \n",
        "            index_label_prediction_list.append(temp_list)\n",
        "            \n",
        "            temp_list = []\n",
        "            \n",
        "    print(\"\\nlength of index_label_false_list\", len(index_label_prediction_list))"
      ],
      "execution_count": 34,
      "outputs": [
        {
          "output_type": "stream",
          "text": [
            "epochs =  0 , step =  0 , loss_val =  2.655664\n",
            "epochs =  0 , step =  100 , loss_val =  2.3022137\n",
            "epochs =  0 , step =  200 , loss_val =  0.6538093\n",
            "epochs =  0 , step =  300 , loss_val =  0.2896741\n",
            "epochs =  0 , step =  400 , loss_val =  0.21059498\n",
            "epochs =  0 , step =  500 , loss_val =  0.10466814\n",
            "epochs =  1 , step =  0 , loss_val =  0.14368269\n",
            "epochs =  1 , step =  100 , loss_val =  0.08838283\n",
            "epochs =  1 , step =  200 , loss_val =  0.06059802\n",
            "epochs =  1 , step =  300 , loss_val =  0.08190482\n",
            "epochs =  1 , step =  400 , loss_val =  0.063102715\n",
            "epochs =  1 , step =  500 , loss_val =  0.11592269\n",
            "epochs =  2 , step =  0 , loss_val =  0.038839754\n",
            "epochs =  2 , step =  100 , loss_val =  0.075082295\n",
            "epochs =  2 , step =  200 , loss_val =  0.044092193\n",
            "epochs =  2 , step =  300 , loss_val =  0.062302977\n",
            "epochs =  2 , step =  400 , loss_val =  0.058928657\n",
            "epochs =  2 , step =  500 , loss_val =  0.07840989\n",
            "epochs =  3 , step =  0 , loss_val =  0.04117313\n",
            "epochs =  3 , step =  100 , loss_val =  0.066728175\n",
            "epochs =  3 , step =  200 , loss_val =  0.043614537\n",
            "epochs =  3 , step =  300 , loss_val =  0.039958116\n",
            "epochs =  3 , step =  400 , loss_val =  0.035518333\n",
            "epochs =  3 , step =  500 , loss_val =  0.03097175\n",
            "epochs =  4 , step =  0 , loss_val =  0.024266252\n",
            "epochs =  4 , step =  100 , loss_val =  0.020451365\n",
            "epochs =  4 , step =  200 , loss_val =  0.045361582\n",
            "epochs =  4 , step =  300 , loss_val =  0.0377647\n",
            "epochs =  4 , step =  400 , loss_val =  0.055959668\n",
            "epochs =  4 , step =  500 , loss_val =  0.030279731\n",
            "epochs =  5 , step =  0 , loss_val =  0.052168116\n",
            "epochs =  5 , step =  100 , loss_val =  0.017810754\n",
            "epochs =  5 , step =  200 , loss_val =  0.035672802\n",
            "epochs =  5 , step =  300 , loss_val =  0.04922226\n",
            "epochs =  5 , step =  400 , loss_val =  0.030024955\n",
            "epochs =  5 , step =  500 , loss_val =  0.00828832\n",
            "epochs =  6 , step =  0 , loss_val =  0.007850807\n",
            "epochs =  6 , step =  100 , loss_val =  0.043765012\n",
            "epochs =  6 , step =  200 , loss_val =  0.04278389\n",
            "epochs =  6 , step =  300 , loss_val =  0.007950955\n",
            "epochs =  6 , step =  400 , loss_val =  0.024774132\n",
            "epochs =  6 , step =  500 , loss_val =  0.02476737\n",
            "epochs =  7 , step =  0 , loss_val =  0.037408594\n",
            "epochs =  7 , step =  100 , loss_val =  0.023599315\n",
            "epochs =  7 , step =  200 , loss_val =  0.025859507\n",
            "epochs =  7 , step =  300 , loss_val =  0.0033298766\n",
            "epochs =  7 , step =  400 , loss_val =  0.0025667513\n",
            "epochs =  7 , step =  500 , loss_val =  0.011400177\n",
            "epochs =  8 , step =  0 , loss_val =  0.011576602\n",
            "epochs =  8 , step =  100 , loss_val =  0.0073841675\n",
            "epochs =  8 , step =  200 , loss_val =  0.023218697\n",
            "epochs =  8 , step =  300 , loss_val =  0.005378057\n",
            "epochs =  8 , step =  400 , loss_val =  0.011656873\n",
            "epochs =  8 , step =  500 , loss_val =  0.004586902\n",
            "epochs =  9 , step =  0 , loss_val =  0.017493237\n",
            "epochs =  9 , step =  100 , loss_val =  0.0174069\n",
            "epochs =  9 , step =  200 , loss_val =  0.0005464216\n",
            "epochs =  9 , step =  300 , loss_val =  0.020393131\n",
            "epochs =  9 , step =  400 , loss_val =  0.012080619\n",
            "epochs =  9 , step =  500 , loss_val =  0.0035784524\n",
            "epochs =  10 , step =  0 , loss_val =  0.011856276\n",
            "epochs =  10 , step =  100 , loss_val =  0.012403304\n",
            "epochs =  10 , step =  200 , loss_val =  0.003942279\n",
            "epochs =  10 , step =  300 , loss_val =  0.0050476915\n",
            "epochs =  10 , step =  400 , loss_val =  0.00861553\n",
            "epochs =  10 , step =  500 , loss_val =  0.06531564\n",
            "epochs =  11 , step =  0 , loss_val =  0.0021019618\n",
            "epochs =  11 , step =  100 , loss_val =  0.0063007744\n",
            "epochs =  11 , step =  200 , loss_val =  0.0021422359\n",
            "epochs =  11 , step =  300 , loss_val =  0.017952483\n",
            "epochs =  11 , step =  400 , loss_val =  0.0011168334\n",
            "epochs =  11 , step =  500 , loss_val =  0.01570915\n",
            "epochs =  12 , step =  0 , loss_val =  0.0016343078\n",
            "epochs =  12 , step =  100 , loss_val =  0.15939443\n",
            "epochs =  12 , step =  200 , loss_val =  0.021757517\n",
            "epochs =  12 , step =  300 , loss_val =  0.0066339397\n",
            "epochs =  12 , step =  400 , loss_val =  0.0068849786\n",
            "epochs =  12 , step =  500 , loss_val =  0.0024809376\n",
            "epochs =  13 , step =  0 , loss_val =  0.002663772\n",
            "epochs =  13 , step =  100 , loss_val =  0.005433898\n",
            "epochs =  13 , step =  200 , loss_val =  0.04273303\n",
            "epochs =  13 , step =  300 , loss_val =  0.010691483\n",
            "epochs =  13 , step =  400 , loss_val =  0.0013379346\n",
            "epochs =  13 , step =  500 , loss_val =  0.0006333243\n",
            "epochs =  14 , step =  0 , loss_val =  0.0016170809\n",
            "epochs =  14 , step =  100 , loss_val =  0.0034151622\n",
            "epochs =  14 , step =  200 , loss_val =  0.0034130013\n",
            "epochs =  14 , step =  300 , loss_val =  0.029134504\n",
            "epochs =  14 , step =  400 , loss_val =  0.00093815255\n",
            "epochs =  14 , step =  500 , loss_val =  0.0015760169\n",
            "epochs =  15 , step =  0 , loss_val =  0.003723883\n",
            "epochs =  15 , step =  100 , loss_val =  0.00013469857\n",
            "epochs =  15 , step =  200 , loss_val =  0.023090752\n",
            "epochs =  15 , step =  300 , loss_val =  0.0053364444\n",
            "epochs =  15 , step =  400 , loss_val =  0.042396285\n",
            "epochs =  15 , step =  500 , loss_val =  0.038572937\n",
            "epochs =  16 , step =  0 , loss_val =  0.012216535\n",
            "epochs =  16 , step =  100 , loss_val =  5.775325e-05\n",
            "epochs =  16 , step =  200 , loss_val =  0.0021291045\n",
            "epochs =  16 , step =  300 , loss_val =  0.0012051101\n",
            "epochs =  16 , step =  400 , loss_val =  0.0033688585\n",
            "epochs =  16 , step =  500 , loss_val =  0.033042144\n",
            "epochs =  17 , step =  0 , loss_val =  0.00062304485\n",
            "epochs =  17 , step =  100 , loss_val =  0.011046485\n",
            "epochs =  17 , step =  200 , loss_val =  0.019250017\n",
            "epochs =  17 , step =  300 , loss_val =  0.011494849\n",
            "epochs =  17 , step =  400 , loss_val =  0.0011760788\n",
            "epochs =  17 , step =  500 , loss_val =  0.0078112762\n",
            "epochs =  18 , step =  0 , loss_val =  0.0030725824\n",
            "epochs =  18 , step =  100 , loss_val =  0.008669665\n",
            "epochs =  18 , step =  200 , loss_val =  0.000663027\n",
            "epochs =  18 , step =  300 , loss_val =  0.0020190785\n",
            "epochs =  18 , step =  400 , loss_val =  0.0006889317\n",
            "epochs =  18 , step =  500 , loss_val =  0.00063254545\n",
            "epochs =  19 , step =  0 , loss_val =  0.00065268256\n",
            "epochs =  19 , step =  100 , loss_val =  0.00013317262\n",
            "epochs =  19 , step =  200 , loss_val =  0.0001109502\n",
            "epochs =  19 , step =  300 , loss_val =  0.00013973657\n",
            "epochs =  19 , step =  400 , loss_val =  0.012121827\n",
            "epochs =  19 , step =  500 , loss_val =  0.0020173828\n",
            "epochs =  20 , step =  0 , loss_val =  8.710927e-05\n",
            "epochs =  20 , step =  100 , loss_val =  0.0070489943\n",
            "epochs =  20 , step =  200 , loss_val =  0.0042404504\n",
            "epochs =  20 , step =  300 , loss_val =  0.00016997034\n",
            "epochs =  20 , step =  400 , loss_val =  0.00031059515\n",
            "epochs =  20 , step =  500 , loss_val =  0.00028522656\n",
            "epochs =  21 , step =  0 , loss_val =  0.0015643588\n",
            "epochs =  21 , step =  100 , loss_val =  0.0007412933\n",
            "epochs =  21 , step =  200 , loss_val =  0.008545898\n",
            "epochs =  21 , step =  300 , loss_val =  1.7057255e-05\n",
            "epochs =  21 , step =  400 , loss_val =  0.0019312587\n",
            "epochs =  21 , step =  500 , loss_val =  6.219066e-05\n",
            "epochs =  22 , step =  0 , loss_val =  3.462186e-05\n",
            "epochs =  22 , step =  100 , loss_val =  0.0005934185\n",
            "epochs =  22 , step =  200 , loss_val =  0.00048381014\n",
            "epochs =  22 , step =  300 , loss_val =  0.0001669949\n",
            "epochs =  22 , step =  400 , loss_val =  0.00036851782\n",
            "epochs =  22 , step =  500 , loss_val =  0.00014455033\n",
            "epochs =  23 , step =  0 , loss_val =  0.00015885696\n",
            "epochs =  23 , step =  100 , loss_val =  0.0003066948\n",
            "epochs =  23 , step =  200 , loss_val =  0.00018177387\n",
            "epochs =  23 , step =  300 , loss_val =  0.0017407836\n",
            "epochs =  23 , step =  400 , loss_val =  0.00052666914\n",
            "epochs =  23 , step =  500 , loss_val =  0.0010445849\n",
            "epochs =  24 , step =  0 , loss_val =  0.0023182554\n",
            "epochs =  24 , step =  100 , loss_val =  0.010889806\n",
            "epochs =  24 , step =  200 , loss_val =  0.102613546\n",
            "epochs =  24 , step =  300 , loss_val =  0.04332948\n",
            "epochs =  24 , step =  400 , loss_val =  0.00010335777\n",
            "epochs =  24 , step =  500 , loss_val =  0.018962625\n",
            "epochs =  25 , step =  0 , loss_val =  0.001492602\n",
            "epochs =  25 , step =  100 , loss_val =  0.00563359\n",
            "epochs =  25 , step =  200 , loss_val =  0.00090266945\n",
            "epochs =  25 , step =  300 , loss_val =  0.0029257638\n",
            "epochs =  25 , step =  400 , loss_val =  4.1699168e-05\n",
            "epochs =  25 , step =  500 , loss_val =  0.00019754205\n",
            "epochs =  26 , step =  0 , loss_val =  6.7405053e-06\n",
            "epochs =  26 , step =  100 , loss_val =  4.8354617e-05\n",
            "epochs =  26 , step =  200 , loss_val =  0.089406036\n",
            "epochs =  26 , step =  300 , loss_val =  0.00022175151\n",
            "epochs =  26 , step =  400 , loss_val =  0.0012270604\n",
            "epochs =  26 , step =  500 , loss_val =  0.00839863\n",
            "epochs =  27 , step =  0 , loss_val =  0.00012812765\n",
            "epochs =  27 , step =  100 , loss_val =  0.0011735068\n",
            "epochs =  27 , step =  200 , loss_val =  0.0005755227\n",
            "epochs =  27 , step =  300 , loss_val =  0.0001043342\n",
            "epochs =  27 , step =  400 , loss_val =  0.032159854\n",
            "epochs =  27 , step =  500 , loss_val =  8.4719155e-05\n",
            "epochs =  28 , step =  0 , loss_val =  0.0003779312\n",
            "epochs =  28 , step =  100 , loss_val =  2.6546577e-06\n",
            "epochs =  28 , step =  200 , loss_val =  6.858584e-05\n",
            "epochs =  28 , step =  300 , loss_val =  0.00014683424\n",
            "epochs =  28 , step =  400 , loss_val =  0.00013082194\n",
            "epochs =  28 , step =  500 , loss_val =  0.017009255\n",
            "epochs =  29 , step =  0 , loss_val =  0.004356662\n",
            "epochs =  29 , step =  100 , loss_val =  0.00039312168\n",
            "epochs =  29 , step =  200 , loss_val =  0.0004537759\n",
            "epochs =  29 , step =  300 , loss_val =  0.02023455\n",
            "epochs =  29 , step =  400 , loss_val =  0.00842125\n",
            "epochs =  29 , step =  500 , loss_val =  3.8932856e-05\n",
            "\n",
            "elapsed time =  0:38:03.066192\n",
            "\n",
            "Accuracy =  0.9927\n",
            "type(accuracy_val) =  <class 'numpy.float32'> , type(predicted_list_val) =  <class 'numpy.ndarray'> , type(index_label) =  <class 'numpy.ndarray'>\n",
            "index_label.shape =  (10000,)\n",
            "length of index_label_list =  10000\n",
            "false label count =  73\n",
            "\n",
            "length of index_label_false_list 73\n"
          ],
          "name": "stdout"
        }
      ]
    },
    {
      "cell_type": "code",
      "metadata": {
        "id": "-czriG10ucdp",
        "colab_type": "code",
        "colab": {}
      },
      "source": [
        ""
      ],
      "execution_count": 0,
      "outputs": []
    }
  ]
}