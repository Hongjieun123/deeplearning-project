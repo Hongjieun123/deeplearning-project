{
  "nbformat": 4,
  "nbformat_minor": 0,
  "metadata": {
    "colab": {
      "name": "CNN_Example2(conv layer 1, 출력 채널 32).ipynb",
      "provenance": [],
      "authorship_tag": "ABX9TyNdt1nLNWe9rozShwjx1RJp",
      "include_colab_link": true
    },
    "kernelspec": {
      "name": "python3",
      "display_name": "Python 3"
    }
  },
  "cells": [
    {
      "cell_type": "markdown",
      "metadata": {
        "id": "view-in-github",
        "colab_type": "text"
      },
      "source": [
        "<a href=\"https://colab.research.google.com/github/Hongjieun123/deeplearning-project/blob/master/CNN_Example2(conv_layer_1%2C_%EC%B6%9C%EB%A0%A5_%EC%B1%84%EB%84%90_32).ipynb\" target=\"_parent\"><img src=\"https://colab.research.google.com/assets/colab-badge.svg\" alt=\"Open In Colab\"/></a>"
      ]
    },
    {
      "cell_type": "code",
      "metadata": {
        "id": "nWJ7FK2UBVdx",
        "colab_type": "code",
        "colab": {
          "base_uri": "https://localhost:8080/",
          "height": 35
        },
        "outputId": "21faf477-680d-4e25-aa93-295e684ab9c5"
      },
      "source": [
        "# Colab에서 tensorflow 1.x 실행\n",
        "%tensorflow_version 1.x"
      ],
      "execution_count": 1,
      "outputs": [
        {
          "output_type": "stream",
          "text": [
            "TensorFlow 1.x selected.\n"
          ],
          "name": "stdout"
        }
      ]
    },
    {
      "cell_type": "code",
      "metadata": {
        "id": "dib4GrkCA8GN",
        "colab_type": "code",
        "colab": {
          "base_uri": "https://localhost:8080/",
          "height": 685
        },
        "outputId": "18800d5a-f7e6-4ac8-ca1e-e6ad8b0050c4"
      },
      "source": [
        "import tensorflow as tf\n",
        "from tensorflow.examples.tutorials.mnist import input_data\n",
        "import numpy as np\n",
        "from datetime import datetime      # datetime.now() 를 이용하여 학습 경과 시간 측정\n",
        "\n",
        "# read_data_sets() 를 통해 데이터를 객체형태로 받아오고\n",
        "# one_hot 옵션을 통해 정답(label) 을 one-hot 인코딩된 형태로 받아옴\n",
        "\n",
        "mnist = input_data.read_data_sets(\"MNIST_data/\", one_hot=True)\n",
        "\n",
        "# mnist 데이터 셋은 train, test, validation 3개의 데이터 셋으로 구성되어 있으며.\n",
        "# num_examples 값을 통해 데이터의 갯수 확인 가능함\n",
        "\n",
        "print(\"\\n\", mnist.train.num_examples, mnist.test.num_examples, mnist.validation.num_examples)\n",
        "\n",
        "# 데이터는 784(28x28)개의 픽셀을 가지는 이미지와\n",
        "# 10(0~9)개 클래스를 가지는 one-hot 인코딩된 레이블(정답)을 가지고 있음\n",
        "\n",
        "print(\"\\ntrain image shape = \", np.shape(mnist.train.images))\n",
        "print(\"train label shape = \", np.shape(mnist.train.labels))\n",
        "print(\"test image shape = \", np.shape(mnist.test.images))\n",
        "print(\"test label shape = \", np.shape(mnist.test.labels))"
      ],
      "execution_count": 2,
      "outputs": [
        {
          "output_type": "stream",
          "text": [
            "WARNING:tensorflow:From <ipython-input-2-37edfc5623ff>:9: read_data_sets (from tensorflow.contrib.learn.python.learn.datasets.mnist) is deprecated and will be removed in a future version.\n",
            "Instructions for updating:\n",
            "Please use alternatives such as official/mnist/dataset.py from tensorflow/models.\n",
            "WARNING:tensorflow:From /tensorflow-1.15.2/python3.6/tensorflow_core/contrib/learn/python/learn/datasets/mnist.py:260: maybe_download (from tensorflow.contrib.learn.python.learn.datasets.base) is deprecated and will be removed in a future version.\n",
            "Instructions for updating:\n",
            "Please write your own downloading logic.\n",
            "WARNING:tensorflow:From /tensorflow-1.15.2/python3.6/tensorflow_core/contrib/learn/python/learn/datasets/base.py:252: _internal_retry.<locals>.wrap.<locals>.wrapped_fn (from tensorflow.contrib.learn.python.learn.datasets.base) is deprecated and will be removed in a future version.\n",
            "Instructions for updating:\n",
            "Please use urllib or similar directly.\n",
            "Successfully downloaded train-images-idx3-ubyte.gz 9912422 bytes.\n",
            "WARNING:tensorflow:From /tensorflow-1.15.2/python3.6/tensorflow_core/contrib/learn/python/learn/datasets/mnist.py:262: extract_images (from tensorflow.contrib.learn.python.learn.datasets.mnist) is deprecated and will be removed in a future version.\n",
            "Instructions for updating:\n",
            "Please use tf.data to implement this functionality.\n",
            "Extracting MNIST_data/train-images-idx3-ubyte.gz\n",
            "Successfully downloaded train-labels-idx1-ubyte.gz 28881 bytes.\n",
            "WARNING:tensorflow:From /tensorflow-1.15.2/python3.6/tensorflow_core/contrib/learn/python/learn/datasets/mnist.py:267: extract_labels (from tensorflow.contrib.learn.python.learn.datasets.mnist) is deprecated and will be removed in a future version.\n",
            "Instructions for updating:\n",
            "Please use tf.data to implement this functionality.\n",
            "Extracting MNIST_data/train-labels-idx1-ubyte.gz\n",
            "WARNING:tensorflow:From /tensorflow-1.15.2/python3.6/tensorflow_core/contrib/learn/python/learn/datasets/mnist.py:110: dense_to_one_hot (from tensorflow.contrib.learn.python.learn.datasets.mnist) is deprecated and will be removed in a future version.\n",
            "Instructions for updating:\n",
            "Please use tf.one_hot on tensors.\n",
            "Successfully downloaded t10k-images-idx3-ubyte.gz 1648877 bytes.\n",
            "Extracting MNIST_data/t10k-images-idx3-ubyte.gz\n",
            "Successfully downloaded t10k-labels-idx1-ubyte.gz 4542 bytes.\n",
            "Extracting MNIST_data/t10k-labels-idx1-ubyte.gz\n",
            "WARNING:tensorflow:From /tensorflow-1.15.2/python3.6/tensorflow_core/contrib/learn/python/learn/datasets/mnist.py:290: DataSet.__init__ (from tensorflow.contrib.learn.python.learn.datasets.mnist) is deprecated and will be removed in a future version.\n",
            "Instructions for updating:\n",
            "Please use alternatives such as official/mnist/dataset.py from tensorflow/models.\n",
            "\n",
            " 55000 10000 5000\n",
            "\n",
            "train image shape =  (55000, 784)\n",
            "train label shape =  (55000, 10)\n",
            "test image shape =  (10000, 784)\n",
            "test label shape =  (10000, 10)\n"
          ],
          "name": "stdout"
        }
      ]
    },
    {
      "cell_type": "code",
      "metadata": {
        "id": "wdorwLstBVgk",
        "colab_type": "code",
        "colab": {}
      },
      "source": [
        "# Hyper-Parameter\n",
        "learning_rate = 0.001  # 학습율\n",
        "epochs = 30            # 반복횟수\n",
        "batch_size = 100      # 한번에 입력으로 주어지는 MNIST 개수"
      ],
      "execution_count": 0,
      "outputs": []
    },
    {
      "cell_type": "code",
      "metadata": {
        "id": "-1hBhgV8BVlk",
        "colab_type": "code",
        "colab": {}
      },
      "source": [
        "# 입력과 정답을 위한 플레이스홀더 정의\n",
        "X = tf.placeholder(tf.float32, [None, 784])  \n",
        "\n",
        "T = tf.placeholder(tf.float32, [None, 10])  \n",
        "\n",
        "# 입력층의 출력 값. 컨볼루션 연산을 위해 reshape 시킴\n",
        "A1 = X_img = tf.reshape(X, [-1, 28, 28, 1])   # image 28 X 28 X 1 (black/white)"
      ],
      "execution_count": 0,
      "outputs": []
    },
    {
      "cell_type": "code",
      "metadata": {
        "id": "-oc6jesABVoN",
        "colab_type": "code",
        "colab": {}
      },
      "source": [
        "# 1번째 컨볼루션 층\n",
        "# 5x5 크기를 가지는 32개의 필터를 적용\n",
        "\n",
        "F2 = tf.Variable(tf.random_normal([5, 5, 1, 32], stddev=0.01))\n",
        "b2 = tf.Variable(tf.constant(0.1, shape=[32]))\n",
        "\n",
        "#1번째 컨볼루션 연산을 통해 28 X 28 X 1 => 28 X 28 X 32\n",
        "C2 = tf.nn.conv2d(A1, F2, strides=[1, 1, 1, 1], padding='SAME')\n",
        "\n",
        "#relu\n",
        "Z2 = tf.nn.relu(C2+b2)\n",
        "\n",
        "#1번째 max pooling을 통해 28 X 28 X 32 => 14 X 14 X 32\n",
        "A2 = P2 = tf.nn.max_pool(Z2, ksize=[1, 2, 2, 1], strides=[1, 2, 2, 1], padding='SAME')"
      ],
      "execution_count": 0,
      "outputs": []
    },
    {
      "cell_type": "code",
      "metadata": {
        "id": "uxzZn5MVBVtW",
        "colab_type": "code",
        "colab": {}
      },
      "source": [
        "# 14X14 크기를 가진 32개의 activation map을 flatten 시킴\n",
        "A2_flat = P2_flat = tf.reshape(A2, [-1, 32*14*14])"
      ],
      "execution_count": 0,
      "outputs": []
    },
    {
      "cell_type": "code",
      "metadata": {
        "id": "WVSLrGSgBVwG",
        "colab_type": "code",
        "colab": {}
      },
      "source": [
        "# 출력층\n",
        "W3 = tf.Variable(tf.random_normal([32*14*14, 10], stddev=0.01))\n",
        "b3 = tf.Variable(tf.random_normal([10]))\n",
        "\n",
        "# 출력층 선형회귀  값 Z3, 즉 softmax 에 들어가는 입력 값\n",
        "Z3 = logits = tf.matmul(A2_flat, W3) + b3    # 선형회귀 값 Z3\n",
        "\n",
        "y = A3 = tf.nn.softmax(Z3)"
      ],
      "execution_count": 0,
      "outputs": []
    },
    {
      "cell_type": "code",
      "metadata": {
        "id": "ifb50UDsBVy3",
        "colab_type": "code",
        "colab": {}
      },
      "source": [
        "loss = tf.reduce_mean( tf.nn.softmax_cross_entropy_with_logits_v2(logits=Z3, labels=T) )\n",
        "\n",
        "optimizer = tf.train.AdamOptimizer(learning_rate)\n",
        "\n",
        "train = optimizer.minimize(loss)  "
      ],
      "execution_count": 0,
      "outputs": []
    },
    {
      "cell_type": "code",
      "metadata": {
        "id": "PHD7UCwEBV3v",
        "colab_type": "code",
        "colab": {}
      },
      "source": [
        "# batch_size X 10 데이터에 대해 argmax를 통해 행단위로 비교함\n",
        "predicted_val = tf.equal( tf.argmax(A3, 1), tf.argmax(T, 1) )\n",
        "\n",
        "# batch_size X 10 의 True, False 를 1 또는 0 으로 변환\n",
        "accuracy = tf.reduce_mean(tf.cast(predicted_val, dtype=tf.float32))\n",
        "\n",
        "# index list 출력\n",
        "accuracy_index = tf.cast(predicted_val, dtype=tf.float32)\n",
        "\n",
        "# 예측값 처리\n",
        "predicted_list = tf.argmax(A3, 1)"
      ],
      "execution_count": 0,
      "outputs": []
    },
    {
      "cell_type": "code",
      "metadata": {
        "id": "JI_nf-SxBV6S",
        "colab_type": "code",
        "colab": {
          "base_uri": "https://localhost:8080/",
          "height": 1000
        },
        "outputId": "a3739dea-8da2-4666-ff89-ef5d017132bd"
      },
      "source": [
        "index_label_prediction_list = []\n",
        "\n",
        "with  tf.Session()  as sess:\n",
        "    \n",
        "    sess.run(tf.global_variables_initializer())  # 변수 노드(tf.Variable) 초기화\n",
        "    \n",
        "    start_time = datetime.now()\n",
        "    \n",
        "    for i in range(epochs):    # 30 번 반복수행\n",
        "        \n",
        "        total_batch = int(mnist.train.num_examples / batch_size)  # 55,000 / 100\n",
        "\n",
        "        for step in range(total_batch):\n",
        "            \n",
        "            batch_x_data, batch_t_data = mnist.train.next_batch(batch_size)\n",
        "      \n",
        "            loss_val, _ = sess.run([loss, train], feed_dict={X: batch_x_data, T: batch_t_data})    \n",
        "        \n",
        "            if step % 100 == 0:\n",
        "                print(\"epochs = \", i, \", step = \", step, \", loss_val = \", loss_val)             \n",
        "    \n",
        "    end_time = datetime.now() \n",
        "    \n",
        "    print(\"\\nelapsed time = \", end_time - start_time) \n",
        "    \n",
        "    # Accuracy 확인\n",
        "    test_x_data = mnist.test.images    # 10000 X 784\n",
        "    test_t_data = mnist.test.labels    # 10000 X 10\n",
        "    \n",
        "    accuracy_val, predicted_list_val, index_label = sess.run([accuracy, predicted_list, accuracy_index], feed_dict={X: test_x_data, T: test_t_data})\n",
        "    \n",
        "    print(\"\\nAccuracy = \", accuracy_val)\n",
        "    print(\"type(accuracy_val) = \", type(accuracy_val), ', type(predicted_list_val) = ', type(predicted_list_val), ', type(index_label) = ', type(index_label))\n",
        "    print(\"index_label.shape = \", index_label.shape)\n",
        "    \n",
        "    index_label_list = list(index_label)\n",
        "    print(\"length of index_label_list = \", len(index_label_list))\n",
        "    print(\"false label count = \", index_label_list.count([0]))\n",
        "        \n",
        "    \n",
        "    temp_list = [] \n",
        "    \n",
        "    for index in range(len(index_label)):\n",
        "        \n",
        "        if index_label[index] == 0:\n",
        "            \n",
        "            temp_list.append(index)\n",
        "            temp_list.append(np.argmax(test_t_data[index]))  # one-hot encoding 이므로 argmax 로 정답 추출\n",
        "            temp_list.append(predicted_list_val[index])\n",
        "            \n",
        "            index_label_prediction_list.append(temp_list)\n",
        "            \n",
        "            temp_list = []\n",
        "            \n",
        "    print(\"\\nlength of index_label_false_list\", len(index_label_prediction_list))"
      ],
      "execution_count": 10,
      "outputs": [
        {
          "output_type": "stream",
          "text": [
            "epochs =  0 , step =  0 , loss_val =  2.7651756\n",
            "epochs =  0 , step =  100 , loss_val =  0.41014662\n",
            "epochs =  0 , step =  200 , loss_val =  0.26087773\n",
            "epochs =  0 , step =  300 , loss_val =  0.2314045\n",
            "epochs =  0 , step =  400 , loss_val =  0.102522075\n",
            "epochs =  0 , step =  500 , loss_val =  0.05623503\n",
            "epochs =  1 , step =  0 , loss_val =  0.11511762\n",
            "epochs =  1 , step =  100 , loss_val =  0.2052416\n",
            "epochs =  1 , step =  200 , loss_val =  0.05025356\n",
            "epochs =  1 , step =  300 , loss_val =  0.08499579\n",
            "epochs =  1 , step =  400 , loss_val =  0.061376866\n",
            "epochs =  1 , step =  500 , loss_val =  0.13855657\n",
            "epochs =  2 , step =  0 , loss_val =  0.15703312\n",
            "epochs =  2 , step =  100 , loss_val =  0.03745946\n",
            "epochs =  2 , step =  200 , loss_val =  0.040101767\n",
            "epochs =  2 , step =  300 , loss_val =  0.056508526\n",
            "epochs =  2 , step =  400 , loss_val =  0.016280228\n",
            "epochs =  2 , step =  500 , loss_val =  0.11693415\n",
            "epochs =  3 , step =  0 , loss_val =  0.041171145\n",
            "epochs =  3 , step =  100 , loss_val =  0.057609793\n",
            "epochs =  3 , step =  200 , loss_val =  0.046679076\n",
            "epochs =  3 , step =  300 , loss_val =  0.049748536\n",
            "epochs =  3 , step =  400 , loss_val =  0.021437205\n",
            "epochs =  3 , step =  500 , loss_val =  0.06043668\n",
            "epochs =  4 , step =  0 , loss_val =  0.043014985\n",
            "epochs =  4 , step =  100 , loss_val =  0.05485632\n",
            "epochs =  4 , step =  200 , loss_val =  0.030131398\n",
            "epochs =  4 , step =  300 , loss_val =  0.019237818\n",
            "epochs =  4 , step =  400 , loss_val =  0.00917539\n",
            "epochs =  4 , step =  500 , loss_val =  0.11675195\n",
            "epochs =  5 , step =  0 , loss_val =  0.03182744\n",
            "epochs =  5 , step =  100 , loss_val =  0.020090407\n",
            "epochs =  5 , step =  200 , loss_val =  0.022213697\n",
            "epochs =  5 , step =  300 , loss_val =  0.01309592\n",
            "epochs =  5 , step =  400 , loss_val =  0.09991519\n",
            "epochs =  5 , step =  500 , loss_val =  0.053213064\n",
            "epochs =  6 , step =  0 , loss_val =  0.01983301\n",
            "epochs =  6 , step =  100 , loss_val =  0.016341522\n",
            "epochs =  6 , step =  200 , loss_val =  0.01862894\n",
            "epochs =  6 , step =  300 , loss_val =  0.011465054\n",
            "epochs =  6 , step =  400 , loss_val =  0.013852791\n",
            "epochs =  6 , step =  500 , loss_val =  0.0086722355\n",
            "epochs =  7 , step =  0 , loss_val =  0.008714761\n",
            "epochs =  7 , step =  100 , loss_val =  0.022662127\n",
            "epochs =  7 , step =  200 , loss_val =  0.0439994\n",
            "epochs =  7 , step =  300 , loss_val =  0.015497775\n",
            "epochs =  7 , step =  400 , loss_val =  0.023651328\n",
            "epochs =  7 , step =  500 , loss_val =  0.038250495\n",
            "epochs =  8 , step =  0 , loss_val =  0.016227579\n",
            "epochs =  8 , step =  100 , loss_val =  0.011823624\n",
            "epochs =  8 , step =  200 , loss_val =  0.049957104\n",
            "epochs =  8 , step =  300 , loss_val =  0.09312634\n",
            "epochs =  8 , step =  400 , loss_val =  0.026107674\n",
            "epochs =  8 , step =  500 , loss_val =  0.032649156\n",
            "epochs =  9 , step =  0 , loss_val =  0.00578244\n",
            "epochs =  9 , step =  100 , loss_val =  0.002587888\n",
            "epochs =  9 , step =  200 , loss_val =  0.007822264\n",
            "epochs =  9 , step =  300 , loss_val =  0.009344865\n",
            "epochs =  9 , step =  400 , loss_val =  0.005377231\n",
            "epochs =  9 , step =  500 , loss_val =  0.0057010096\n",
            "epochs =  10 , step =  0 , loss_val =  0.017446507\n",
            "epochs =  10 , step =  100 , loss_val =  0.020987976\n",
            "epochs =  10 , step =  200 , loss_val =  0.0043444233\n",
            "epochs =  10 , step =  300 , loss_val =  0.005696596\n",
            "epochs =  10 , step =  400 , loss_val =  0.009070591\n",
            "epochs =  10 , step =  500 , loss_val =  0.008702992\n",
            "epochs =  11 , step =  0 , loss_val =  0.0037231175\n",
            "epochs =  11 , step =  100 , loss_val =  0.005566405\n",
            "epochs =  11 , step =  200 , loss_val =  0.010795713\n",
            "epochs =  11 , step =  300 , loss_val =  0.017440813\n",
            "epochs =  11 , step =  400 , loss_val =  0.009248239\n",
            "epochs =  11 , step =  500 , loss_val =  0.041786164\n",
            "epochs =  12 , step =  0 , loss_val =  0.0066985055\n",
            "epochs =  12 , step =  100 , loss_val =  0.01606755\n",
            "epochs =  12 , step =  200 , loss_val =  0.00826734\n",
            "epochs =  12 , step =  300 , loss_val =  0.02237448\n",
            "epochs =  12 , step =  400 , loss_val =  0.0021323373\n",
            "epochs =  12 , step =  500 , loss_val =  0.009866143\n",
            "epochs =  13 , step =  0 , loss_val =  0.00084957364\n",
            "epochs =  13 , step =  100 , loss_val =  0.006050055\n",
            "epochs =  13 , step =  200 , loss_val =  0.0036078456\n",
            "epochs =  13 , step =  300 , loss_val =  0.04198704\n",
            "epochs =  13 , step =  400 , loss_val =  0.0014178714\n",
            "epochs =  13 , step =  500 , loss_val =  0.02212339\n",
            "epochs =  14 , step =  0 , loss_val =  0.004743728\n",
            "epochs =  14 , step =  100 , loss_val =  0.0050721276\n",
            "epochs =  14 , step =  200 , loss_val =  0.0077424203\n",
            "epochs =  14 , step =  300 , loss_val =  0.007919587\n",
            "epochs =  14 , step =  400 , loss_val =  0.019300073\n",
            "epochs =  14 , step =  500 , loss_val =  0.006348267\n",
            "epochs =  15 , step =  0 , loss_val =  0.015101756\n",
            "epochs =  15 , step =  100 , loss_val =  0.023838634\n",
            "epochs =  15 , step =  200 , loss_val =  0.004573647\n",
            "epochs =  15 , step =  300 , loss_val =  0.020221865\n",
            "epochs =  15 , step =  400 , loss_val =  0.0006891241\n",
            "epochs =  15 , step =  500 , loss_val =  0.0085489405\n",
            "epochs =  16 , step =  0 , loss_val =  0.009069437\n",
            "epochs =  16 , step =  100 , loss_val =  0.0017455796\n",
            "epochs =  16 , step =  200 , loss_val =  0.009916928\n",
            "epochs =  16 , step =  300 , loss_val =  0.005326756\n",
            "epochs =  16 , step =  400 , loss_val =  0.007830081\n",
            "epochs =  16 , step =  500 , loss_val =  0.00084475696\n",
            "epochs =  17 , step =  0 , loss_val =  0.0064289146\n",
            "epochs =  17 , step =  100 , loss_val =  0.016960742\n",
            "epochs =  17 , step =  200 , loss_val =  0.011586441\n",
            "epochs =  17 , step =  300 , loss_val =  0.00083719107\n",
            "epochs =  17 , step =  400 , loss_val =  0.02945584\n",
            "epochs =  17 , step =  500 , loss_val =  0.003230143\n",
            "epochs =  18 , step =  0 , loss_val =  0.00025306782\n",
            "epochs =  18 , step =  100 , loss_val =  0.0049348488\n",
            "epochs =  18 , step =  200 , loss_val =  0.0021191465\n",
            "epochs =  18 , step =  300 , loss_val =  0.009187957\n",
            "epochs =  18 , step =  400 , loss_val =  0.0071710334\n",
            "epochs =  18 , step =  500 , loss_val =  0.002765461\n",
            "epochs =  19 , step =  0 , loss_val =  0.003179694\n",
            "epochs =  19 , step =  100 , loss_val =  0.00663863\n",
            "epochs =  19 , step =  200 , loss_val =  0.002092837\n",
            "epochs =  19 , step =  300 , loss_val =  0.0032526618\n",
            "epochs =  19 , step =  400 , loss_val =  0.002252592\n",
            "epochs =  19 , step =  500 , loss_val =  0.0010318193\n",
            "epochs =  20 , step =  0 , loss_val =  0.0081612915\n",
            "epochs =  20 , step =  100 , loss_val =  0.0037820942\n",
            "epochs =  20 , step =  200 , loss_val =  0.0029731395\n",
            "epochs =  20 , step =  300 , loss_val =  0.007731246\n",
            "epochs =  20 , step =  400 , loss_val =  0.015016086\n",
            "epochs =  20 , step =  500 , loss_val =  0.004174531\n",
            "epochs =  21 , step =  0 , loss_val =  0.004825168\n",
            "epochs =  21 , step =  100 , loss_val =  0.0015711529\n",
            "epochs =  21 , step =  200 , loss_val =  0.006550148\n",
            "epochs =  21 , step =  300 , loss_val =  0.0016619503\n",
            "epochs =  21 , step =  400 , loss_val =  0.0001823579\n",
            "epochs =  21 , step =  500 , loss_val =  0.0042440095\n",
            "epochs =  22 , step =  0 , loss_val =  0.010481924\n",
            "epochs =  22 , step =  100 , loss_val =  0.0025288644\n",
            "epochs =  22 , step =  200 , loss_val =  0.0011426065\n",
            "epochs =  22 , step =  300 , loss_val =  0.0031378586\n",
            "epochs =  22 , step =  400 , loss_val =  0.01889132\n",
            "epochs =  22 , step =  500 , loss_val =  0.002071143\n",
            "epochs =  23 , step =  0 , loss_val =  0.00316768\n",
            "epochs =  23 , step =  100 , loss_val =  0.0036841235\n",
            "epochs =  23 , step =  200 , loss_val =  0.008434977\n",
            "epochs =  23 , step =  300 , loss_val =  0.0054505104\n",
            "epochs =  23 , step =  400 , loss_val =  0.002629482\n",
            "epochs =  23 , step =  500 , loss_val =  0.003079067\n",
            "epochs =  24 , step =  0 , loss_val =  0.0014457689\n",
            "epochs =  24 , step =  100 , loss_val =  0.0017093949\n",
            "epochs =  24 , step =  200 , loss_val =  0.019242728\n",
            "epochs =  24 , step =  300 , loss_val =  0.0006714711\n",
            "epochs =  24 , step =  400 , loss_val =  0.0102595715\n",
            "epochs =  24 , step =  500 , loss_val =  0.0007991728\n",
            "epochs =  25 , step =  0 , loss_val =  0.00032044353\n",
            "epochs =  25 , step =  100 , loss_val =  0.00033306686\n",
            "epochs =  25 , step =  200 , loss_val =  0.0019281553\n",
            "epochs =  25 , step =  300 , loss_val =  0.0006589544\n",
            "epochs =  25 , step =  400 , loss_val =  0.0050413418\n",
            "epochs =  25 , step =  500 , loss_val =  0.001102879\n",
            "epochs =  26 , step =  0 , loss_val =  0.00054768904\n",
            "epochs =  26 , step =  100 , loss_val =  0.015941141\n",
            "epochs =  26 , step =  200 , loss_val =  0.0023898736\n",
            "epochs =  26 , step =  300 , loss_val =  0.0006397517\n",
            "epochs =  26 , step =  400 , loss_val =  0.0026732641\n",
            "epochs =  26 , step =  500 , loss_val =  0.0010004857\n",
            "epochs =  27 , step =  0 , loss_val =  0.003260964\n",
            "epochs =  27 , step =  100 , loss_val =  0.008061312\n",
            "epochs =  27 , step =  200 , loss_val =  0.0015909497\n",
            "epochs =  27 , step =  300 , loss_val =  0.00044192583\n",
            "epochs =  27 , step =  400 , loss_val =  0.00020584116\n",
            "epochs =  27 , step =  500 , loss_val =  0.0069663455\n",
            "epochs =  28 , step =  0 , loss_val =  0.0001584253\n",
            "epochs =  28 , step =  100 , loss_val =  0.00081417995\n",
            "epochs =  28 , step =  200 , loss_val =  0.00162806\n",
            "epochs =  28 , step =  300 , loss_val =  0.0059397453\n",
            "epochs =  28 , step =  400 , loss_val =  0.0009032523\n",
            "epochs =  28 , step =  500 , loss_val =  0.0024549814\n",
            "epochs =  29 , step =  0 , loss_val =  0.00013735615\n",
            "epochs =  29 , step =  100 , loss_val =  0.0007684257\n",
            "epochs =  29 , step =  200 , loss_val =  3.985904e-05\n",
            "epochs =  29 , step =  300 , loss_val =  9.134414e-05\n",
            "epochs =  29 , step =  400 , loss_val =  0.00045758768\n",
            "epochs =  29 , step =  500 , loss_val =  0.00041671927\n",
            "\n",
            "elapsed time =  0:13:33.742636\n",
            "\n",
            "Accuracy =  0.9871\n",
            "type(accuracy_val) =  <class 'numpy.float32'> , type(predicted_list_val) =  <class 'numpy.ndarray'> , type(index_label) =  <class 'numpy.ndarray'>\n",
            "index_label.shape =  (10000,)\n",
            "length of index_label_list =  10000\n",
            "false label count =  129\n",
            "\n",
            "length of index_label_false_list 129\n"
          ],
          "name": "stdout"
        }
      ]
    },
    {
      "cell_type": "code",
      "metadata": {
        "id": "vGxIZtcNBWAF",
        "colab_type": "code",
        "colab": {}
      },
      "source": [
        ""
      ],
      "execution_count": 0,
      "outputs": []
    },
    {
      "cell_type": "code",
      "metadata": {
        "id": "PDpM5p61BWFb",
        "colab_type": "code",
        "colab": {}
      },
      "source": [
        ""
      ],
      "execution_count": 0,
      "outputs": []
    },
    {
      "cell_type": "code",
      "metadata": {
        "id": "6AHqFco8BWIU",
        "colab_type": "code",
        "colab": {}
      },
      "source": [
        ""
      ],
      "execution_count": 0,
      "outputs": []
    },
    {
      "cell_type": "code",
      "metadata": {
        "id": "n9mmM2mpBWNI",
        "colab_type": "code",
        "colab": {}
      },
      "source": [
        ""
      ],
      "execution_count": 0,
      "outputs": []
    },
    {
      "cell_type": "code",
      "metadata": {
        "id": "bUFqi86SBWPv",
        "colab_type": "code",
        "colab": {}
      },
      "source": [
        ""
      ],
      "execution_count": 0,
      "outputs": []
    },
    {
      "cell_type": "code",
      "metadata": {
        "id": "7bGztHpWBWVB",
        "colab_type": "code",
        "colab": {}
      },
      "source": [
        ""
      ],
      "execution_count": 0,
      "outputs": []
    },
    {
      "cell_type": "code",
      "metadata": {
        "id": "0ikBbk2eBWSw",
        "colab_type": "code",
        "colab": {}
      },
      "source": [
        ""
      ],
      "execution_count": 0,
      "outputs": []
    },
    {
      "cell_type": "code",
      "metadata": {
        "id": "gwNV5EcRBWLA",
        "colab_type": "code",
        "colab": {}
      },
      "source": [
        ""
      ],
      "execution_count": 0,
      "outputs": []
    },
    {
      "cell_type": "code",
      "metadata": {
        "id": "h7_VpHPABWDG",
        "colab_type": "code",
        "colab": {}
      },
      "source": [
        ""
      ],
      "execution_count": 0,
      "outputs": []
    },
    {
      "cell_type": "code",
      "metadata": {
        "id": "GY_D9C9CBV9R",
        "colab_type": "code",
        "colab": {}
      },
      "source": [
        ""
      ],
      "execution_count": 0,
      "outputs": []
    },
    {
      "cell_type": "code",
      "metadata": {
        "id": "v-hMmeFhBV1s",
        "colab_type": "code",
        "colab": {}
      },
      "source": [
        ""
      ],
      "execution_count": 0,
      "outputs": []
    },
    {
      "cell_type": "code",
      "metadata": {
        "id": "j5xVFIfDBVqq",
        "colab_type": "code",
        "colab": {}
      },
      "source": [
        ""
      ],
      "execution_count": 0,
      "outputs": []
    }
  ]
}