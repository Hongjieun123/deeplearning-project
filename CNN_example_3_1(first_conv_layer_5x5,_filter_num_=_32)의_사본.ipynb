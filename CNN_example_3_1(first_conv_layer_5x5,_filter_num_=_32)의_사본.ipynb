{
  "nbformat": 4,
  "nbformat_minor": 0,
  "metadata": {
    "colab": {
      "name": "CNN_example_3_1(first_conv_layer_5x5, filter_num_=_32)의 사본",
      "provenance": [],
      "authorship_tag": "ABX9TyO9F831U2udVf29pGO3Qckt",
      "include_colab_link": true
    },
    "kernelspec": {
      "name": "python3",
      "display_name": "Python 3"
    }
  },
  "cells": [
    {
      "cell_type": "markdown",
      "metadata": {
        "id": "view-in-github",
        "colab_type": "text"
      },
      "source": [
        "<a href=\"https://colab.research.google.com/github/Hongjieun123/deeplearning-project/blob/master/CNN_example_3_1(first_conv_layer_5x5%2C_filter_num_%3D_32)%EC%9D%98_%EC%82%AC%EB%B3%B8.ipynb\" target=\"_parent\"><img src=\"https://colab.research.google.com/assets/colab-badge.svg\" alt=\"Open In Colab\"/></a>"
      ]
    },
    {
      "cell_type": "code",
      "metadata": {
        "id": "9TLAp8-yg6xn",
        "colab_type": "code",
        "outputId": "af7611f3-f81c-4dc8-d4c2-e493e5f992b5",
        "colab": {
          "base_uri": "https://localhost:8080/",
          "height": 36
        }
      },
      "source": [
        "# Colab에서 tensorflow 1.x 실행\n",
        "%tensorflow_version 1.x"
      ],
      "execution_count": 1,
      "outputs": [
        {
          "output_type": "stream",
          "text": [
            "TensorFlow 1.x selected.\n"
          ],
          "name": "stdout"
        }
      ]
    },
    {
      "cell_type": "code",
      "metadata": {
        "id": "4fb19Ozcfr7e",
        "colab_type": "code",
        "outputId": "4ad39af9-a922-4e3c-dcf4-b33a8e93f07c",
        "colab": {
          "base_uri": "https://localhost:8080/",
          "height": 709
        }
      },
      "source": [
        "import tensorflow as tf\n",
        "from tensorflow.examples.tutorials.mnist import input_data\n",
        "import numpy as np\n",
        "from datetime import datetime\n",
        "\n",
        "mnist = input_data.read_data_sets('MNIST_data/', one_hot=True)\n",
        "\n",
        "print('\\n', mnist.train.num_examples, mnist.test.num_examples, mnist.validation.num_examples)\n",
        "\n",
        "print('\\ntrain image shape = ', np.shape(mnist.train.images))\n",
        "print('train label shape = ', np.shape(mnist.train.labels))\n",
        "print('test image shape = ', np.shape(mnist.test.images))\n",
        "print('test label shape = ', np.shape(mnist.test.labels))"
      ],
      "execution_count": 2,
      "outputs": [
        {
          "output_type": "stream",
          "text": [
            "WARNING:tensorflow:From <ipython-input-2-b4762e5f4068>:6: read_data_sets (from tensorflow.contrib.learn.python.learn.datasets.mnist) is deprecated and will be removed in a future version.\n",
            "Instructions for updating:\n",
            "Please use alternatives such as official/mnist/dataset.py from tensorflow/models.\n",
            "WARNING:tensorflow:From /tensorflow-1.15.2/python3.6/tensorflow_core/contrib/learn/python/learn/datasets/mnist.py:260: maybe_download (from tensorflow.contrib.learn.python.learn.datasets.base) is deprecated and will be removed in a future version.\n",
            "Instructions for updating:\n",
            "Please write your own downloading logic.\n",
            "WARNING:tensorflow:From /tensorflow-1.15.2/python3.6/tensorflow_core/contrib/learn/python/learn/datasets/base.py:252: _internal_retry.<locals>.wrap.<locals>.wrapped_fn (from tensorflow.contrib.learn.python.learn.datasets.base) is deprecated and will be removed in a future version.\n",
            "Instructions for updating:\n",
            "Please use urllib or similar directly.\n",
            "Successfully downloaded train-images-idx3-ubyte.gz 9912422 bytes.\n",
            "WARNING:tensorflow:From /tensorflow-1.15.2/python3.6/tensorflow_core/contrib/learn/python/learn/datasets/mnist.py:262: extract_images (from tensorflow.contrib.learn.python.learn.datasets.mnist) is deprecated and will be removed in a future version.\n",
            "Instructions for updating:\n",
            "Please use tf.data to implement this functionality.\n",
            "Extracting MNIST_data/train-images-idx3-ubyte.gz\n",
            "Successfully downloaded train-labels-idx1-ubyte.gz 28881 bytes.\n",
            "WARNING:tensorflow:From /tensorflow-1.15.2/python3.6/tensorflow_core/contrib/learn/python/learn/datasets/mnist.py:267: extract_labels (from tensorflow.contrib.learn.python.learn.datasets.mnist) is deprecated and will be removed in a future version.\n",
            "Instructions for updating:\n",
            "Please use tf.data to implement this functionality.\n",
            "Extracting MNIST_data/train-labels-idx1-ubyte.gz\n",
            "WARNING:tensorflow:From /tensorflow-1.15.2/python3.6/tensorflow_core/contrib/learn/python/learn/datasets/mnist.py:110: dense_to_one_hot (from tensorflow.contrib.learn.python.learn.datasets.mnist) is deprecated and will be removed in a future version.\n",
            "Instructions for updating:\n",
            "Please use tf.one_hot on tensors.\n",
            "Successfully downloaded t10k-images-idx3-ubyte.gz 1648877 bytes.\n",
            "Extracting MNIST_data/t10k-images-idx3-ubyte.gz\n",
            "Successfully downloaded t10k-labels-idx1-ubyte.gz 4542 bytes.\n",
            "Extracting MNIST_data/t10k-labels-idx1-ubyte.gz\n",
            "WARNING:tensorflow:From /tensorflow-1.15.2/python3.6/tensorflow_core/contrib/learn/python/learn/datasets/mnist.py:290: DataSet.__init__ (from tensorflow.contrib.learn.python.learn.datasets.mnist) is deprecated and will be removed in a future version.\n",
            "Instructions for updating:\n",
            "Please use alternatives such as official/mnist/dataset.py from tensorflow/models.\n",
            "\n",
            " 55000 10000 5000\n",
            "\n",
            "train image shape =  (55000, 784)\n",
            "train label shape =  (55000, 10)\n",
            "test image shape =  (10000, 784)\n",
            "test label shape =  (10000, 10)\n"
          ],
          "name": "stdout"
        }
      ]
    },
    {
      "cell_type": "code",
      "metadata": {
        "id": "kucoYqrhg62s",
        "colab_type": "code",
        "colab": {}
      },
      "source": [
        "learning_rate = 0.001\n",
        "epochs = 30\n",
        "batch_size = 100"
      ],
      "execution_count": 0,
      "outputs": []
    },
    {
      "cell_type": "code",
      "metadata": {
        "id": "ZJCDz_-5hIRE",
        "colab_type": "code",
        "colab": {}
      },
      "source": [
        "X = tf.placeholder(tf.float32, [None, 784])\n",
        "\n",
        "A1 = X_img = tf.reshape(X,[-1, 28, 28, 1])\n",
        "\n",
        "T = tf.placeholder(tf.float32, [None, 10])  # image 28 X 28 X 1 (black/white)"
      ],
      "execution_count": 0,
      "outputs": []
    },
    {
      "cell_type": "code",
      "metadata": {
        "id": "z8LTazY_hIhD",
        "colab_type": "code",
        "colab": {}
      },
      "source": [
        "# 1번째 컨볼루션 층\n",
        "# 5X5 크기를 가지는 32개의 필터를 적용\n",
        "\n",
        "F2 = tf.Variable(tf.random_normal([5, 5, 1, 32], stddev=0.01))  \n",
        "b2 = tf.Variable(tf.constant(0.1, shape=[32]))   \n",
        "\n",
        "# 1번째 컨볼루션 연산을 통해 28 X 28 X1  => 28 X 28 X 32\n",
        "C2 = tf.nn.conv2d(A1, F2, strides=[1, 1, 1, 1], padding='SAME')\n",
        "\n",
        "# relu\n",
        "Z2 = tf.nn.relu(C2+b2)\n",
        "\n",
        "# 1번째 max pooling을 통해 28 X 28 X 32  => 14 X 14 X 32 \n",
        "A2 = P2 = tf.nn.max_pool(Z2, ksize=[1, 2, 2, 1], strides=[1, 2, 2, 1], padding='SAME')"
      ],
      "execution_count": 0,
      "outputs": []
    },
    {
      "cell_type": "code",
      "metadata": {
        "id": "DjowEnvMhIeM",
        "colab_type": "code",
        "colab": {}
      },
      "source": [
        "# 14X14 크기를 가진 32개의 activation map을 flatten 시킴\n",
        "A2_flat = P2_flat = tf.reshape(A2, [-1, 32*14*14])"
      ],
      "execution_count": 0,
      "outputs": []
    },
    {
      "cell_type": "code",
      "metadata": {
        "id": "knDdM85whIbt",
        "colab_type": "code",
        "colab": {}
      },
      "source": [
        "# 출력층\n",
        "W3 = tf.Variable(tf.random_normal([32*14*14, 10], stddev=0.01))\n",
        "b3 = tf.Variable(tf.random_normal([10]))\n",
        "\n",
        "# 출력층 선형회귀  값 Z3, 즉 softmax 에 들어가는 입력 값\n",
        "Z3 = logits = tf.matmul(A2_flat, W3) + b3    # 선형회귀 값 Z3\n",
        "\n",
        "y = A3 = tf.nn.softmax(Z3)"
      ],
      "execution_count": 0,
      "outputs": []
    },
    {
      "cell_type": "code",
      "metadata": {
        "id": "JZ7GujmahIYG",
        "colab_type": "code",
        "colab": {}
      },
      "source": [
        "loss = tf.reduce_mean( tf.nn.softmax_cross_entropy_with_logits_v2(logits=Z3, labels=T) )\n",
        "\n",
        "optimizer = tf.train.AdamOptimizer(learning_rate)\n",
        "\n",
        "train = optimizer.minimize(loss)"
      ],
      "execution_count": 0,
      "outputs": []
    },
    {
      "cell_type": "code",
      "metadata": {
        "id": "8FruHz2rhIMs",
        "colab_type": "code",
        "colab": {}
      },
      "source": [
        "# batch_size X 10 데이터에 대해 argmax를 통해 행단위로 비교함\n",
        "predicted_val = tf.equal( tf.argmax(A3, 1), tf.argmax(T, 1) )\n",
        "\n",
        "# batch_size X 10 의 True, False 를 1 또는 0 으로 변환\n",
        "accuracy = tf.reduce_mean(tf.cast(predicted_val, dtype=tf.float32))\n",
        "\n",
        "# index list 출력\n",
        "accuracy_index = tf.cast(predicted_val, dtype=tf.float32)\n",
        "\n",
        "# 예측값 처리\n",
        "predicted_list = tf.argmax(A3, 1)"
      ],
      "execution_count": 0,
      "outputs": []
    },
    {
      "cell_type": "code",
      "metadata": {
        "id": "O4qxYaQUhIKo",
        "colab_type": "code",
        "outputId": "0454ecde-574d-4c7c-f247-a9296009d12d",
        "colab": {
          "base_uri": "https://localhost:8080/",
          "height": 1000
        }
      },
      "source": [
        "index_label_prediction_list = []\n",
        "with  tf.Session()  as sess:\n",
        "    \n",
        "    sess.run(tf.global_variables_initializer())  # 변수 노드(tf.Variable) 초기화\n",
        "    \n",
        "    start_time = datetime.now()\n",
        "    \n",
        "    for i in range(epochs):    # 30 번 반복수행\n",
        "        \n",
        "        total_batch = int(mnist.train.num_examples / batch_size)  # 55,000 / 100\n",
        "\n",
        "        for step in range(total_batch):\n",
        "            \n",
        "            batch_x_data, batch_t_data = mnist.train.next_batch(batch_size)\n",
        "      \n",
        "            loss_val, _ = sess.run([loss, train], feed_dict={X: batch_x_data, T: batch_t_data})    \n",
        "        \n",
        "            if step % 100 == 0:\n",
        "                print(\"epochs = \", i, \", step = \", step, \", loss_val = \", loss_val)             \n",
        "    \n",
        "    end_time = datetime.now() \n",
        "    \n",
        "    print(\"\\nelapsed time = \", end_time - start_time) \n",
        "    \n",
        "    # Accuracy 확인\n",
        "    test_x_data = mnist.test.images    # 10000 X 784\n",
        "    test_t_data = mnist.test.labels    # 10000 X 10\n",
        "    \n",
        "    accuracy_val, predicted_list_val, index_label = sess.run([accuracy, predicted_list, accuracy_index], feed_dict={X: test_x_data, T: test_t_data})\n",
        "    \n",
        "    print(\"\\nAccuracy = \", accuracy_val)\n",
        "    print(\"type(accuracy_val) = \", type(accuracy_val), ', type(predicted_list_val) = ', type(predicted_list_val), ', type(index_label) = ', type(index_label))\n",
        "    print(\"index_label.shape = \", index_label.shape)\n",
        "    \n",
        "    index_label_list = list(index_label)\n",
        "    print(\"length of index_label_list = \", len(index_label_list))\n",
        "    print(\"false label count = \", index_label_list.count([0]))\n",
        "        \n",
        "    \n",
        "    temp_list = [] \n",
        "    \n",
        "    for index in range(len(index_label)):\n",
        "        \n",
        "        if index_label[index] == 0:\n",
        "            \n",
        "            temp_list.append(index)\n",
        "            temp_list.append(np.argmax(test_t_data[index]))  # one-hot encoding 이므로 argmax 로 정답 추출\n",
        "            temp_list.append(predicted_list_val[index])\n",
        "            \n",
        "            index_label_prediction_list.append(temp_list)\n",
        "            \n",
        "            temp_list = []\n",
        "            \n",
        "    print(\"\\nlength of index_label_false_list\", len(index_label_prediction_list))"
      ],
      "execution_count": 10,
      "outputs": [
        {
          "output_type": "stream",
          "text": [
            "epochs =  0 , step =  0 , loss_val =  2.8945653\n",
            "epochs =  0 , step =  100 , loss_val =  0.3383136\n",
            "epochs =  0 , step =  200 , loss_val =  0.29850793\n",
            "epochs =  0 , step =  300 , loss_val =  0.18865597\n",
            "epochs =  0 , step =  400 , loss_val =  0.10599794\n",
            "epochs =  0 , step =  500 , loss_val =  0.15769735\n",
            "epochs =  1 , step =  0 , loss_val =  0.074578084\n",
            "epochs =  1 , step =  100 , loss_val =  0.030594401\n",
            "epochs =  1 , step =  200 , loss_val =  0.043987375\n",
            "epochs =  1 , step =  300 , loss_val =  0.09506908\n",
            "epochs =  1 , step =  400 , loss_val =  0.030284844\n",
            "epochs =  1 , step =  500 , loss_val =  0.037330505\n",
            "epochs =  2 , step =  0 , loss_val =  0.13037547\n",
            "epochs =  2 , step =  100 , loss_val =  0.0328264\n",
            "epochs =  2 , step =  200 , loss_val =  0.07396328\n",
            "epochs =  2 , step =  300 , loss_val =  0.116380855\n",
            "epochs =  2 , step =  400 , loss_val =  0.024513252\n",
            "epochs =  2 , step =  500 , loss_val =  0.09840551\n",
            "epochs =  3 , step =  0 , loss_val =  0.012807933\n",
            "epochs =  3 , step =  100 , loss_val =  0.085015774\n",
            "epochs =  3 , step =  200 , loss_val =  0.0555707\n",
            "epochs =  3 , step =  300 , loss_val =  0.057541117\n",
            "epochs =  3 , step =  400 , loss_val =  0.0227044\n",
            "epochs =  3 , step =  500 , loss_val =  0.03118865\n",
            "epochs =  4 , step =  0 , loss_val =  0.08611462\n",
            "epochs =  4 , step =  100 , loss_val =  0.017980475\n",
            "epochs =  4 , step =  200 , loss_val =  0.013499653\n",
            "epochs =  4 , step =  300 , loss_val =  0.030907461\n",
            "epochs =  4 , step =  400 , loss_val =  0.030442104\n",
            "epochs =  4 , step =  500 , loss_val =  0.02204377\n",
            "epochs =  5 , step =  0 , loss_val =  0.057566267\n",
            "epochs =  5 , step =  100 , loss_val =  0.044502288\n",
            "epochs =  5 , step =  200 , loss_val =  0.02010605\n",
            "epochs =  5 , step =  300 , loss_val =  0.0510735\n",
            "epochs =  5 , step =  400 , loss_val =  0.012348621\n",
            "epochs =  5 , step =  500 , loss_val =  0.037676457\n",
            "epochs =  6 , step =  0 , loss_val =  0.04003397\n",
            "epochs =  6 , step =  100 , loss_val =  0.018497817\n",
            "epochs =  6 , step =  200 , loss_val =  0.039735314\n",
            "epochs =  6 , step =  300 , loss_val =  0.08002622\n",
            "epochs =  6 , step =  400 , loss_val =  0.019179413\n",
            "epochs =  6 , step =  500 , loss_val =  0.040235396\n",
            "epochs =  7 , step =  0 , loss_val =  0.017739175\n",
            "epochs =  7 , step =  100 , loss_val =  0.025147097\n",
            "epochs =  7 , step =  200 , loss_val =  0.07695032\n",
            "epochs =  7 , step =  300 , loss_val =  0.01644318\n",
            "epochs =  7 , step =  400 , loss_val =  0.007285256\n",
            "epochs =  7 , step =  500 , loss_val =  0.03326758\n",
            "epochs =  8 , step =  0 , loss_val =  0.01524106\n",
            "epochs =  8 , step =  100 , loss_val =  0.06627461\n",
            "epochs =  8 , step =  200 , loss_val =  0.08504059\n",
            "epochs =  8 , step =  300 , loss_val =  0.033156533\n",
            "epochs =  8 , step =  400 , loss_val =  0.0036907154\n",
            "epochs =  8 , step =  500 , loss_val =  0.011103455\n",
            "epochs =  9 , step =  0 , loss_val =  0.014990601\n",
            "epochs =  9 , step =  100 , loss_val =  0.014541289\n",
            "epochs =  9 , step =  200 , loss_val =  0.010477629\n",
            "epochs =  9 , step =  300 , loss_val =  0.048892163\n",
            "epochs =  9 , step =  400 , loss_val =  0.004518113\n",
            "epochs =  9 , step =  500 , loss_val =  0.009624663\n",
            "epochs =  10 , step =  0 , loss_val =  0.007879116\n",
            "epochs =  10 , step =  100 , loss_val =  0.007168511\n",
            "epochs =  10 , step =  200 , loss_val =  0.05018083\n",
            "epochs =  10 , step =  300 , loss_val =  0.0022373525\n",
            "epochs =  10 , step =  400 , loss_val =  0.013559809\n",
            "epochs =  10 , step =  500 , loss_val =  0.050622754\n",
            "epochs =  11 , step =  0 , loss_val =  0.004892934\n",
            "epochs =  11 , step =  100 , loss_val =  0.020795828\n",
            "epochs =  11 , step =  200 , loss_val =  0.026989011\n",
            "epochs =  11 , step =  300 , loss_val =  0.025654979\n",
            "epochs =  11 , step =  400 , loss_val =  0.011998784\n",
            "epochs =  11 , step =  500 , loss_val =  0.0030477496\n",
            "epochs =  12 , step =  0 , loss_val =  0.012476011\n",
            "epochs =  12 , step =  100 , loss_val =  0.030955976\n",
            "epochs =  12 , step =  200 , loss_val =  0.051446408\n",
            "epochs =  12 , step =  300 , loss_val =  0.009116902\n",
            "epochs =  12 , step =  400 , loss_val =  0.009796503\n",
            "epochs =  12 , step =  500 , loss_val =  0.0129486\n",
            "epochs =  13 , step =  0 , loss_val =  0.007875446\n",
            "epochs =  13 , step =  100 , loss_val =  0.01922023\n",
            "epochs =  13 , step =  200 , loss_val =  0.018399637\n",
            "epochs =  13 , step =  300 , loss_val =  0.018355994\n",
            "epochs =  13 , step =  400 , loss_val =  0.002371861\n",
            "epochs =  13 , step =  500 , loss_val =  0.031417806\n",
            "epochs =  14 , step =  0 , loss_val =  0.008511349\n",
            "epochs =  14 , step =  100 , loss_val =  0.023728143\n",
            "epochs =  14 , step =  200 , loss_val =  0.030282125\n",
            "epochs =  14 , step =  300 , loss_val =  0.0057568317\n",
            "epochs =  14 , step =  400 , loss_val =  0.004369965\n",
            "epochs =  14 , step =  500 , loss_val =  0.0016534117\n",
            "epochs =  15 , step =  0 , loss_val =  0.043369528\n",
            "epochs =  15 , step =  100 , loss_val =  0.018561203\n",
            "epochs =  15 , step =  200 , loss_val =  0.0148510635\n",
            "epochs =  15 , step =  300 , loss_val =  0.015748525\n",
            "epochs =  15 , step =  400 , loss_val =  0.012145511\n",
            "epochs =  15 , step =  500 , loss_val =  0.03643721\n",
            "epochs =  16 , step =  0 , loss_val =  0.0014265394\n",
            "epochs =  16 , step =  100 , loss_val =  0.0025256213\n",
            "epochs =  16 , step =  200 , loss_val =  0.0005786916\n",
            "epochs =  16 , step =  300 , loss_val =  0.0031858087\n",
            "epochs =  16 , step =  400 , loss_val =  0.0033791175\n",
            "epochs =  16 , step =  500 , loss_val =  0.004898558\n",
            "epochs =  17 , step =  0 , loss_val =  0.004755942\n",
            "epochs =  17 , step =  100 , loss_val =  0.013639036\n",
            "epochs =  17 , step =  200 , loss_val =  0.004247553\n",
            "epochs =  17 , step =  300 , loss_val =  0.0072100502\n",
            "epochs =  17 , step =  400 , loss_val =  0.0016936575\n",
            "epochs =  17 , step =  500 , loss_val =  0.0020476996\n",
            "epochs =  18 , step =  0 , loss_val =  0.005765599\n",
            "epochs =  18 , step =  100 , loss_val =  0.0019450657\n",
            "epochs =  18 , step =  200 , loss_val =  0.0011142505\n",
            "epochs =  18 , step =  300 , loss_val =  0.0060068727\n",
            "epochs =  18 , step =  400 , loss_val =  0.003103109\n",
            "epochs =  18 , step =  500 , loss_val =  0.010553821\n",
            "epochs =  19 , step =  0 , loss_val =  0.0013785484\n",
            "epochs =  19 , step =  100 , loss_val =  0.0017019714\n",
            "epochs =  19 , step =  200 , loss_val =  0.0054401215\n",
            "epochs =  19 , step =  300 , loss_val =  0.012448511\n",
            "epochs =  19 , step =  400 , loss_val =  0.00024032885\n",
            "epochs =  19 , step =  500 , loss_val =  0.00547943\n",
            "epochs =  20 , step =  0 , loss_val =  0.010938978\n",
            "epochs =  20 , step =  100 , loss_val =  0.0066866274\n",
            "epochs =  20 , step =  200 , loss_val =  0.0037196137\n",
            "epochs =  20 , step =  300 , loss_val =  0.0015245862\n",
            "epochs =  20 , step =  400 , loss_val =  0.0076469057\n",
            "epochs =  20 , step =  500 , loss_val =  0.025003595\n",
            "epochs =  21 , step =  0 , loss_val =  0.0015533839\n",
            "epochs =  21 , step =  100 , loss_val =  0.00067302183\n",
            "epochs =  21 , step =  200 , loss_val =  0.013463296\n",
            "epochs =  21 , step =  300 , loss_val =  0.011430094\n",
            "epochs =  21 , step =  400 , loss_val =  0.0009795147\n",
            "epochs =  21 , step =  500 , loss_val =  0.012736364\n",
            "epochs =  22 , step =  0 , loss_val =  0.00094242324\n",
            "epochs =  22 , step =  100 , loss_val =  0.00096428767\n",
            "epochs =  22 , step =  200 , loss_val =  0.0023029365\n",
            "epochs =  22 , step =  300 , loss_val =  0.0068969666\n",
            "epochs =  22 , step =  400 , loss_val =  0.010320011\n",
            "epochs =  22 , step =  500 , loss_val =  0.013856655\n",
            "epochs =  23 , step =  0 , loss_val =  0.00056424254\n",
            "epochs =  23 , step =  100 , loss_val =  0.00038642698\n",
            "epochs =  23 , step =  200 , loss_val =  0.00084994064\n",
            "epochs =  23 , step =  300 , loss_val =  0.004768636\n",
            "epochs =  23 , step =  400 , loss_val =  0.021853881\n",
            "epochs =  23 , step =  500 , loss_val =  0.0014842865\n",
            "epochs =  24 , step =  0 , loss_val =  0.008398772\n",
            "epochs =  24 , step =  100 , loss_val =  0.006303053\n",
            "epochs =  24 , step =  200 , loss_val =  0.00038469146\n",
            "epochs =  24 , step =  300 , loss_val =  0.009653701\n",
            "epochs =  24 , step =  400 , loss_val =  0.006849795\n",
            "epochs =  24 , step =  500 , loss_val =  0.0056523276\n",
            "epochs =  25 , step =  0 , loss_val =  0.00033524365\n",
            "epochs =  25 , step =  100 , loss_val =  0.0024917822\n",
            "epochs =  25 , step =  200 , loss_val =  0.014885591\n",
            "epochs =  25 , step =  300 , loss_val =  0.0009833155\n",
            "epochs =  25 , step =  400 , loss_val =  0.0054646367\n",
            "epochs =  25 , step =  500 , loss_val =  0.001727837\n",
            "epochs =  26 , step =  0 , loss_val =  0.00083992415\n",
            "epochs =  26 , step =  100 , loss_val =  0.00085742044\n",
            "epochs =  26 , step =  200 , loss_val =  0.0063333577\n",
            "epochs =  26 , step =  300 , loss_val =  0.0012369632\n",
            "epochs =  26 , step =  400 , loss_val =  0.004197417\n",
            "epochs =  26 , step =  500 , loss_val =  0.0012091999\n",
            "epochs =  27 , step =  0 , loss_val =  0.0010634846\n",
            "epochs =  27 , step =  100 , loss_val =  0.0019924021\n",
            "epochs =  27 , step =  200 , loss_val =  0.0005219714\n",
            "epochs =  27 , step =  300 , loss_val =  0.007552649\n",
            "epochs =  27 , step =  400 , loss_val =  0.0005663317\n",
            "epochs =  27 , step =  500 , loss_val =  0.0028130405\n",
            "epochs =  28 , step =  0 , loss_val =  0.00061990303\n",
            "epochs =  28 , step =  100 , loss_val =  0.0015384747\n",
            "epochs =  28 , step =  200 , loss_val =  0.001012314\n",
            "epochs =  28 , step =  300 , loss_val =  0.0013608683\n",
            "epochs =  28 , step =  400 , loss_val =  0.016348358\n",
            "epochs =  28 , step =  500 , loss_val =  0.0026205473\n",
            "epochs =  29 , step =  0 , loss_val =  0.00012549397\n",
            "epochs =  29 , step =  100 , loss_val =  0.0006092975\n",
            "epochs =  29 , step =  200 , loss_val =  0.00089534675\n",
            "epochs =  29 , step =  300 , loss_val =  0.033896193\n",
            "epochs =  29 , step =  400 , loss_val =  5.6861165e-05\n",
            "epochs =  29 , step =  500 , loss_val =  0.00027988316\n",
            "\n",
            "elapsed time =  0:13:40.941212\n",
            "\n",
            "Accuracy =  0.9871\n",
            "type(accuracy_val) =  <class 'numpy.float32'> , type(predicted_list_val) =  <class 'numpy.ndarray'> , type(index_label) =  <class 'numpy.ndarray'>\n",
            "index_label.shape =  (10000,)\n",
            "length of index_label_list =  10000\n",
            "false label count =  129\n",
            "\n",
            "length of index_label_false_list 129\n"
          ],
          "name": "stdout"
        }
      ]
    },
    {
      "cell_type": "code",
      "metadata": {
        "id": "f9yxEQoQhIJN",
        "colab_type": "code",
        "colab": {}
      },
      "source": [
        ""
      ],
      "execution_count": 0,
      "outputs": []
    },
    {
      "cell_type": "code",
      "metadata": {
        "id": "H5amMwqBhIHc",
        "colab_type": "code",
        "colab": {}
      },
      "source": [
        ""
      ],
      "execution_count": 0,
      "outputs": []
    },
    {
      "cell_type": "code",
      "metadata": {
        "id": "rUK6K7_GhIDw",
        "colab_type": "code",
        "colab": {}
      },
      "source": [
        ""
      ],
      "execution_count": 0,
      "outputs": []
    },
    {
      "cell_type": "code",
      "metadata": {
        "id": "X2bcuzkBhIB3",
        "colab_type": "code",
        "colab": {}
      },
      "source": [
        ""
      ],
      "execution_count": 0,
      "outputs": []
    },
    {
      "cell_type": "code",
      "metadata": {
        "id": "BhpiyrXRhIAS",
        "colab_type": "code",
        "colab": {}
      },
      "source": [
        ""
      ],
      "execution_count": 0,
      "outputs": []
    },
    {
      "cell_type": "code",
      "metadata": {
        "id": "rkysBnI6hH-U",
        "colab_type": "code",
        "colab": {}
      },
      "source": [
        ""
      ],
      "execution_count": 0,
      "outputs": []
    },
    {
      "cell_type": "code",
      "metadata": {
        "id": "8KhtxNYvhH8P",
        "colab_type": "code",
        "colab": {}
      },
      "source": [
        ""
      ],
      "execution_count": 0,
      "outputs": []
    },
    {
      "cell_type": "code",
      "metadata": {
        "id": "M_sDvQzBhH6f",
        "colab_type": "code",
        "colab": {}
      },
      "source": [
        ""
      ],
      "execution_count": 0,
      "outputs": []
    },
    {
      "cell_type": "code",
      "metadata": {
        "id": "XvfmuYzUhH4S",
        "colab_type": "code",
        "colab": {}
      },
      "source": [
        ""
      ],
      "execution_count": 0,
      "outputs": []
    },
    {
      "cell_type": "code",
      "metadata": {
        "id": "-z5pLjethH0F",
        "colab_type": "code",
        "colab": {}
      },
      "source": [
        ""
      ],
      "execution_count": 0,
      "outputs": []
    },
    {
      "cell_type": "code",
      "metadata": {
        "id": "35VCqGzBg6vl",
        "colab_type": "code",
        "colab": {}
      },
      "source": [
        ""
      ],
      "execution_count": 0,
      "outputs": []
    },
    {
      "cell_type": "code",
      "metadata": {
        "id": "T1d3LVwng6sl",
        "colab_type": "code",
        "colab": {}
      },
      "source": [
        ""
      ],
      "execution_count": 0,
      "outputs": []
    }
  ]
}