{
  "nbformat": 4,
  "nbformat_minor": 0,
  "metadata": {
    "colab": {
      "name": "CNN_example_3_1(first conv layer 3x3, second conv layer 3x3 filter num = 32,32).ipynb",
      "provenance": [],
      "authorship_tag": "ABX9TyP9r31Ei/mCI+Pd6dJBpIoX",
      "include_colab_link": true
    },
    "kernelspec": {
      "name": "python3",
      "display_name": "Python 3"
    }
  },
  "cells": [
    {
      "cell_type": "markdown",
      "metadata": {
        "id": "view-in-github",
        "colab_type": "text"
      },
      "source": [
        "<a href=\"https://colab.research.google.com/github/Hongjieun123/deeplearning-project/blob/master/CNN_example_3_1(first_conv_layer_3x3%2C_second_conv_layer_3x3_filter_num_%3D_32%2C32).ipynb\" target=\"_parent\"><img src=\"https://colab.research.google.com/assets/colab-badge.svg\" alt=\"Open In Colab\"/></a>"
      ]
    },
    {
      "cell_type": "code",
      "metadata": {
        "id": "aculRYMXFG1n",
        "colab_type": "code",
        "colab": {
          "base_uri": "https://localhost:8080/",
          "height": 35
        },
        "outputId": "e1d7c933-3c4d-4dd8-b9a6-9803b4a4b3c7"
      },
      "source": [
        "# Colab에서 tensorflow 1.x 실행\n",
        "%tensorflow_version 1.x"
      ],
      "execution_count": 1,
      "outputs": [
        {
          "output_type": "stream",
          "text": [
            "TensorFlow 1.x selected.\n"
          ],
          "name": "stdout"
        }
      ]
    },
    {
      "cell_type": "code",
      "metadata": {
        "id": "FS0yMIONE0EH",
        "colab_type": "code",
        "colab": {
          "base_uri": "https://localhost:8080/",
          "height": 685
        },
        "outputId": "b08317ef-5ddb-4dd9-ed3c-a2072f3e42db"
      },
      "source": [
        "import tensorflow as tf\n",
        "from tensorflow.examples.tutorials.mnist import input_data\n",
        "import numpy as np\n",
        "from datetime import datetime\n",
        "\n",
        "mnist = input_data.read_data_sets('MNIST_data/', one_hot=True)\n",
        "\n",
        "print('\\n', mnist.train.num_examples, mnist.test.num_examples, mnist.validation.num_examples)\n",
        "\n",
        "print('\\ntrain image shape = ', np.shape(mnist.train.images))\n",
        "print('train label shape = ', np.shape(mnist.train.labels))\n",
        "print('test image shape = ', np.shape(mnist.test.images))\n",
        "print('test label shape = ', np.shape(mnist.test.labels))"
      ],
      "execution_count": 2,
      "outputs": [
        {
          "output_type": "stream",
          "text": [
            "WARNING:tensorflow:From <ipython-input-2-b4762e5f4068>:6: read_data_sets (from tensorflow.contrib.learn.python.learn.datasets.mnist) is deprecated and will be removed in a future version.\n",
            "Instructions for updating:\n",
            "Please use alternatives such as official/mnist/dataset.py from tensorflow/models.\n",
            "WARNING:tensorflow:From /tensorflow-1.15.2/python3.6/tensorflow_core/contrib/learn/python/learn/datasets/mnist.py:260: maybe_download (from tensorflow.contrib.learn.python.learn.datasets.base) is deprecated and will be removed in a future version.\n",
            "Instructions for updating:\n",
            "Please write your own downloading logic.\n",
            "WARNING:tensorflow:From /tensorflow-1.15.2/python3.6/tensorflow_core/contrib/learn/python/learn/datasets/base.py:252: _internal_retry.<locals>.wrap.<locals>.wrapped_fn (from tensorflow.contrib.learn.python.learn.datasets.base) is deprecated and will be removed in a future version.\n",
            "Instructions for updating:\n",
            "Please use urllib or similar directly.\n",
            "Successfully downloaded train-images-idx3-ubyte.gz 9912422 bytes.\n",
            "WARNING:tensorflow:From /tensorflow-1.15.2/python3.6/tensorflow_core/contrib/learn/python/learn/datasets/mnist.py:262: extract_images (from tensorflow.contrib.learn.python.learn.datasets.mnist) is deprecated and will be removed in a future version.\n",
            "Instructions for updating:\n",
            "Please use tf.data to implement this functionality.\n",
            "Extracting MNIST_data/train-images-idx3-ubyte.gz\n",
            "Successfully downloaded train-labels-idx1-ubyte.gz 28881 bytes.\n",
            "WARNING:tensorflow:From /tensorflow-1.15.2/python3.6/tensorflow_core/contrib/learn/python/learn/datasets/mnist.py:267: extract_labels (from tensorflow.contrib.learn.python.learn.datasets.mnist) is deprecated and will be removed in a future version.\n",
            "Instructions for updating:\n",
            "Please use tf.data to implement this functionality.\n",
            "Extracting MNIST_data/train-labels-idx1-ubyte.gz\n",
            "WARNING:tensorflow:From /tensorflow-1.15.2/python3.6/tensorflow_core/contrib/learn/python/learn/datasets/mnist.py:110: dense_to_one_hot (from tensorflow.contrib.learn.python.learn.datasets.mnist) is deprecated and will be removed in a future version.\n",
            "Instructions for updating:\n",
            "Please use tf.one_hot on tensors.\n",
            "Successfully downloaded t10k-images-idx3-ubyte.gz 1648877 bytes.\n",
            "Extracting MNIST_data/t10k-images-idx3-ubyte.gz\n",
            "Successfully downloaded t10k-labels-idx1-ubyte.gz 4542 bytes.\n",
            "Extracting MNIST_data/t10k-labels-idx1-ubyte.gz\n",
            "WARNING:tensorflow:From /tensorflow-1.15.2/python3.6/tensorflow_core/contrib/learn/python/learn/datasets/mnist.py:290: DataSet.__init__ (from tensorflow.contrib.learn.python.learn.datasets.mnist) is deprecated and will be removed in a future version.\n",
            "Instructions for updating:\n",
            "Please use alternatives such as official/mnist/dataset.py from tensorflow/models.\n",
            "\n",
            " 55000 10000 5000\n",
            "\n",
            "train image shape =  (55000, 784)\n",
            "train label shape =  (55000, 10)\n",
            "test image shape =  (10000, 784)\n",
            "test label shape =  (10000, 10)\n"
          ],
          "name": "stdout"
        }
      ]
    },
    {
      "cell_type": "code",
      "metadata": {
        "id": "SbTbW8KdFG4X",
        "colab_type": "code",
        "colab": {}
      },
      "source": [
        "learning_rate = 0.001\n",
        "epochs = 30\n",
        "batch_size = 100"
      ],
      "execution_count": 0,
      "outputs": []
    },
    {
      "cell_type": "code",
      "metadata": {
        "id": "HBGImi4ZFG83",
        "colab_type": "code",
        "colab": {}
      },
      "source": [
        "X = tf.placeholder(tf.float32, [None, 784])\n",
        "\n",
        "A1 = X_img = tf.reshape(X,[-1, 28, 28, 1])\n",
        "\n",
        "T = tf.placeholder(tf.float32, [None, 10])  # image 28 X 28 X 1 (black/white)"
      ],
      "execution_count": 0,
      "outputs": []
    },
    {
      "cell_type": "code",
      "metadata": {
        "id": "ZvyISyZ0FHBM",
        "colab_type": "code",
        "colab": {}
      },
      "source": [
        "# 1번째 컨볼루션 층\n",
        "# 3X3 크기를 가지는 32개의 필터를 적용\n",
        "\n",
        "F2 = tf.Variable(tf.random_normal([3, 3, 1, 32], stddev=0.01))  \n",
        "b2 = tf.Variable(tf.constant(0.1, shape=[32]))   \n",
        "\n",
        "# 1번째 컨볼루션 연산을 통해 28 X 28 X1  => 28 X 28 X 32\n",
        "C2 = tf.nn.conv2d(A1, F2, strides=[1, 1, 1, 1], padding='SAME')\n",
        "\n",
        "# relu\n",
        "Z2 = tf.nn.relu(C2+b2)\n",
        "\n",
        "# 1번째 max pooling을 통해 28 X 28 X 32  => 14 X 14 X 32 \n",
        "A2 = P2 = tf.nn.max_pool(Z2, ksize=[1, 2, 2, 1], strides=[1, 2, 2, 1], padding='SAME')"
      ],
      "execution_count": 0,
      "outputs": []
    },
    {
      "cell_type": "code",
      "metadata": {
        "id": "kGoG4If0FHFr",
        "colab_type": "code",
        "colab": {}
      },
      "source": [
        "# 2번째 컨볼루션 층\n",
        "# 3X3 크기를 가지는 32개의 필터를 적용\n",
        "\n",
        "F3 = tf.Variable(tf.random_normal([3, 3, 32, 32], stddev=0.01))  \n",
        "b3 = tf.Variable(tf.constant(0.1, shape=[32]))   \n",
        "\n",
        "# 2번째 컨볼루션 연산을 통해 14 X 14 X32  => 14 X 14 X 32\n",
        "C3 = tf.nn.conv2d(A2, F3, strides=[1, 1, 1, 1], padding='SAME')\n",
        "\n",
        "# relu\n",
        "Z3= tf.nn.relu(C3+b3)\n",
        "\n",
        "# 2번째 max pooling을 통해 14 X 14 X 32  => 7 X 7 X 32\n",
        "A3= P3 = tf.nn.max_pool(Z3, ksize=[1, 2, 2, 1], strides=[1, 2, 2, 1], padding='SAME')"
      ],
      "execution_count": 0,
      "outputs": []
    },
    {
      "cell_type": "code",
      "metadata": {
        "id": "JQ92oO8AFHIg",
        "colab_type": "code",
        "colab": {}
      },
      "source": [
        "# 7X7 크기를 가진 32개의 activation map을 flatten 시킴\n",
        "A3_flat = P3_flat = tf.reshape(A3, [-1, 32*7*7])"
      ],
      "execution_count": 0,
      "outputs": []
    },
    {
      "cell_type": "code",
      "metadata": {
        "id": "BWE7ch2iGEb-",
        "colab_type": "code",
        "colab": {}
      },
      "source": [
        "# 출력층\n",
        "W4 = tf.Variable(tf.random_normal([32*7*7, 10], stddev=0.01))\n",
        "b4 = tf.Variable(tf.random_normal([10]))\n",
        "\n",
        "# 출력층 선형회귀  값 Z4, 즉 softmax 에 들어가는 입력 값\n",
        "Z4 = logits = tf.matmul(A3_flat, W4) + b4    # 선형회귀 값 Z4\n",
        "\n",
        "y = A4 = tf.nn.softmax(Z4)"
      ],
      "execution_count": 0,
      "outputs": []
    },
    {
      "cell_type": "code",
      "metadata": {
        "id": "8GKce8G8GFj2",
        "colab_type": "code",
        "colab": {}
      },
      "source": [
        "loss = tf.reduce_mean( tf.nn.softmax_cross_entropy_with_logits_v2(logits=Z4, labels=T) )\n",
        "\n",
        "optimizer = tf.train.AdamOptimizer(learning_rate)\n",
        "\n",
        "train = optimizer.minimize(loss)  "
      ],
      "execution_count": 0,
      "outputs": []
    },
    {
      "cell_type": "code",
      "metadata": {
        "id": "odOcUOhmGFig",
        "colab_type": "code",
        "colab": {}
      },
      "source": [
        "# batch_size X 10 데이터에 대해 argmax를 통해 행단위로 비교함\n",
        "predicted_val = tf.equal( tf.argmax(A4, 1), tf.argmax(T, 1) )\n",
        "\n",
        "# batch_size X 10 의 True, False 를 1 또는 0 으로 변환\n",
        "accuracy = tf.reduce_mean(tf.cast(predicted_val, dtype=tf.float32))\n",
        "\n",
        "# index list 출력\n",
        "accuracy_index = tf.cast(predicted_val, dtype=tf.float32)\n",
        "\n",
        "# 예측값 처리\n",
        "predicted_list = tf.argmax(A4, 1)"
      ],
      "execution_count": 0,
      "outputs": []
    },
    {
      "cell_type": "code",
      "metadata": {
        "id": "XjMLNw7UGFg2",
        "colab_type": "code",
        "colab": {
          "base_uri": "https://localhost:8080/",
          "height": 1000
        },
        "outputId": "2c359f00-6a75-4a2e-c0f4-b67b7828e0d5"
      },
      "source": [
        "index_label_prediction_list = []\n",
        "\n",
        "with  tf.Session()  as sess:\n",
        "    \n",
        "    sess.run(tf.global_variables_initializer())  # 변수 노드(tf.Variable) 초기화\n",
        "    \n",
        "    start_time = datetime.now()\n",
        "    \n",
        "    for i in range(epochs):    # 30 번 반복수행\n",
        "        \n",
        "        total_batch = int(mnist.train.num_examples / batch_size)  # 55,000 / 100\n",
        "\n",
        "        for step in range(total_batch):\n",
        "            \n",
        "            batch_x_data, batch_t_data = mnist.train.next_batch(batch_size)\n",
        "      \n",
        "            loss_val, _ = sess.run([loss, train], feed_dict={X: batch_x_data, T: batch_t_data})    \n",
        "        \n",
        "            if step % 100 == 0:\n",
        "                print(\"epochs = \", i, \", step = \", step, \", loss_val = \", loss_val)             \n",
        "    \n",
        "    end_time = datetime.now() \n",
        "    \n",
        "    print(\"\\nelapsed time = \", end_time - start_time) \n",
        "    \n",
        "    # Accuracy 확인\n",
        "    test_x_data = mnist.test.images    # 10000 X 784\n",
        "    test_t_data = mnist.test.labels    # 10000 X 10\n",
        "    \n",
        "    accuracy_val, predicted_list_val, index_label = sess.run([accuracy, predicted_list, accuracy_index], feed_dict={X: test_x_data, T: test_t_data})\n",
        "    \n",
        "    print(\"\\nAccuracy = \", accuracy_val)\n",
        "    print(\"type(accuracy_val) = \", type(accuracy_val), ', type(predicted_list_val) = ', type(predicted_list_val), ', type(index_label) = ', type(index_label))\n",
        "    print(\"index_label.shape = \", index_label.shape)\n",
        "    \n",
        "    index_label_list = list(index_label)\n",
        "    print(\"length of index_label_list = \", len(index_label_list))\n",
        "    print(\"false label count = \", index_label_list.count([0]))\n",
        "        \n",
        "    \n",
        "    temp_list = [] \n",
        "    \n",
        "    for index in range(len(index_label)):\n",
        "        \n",
        "        if index_label[index] == 0:\n",
        "            \n",
        "            temp_list.append(index)\n",
        "            temp_list.append(np.argmax(test_t_data[index]))  # one-hot encoding 이므로 argmax 로 정답 추출\n",
        "            temp_list.append(predicted_list_val[index])\n",
        "            \n",
        "            index_label_prediction_list.append(temp_list)\n",
        "            \n",
        "            temp_list = []\n",
        "            \n",
        "    print(\"\\nlength of index_label_false_list\", len(index_label_prediction_list))"
      ],
      "execution_count": 11,
      "outputs": [
        {
          "output_type": "stream",
          "text": [
            "epochs =  0 , step =  0 , loss_val =  2.9238355\n",
            "epochs =  0 , step =  100 , loss_val =  2.191527\n",
            "epochs =  0 , step =  200 , loss_val =  0.3690815\n",
            "epochs =  0 , step =  300 , loss_val =  0.37635377\n",
            "epochs =  0 , step =  400 , loss_val =  0.1691321\n",
            "epochs =  0 , step =  500 , loss_val =  0.24058941\n",
            "epochs =  1 , step =  0 , loss_val =  0.25587964\n",
            "epochs =  1 , step =  100 , loss_val =  0.08409407\n",
            "epochs =  1 , step =  200 , loss_val =  0.100992605\n",
            "epochs =  1 , step =  300 , loss_val =  0.2029739\n",
            "epochs =  1 , step =  400 , loss_val =  0.13095465\n",
            "epochs =  1 , step =  500 , loss_val =  0.13269824\n",
            "epochs =  2 , step =  0 , loss_val =  0.13598359\n",
            "epochs =  2 , step =  100 , loss_val =  0.066308096\n",
            "epochs =  2 , step =  200 , loss_val =  0.08603678\n",
            "epochs =  2 , step =  300 , loss_val =  0.07871208\n",
            "epochs =  2 , step =  400 , loss_val =  0.21975046\n",
            "epochs =  2 , step =  500 , loss_val =  0.053464152\n",
            "epochs =  3 , step =  0 , loss_val =  0.050655264\n",
            "epochs =  3 , step =  100 , loss_val =  0.052118\n",
            "epochs =  3 , step =  200 , loss_val =  0.06064246\n",
            "epochs =  3 , step =  300 , loss_val =  0.034671523\n",
            "epochs =  3 , step =  400 , loss_val =  0.042906284\n",
            "epochs =  3 , step =  500 , loss_val =  0.09008921\n",
            "epochs =  4 , step =  0 , loss_val =  0.09591821\n",
            "epochs =  4 , step =  100 , loss_val =  0.02055221\n",
            "epochs =  4 , step =  200 , loss_val =  0.028342122\n",
            "epochs =  4 , step =  300 , loss_val =  0.10284809\n",
            "epochs =  4 , step =  400 , loss_val =  0.03632177\n",
            "epochs =  4 , step =  500 , loss_val =  0.011508941\n",
            "epochs =  5 , step =  0 , loss_val =  0.06833875\n",
            "epochs =  5 , step =  100 , loss_val =  0.092983514\n",
            "epochs =  5 , step =  200 , loss_val =  0.0317218\n",
            "epochs =  5 , step =  300 , loss_val =  0.041627046\n",
            "epochs =  5 , step =  400 , loss_val =  0.03088649\n",
            "epochs =  5 , step =  500 , loss_val =  0.018688563\n",
            "epochs =  6 , step =  0 , loss_val =  0.022598276\n",
            "epochs =  6 , step =  100 , loss_val =  0.028357951\n",
            "epochs =  6 , step =  200 , loss_val =  0.035885297\n",
            "epochs =  6 , step =  300 , loss_val =  0.06875575\n",
            "epochs =  6 , step =  400 , loss_val =  0.014912749\n",
            "epochs =  6 , step =  500 , loss_val =  0.0244033\n",
            "epochs =  7 , step =  0 , loss_val =  0.031586662\n",
            "epochs =  7 , step =  100 , loss_val =  0.025069205\n",
            "epochs =  7 , step =  200 , loss_val =  0.020848362\n",
            "epochs =  7 , step =  300 , loss_val =  0.014086731\n",
            "epochs =  7 , step =  400 , loss_val =  0.12333185\n",
            "epochs =  7 , step =  500 , loss_val =  0.07113089\n",
            "epochs =  8 , step =  0 , loss_val =  0.0441168\n",
            "epochs =  8 , step =  100 , loss_val =  0.016336335\n",
            "epochs =  8 , step =  200 , loss_val =  0.03408884\n",
            "epochs =  8 , step =  300 , loss_val =  0.034760214\n",
            "epochs =  8 , step =  400 , loss_val =  0.013093381\n",
            "epochs =  8 , step =  500 , loss_val =  0.025198707\n",
            "epochs =  9 , step =  0 , loss_val =  0.021649634\n",
            "epochs =  9 , step =  100 , loss_val =  0.009664415\n",
            "epochs =  9 , step =  200 , loss_val =  0.07680279\n",
            "epochs =  9 , step =  300 , loss_val =  0.011502746\n",
            "epochs =  9 , step =  400 , loss_val =  0.04431047\n",
            "epochs =  9 , step =  500 , loss_val =  0.025644721\n",
            "epochs =  10 , step =  0 , loss_val =  0.024796935\n",
            "epochs =  10 , step =  100 , loss_val =  0.012925509\n",
            "epochs =  10 , step =  200 , loss_val =  0.026043724\n",
            "epochs =  10 , step =  300 , loss_val =  0.024472427\n",
            "epochs =  10 , step =  400 , loss_val =  0.019712506\n",
            "epochs =  10 , step =  500 , loss_val =  0.038563512\n",
            "epochs =  11 , step =  0 , loss_val =  0.040427297\n",
            "epochs =  11 , step =  100 , loss_val =  0.0042224796\n",
            "epochs =  11 , step =  200 , loss_val =  0.0047641755\n",
            "epochs =  11 , step =  300 , loss_val =  0.0085879415\n",
            "epochs =  11 , step =  400 , loss_val =  0.017924525\n",
            "epochs =  11 , step =  500 , loss_val =  0.037200395\n",
            "epochs =  12 , step =  0 , loss_val =  0.09146419\n",
            "epochs =  12 , step =  100 , loss_val =  0.010867783\n",
            "epochs =  12 , step =  200 , loss_val =  0.0066697146\n",
            "epochs =  12 , step =  300 , loss_val =  0.017054193\n",
            "epochs =  12 , step =  400 , loss_val =  0.063085034\n",
            "epochs =  12 , step =  500 , loss_val =  0.010377345\n",
            "epochs =  13 , step =  0 , loss_val =  0.0029347432\n",
            "epochs =  13 , step =  100 , loss_val =  0.001069656\n",
            "epochs =  13 , step =  200 , loss_val =  0.0066427034\n",
            "epochs =  13 , step =  300 , loss_val =  0.0028320267\n",
            "epochs =  13 , step =  400 , loss_val =  0.0021751688\n",
            "epochs =  13 , step =  500 , loss_val =  0.02178163\n",
            "epochs =  14 , step =  0 , loss_val =  0.014932751\n",
            "epochs =  14 , step =  100 , loss_val =  0.0030574864\n",
            "epochs =  14 , step =  200 , loss_val =  0.023344396\n",
            "epochs =  14 , step =  300 , loss_val =  0.031287\n",
            "epochs =  14 , step =  400 , loss_val =  0.01492531\n",
            "epochs =  14 , step =  500 , loss_val =  0.012625638\n",
            "epochs =  15 , step =  0 , loss_val =  0.0028697895\n",
            "epochs =  15 , step =  100 , loss_val =  0.014119264\n",
            "epochs =  15 , step =  200 , loss_val =  0.004004229\n",
            "epochs =  15 , step =  300 , loss_val =  0.025041837\n",
            "epochs =  15 , step =  400 , loss_val =  0.0029526183\n",
            "epochs =  15 , step =  500 , loss_val =  0.07674021\n",
            "epochs =  16 , step =  0 , loss_val =  0.001939283\n",
            "epochs =  16 , step =  100 , loss_val =  0.010668974\n",
            "epochs =  16 , step =  200 , loss_val =  0.077071235\n",
            "epochs =  16 , step =  300 , loss_val =  0.0039800387\n",
            "epochs =  16 , step =  400 , loss_val =  0.0041687842\n",
            "epochs =  16 , step =  500 , loss_val =  0.006109542\n",
            "epochs =  17 , step =  0 , loss_val =  0.028450694\n",
            "epochs =  17 , step =  100 , loss_val =  0.021742849\n",
            "epochs =  17 , step =  200 , loss_val =  0.0024898108\n",
            "epochs =  17 , step =  300 , loss_val =  0.013183382\n",
            "epochs =  17 , step =  400 , loss_val =  0.00076556596\n",
            "epochs =  17 , step =  500 , loss_val =  0.08313169\n",
            "epochs =  18 , step =  0 , loss_val =  0.0012121389\n",
            "epochs =  18 , step =  100 , loss_val =  0.0025096363\n",
            "epochs =  18 , step =  200 , loss_val =  0.007134293\n",
            "epochs =  18 , step =  300 , loss_val =  0.007210016\n",
            "epochs =  18 , step =  400 , loss_val =  0.036204424\n",
            "epochs =  18 , step =  500 , loss_val =  0.00072585733\n",
            "epochs =  19 , step =  0 , loss_val =  0.026138162\n",
            "epochs =  19 , step =  100 , loss_val =  0.0046840413\n",
            "epochs =  19 , step =  200 , loss_val =  0.084373094\n",
            "epochs =  19 , step =  300 , loss_val =  0.0011518482\n",
            "epochs =  19 , step =  400 , loss_val =  0.0056236456\n",
            "epochs =  19 , step =  500 , loss_val =  0.0021330374\n",
            "epochs =  20 , step =  0 , loss_val =  0.0055494476\n",
            "epochs =  20 , step =  100 , loss_val =  0.020144023\n",
            "epochs =  20 , step =  200 , loss_val =  0.020265527\n",
            "epochs =  20 , step =  300 , loss_val =  0.0032696642\n",
            "epochs =  20 , step =  400 , loss_val =  0.014538402\n",
            "epochs =  20 , step =  500 , loss_val =  0.0062710964\n",
            "epochs =  21 , step =  0 , loss_val =  0.007855728\n",
            "epochs =  21 , step =  100 , loss_val =  0.0023418711\n",
            "epochs =  21 , step =  200 , loss_val =  0.007715051\n",
            "epochs =  21 , step =  300 , loss_val =  0.003747555\n",
            "epochs =  21 , step =  400 , loss_val =  0.00091997086\n",
            "epochs =  21 , step =  500 , loss_val =  0.011919271\n",
            "epochs =  22 , step =  0 , loss_val =  0.0006555286\n",
            "epochs =  22 , step =  100 , loss_val =  0.0042588995\n",
            "epochs =  22 , step =  200 , loss_val =  4.676475e-05\n",
            "epochs =  22 , step =  300 , loss_val =  0.0015493158\n",
            "epochs =  22 , step =  400 , loss_val =  0.000977461\n",
            "epochs =  22 , step =  500 , loss_val =  0.00086579286\n",
            "epochs =  23 , step =  0 , loss_val =  0.0037139112\n",
            "epochs =  23 , step =  100 , loss_val =  0.007778049\n",
            "epochs =  23 , step =  200 , loss_val =  0.015357396\n",
            "epochs =  23 , step =  300 , loss_val =  0.004768371\n",
            "epochs =  23 , step =  400 , loss_val =  0.024412615\n",
            "epochs =  23 , step =  500 , loss_val =  0.018069262\n",
            "epochs =  24 , step =  0 , loss_val =  0.00017133672\n",
            "epochs =  24 , step =  100 , loss_val =  0.00031871366\n",
            "epochs =  24 , step =  200 , loss_val =  0.0025850963\n",
            "epochs =  24 , step =  300 , loss_val =  0.0003666275\n",
            "epochs =  24 , step =  400 , loss_val =  0.003181412\n",
            "epochs =  24 , step =  500 , loss_val =  0.0016572811\n",
            "epochs =  25 , step =  0 , loss_val =  0.0022683672\n",
            "epochs =  25 , step =  100 , loss_val =  0.0015194332\n",
            "epochs =  25 , step =  200 , loss_val =  0.00043047813\n",
            "epochs =  25 , step =  300 , loss_val =  0.00027414475\n",
            "epochs =  25 , step =  400 , loss_val =  0.0009242089\n",
            "epochs =  25 , step =  500 , loss_val =  0.0072901207\n",
            "epochs =  26 , step =  0 , loss_val =  0.00019772217\n",
            "epochs =  26 , step =  100 , loss_val =  0.0021971187\n",
            "epochs =  26 , step =  200 , loss_val =  0.00049446744\n",
            "epochs =  26 , step =  300 , loss_val =  0.00927973\n",
            "epochs =  26 , step =  400 , loss_val =  0.0074988054\n",
            "epochs =  26 , step =  500 , loss_val =  0.0011079924\n",
            "epochs =  27 , step =  0 , loss_val =  0.0077645592\n",
            "epochs =  27 , step =  100 , loss_val =  0.004822828\n",
            "epochs =  27 , step =  200 , loss_val =  0.005271907\n",
            "epochs =  27 , step =  300 , loss_val =  0.043049697\n",
            "epochs =  27 , step =  400 , loss_val =  0.0006570223\n",
            "epochs =  27 , step =  500 , loss_val =  0.003234955\n",
            "epochs =  28 , step =  0 , loss_val =  0.007005232\n",
            "epochs =  28 , step =  100 , loss_val =  0.0010308642\n",
            "epochs =  28 , step =  200 , loss_val =  0.01699054\n",
            "epochs =  28 , step =  300 , loss_val =  0.0005337993\n",
            "epochs =  28 , step =  400 , loss_val =  7.161981e-05\n",
            "epochs =  28 , step =  500 , loss_val =  0.00056329975\n",
            "epochs =  29 , step =  0 , loss_val =  0.007956831\n",
            "epochs =  29 , step =  100 , loss_val =  0.0014838513\n",
            "epochs =  29 , step =  200 , loss_val =  0.0013215552\n",
            "epochs =  29 , step =  300 , loss_val =  0.008984548\n",
            "epochs =  29 , step =  400 , loss_val =  0.007807003\n",
            "epochs =  29 , step =  500 , loss_val =  0.00060424267\n",
            "\n",
            "elapsed time =  0:20:30.676283\n",
            "\n",
            "Accuracy =  0.9886\n",
            "type(accuracy_val) =  <class 'numpy.float32'> , type(predicted_list_val) =  <class 'numpy.ndarray'> , type(index_label) =  <class 'numpy.ndarray'>\n",
            "index_label.shape =  (10000,)\n",
            "length of index_label_list =  10000\n",
            "false label count =  114\n",
            "\n",
            "length of index_label_false_list 114\n"
          ],
          "name": "stdout"
        }
      ]
    },
    {
      "cell_type": "code",
      "metadata": {
        "id": "98qGx21JGFd1",
        "colab_type": "code",
        "colab": {}
      },
      "source": [
        ""
      ],
      "execution_count": 0,
      "outputs": []
    },
    {
      "cell_type": "code",
      "metadata": {
        "id": "C4lBbU_4GFcR",
        "colab_type": "code",
        "colab": {}
      },
      "source": [
        ""
      ],
      "execution_count": 0,
      "outputs": []
    },
    {
      "cell_type": "code",
      "metadata": {
        "id": "KSQcZU0iGFZc",
        "colab_type": "code",
        "colab": {}
      },
      "source": [
        ""
      ],
      "execution_count": 0,
      "outputs": []
    },
    {
      "cell_type": "code",
      "metadata": {
        "id": "b3RqsMO0GFWe",
        "colab_type": "code",
        "colab": {}
      },
      "source": [
        ""
      ],
      "execution_count": 0,
      "outputs": []
    },
    {
      "cell_type": "code",
      "metadata": {
        "id": "9VrMNgEwGFU-",
        "colab_type": "code",
        "colab": {}
      },
      "source": [
        ""
      ],
      "execution_count": 0,
      "outputs": []
    },
    {
      "cell_type": "code",
      "metadata": {
        "id": "Bg9Nv3l7GFSr",
        "colab_type": "code",
        "colab": {}
      },
      "source": [
        ""
      ],
      "execution_count": 0,
      "outputs": []
    },
    {
      "cell_type": "code",
      "metadata": {
        "id": "zCNC5rEbGFO2",
        "colab_type": "code",
        "colab": {}
      },
      "source": [
        ""
      ],
      "execution_count": 0,
      "outputs": []
    },
    {
      "cell_type": "code",
      "metadata": {
        "id": "EnyMOHs3FHLS",
        "colab_type": "code",
        "colab": {}
      },
      "source": [
        ""
      ],
      "execution_count": 0,
      "outputs": []
    },
    {
      "cell_type": "code",
      "metadata": {
        "id": "y4jskcE7FHDq",
        "colab_type": "code",
        "colab": {}
      },
      "source": [
        ""
      ],
      "execution_count": 0,
      "outputs": []
    },
    {
      "cell_type": "code",
      "metadata": {
        "id": "x202MQULFG_s",
        "colab_type": "code",
        "colab": {}
      },
      "source": [
        ""
      ],
      "execution_count": 0,
      "outputs": []
    },
    {
      "cell_type": "code",
      "metadata": {
        "id": "QYq2kCTcFG7J",
        "colab_type": "code",
        "colab": {}
      },
      "source": [
        ""
      ],
      "execution_count": 0,
      "outputs": []
    }
  ]
}