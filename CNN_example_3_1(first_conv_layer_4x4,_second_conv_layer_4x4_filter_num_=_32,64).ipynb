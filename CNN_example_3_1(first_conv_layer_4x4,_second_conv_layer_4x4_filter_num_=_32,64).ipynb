{
  "nbformat": 4,
  "nbformat_minor": 0,
  "metadata": {
    "kernelspec": {
      "display_name": "Python 3",
      "language": "python",
      "name": "python3"
    },
    "language_info": {
      "codemirror_mode": {
        "name": "ipython",
        "version": 3
      },
      "file_extension": ".py",
      "mimetype": "text/x-python",
      "name": "python",
      "nbconvert_exporter": "python",
      "pygments_lexer": "ipython3",
      "version": "3.7.4"
    },
    "colab": {
      "name": "CNN_example_3_1(first conv layer 4x4, second conv layer 4x4 filter num = 32,64)",
      "provenance": [],
      "include_colab_link": true
    }
  },
  "cells": [
    {
      "cell_type": "markdown",
      "metadata": {
        "id": "view-in-github",
        "colab_type": "text"
      },
      "source": [
        "<a href=\"https://colab.research.google.com/github/Hongjieun123/deeplearning-project/blob/master/CNN_example_3_1(first_conv_layer_4x4%2C_second_conv_layer_4x4_filter_num_%3D_32%2C64).ipynb\" target=\"_parent\"><img src=\"https://colab.research.google.com/assets/colab-badge.svg\" alt=\"Open In Colab\"/></a>"
      ]
    },
    {
      "cell_type": "code",
      "metadata": {
        "id": "zm7Br1h6uu1X",
        "colab_type": "code",
        "outputId": "7a943446-4f84-4dd7-fd53-db43fbc091e8",
        "colab": {
          "base_uri": "https://localhost:8080/",
          "height": 36
        }
      },
      "source": [
        "# Colab에서 tensorflow 1.x 실행\n",
        "%tensorflow_version 1.x"
      ],
      "execution_count": 1,
      "outputs": [
        {
          "output_type": "stream",
          "text": [
            "TensorFlow 1.x selected.\n"
          ],
          "name": "stdout"
        }
      ]
    },
    {
      "cell_type": "code",
      "metadata": {
        "id": "xTN7ue5lucbw",
        "colab_type": "code",
        "outputId": "772ea6d2-4280-48fe-b37c-0fd2265c446b",
        "colab": {
          "base_uri": "https://localhost:8080/",
          "height": 709
        }
      },
      "source": [
        "import tensorflow as tf\n",
        "from tensorflow.examples.tutorials.mnist import input_data\n",
        "import numpy as np\n",
        "from datetime import datetime\n",
        "\n",
        "mnist = input_data.read_data_sets('MNIST_data/', one_hot=True)\n",
        "\n",
        "print('\\n', mnist.train.num_examples, mnist.test.num_examples, mnist.validation.num_examples)\n",
        "\n",
        "print('\\ntrain image shape = ', np.shape(mnist.train.images))\n",
        "print('train label shape = ', np.shape(mnist.train.labels))\n",
        "print('test image shape = ', np.shape(mnist.test.images))\n",
        "print('test label shape = ', np.shape(mnist.test.labels))"
      ],
      "execution_count": 2,
      "outputs": [
        {
          "output_type": "stream",
          "text": [
            "WARNING:tensorflow:From <ipython-input-2-b4762e5f4068>:6: read_data_sets (from tensorflow.contrib.learn.python.learn.datasets.mnist) is deprecated and will be removed in a future version.\n",
            "Instructions for updating:\n",
            "Please use alternatives such as official/mnist/dataset.py from tensorflow/models.\n",
            "WARNING:tensorflow:From /tensorflow-1.15.2/python3.6/tensorflow_core/contrib/learn/python/learn/datasets/mnist.py:260: maybe_download (from tensorflow.contrib.learn.python.learn.datasets.base) is deprecated and will be removed in a future version.\n",
            "Instructions for updating:\n",
            "Please write your own downloading logic.\n",
            "WARNING:tensorflow:From /tensorflow-1.15.2/python3.6/tensorflow_core/contrib/learn/python/learn/datasets/base.py:252: _internal_retry.<locals>.wrap.<locals>.wrapped_fn (from tensorflow.contrib.learn.python.learn.datasets.base) is deprecated and will be removed in a future version.\n",
            "Instructions for updating:\n",
            "Please use urllib or similar directly.\n",
            "Successfully downloaded train-images-idx3-ubyte.gz 9912422 bytes.\n",
            "WARNING:tensorflow:From /tensorflow-1.15.2/python3.6/tensorflow_core/contrib/learn/python/learn/datasets/mnist.py:262: extract_images (from tensorflow.contrib.learn.python.learn.datasets.mnist) is deprecated and will be removed in a future version.\n",
            "Instructions for updating:\n",
            "Please use tf.data to implement this functionality.\n",
            "Extracting MNIST_data/train-images-idx3-ubyte.gz\n",
            "Successfully downloaded train-labels-idx1-ubyte.gz 28881 bytes.\n",
            "WARNING:tensorflow:From /tensorflow-1.15.2/python3.6/tensorflow_core/contrib/learn/python/learn/datasets/mnist.py:267: extract_labels (from tensorflow.contrib.learn.python.learn.datasets.mnist) is deprecated and will be removed in a future version.\n",
            "Instructions for updating:\n",
            "Please use tf.data to implement this functionality.\n",
            "Extracting MNIST_data/train-labels-idx1-ubyte.gz\n",
            "WARNING:tensorflow:From /tensorflow-1.15.2/python3.6/tensorflow_core/contrib/learn/python/learn/datasets/mnist.py:110: dense_to_one_hot (from tensorflow.contrib.learn.python.learn.datasets.mnist) is deprecated and will be removed in a future version.\n",
            "Instructions for updating:\n",
            "Please use tf.one_hot on tensors.\n",
            "Successfully downloaded t10k-images-idx3-ubyte.gz 1648877 bytes.\n",
            "Extracting MNIST_data/t10k-images-idx3-ubyte.gz\n",
            "Successfully downloaded t10k-labels-idx1-ubyte.gz 4542 bytes.\n",
            "Extracting MNIST_data/t10k-labels-idx1-ubyte.gz\n",
            "WARNING:tensorflow:From /tensorflow-1.15.2/python3.6/tensorflow_core/contrib/learn/python/learn/datasets/mnist.py:290: DataSet.__init__ (from tensorflow.contrib.learn.python.learn.datasets.mnist) is deprecated and will be removed in a future version.\n",
            "Instructions for updating:\n",
            "Please use alternatives such as official/mnist/dataset.py from tensorflow/models.\n",
            "\n",
            " 55000 10000 5000\n",
            "\n",
            "train image shape =  (55000, 784)\n",
            "train label shape =  (55000, 10)\n",
            "test image shape =  (10000, 784)\n",
            "test label shape =  (10000, 10)\n"
          ],
          "name": "stdout"
        }
      ]
    },
    {
      "cell_type": "code",
      "metadata": {
        "id": "gSW7hSsWuccP",
        "colab_type": "code",
        "colab": {}
      },
      "source": [
        "learning_rate = 0.001\n",
        "epochs = 30\n",
        "batch_size = 100"
      ],
      "execution_count": 0,
      "outputs": []
    },
    {
      "cell_type": "code",
      "metadata": {
        "id": "XWUQ3TD7ucca",
        "colab_type": "code",
        "colab": {}
      },
      "source": [
        "X = tf.placeholder(tf.float32, [None, 784])\n",
        "\n",
        "A1 = X_img = tf.reshape(X,[-1, 28, 28, 1])\n",
        "\n",
        "T = tf.placeholder(tf.float32, [None, 10])  # image 28 X 28 X 1 (black/white)"
      ],
      "execution_count": 0,
      "outputs": []
    },
    {
      "cell_type": "code",
      "metadata": {
        "id": "e81mstOCucch",
        "colab_type": "code",
        "colab": {}
      },
      "source": [
        "# 1번째 컨볼루션 층\n",
        "# 4X4 크기를 가지는 32개의 필터를 적용\n",
        "\n",
        "F2 = tf.Variable(tf.random_normal([4, 4, 1, 32], stddev=0.01))  \n",
        "b2 = tf.Variable(tf.constant(0.1, shape=[32]))   \n",
        "\n",
        "# 1번째 컨볼루션 연산을 통해 28 X 28 X1  => 28 X 28 X 32\n",
        "C2 = tf.nn.conv2d(A1, F2, strides=[1, 1, 1, 1], padding='SAME')\n",
        "\n",
        "# relu\n",
        "Z2 = tf.nn.relu(C2+b2)\n",
        "\n",
        "# 1번째 max pooling을 통해 28 X 28 X 32  => 14 X 14 X 32\n",
        "A2 = P2 = tf.nn.max_pool(Z2, ksize=[1, 2, 2, 1], strides=[1, 2, 2, 1], padding='SAME')"
      ],
      "execution_count": 0,
      "outputs": []
    },
    {
      "cell_type": "code",
      "metadata": {
        "id": "2fRNliDcucco",
        "colab_type": "code",
        "colab": {}
      },
      "source": [
        "# 2번째 컨볼루션 층\n",
        "# 4X4 크기를 가지는 64개의 필터를 적용\n",
        "\n",
        "F3 = tf.Variable(tf.random_normal([4, 4, 32, 64], stddev=0.01))  \n",
        "b3 = tf.Variable(tf.constant(0.1, shape=[64]))   \n",
        "\n",
        "# 2번째 컨볼루션 연산을 통해 14 X 14 X32  => 14 X 14 X 64\n",
        "C3 = tf.nn.conv2d(A2, F3, strides=[1, 1, 1, 1], padding='SAME')\n",
        "\n",
        "# relu\n",
        "Z3= tf.nn.relu(C3+b3)\n",
        "\n",
        "# 2번째 max pooling을 통해 14 X 14 X 64  => 7 X 7 X 64\n",
        "A3= P3 = tf.nn.max_pool(Z3, ksize=[1, 2, 2, 1], strides=[1, 2, 2, 1], padding='SAME')"
      ],
      "execution_count": 0,
      "outputs": []
    },
    {
      "cell_type": "code",
      "metadata": {
        "id": "uc-OxRiduccy",
        "colab_type": "code",
        "colab": {}
      },
      "source": [
        "# 7X7 크기를 가진 32개의 activation map을 flatten 시킴\n",
        "A3_flat = P3_flat = tf.reshape(A3, [-1, 64*7*7])"
      ],
      "execution_count": 0,
      "outputs": []
    },
    {
      "cell_type": "code",
      "metadata": {
        "id": "cfvy6ZXYucc8",
        "colab_type": "code",
        "colab": {}
      },
      "source": [
        "# 출력층\n",
        "W4 = tf.Variable(tf.random_normal([64*7*7, 10], stddev=0.01))\n",
        "b4 = tf.Variable(tf.random_normal([10]))\n",
        "\n",
        "# 출력층 선형회귀  값 Z4, 즉 softmax 에 들어가는 입력 값\n",
        "Z4 = logits = tf.matmul(A3_flat, W4) + b4    # 선형회귀 값 Z4\n",
        "\n",
        "y = A4 = tf.nn.softmax(Z4)"
      ],
      "execution_count": 0,
      "outputs": []
    },
    {
      "cell_type": "code",
      "metadata": {
        "id": "vbPC_r_QucdP",
        "colab_type": "code",
        "colab": {}
      },
      "source": [
        "loss = tf.reduce_mean( tf.nn.softmax_cross_entropy_with_logits_v2(logits=Z4, labels=T) )\n",
        "\n",
        "optimizer = tf.train.AdamOptimizer(learning_rate)\n",
        "\n",
        "train = optimizer.minimize(loss)"
      ],
      "execution_count": 0,
      "outputs": []
    },
    {
      "cell_type": "code",
      "metadata": {
        "id": "Ly_6cqGrucdU",
        "colab_type": "code",
        "colab": {}
      },
      "source": [
        "# batch_size X 10 데이터에 대해 argmax를 통해 행단위로 비교함\n",
        "predicted_val = tf.equal( tf.argmax(A4, 1), tf.argmax(T, 1) )\n",
        "\n",
        "# batch_size X 10 의 True, False 를 1 또는 0 으로 변환\n",
        "accuracy = tf.reduce_mean(tf.cast(predicted_val, dtype=tf.float32))\n",
        "\n",
        "# index list 출력\n",
        "accuracy_index = tf.cast(predicted_val, dtype=tf.float32)\n",
        "\n",
        "# 예측값 처리\n",
        "predicted_list = tf.argmax(A4, 1)"
      ],
      "execution_count": 0,
      "outputs": []
    },
    {
      "cell_type": "code",
      "metadata": {
        "id": "vgxuwi4Fucdb",
        "colab_type": "code",
        "outputId": "d329286e-129e-4acb-a04e-389c80923266",
        "colab": {
          "base_uri": "https://localhost:8080/",
          "height": 1000
        }
      },
      "source": [
        "index_label_prediction_list = []\n",
        "\n",
        "with  tf.Session()  as sess:\n",
        "    \n",
        "    sess.run(tf.global_variables_initializer())  # 변수 노드(tf.Variable) 초기화\n",
        "    \n",
        "    start_time = datetime.now()\n",
        "    \n",
        "    for i in range(epochs):    # 30 번 반복수행\n",
        "        \n",
        "        total_batch = int(mnist.train.num_examples / batch_size)  # 55,000 / 100\n",
        "\n",
        "        for step in range(total_batch):\n",
        "            \n",
        "            batch_x_data, batch_t_data = mnist.train.next_batch(batch_size)\n",
        "      \n",
        "            loss_val, _ = sess.run([loss, train], feed_dict={X: batch_x_data, T: batch_t_data})    \n",
        "        \n",
        "            if step % 100 == 0:\n",
        "                print(\"epochs = \", i, \", step = \", step, \", loss_val = \", loss_val)             \n",
        "    \n",
        "    end_time = datetime.now() \n",
        "    \n",
        "    print(\"\\nelapsed time = \", end_time - start_time) \n",
        "    \n",
        "    # Accuracy 확인\n",
        "    test_x_data = mnist.test.images    # 10000 X 784\n",
        "    test_t_data = mnist.test.labels    # 10000 X 10\n",
        "    \n",
        "    accuracy_val, predicted_list_val, index_label = sess.run([accuracy, predicted_list, accuracy_index], feed_dict={X: test_x_data, T: test_t_data})\n",
        "    \n",
        "    print(\"\\nAccuracy = \", accuracy_val)\n",
        "    print(\"type(accuracy_val) = \", type(accuracy_val), ', type(predicted_list_val) = ', type(predicted_list_val), ', type(index_label) = ', type(index_label))\n",
        "    print(\"index_label.shape = \", index_label.shape)\n",
        "    \n",
        "    index_label_list = list(index_label)\n",
        "    print(\"length of index_label_list = \", len(index_label_list))\n",
        "    print(\"false label count = \", index_label_list.count([0]))\n",
        "        \n",
        "    \n",
        "    temp_list = [] \n",
        "    \n",
        "    for index in range(len(index_label)):\n",
        "        \n",
        "        if index_label[index] == 0:\n",
        "            \n",
        "            temp_list.append(index)\n",
        "            temp_list.append(np.argmax(test_t_data[index]))  # one-hot encoding 이므로 argmax 로 정답 추출\n",
        "            temp_list.append(predicted_list_val[index])\n",
        "            \n",
        "            index_label_prediction_list.append(temp_list)\n",
        "            \n",
        "            temp_list = []\n",
        "            \n",
        "    print(\"\\nlength of index_label_false_list\", len(index_label_prediction_list))"
      ],
      "execution_count": 11,
      "outputs": [
        {
          "output_type": "stream",
          "text": [
            "epochs =  0 , step =  0 , loss_val =  2.7127075\n",
            "epochs =  0 , step =  100 , loss_val =  0.49742383\n",
            "epochs =  0 , step =  200 , loss_val =  0.3523916\n",
            "epochs =  0 , step =  300 , loss_val =  0.15847105\n",
            "epochs =  0 , step =  400 , loss_val =  0.13521047\n",
            "epochs =  0 , step =  500 , loss_val =  0.106087685\n",
            "epochs =  1 , step =  0 , loss_val =  0.069454335\n",
            "epochs =  1 , step =  100 , loss_val =  0.023682006\n",
            "epochs =  1 , step =  200 , loss_val =  0.15075766\n",
            "epochs =  1 , step =  300 , loss_val =  0.09391302\n",
            "epochs =  1 , step =  400 , loss_val =  0.08572313\n",
            "epochs =  1 , step =  500 , loss_val =  0.09568593\n",
            "epochs =  2 , step =  0 , loss_val =  0.06951689\n",
            "epochs =  2 , step =  100 , loss_val =  0.018483303\n",
            "epochs =  2 , step =  200 , loss_val =  0.08319583\n",
            "epochs =  2 , step =  300 , loss_val =  0.12299675\n",
            "epochs =  2 , step =  400 , loss_val =  0.021764293\n",
            "epochs =  2 , step =  500 , loss_val =  0.08257557\n",
            "epochs =  3 , step =  0 , loss_val =  0.0031364243\n",
            "epochs =  3 , step =  100 , loss_val =  0.016322136\n",
            "epochs =  3 , step =  200 , loss_val =  0.014418393\n",
            "epochs =  3 , step =  300 , loss_val =  0.022080138\n",
            "epochs =  3 , step =  400 , loss_val =  0.011713576\n",
            "epochs =  3 , step =  500 , loss_val =  0.006742514\n",
            "epochs =  4 , step =  0 , loss_val =  0.07026322\n",
            "epochs =  4 , step =  100 , loss_val =  0.0033083071\n",
            "epochs =  4 , step =  200 , loss_val =  0.090544134\n",
            "epochs =  4 , step =  300 , loss_val =  0.02075014\n",
            "epochs =  4 , step =  400 , loss_val =  0.03512342\n",
            "epochs =  4 , step =  500 , loss_val =  0.041596055\n",
            "epochs =  5 , step =  0 , loss_val =  0.020451492\n",
            "epochs =  5 , step =  100 , loss_val =  0.06843971\n",
            "epochs =  5 , step =  200 , loss_val =  0.01912529\n",
            "epochs =  5 , step =  300 , loss_val =  0.07542061\n",
            "epochs =  5 , step =  400 , loss_val =  0.0036944388\n",
            "epochs =  5 , step =  500 , loss_val =  0.04258118\n",
            "epochs =  6 , step =  0 , loss_val =  0.007866971\n",
            "epochs =  6 , step =  100 , loss_val =  0.0025390955\n",
            "epochs =  6 , step =  200 , loss_val =  0.09400834\n",
            "epochs =  6 , step =  300 , loss_val =  0.005581918\n",
            "epochs =  6 , step =  400 , loss_val =  0.011415956\n",
            "epochs =  6 , step =  500 , loss_val =  0.0034449873\n",
            "epochs =  7 , step =  0 , loss_val =  0.006123951\n",
            "epochs =  7 , step =  100 , loss_val =  0.02174713\n",
            "epochs =  7 , step =  200 , loss_val =  0.007830452\n",
            "epochs =  7 , step =  300 , loss_val =  0.012639841\n",
            "epochs =  7 , step =  400 , loss_val =  0.0039801192\n",
            "epochs =  7 , step =  500 , loss_val =  0.006910197\n",
            "epochs =  8 , step =  0 , loss_val =  0.008143789\n",
            "epochs =  8 , step =  100 , loss_val =  0.0076964586\n",
            "epochs =  8 , step =  200 , loss_val =  0.0044923965\n",
            "epochs =  8 , step =  300 , loss_val =  0.005133635\n",
            "epochs =  8 , step =  400 , loss_val =  0.009638024\n",
            "epochs =  8 , step =  500 , loss_val =  0.001040014\n",
            "epochs =  9 , step =  0 , loss_val =  0.015011077\n",
            "epochs =  9 , step =  100 , loss_val =  0.031345222\n",
            "epochs =  9 , step =  200 , loss_val =  0.005994477\n",
            "epochs =  9 , step =  300 , loss_val =  0.01746699\n",
            "epochs =  9 , step =  400 , loss_val =  0.007275548\n",
            "epochs =  9 , step =  500 , loss_val =  0.01493466\n",
            "epochs =  10 , step =  0 , loss_val =  0.0030515457\n",
            "epochs =  10 , step =  100 , loss_val =  0.004583938\n",
            "epochs =  10 , step =  200 , loss_val =  0.015361249\n",
            "epochs =  10 , step =  300 , loss_val =  0.0020966288\n",
            "epochs =  10 , step =  400 , loss_val =  0.012010999\n",
            "epochs =  10 , step =  500 , loss_val =  0.024904892\n",
            "epochs =  11 , step =  0 , loss_val =  0.00015033469\n",
            "epochs =  11 , step =  100 , loss_val =  0.05187046\n",
            "epochs =  11 , step =  200 , loss_val =  0.00518888\n",
            "epochs =  11 , step =  300 , loss_val =  0.0024096614\n",
            "epochs =  11 , step =  400 , loss_val =  0.0032212066\n",
            "epochs =  11 , step =  500 , loss_val =  0.010304178\n",
            "epochs =  12 , step =  0 , loss_val =  0.0055826902\n",
            "epochs =  12 , step =  100 , loss_val =  0.023633957\n",
            "epochs =  12 , step =  200 , loss_val =  0.008422923\n",
            "epochs =  12 , step =  300 , loss_val =  0.0054077893\n",
            "epochs =  12 , step =  400 , loss_val =  0.0011787057\n",
            "epochs =  12 , step =  500 , loss_val =  0.006329406\n",
            "epochs =  13 , step =  0 , loss_val =  0.031224925\n",
            "epochs =  13 , step =  100 , loss_val =  0.006868598\n",
            "epochs =  13 , step =  200 , loss_val =  0.04138698\n",
            "epochs =  13 , step =  300 , loss_val =  0.013185451\n",
            "epochs =  13 , step =  400 , loss_val =  0.0012176601\n",
            "epochs =  13 , step =  500 , loss_val =  0.01622646\n",
            "epochs =  14 , step =  0 , loss_val =  0.0019014957\n",
            "epochs =  14 , step =  100 , loss_val =  0.0005338121\n",
            "epochs =  14 , step =  200 , loss_val =  0.007608492\n",
            "epochs =  14 , step =  300 , loss_val =  0.000536911\n",
            "epochs =  14 , step =  400 , loss_val =  0.010896756\n",
            "epochs =  14 , step =  500 , loss_val =  0.002375129\n",
            "epochs =  15 , step =  0 , loss_val =  0.00023257054\n",
            "epochs =  15 , step =  100 , loss_val =  0.010735141\n",
            "epochs =  15 , step =  200 , loss_val =  0.005517655\n",
            "epochs =  15 , step =  300 , loss_val =  0.0076942686\n",
            "epochs =  15 , step =  400 , loss_val =  0.0024900632\n",
            "epochs =  15 , step =  500 , loss_val =  0.0020691813\n",
            "epochs =  16 , step =  0 , loss_val =  0.00026366583\n",
            "epochs =  16 , step =  100 , loss_val =  0.0022305285\n",
            "epochs =  16 , step =  200 , loss_val =  0.0033837596\n",
            "epochs =  16 , step =  300 , loss_val =  0.00082066923\n",
            "epochs =  16 , step =  400 , loss_val =  0.012405092\n",
            "epochs =  16 , step =  500 , loss_val =  0.00064882135\n",
            "epochs =  17 , step =  0 , loss_val =  0.0039134016\n",
            "epochs =  17 , step =  100 , loss_val =  0.002743306\n",
            "epochs =  17 , step =  200 , loss_val =  0.027217807\n",
            "epochs =  17 , step =  300 , loss_val =  0.0027819788\n",
            "epochs =  17 , step =  400 , loss_val =  0.0026856512\n",
            "epochs =  17 , step =  500 , loss_val =  0.024560595\n",
            "epochs =  18 , step =  0 , loss_val =  0.011797492\n",
            "epochs =  18 , step =  100 , loss_val =  0.00012801314\n",
            "epochs =  18 , step =  200 , loss_val =  0.00010627363\n",
            "epochs =  18 , step =  300 , loss_val =  0.0010000727\n",
            "epochs =  18 , step =  400 , loss_val =  0.0020778202\n",
            "epochs =  18 , step =  500 , loss_val =  0.014816378\n",
            "epochs =  19 , step =  0 , loss_val =  0.0026484558\n",
            "epochs =  19 , step =  100 , loss_val =  0.00014202003\n",
            "epochs =  19 , step =  200 , loss_val =  0.005447137\n",
            "epochs =  19 , step =  300 , loss_val =  0.0034572156\n",
            "epochs =  19 , step =  400 , loss_val =  0.002500374\n",
            "epochs =  19 , step =  500 , loss_val =  0.0002583872\n",
            "epochs =  20 , step =  0 , loss_val =  0.00011080087\n",
            "epochs =  20 , step =  100 , loss_val =  4.3506716e-05\n",
            "epochs =  20 , step =  200 , loss_val =  0.00022121624\n",
            "epochs =  20 , step =  300 , loss_val =  0.0013736492\n",
            "epochs =  20 , step =  400 , loss_val =  0.0011578882\n",
            "epochs =  20 , step =  500 , loss_val =  0.01867378\n",
            "epochs =  21 , step =  0 , loss_val =  0.00037471854\n",
            "epochs =  21 , step =  100 , loss_val =  0.0009760496\n",
            "epochs =  21 , step =  200 , loss_val =  0.002272165\n",
            "epochs =  21 , step =  300 , loss_val =  0.0011720913\n",
            "epochs =  21 , step =  400 , loss_val =  0.00016625217\n",
            "epochs =  21 , step =  500 , loss_val =  0.006377166\n",
            "epochs =  22 , step =  0 , loss_val =  0.0015224442\n",
            "epochs =  22 , step =  100 , loss_val =  0.004406582\n",
            "epochs =  22 , step =  200 , loss_val =  0.000108902714\n",
            "epochs =  22 , step =  300 , loss_val =  4.122267e-05\n",
            "epochs =  22 , step =  400 , loss_val =  0.00034933415\n",
            "epochs =  22 , step =  500 , loss_val =  0.056859355\n",
            "epochs =  23 , step =  0 , loss_val =  0.0007520499\n",
            "epochs =  23 , step =  100 , loss_val =  0.0034621826\n",
            "epochs =  23 , step =  200 , loss_val =  0.00033633425\n",
            "epochs =  23 , step =  300 , loss_val =  0.0056293965\n",
            "epochs =  23 , step =  400 , loss_val =  3.1961146e-05\n",
            "epochs =  23 , step =  500 , loss_val =  0.0015782602\n",
            "epochs =  24 , step =  0 , loss_val =  6.034629e-06\n",
            "epochs =  24 , step =  100 , loss_val =  0.00059088797\n",
            "epochs =  24 , step =  200 , loss_val =  0.0021305773\n",
            "epochs =  24 , step =  300 , loss_val =  0.0005109423\n",
            "epochs =  24 , step =  400 , loss_val =  0.010694427\n",
            "epochs =  24 , step =  500 , loss_val =  0.019565787\n",
            "epochs =  25 , step =  0 , loss_val =  0.0064964723\n",
            "epochs =  25 , step =  100 , loss_val =  0.0013586113\n",
            "epochs =  25 , step =  200 , loss_val =  0.0017640743\n",
            "epochs =  25 , step =  300 , loss_val =  2.9259347e-05\n",
            "epochs =  25 , step =  400 , loss_val =  0.0037417135\n",
            "epochs =  25 , step =  500 , loss_val =  0.0024535041\n",
            "epochs =  26 , step =  0 , loss_val =  0.0003032815\n",
            "epochs =  26 , step =  100 , loss_val =  0.00036635326\n",
            "epochs =  26 , step =  200 , loss_val =  6.904778e-06\n",
            "epochs =  26 , step =  300 , loss_val =  0.00013716011\n",
            "epochs =  26 , step =  400 , loss_val =  0.00013357955\n",
            "epochs =  26 , step =  500 , loss_val =  0.0023721245\n",
            "epochs =  27 , step =  0 , loss_val =  0.00714384\n",
            "epochs =  27 , step =  100 , loss_val =  0.00030093963\n",
            "epochs =  27 , step =  200 , loss_val =  0.00016475156\n",
            "epochs =  27 , step =  300 , loss_val =  0.0016503008\n",
            "epochs =  27 , step =  400 , loss_val =  0.0004739101\n",
            "epochs =  27 , step =  500 , loss_val =  0.0008952631\n",
            "epochs =  28 , step =  0 , loss_val =  0.0031644078\n",
            "epochs =  28 , step =  100 , loss_val =  1.6665068e-06\n",
            "epochs =  28 , step =  200 , loss_val =  0.00076143036\n",
            "epochs =  28 , step =  300 , loss_val =  0.00027048736\n",
            "epochs =  28 , step =  400 , loss_val =  1.4487608e-05\n",
            "epochs =  28 , step =  500 , loss_val =  3.826724e-05\n",
            "epochs =  29 , step =  0 , loss_val =  0.027199857\n",
            "epochs =  29 , step =  100 , loss_val =  0.0050376975\n",
            "epochs =  29 , step =  200 , loss_val =  0.0011444059\n",
            "epochs =  29 , step =  300 , loss_val =  0.0004991964\n",
            "epochs =  29 , step =  400 , loss_val =  2.801667e-05\n",
            "epochs =  29 , step =  500 , loss_val =  0.00021869631\n",
            "\n",
            "elapsed time =  0:41:55.821635\n",
            "\n",
            "Accuracy =  0.9907\n",
            "type(accuracy_val) =  <class 'numpy.float32'> , type(predicted_list_val) =  <class 'numpy.ndarray'> , type(index_label) =  <class 'numpy.ndarray'>\n",
            "index_label.shape =  (10000,)\n",
            "length of index_label_list =  10000\n",
            "false label count =  93\n",
            "\n",
            "length of index_label_false_list 93\n"
          ],
          "name": "stdout"
        }
      ]
    },
    {
      "cell_type": "code",
      "metadata": {
        "id": "-czriG10ucdp",
        "colab_type": "code",
        "colab": {}
      },
      "source": [
        ""
      ],
      "execution_count": 0,
      "outputs": []
    }
  ]
}